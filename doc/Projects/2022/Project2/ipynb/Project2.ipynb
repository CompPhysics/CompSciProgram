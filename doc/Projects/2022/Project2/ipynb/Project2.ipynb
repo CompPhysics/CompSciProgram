{
 "cells": [
  {
   "cell_type": "markdown",
   "id": "d9c99de7",
   "metadata": {
    "editable": true
   },
   "source": [
    "<!-- HTML file automatically generated from DocOnce source (https://github.com/doconce/doconce/)\n",
    "doconce format html Project2.do.txt  -->\n",
    "<!-- dom:TITLE: Project 2 CompSci program, deadline May 31 -->"
   ]
  },
  {
   "cell_type": "markdown",
   "id": "98ac0721",
   "metadata": {
    "editable": true
   },
   "source": [
    "# Project 2 CompSci program, deadline May 31\n",
    "**CompSci program**, Department of Physics, University of Oslo, Norway\n",
    "\n",
    "Date: **Feb 21, 2023**"
   ]
  },
  {
   "cell_type": "markdown",
   "id": "974619b4",
   "metadata": {
    "editable": true
   },
   "source": [
    "# Paths for project 2"
   ]
  },
  {
   "cell_type": "markdown",
   "id": "1f4ca823",
   "metadata": {
    "editable": true
   },
   "source": [
    "### Possible paths for project 2\n",
    "\n",
    "We discuss here several paths as well as data sets for the second project.\n",
    "\n",
    "1. The computational path: Here we propose a path where you develop your own code for a neural networks (or CNNs or RNNs) and apply this to data  of your own selection. The code should be object oriented and flexible allowing for eventual extensions by including different Loss/Cost functions and other functionalities. Feel free to select data sets from those suggested below here. This code can also be extended upon by adding for example autoencoders. You can compare your own codes with implementations using TensorFlow(Keras)/PyTorch or other libraries.\n",
    "\n",
    "2. The differential equation path: Here we propose a set of differential equations (ordinary and/or partial) to be solved first using neural networks (using either your own code or TensorFlow/Pytorch or similar libraries). Thereafter we plan to extend the set of methods for solving these equations to recurrent neural networks and autoencoders. All these approaches can be expanded into one large project. This project can also be extended into including [Physics informed machine learning](https://github.com/maziarraissi/PINNs). Here we can discuss neural networks that are trained to solve supervised learning tasks while respecting any given law of physics described by general nonlinear partial differential equations. \n",
    "\n",
    "3. The application path: Here you can use the most relevant method(s) (say neural networks, convolutional neural networks for images) and apply this(these) to data sets relevant for your own research.\n",
    "\n",
    "4. And finally we propose also a partial differential equation path.\n",
    "\n",
    "You can propose own data sets that relate to your research interests or just use existing data sets from say\n",
    "1. [Kaggle](https://www.kaggle.com/datasets) \n",
    "\n",
    "2. The [University of California at Irvine (UCI) with its  machine learning repository](https://archive.ics.uci.edu/ml/index.php).\n",
    "\n",
    "3. For the differential equation problems, you can generate your own datasets, as described below.\n",
    "\n",
    "4. If possible, you should link the data sets with existing research and analyses thereof. Scientific articles which have used Machine Learning algorithms to analyze the data are highly welcome. Perhaps you can improve previous analyses and even publish a new article? \n",
    "\n",
    "5. A critical assessment of the methods with ditto perspectives and recommendations is also something you need to include. \n",
    "\n",
    "The approach to the analysis of these new data sets should follow to a large extent what you did in project 1. That is:\n",
    "1. Whether you end up with a regression or a classification problem, you should employ at least two of the methods we have discussed among **linear regression (including Ridge and Lasso)**, **Logistic Regression**, **Neural Networks**, **Convolution Neural Networks**, **Recurrent Neural Networks**, **Adversarial Neural Networks**, **Support Vector Machines** and **Decision Trees, Random Forests, Bagging and Boosting**. \n",
    "\n",
    "2. The estimates you used and tested in project 1 should also be included, that is the $R2$-score, **MSE**, confusion matrix, accuracy score, information gain,  ROC and Cumulative gains curves and other, cross-validation and/or bootstrap if these are relevant.\n",
    "\n",
    "3. Similarly, feel free to explore various activations functions in deep learning and various approachs to stochastic gradient descent approaches.\n",
    "\n",
    "All in all, the report should follow the same pattern as project 1, with abstract, introduction, methods, code, results, conclusions etc."
   ]
  },
  {
   "cell_type": "markdown",
   "id": "edb03738",
   "metadata": {
    "editable": true
   },
   "source": [
    "## Solving  differential equations with neural networks\n",
    "\n",
    "Here we describe the possible differential equations we can study\n",
    "first with neural networks and thereafter with recurrent neural\n",
    "networks and/or AE and/or GANs.\n",
    "\n",
    "The differential equations are given by the so-called [Lorenz attractor model](https://encyclopediaofmath.org/index.php?title=Lorenz_attractor), and read"
   ]
  },
  {
   "cell_type": "markdown",
   "id": "5583988d",
   "metadata": {
    "editable": true
   },
   "source": [
    "$$\n",
    "\\frac{dx}{dt}=\\sigma\\left(y-x\\right),\n",
    "$$"
   ]
  },
  {
   "cell_type": "markdown",
   "id": "1fd38b9a",
   "metadata": {
    "editable": true
   },
   "source": [
    "where $\\sigma =10$ is a constant"
   ]
  },
  {
   "cell_type": "markdown",
   "id": "d7a9b07e",
   "metadata": {
    "editable": true
   },
   "source": [
    "$$\n",
    "\\frac{dy}{dt}= x\\left(\\rho-z\\right)-y,\n",
    "$$"
   ]
  },
  {
   "cell_type": "markdown",
   "id": "270cb6d5",
   "metadata": {
    "editable": true
   },
   "source": [
    "with $\\rho=28$ and"
   ]
  },
  {
   "cell_type": "markdown",
   "id": "3f71c58a",
   "metadata": {
    "editable": true
   },
   "source": [
    "$$\n",
    "\\frac{dz}{dt}=xy-\\beta z\n",
    "$$"
   ]
  },
  {
   "cell_type": "markdown",
   "id": "a0622b73",
   "metadata": {
    "editable": true
   },
   "source": [
    "with $\\beta=8/3$ as our final constant.\n",
    "\n",
    "The following function is a\n",
    "simple function which sets up the solution using the ordinary\n",
    "differential library which follows **NumPy**. Here we have fixed the\n",
    "time sted $\\Delta t=0.01$ and the final time $t_f=8$.\n",
    "\n",
    "The program sets $100$ random initial values and produces inputs and outputs for a neural network calculations.\n",
    "The inputs are given by the values of the array $\\boldsymbol{x}$ (which contains $x,y,z$ as functions of time) for the time step $\\boldsymbol{x}_t$.\n",
    "The other array defined by $\\boldsymbol{x}_{t+1}$ contains the outputs (or targets) which we want the neural network to reproduce."
   ]
  },
  {
   "cell_type": "code",
   "execution_count": 1,
   "id": "132414da",
   "metadata": {
    "collapsed": false,
    "editable": true
   },
   "outputs": [],
   "source": [
    "%matplotlib inline\n",
    "\n",
    "# Common imports\n",
    "import numpy as np\n",
    "from scipy.integrate import odeint\n",
    "import matplotlib.pyplot as plt\n",
    "import os\n",
    "\n",
    "# Where to save the figures and data files\n",
    "PROJECT_ROOT_DIR = \"Results\"\n",
    "FIGURE_ID = \"Results/FigureFiles\"\n",
    "DATA_ID = \"DataFiles/\"\n",
    "\n",
    "if not os.path.exists(PROJECT_ROOT_DIR):\n",
    "    os.mkdir(PROJECT_ROOT_DIR)\n",
    "\n",
    "if not os.path.exists(FIGURE_ID):\n",
    "    os.makedirs(FIGURE_ID)\n",
    "\n",
    "if not os.path.exists(DATA_ID):\n",
    "    os.makedirs(DATA_ID)\n",
    "\n",
    "def image_path(fig_id):\n",
    "    return os.path.join(FIGURE_ID, fig_id)\n",
    "\n",
    "def data_path(dat_id):\n",
    "    return os.path.join(DATA_ID, dat_id)\n",
    "\n",
    "def save_fig(fig_id):\n",
    "    plt.savefig(image_path(fig_id) + \".png\", format='png')\n",
    "\n",
    "\n",
    "# Selection of parameter values and setting array for time\n",
    "dt =0.01; tfinal = 8\n",
    "t = np.arange(0,tfinal+dt, dt)\n",
    "beta =8.0/3.0; rho = 28.0; sigma = 10.0\n",
    "\n",
    "# define the inputs and outputs for the neural networks\n",
    "nninput = np.zeros((100*len(t)-1,3))\n",
    "nnoutput = np.zeros((100*len(t)-1,3))\n",
    "# Define the equations to integrate\n",
    "def lorenz_derivative(xyz, t0, sigma=sigma,beta=beta,rho=rho):\n",
    "    x, y, z = xyz\n",
    "    return [sigma*(x-y), x*(rho-z)-y, x*y-beta*z]\n",
    "\n",
    "# generate 100 random initial values\n",
    "x0 = -15.0+30.0*np.random.random((100,3))\n",
    "\n",
    "# Use odeint functionality by sending in derivative function\n",
    "# Feel free to change the choice of integrator\n",
    "x_t = np.asarray([odeint(lorenz_derivative, x0_j, t) \n",
    "                  for x0_j in x0])\n",
    "\n",
    "# define the inputs and outputs for the neural networks\n",
    "for j in range(100):\n",
    "    nninput[j*(len(t)-1):(j+1)*(len(t)-1),:] = x_t[j,:-1,:]\n",
    "    nnoutput[j*(len(t)-1):(j+1)*(len(t)-1),:] = x_t[j,1:,:]"
   ]
  },
  {
   "cell_type": "markdown",
   "id": "6fa2214d",
   "metadata": {
    "editable": true
   },
   "source": [
    "The input and output variables are those we will start trying our\n",
    "network with. Your first taks is to set up a neural code (either using\n",
    "your own code or TensorFlow/PyTorch or similar libraries)) and use the\n",
    "above data to a prediction for the time evolution of Lorenz system for\n",
    "various values of the randomly chosen initial values.  Study the\n",
    "dependence of the fit as function of the architecture of the network\n",
    "(number of nodes, hidden layers and types of activation functions) and\n",
    "various regularization schemes and optimization methods like standard\n",
    "gradient descent with momentum, stochastic gradient descent with\n",
    "batches and with and without momentum and various schedulers for the\n",
    "learning rate.\n",
    "\n",
    "Feel free to change the above differential equations. As an example,\n",
    "consider the following harmonic oscillator equations solved with the\n",
    "Runge-Kutta to fourth order method. This is a one-dimensional problem\n",
    "and it produces a position $x_t$ and velocity $v_t$. You could now try\n",
    "to fit both the velocities and positions using much of the same recipe\n",
    "as for Lorenz attractor.  You will find it convenient to analyze one\n",
    "set of initial conditions first. The code is included here.\n",
    "\n",
    "This code is an example code that solves Newton's equations of motion\n",
    "with a given force and produces an output which in turn can be used to\n",
    "train a neural network"
   ]
  },
  {
   "cell_type": "code",
   "execution_count": 2,
   "id": "1ec55c85",
   "metadata": {
    "collapsed": false,
    "editable": true
   },
   "outputs": [],
   "source": [
    "# Common imports\n",
    "import numpy as np\n",
    "import pandas as pd\n",
    "from math import *\n",
    "import matplotlib.pyplot as plt\n",
    "import os\n",
    "\n",
    "# Where to save the figures and data files\n",
    "PROJECT_ROOT_DIR = \"Results\"\n",
    "FIGURE_ID = \"Results/FigureFiles\"\n",
    "DATA_ID = \"DataFiles/\"\n",
    "\n",
    "if not os.path.exists(PROJECT_ROOT_DIR):\n",
    "    os.mkdir(PROJECT_ROOT_DIR)\n",
    "\n",
    "if not os.path.exists(FIGURE_ID):\n",
    "    os.makedirs(FIGURE_ID)\n",
    "\n",
    "if not os.path.exists(DATA_ID):\n",
    "    os.makedirs(DATA_ID)\n",
    "\n",
    "def image_path(fig_id):\n",
    "    return os.path.join(FIGURE_ID, fig_id)\n",
    "\n",
    "def data_path(dat_id):\n",
    "    return os.path.join(DATA_ID, dat_id)\n",
    "\n",
    "def save_fig(fig_id):\n",
    "    plt.savefig(image_path(fig_id) + \".png\", format='png')\n",
    "\n",
    "\n",
    "def SpringForce(v,x,t):\n",
    "#   note here that we have divided by mass and we return the acceleration\n",
    "    return  -2*gamma*v-x+Ftilde*cos(t*Omegatilde)\n",
    "\n",
    "\n",
    "def RK4(v,x,t,n,Force):\n",
    "    for i in range(n-1):\n",
    "# Setting up k1\n",
    "        k1x = DeltaT*v[i]\n",
    "        k1v = DeltaT*Force(v[i],x[i],t[i])\n",
    "# Setting up k2\n",
    "        vv = v[i]+k1v*0.5\n",
    "        xx = x[i]+k1x*0.5\n",
    "        k2x = DeltaT*vv\n",
    "        k2v = DeltaT*Force(vv,xx,t[i]+DeltaT*0.5)\n",
    "# Setting up k3\n",
    "        vv = v[i]+k2v*0.5\n",
    "        xx = x[i]+k2x*0.5\n",
    "        k3x = DeltaT*vv\n",
    "        k3v = DeltaT*Force(vv,xx,t[i]+DeltaT*0.5)\n",
    "# Setting up k4\n",
    "        vv = v[i]+k3v\n",
    "        xx = x[i]+k3x\n",
    "        k4x = DeltaT*vv\n",
    "        k4v = DeltaT*Force(vv,xx,t[i]+DeltaT)\n",
    "# Final result\n",
    "        x[i+1] = x[i]+(k1x+2*k2x+2*k3x+k4x)/6.\n",
    "        v[i+1] = v[i]+(k1v+2*k2v+2*k3v+k4v)/6.\n",
    "        t[i+1] = t[i] + DeltaT\n",
    "\n",
    "\n",
    "# Main part begins here\n",
    "\n",
    "DeltaT = 0.001\n",
    "#set up arrays \n",
    "tfinal = 20 # in dimensionless time\n",
    "n = ceil(tfinal/DeltaT)\n",
    "# set up arrays for t, v, and x\n",
    "t = np.zeros(n)\n",
    "v = np.zeros(n)\n",
    "x = np.zeros(n)\n",
    "# Initial conditions (can change to more than one dim)\n",
    "x0 =  1.0 \n",
    "v0 = 0.0\n",
    "x[0] = x0\n",
    "v[0] = v0\n",
    "gamma = 0.2\n",
    "Omegatilde = 0.5\n",
    "Ftilde = 1.0\n",
    "# Start integrating using Euler's method\n",
    "# Note that we define the force function as a SpringForce\n",
    "RK4(v,x,t,n,SpringForce)\n",
    "\n",
    "# Plot position as function of time    \n",
    "fig, ax = plt.subplots()\n",
    "ax.set_ylabel('x[m]')\n",
    "ax.set_xlabel('t[s]')\n",
    "ax.plot(t, x)\n",
    "fig.tight_layout()\n",
    "save_fig(\"ForcedBlockRK4\")\n",
    "plt.show()"
   ]
  },
  {
   "cell_type": "markdown",
   "id": "9a0a729d",
   "metadata": {
    "editable": true
   },
   "source": [
    "The next step is to include recurrent neural networks. These will be discussed in connection with coming lectures.\n",
    "\n",
    "Finally we add a so-called differential equation path as well."
   ]
  },
  {
   "cell_type": "markdown",
   "id": "80d2460b",
   "metadata": {
    "editable": true
   },
   "source": [
    "## Solving partial differential equations with neural networks\n",
    "\n",
    "For this variant of project 2, we will assume that you have some\n",
    "background in the solution of partial differential equations using\n",
    "finite difference schemes. In the lecture slides from weeks 6 and 7 you may find additional material.\n",
    "We will study the solution of the diffusion\n",
    "equation in one dimension using a standard explicit or implicit scheme and neural\n",
    "networks to solve the same equations.\n",
    "\n",
    "For the explicit and/or implicit schemes, you can study for example chapter 10 of the lecture notes in [Computational Physics](https://github.com/CompPhysics/ComputationalPhysics/blob/master/doc/Lectures/lectures2015.pdf) or alternative sources. \n",
    "\n",
    "For the machine learning part you can use the functionality of for example **Tensorflow/Keras**."
   ]
  },
  {
   "cell_type": "markdown",
   "id": "e264c2a0",
   "metadata": {
    "editable": true
   },
   "source": [
    "### Part a), setting up the problem\n",
    "\n",
    "The physical problem can be that of the temperature gradient in a rod of length $L=1$ at $x=0$ and $x=1$.\n",
    "We are looking at a one-dimensional\n",
    "problem"
   ]
  },
  {
   "cell_type": "markdown",
   "id": "06d953f2",
   "metadata": {
    "editable": true
   },
   "source": [
    "$$\n",
    "\\frac{\\partial^2 u(x,t)}{\\partial x^2} =\\frac{\\partial u(x,t)}{\\partial t}, t> 0, x\\in [0,L]\n",
    "$$"
   ]
  },
  {
   "cell_type": "markdown",
   "id": "c7f99d31",
   "metadata": {
    "editable": true
   },
   "source": [
    "or"
   ]
  },
  {
   "cell_type": "markdown",
   "id": "fb12d999",
   "metadata": {
    "editable": true
   },
   "source": [
    "$$\n",
    "u_{xx} = u_t,\n",
    "$$"
   ]
  },
  {
   "cell_type": "markdown",
   "id": "169d3c1c",
   "metadata": {
    "editable": true
   },
   "source": [
    "with initial conditions, i.e., the conditions at $t=0$,"
   ]
  },
  {
   "cell_type": "markdown",
   "id": "3d1a437e",
   "metadata": {
    "editable": true
   },
   "source": [
    "$$\n",
    "u(x,0)= \\sin{(\\pi x)} \\hspace{0.5cm} 0 < x < L,\n",
    "$$"
   ]
  },
  {
   "cell_type": "markdown",
   "id": "5c07d035",
   "metadata": {
    "editable": true
   },
   "source": [
    "with $L=1$ the length of the $x$-region of interest. The \n",
    "boundary conditions are"
   ]
  },
  {
   "cell_type": "markdown",
   "id": "3c374f1b",
   "metadata": {
    "editable": true
   },
   "source": [
    "$$\n",
    "u(0,t)= 0 \\hspace{0.5cm} t \\ge 0,\n",
    "$$"
   ]
  },
  {
   "cell_type": "markdown",
   "id": "902f1cf7",
   "metadata": {
    "editable": true
   },
   "source": [
    "and"
   ]
  },
  {
   "cell_type": "markdown",
   "id": "7f5e0b4d",
   "metadata": {
    "editable": true
   },
   "source": [
    "$$\n",
    "u(L,t)= 0 \\hspace{0.5cm} t \\ge 0.\n",
    "$$"
   ]
  },
  {
   "cell_type": "markdown",
   "id": "10d41c98",
   "metadata": {
    "editable": true
   },
   "source": [
    "The function $u(x,t)$  can be the temperature gradient of a  rod.\n",
    "As time increases, the velocity approaches a linear variation with $x$. \n",
    "\n",
    "We will limit ourselves to the so-called explicit forward Euler algorithm with discretized versions of time given by a forward formula and a centered difference in space resulting in"
   ]
  },
  {
   "cell_type": "markdown",
   "id": "9b70c720",
   "metadata": {
    "editable": true
   },
   "source": [
    "$$\n",
    "u_t\\approx \\frac{u(x,t+\\Delta t)-u(x,t)}{\\Delta t}=\\frac{u(x_i,t_j+\\Delta t)-u(x_i,t_j)}{\\Delta t}\n",
    "$$"
   ]
  },
  {
   "cell_type": "markdown",
   "id": "ae798ac9",
   "metadata": {
    "editable": true
   },
   "source": [
    "and"
   ]
  },
  {
   "cell_type": "markdown",
   "id": "397804e2",
   "metadata": {
    "editable": true
   },
   "source": [
    "$$\n",
    "u_{xx}\\approx \\frac{u(x+\\Delta x,t)-2u(x,t)+u(x-\\Delta x,t)}{\\Delta x^2},\n",
    "$$"
   ]
  },
  {
   "cell_type": "markdown",
   "id": "5b26da85",
   "metadata": {
    "editable": true
   },
   "source": [
    "or"
   ]
  },
  {
   "cell_type": "markdown",
   "id": "cb0d4727",
   "metadata": {
    "editable": true
   },
   "source": [
    "$$\n",
    "u_{xx}\\approx \\frac{u(x_i+\\Delta x,t_j)-2u(x_i,t_j)+u(x_i-\\Delta x,t_j)}{\\Delta x^2}.\n",
    "$$"
   ]
  },
  {
   "cell_type": "markdown",
   "id": "30b87a55",
   "metadata": {
    "editable": true
   },
   "source": [
    "Write down the algorithm and the equations you need to implement.\n",
    "Find also the analytical solution to the problem."
   ]
  },
  {
   "cell_type": "markdown",
   "id": "90f9ee71",
   "metadata": {
    "editable": true
   },
   "source": [
    "### Part b)\n",
    "\n",
    "Implement the explicit scheme  algorithm and perform tests of the solution \n",
    "for $\\Delta x=1/10$, $\\Delta x=1/100$ using  $\\Delta t$ as dictated by the stability limit of the explicit scheme. The stability criterion for the explicit scheme requires that $\\Delta t/\\Delta x^2 \\leq 1/2$. \n",
    "\n",
    "Study the solutions at two time points $t_1$ and $t_2$ where $u(x,t_1)$ is smooth but still significantly curved\n",
    "and $u(x,t_2)$ is almost linear, close to the stationary state."
   ]
  },
  {
   "cell_type": "markdown",
   "id": "5bc64048",
   "metadata": {
    "editable": true
   },
   "source": [
    "### Part c) Neural networks\n",
    "\n",
    "Study now the lecture notes on solving ODEs and PDEs with neural\n",
    "network and use either your own code or the\n",
    "functionality of tensorflow/keras to solve the same equation as in\n",
    "part b).  Discuss your results and compare them with the standard\n",
    "explicit or implicit scheme. Include also the analytical solution and compare with\n",
    "that."
   ]
  },
  {
   "cell_type": "markdown",
   "id": "1a533371",
   "metadata": {
    "editable": true
   },
   "source": [
    "### Part d)\n",
    "\n",
    "Finally, present a critical assessment of the methods you have studied and discuss the potential for the solving differential equations and eigenvalue problems with machine learning methods."
   ]
  },
  {
   "cell_type": "markdown",
   "id": "82394a21",
   "metadata": {
    "editable": true
   },
   "source": [
    "## Introduction to numerical projects\n",
    "\n",
    "Here follows a brief recipe and recommendation on how to write a report for each\n",
    "project.\n",
    "\n",
    "  * Give a short description of the nature of the problem and the eventual  numerical methods you have used.\n",
    "\n",
    "  * Describe the algorithm you have used and/or developed. Here you may find it convenient to use pseudocoding. In many cases you can describe the algorithm in the program itself.\n",
    "\n",
    "  * Include the source code of your program. Comment your program properly.\n",
    "\n",
    "  * If possible, try to find analytic solutions, or known limits in order to test your program when developing the code.\n",
    "\n",
    "  * Include your results either in figure form or in a table. Remember to        label your results. All tables and figures should have relevant captions        and labels on the axes.\n",
    "\n",
    "  * Try to evaluate the reliabilty and numerical stability/precision of your results. If possible, include a qualitative and/or quantitative discussion of the numerical stability, eventual loss of precision etc.\n",
    "\n",
    "  * Try to give an interpretation of you results in your answers to  the problems.\n",
    "\n",
    "  * Critique: if possible include your comments and reflections about the  exercise, whether you felt you learnt something, ideas for improvements and  other thoughts you've made when solving the exercise. We wish to keep this course at the interactive level and your comments can help us improve it.\n",
    "\n",
    "  * Try to establish a practice where you log your work at the  computerlab. You may find such a logbook very handy at later stages in your work, especially when you don't properly remember  what a previous test version  of your program did. Here you could also record  the time spent on solving the exercise, various algorithms you may have tested or other topics which you feel worthy of mentioning."
   ]
  },
  {
   "cell_type": "markdown",
   "id": "439af859",
   "metadata": {
    "editable": true
   },
   "source": [
    "## Format for electronic delivery of report and programs\n",
    "\n",
    "The preferred format for the report is a PDF file. You can also use DOC or postscript formats or as an ipython notebook file.  As programming language we prefer that you choose between C/C++, Fortran2008 or Python. The following prescription should be followed when preparing the report:\n",
    "\n",
    "  * Send us an email in order  to hand in your projects with a link to your GitHub/Gitlab repository.\n",
    "\n",
    "  * In your GitHub/GitLab or similar repository, please include a folder which contains selected results. These can be in the form of output from your code for a selected set of runs and input parameters.\n",
    "\n",
    "Finally, \n",
    "we encourage you to collaborate. Optimal working groups consist of \n",
    "2-3 students. You can then hand in a common report."
   ]
  },
  {
   "cell_type": "markdown",
   "id": "4ffb9a92",
   "metadata": {
    "editable": true
   },
   "source": [
    "## Software and needed installations\n",
    "\n",
    "If you have Python installed (we recommend Python3) and you feel pretty familiar with installing different packages, \n",
    "we recommend that you install the following Python packages via **pip** as\n",
    "1. pip install numpy scipy matplotlib ipython scikit-learn tensorflow sympy pandas pillow\n",
    "\n",
    "For Python3, replace **pip** with **pip3**.\n",
    "\n",
    "See below for a discussion of **tensorflow** and **scikit-learn**. \n",
    "\n",
    "For OSX users we recommend also, after having installed Xcode, to install **brew**. Brew allows \n",
    "for a seamless installation of additional software via for example\n",
    "1. brew install python3\n",
    "\n",
    "For Linux users, with its variety of distributions like for example the widely popular Ubuntu distribution\n",
    "you can use **pip** as well and simply install Python as \n",
    "1. sudo apt-get install python3  (or python for python2.7)\n",
    "\n",
    "etc etc. \n",
    "\n",
    "If you don't want to install various Python packages with their dependencies separately, we recommend two widely used distrubutions which set up  all relevant dependencies for Python, namely\n",
    "1. [Anaconda](https://docs.anaconda.com/) Anaconda is an open source distribution of the Python and R programming languages for large-scale data processing, predictive analytics, and scientific computing, that aims to simplify package management and deployment. Package versions are managed by the package management system **conda**\n",
    "\n",
    "2. [Enthought canopy](https://www.enthought.com/product/canopy/)  is a Python distribution for scientific and analytic computing distribution and analysis environment, available for free and under a commercial license.\n",
    "\n",
    "Popular software packages written in Python for ML are\n",
    "\n",
    "* [Scikit-learn](http://scikit-learn.org/stable/), \n",
    "\n",
    "* [Tensorflow](https://www.tensorflow.org/),\n",
    "\n",
    "* [PyTorch](http://pytorch.org/) and \n",
    "\n",
    "* [Keras](https://keras.io/).\n",
    "\n",
    "These are all freely available at their respective GitHub sites. They \n",
    "encompass communities of developers in the thousands or more. And the number\n",
    "of code developers and contributors keeps increasing."
   ]
  }
 ],
 "metadata": {},
 "nbformat": 4,
 "nbformat_minor": 5
}
