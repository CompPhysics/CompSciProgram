{
 "cells": [
  {
   "cell_type": "markdown",
   "id": "8443ce74",
   "metadata": {
    "editable": true
   },
   "source": [
    "<!-- HTML file automatically generated from DocOnce source (https://github.com/doconce/doconce/)\n",
    "doconce format html week6.do.txt --no_mako -->\n",
    "<!-- dom:TITLE: Deep Learning: Solving differential equations and Convolutional Neural Networks -->"
   ]
  },
  {
   "cell_type": "markdown",
   "id": "0ca7534e",
   "metadata": {
    "editable": true
   },
   "source": [
    "# Deep Learning: Solving differential equations and Convolutional Neural Networks\n",
    "**Morten Hjorth-Jensen**, Department of Physics, University of Oslo and Department of Physics and Astronomy and National Superconducting Cyclotron Laboratory, Michigan State University\n",
    "\n",
    "Date: **Feb 7, 2022**\n",
    "\n",
    "Copyright 1999-2022, Morten Hjorth-Jensen. Released under CC Attribution-NonCommercial 4.0 license"
   ]
  },
  {
   "cell_type": "markdown",
   "id": "23f57925",
   "metadata": {
    "editable": true
   },
   "source": [
    "## Plans for week 6\n",
    "\n",
    "* Solving differential equations with Neural Networks\n",
    "\n",
    "  * [Video of lecture without subtitles](https://www.uio.no/studier/emner/matnat/fys/FYS4411/v22/forelesningsvideoer/CompSciLectureFeb7.mp4?vrtx=view-as-webpage)\n",
    "\n",
    "  * [Video of Lecture with subtitles](https://youtu.be/XcqUFNkXOZU)\n",
    "\n",
    "* Convolutional Neural Networks"
   ]
  },
  {
   "cell_type": "markdown",
   "id": "a9b2bf60",
   "metadata": {
    "editable": true
   },
   "source": [
    "## Resources on differential equations and deep learning\n",
    "\n",
    "1. [Artificial neural networks for solving ordinary and partial differential equations by I.E. Lagaris et al](https://pdfs.semanticscholar.org/d061/df393e0e8fbfd0ea24976458b7d42419040d.pdf)\n",
    "\n",
    "2. [Neural networks for solving differential equations by A. Honchar](https://becominghuman.ai/neural-networks-for-solving-differential-equations-fa230ac5e04c)\n",
    "\n",
    "3. [Solving differential equations using neural networks by M.M Chiaramonte and M. Kiener](http://cs229.stanford.edu/proj2013/ChiaramonteKiener-SolvingDifferentialEquationsUsingNeuralNetworks.pdf)\n",
    "\n",
    "4. [Introduction to Partial Differential Equations by A. Tveito, R. Winther](https://www.springer.com/us/book/9783540225515)"
   ]
  },
  {
   "cell_type": "markdown",
   "id": "a80b8c32",
   "metadata": {
    "editable": true
   },
   "source": [
    "## Resources on Convolutional Networks\n",
    "\n",
    "**Excellent lectures on CNNs.**\n",
    "\n",
    "* [Video  on Convolutional Neural Networks from MIT](https://www.youtube.com/watch?v=iaSUYvmCekI&ab_channel=AlexanderAmini)\n",
    "\n",
    "* [Video on Deep Learning](https://www.youtube.com/playlist?list=PLZHQObOWTQDNU6R1_67000Dx_ZCJB-3pi)\n",
    "\n",
    "**More resources.**\n",
    "\n",
    "* [IN5400 at UiO Lecture](https://www.uio.no/studier/emner/matnat/ifi/IN5400/v20/material/week10/in5400_2020_week10_recurrent_neural_network.pdf)\n",
    "\n",
    "* [CS231 at Stanford Lecture](https://www.youtube.com/watch?v=6niqTuYFZLQ&list=PLzUTmXVwsnXod6WNdg57Yc3zFx_f-RYsq&index=10&ab_channel=StanfordUniversitySchoolofEngineering)\n",
    "\n",
    "**Reading Recommendations.**\n",
    "\n",
    "* Goodfellow et al, chapter 9 on CNNs, chapters 11 and 12 on various practicalities around deep learning are also recommended.\n",
    "\n",
    "* Aurelien Geron, chapter 13 on CNNs."
   ]
  },
  {
   "cell_type": "markdown",
   "id": "3be8becc",
   "metadata": {
    "editable": true
   },
   "source": [
    "## Using Automatic differentiation\n",
    "\n",
    "In our discussions of ordinary differential equations \n",
    "we will also study the usage of [Autograd](https://www.youtube.com/watch?v=fRf4l5qaX1M&ab_channel=AlexSmola) in computing gradients for deep learning."
   ]
  },
  {
   "cell_type": "markdown",
   "id": "4f0799fc",
   "metadata": {
    "editable": true
   },
   "source": [
    "## Solving ODEs with Deep Learning\n",
    "\n",
    "The Universal Approximation Theorem states that a neural network can\n",
    "approximate any function at a single hidden layer along with one input\n",
    "and output layer to any given precision.\n",
    "\n",
    "**Book on solving differential equations with ML methods.**\n",
    "\n",
    "[An Introduction to Neural Network Methods for Differential Equations](https://www.springer.com/gp/book/9789401798150), by Yadav and Kumar.\n",
    "\n",
    "**Thanks to Kristine Baluka Hein.**\n",
    "\n",
    "The lectures on differential equations were developed by Kristine Baluka Hein, now PhD student at IFI.\n",
    "A great thank you  to Kristine."
   ]
  },
  {
   "cell_type": "markdown",
   "id": "60b4aa38",
   "metadata": {
    "editable": true
   },
   "source": [
    "## Ordinary Differential Equations\n",
    "\n",
    "An ordinary differential equation (ODE) is an equation involving functions having one variable.\n",
    "\n",
    "In general, an ordinary differential equation looks like"
   ]
  },
  {
   "cell_type": "markdown",
   "id": "2b1d1832",
   "metadata": {
    "editable": true
   },
   "source": [
    "<!-- Equation labels as ordinary links -->\n",
    "<div id=\"ode\"></div>\n",
    "\n",
    "$$\n",
    "\\begin{equation} \\label{ode} \\tag{1}\n",
    "f\\left(x, \\, g(x), \\, g'(x), \\, g''(x), \\, \\dots \\, , \\, g^{(n)}(x)\\right) = 0\n",
    "\\end{equation}\n",
    "$$"
   ]
  },
  {
   "cell_type": "markdown",
   "id": "9547755b",
   "metadata": {
    "editable": true
   },
   "source": [
    "where $g(x)$ is the function to find, and $g^{(n)}(x)$ is the $n$-th derivative of $g(x)$.\n",
    "\n",
    "The $f\\left(x, g(x), g'(x), g''(x), \\, \\dots \\, , g^{(n)}(x)\\right)$ is just a way to write that there is an expression involving $x$ and $g(x), \\ g'(x), \\ g''(x), \\, \\dots \\, , \\text{ and } g^{(n)}(x)$ on the left side of the equality sign in ([1](#ode)).\n",
    "The highest order of derivative, that is the value of $n$, determines to the order of the equation.\n",
    "The equation is referred to as a $n$-th order ODE.\n",
    "Along with ([1](#ode)), some additional conditions of the function $g(x)$ are typically given\n",
    "for the solution to be unique."
   ]
  },
  {
   "cell_type": "markdown",
   "id": "e962a1b7",
   "metadata": {
    "editable": true
   },
   "source": [
    "## The trial solution\n",
    "\n",
    "Let the trial solution $g_t(x)$ be"
   ]
  },
  {
   "cell_type": "markdown",
   "id": "ebdbe330",
   "metadata": {
    "editable": true
   },
   "source": [
    "<!-- Equation labels as ordinary links -->\n",
    "<div id=\"_auto1\"></div>\n",
    "\n",
    "$$\n",
    "\\begin{equation}\n",
    "\tg_t(x) = h_1(x) + h_2(x,N(x,P))\n",
    "\\label{_auto1} \\tag{2}\n",
    "\\end{equation}\n",
    "$$"
   ]
  },
  {
   "cell_type": "markdown",
   "id": "e4073bb3",
   "metadata": {
    "editable": true
   },
   "source": [
    "where $h_1(x)$ is a function that makes $g_t(x)$ satisfy a given set\n",
    "of conditions, $N(x,P)$ a neural network with weights and biases\n",
    "described by $P$ and $h_2(x, N(x,P))$ some expression involving the\n",
    "neural network.  The role of the function $h_2(x, N(x,P))$, is to\n",
    "ensure that the output from $N(x,P)$ is zero when $g_t(x)$ is\n",
    "evaluated at the values of $x$ where the given conditions must be\n",
    "satisfied.  The function $h_1(x)$ should alone make $g_t(x)$ satisfy\n",
    "the conditions.\n",
    "\n",
    "But what about the network $N(x,P)$?\n",
    "\n",
    "As described previously, an optimization method could be used to minimize the parameters of a neural network, that being its weights and biases, through backward propagation."
   ]
  },
  {
   "cell_type": "markdown",
   "id": "79b664aa",
   "metadata": {
    "editable": true
   },
   "source": [
    "## Minimization process\n",
    "\n",
    "For the minimization to be defined, we need to have a cost function at hand to minimize.\n",
    "\n",
    "It is given that $f\\left(x, \\, g(x), \\, g'(x), \\, g''(x), \\, \\dots \\, , \\, g^{(n)}(x)\\right)$ should be equal to zero in ([1](#ode)).\n",
    "We can choose to consider the mean squared error as the cost function for an input $x$.\n",
    "Since we are looking at one input, the cost function is just $f$ squared.\n",
    "The cost function $c\\left(x, P \\right)$ can therefore be expressed as"
   ]
  },
  {
   "cell_type": "markdown",
   "id": "2fa31f99",
   "metadata": {
    "editable": true
   },
   "source": [
    "$$\n",
    "C\\left(x, P\\right) = \\big(f\\left(x, \\, g(x), \\, g'(x), \\, g''(x), \\, \\dots \\, , \\, g^{(n)}(x)\\right)\\big)^2\n",
    "$$"
   ]
  },
  {
   "cell_type": "markdown",
   "id": "504edb2e",
   "metadata": {
    "editable": true
   },
   "source": [
    "If $N$ inputs are given as a vector $\\boldsymbol{x}$ with elements $x_i$ for $i = 1,\\dots,N$,\n",
    "the cost function becomes"
   ]
  },
  {
   "cell_type": "markdown",
   "id": "4297223b",
   "metadata": {
    "editable": true
   },
   "source": [
    "<!-- Equation labels as ordinary links -->\n",
    "<div id=\"cost\"></div>\n",
    "\n",
    "$$\n",
    "\\begin{equation} \\label{cost} \\tag{3}\n",
    "\tC\\left(\\boldsymbol{x}, P\\right) = \\frac{1}{N} \\sum_{i=1}^N \\big(f\\left(x_i, \\, g(x_i), \\, g'(x_i), \\, g''(x_i), \\, \\dots \\, , \\, g^{(n)}(x_i)\\right)\\big)^2\n",
    "\\end{equation}\n",
    "$$"
   ]
  },
  {
   "cell_type": "markdown",
   "id": "72a953e2",
   "metadata": {
    "editable": true
   },
   "source": [
    "The neural net should then find the parameters $P$ that minimizes the cost function in\n",
    "([3](#cost)) for a set of $N$ training samples $x_i$."
   ]
  },
  {
   "cell_type": "markdown",
   "id": "761fc4ce",
   "metadata": {
    "editable": true
   },
   "source": [
    "## Minimizing the cost function using gradient descent and automatic differentiation\n",
    "\n",
    "To perform the minimization using gradient descent, the gradient of $C\\left(\\boldsymbol{x}, P\\right)$ is needed.\n",
    "It might happen so that finding an analytical expression of the gradient of $C(\\boldsymbol{x}, P)$ from ([3](#cost)) gets too messy, depending on which cost function one desires to use.\n",
    "\n",
    "Luckily, there exists libraries that makes the job for us through automatic differentiation.\n",
    "Automatic differentiation is a method of finding the derivatives numerically with very high precision."
   ]
  },
  {
   "cell_type": "markdown",
   "id": "eefffecd",
   "metadata": {
    "editable": true
   },
   "source": [
    "## Example: Exponential decay\n",
    "\n",
    "An exponential decay of a quantity $g(x)$ is described by the equation"
   ]
  },
  {
   "cell_type": "markdown",
   "id": "9ee867fe",
   "metadata": {
    "editable": true
   },
   "source": [
    "<!-- Equation labels as ordinary links -->\n",
    "<div id=\"solve_expdec\"></div>\n",
    "\n",
    "$$\n",
    "\\begin{equation} \\label{solve_expdec} \\tag{4}\n",
    "  g'(x) = -\\gamma g(x)\n",
    "\\end{equation}\n",
    "$$"
   ]
  },
  {
   "cell_type": "markdown",
   "id": "ae1d290e",
   "metadata": {
    "editable": true
   },
   "source": [
    "with $g(0) = g_0$ for some chosen initial value $g_0$.\n",
    "\n",
    "The analytical solution of ([4](#solve_expdec)) is"
   ]
  },
  {
   "cell_type": "markdown",
   "id": "2be36614",
   "metadata": {
    "editable": true
   },
   "source": [
    "<!-- Equation labels as ordinary links -->\n",
    "<div id=\"_auto2\"></div>\n",
    "\n",
    "$$\n",
    "\\begin{equation}\n",
    "  g(x) = g_0 \\exp\\left(-\\gamma x\\right)\n",
    "\\label{_auto2} \\tag{5}\n",
    "\\end{equation}\n",
    "$$"
   ]
  },
  {
   "cell_type": "markdown",
   "id": "6ab2f818",
   "metadata": {
    "editable": true
   },
   "source": [
    "Having an analytical solution at hand, it is possible to use it to compare how well a neural network finds a solution of ([4](#solve_expdec))."
   ]
  },
  {
   "cell_type": "markdown",
   "id": "2c26f938",
   "metadata": {
    "editable": true
   },
   "source": [
    "## The function to solve for\n",
    "\n",
    "The program will use a neural network to solve"
   ]
  },
  {
   "cell_type": "markdown",
   "id": "794db176",
   "metadata": {
    "editable": true
   },
   "source": [
    "<!-- Equation labels as ordinary links -->\n",
    "<div id=\"solveode\"></div>\n",
    "\n",
    "$$\n",
    "\\begin{equation} \\label{solveode} \\tag{6}\n",
    "g'(x) = -\\gamma g(x)\n",
    "\\end{equation}\n",
    "$$"
   ]
  },
  {
   "cell_type": "markdown",
   "id": "2d9b8d69",
   "metadata": {
    "editable": true
   },
   "source": [
    "where $g(0) = g_0$ with $\\gamma$ and $g_0$ being some chosen values.\n",
    "\n",
    "In this example, $\\gamma = 2$ and $g_0 = 10$."
   ]
  },
  {
   "cell_type": "markdown",
   "id": "53f55fa4",
   "metadata": {
    "editable": true
   },
   "source": [
    "## The trial solution\n",
    "To begin with, a trial solution $g_t(t)$ must be chosen. A general trial solution for ordinary differential equations could be"
   ]
  },
  {
   "cell_type": "markdown",
   "id": "7305f98a",
   "metadata": {
    "editable": true
   },
   "source": [
    "$$\n",
    "g_t(x, P) = h_1(x) + h_2(x, N(x, P))\n",
    "$$"
   ]
  },
  {
   "cell_type": "markdown",
   "id": "6b2087e5",
   "metadata": {
    "editable": true
   },
   "source": [
    "with $h_1(x)$ ensuring that $g_t(x)$ satisfies some conditions and $h_2(x,N(x, P))$ an expression involving $x$ and the output from the neural network $N(x,P)$ with $P $ being the collection of the weights and biases for each layer. For now, it is assumed that the network consists of one input layer, one hidden layer, and one output layer."
   ]
  },
  {
   "cell_type": "markdown",
   "id": "ed280056",
   "metadata": {
    "editable": true
   },
   "source": [
    "## Setup of Network\n",
    "\n",
    "In this network, there are no weights and bias at the input layer, so $P = \\{ P_{\\text{hidden}},  P_{\\text{output}} \\}$.\n",
    "If there are $N_{\\text{hidden} }$ neurons in the hidden layer, then $P_{\\text{hidden}}$ is a $N_{\\text{hidden} } \\times (1 + N_{\\text{input}})$ matrix, given that there are $N_{\\text{input}}$ neurons in the input layer.\n",
    "\n",
    "The first column in $P_{\\text{hidden} }$ represents the bias for each neuron in the hidden layer and the second column represents the weights for each neuron in the hidden layer from the input layer.\n",
    "If there are $N_{\\text{output} }$ neurons in the output layer, then $P_{\\text{output}} $ is a $N_{\\text{output} } \\times (1 + N_{\\text{hidden} })$ matrix.\n",
    "\n",
    "Its first column represents the bias of each neuron and the remaining columns represents the weights to each neuron.\n",
    "\n",
    "It is given that $g(0) = g_0$. The trial solution must fulfill this condition to be a proper solution of ([6](#solveode)). A possible way to ensure that $g_t(0, P) = g_0$, is to let $F(N(x,P)) = x \\cdot N(x,P)$ and $A(x) = g_0$. This gives the following trial solution:"
   ]
  },
  {
   "cell_type": "markdown",
   "id": "cbc00cfe",
   "metadata": {
    "editable": true
   },
   "source": [
    "<!-- Equation labels as ordinary links -->\n",
    "<div id=\"trial\"></div>\n",
    "\n",
    "$$\n",
    "\\begin{equation} \\label{trial} \\tag{7}\n",
    "g_t(x, P) = g_0 + x \\cdot N(x, P)\n",
    "\\end{equation}\n",
    "$$"
   ]
  },
  {
   "cell_type": "markdown",
   "id": "b54f100b",
   "metadata": {
    "editable": true
   },
   "source": [
    "## Reformulating the problem\n",
    "\n",
    "We wish that our neural network manages to minimize a given cost function.\n",
    "\n",
    "A reformulation of out equation, ([6](#solveode)), must therefore be done,\n",
    "such that it describes the problem a neural network can solve for.\n",
    "\n",
    "The neural network must find the set of weights and biases $P$ such that the trial solution in ([7](#trial)) satisfies ([6](#solveode)).\n",
    "\n",
    "The trial solution"
   ]
  },
  {
   "cell_type": "markdown",
   "id": "bdc627f9",
   "metadata": {
    "editable": true
   },
   "source": [
    "$$\n",
    "g_t(x, P) = g_0 + x \\cdot N(x, P)\n",
    "$$"
   ]
  },
  {
   "cell_type": "markdown",
   "id": "7a00e17d",
   "metadata": {
    "editable": true
   },
   "source": [
    "has been chosen such that it already solves the condition $g(0) = g_0$. What remains, is to find $P$ such that"
   ]
  },
  {
   "cell_type": "markdown",
   "id": "8a7fd4a3",
   "metadata": {
    "editable": true
   },
   "source": [
    "<!-- Equation labels as ordinary links -->\n",
    "<div id=\"nnmin\"></div>\n",
    "\n",
    "$$\n",
    "\\begin{equation} \\label{nnmin} \\tag{8}\n",
    "g_t'(x, P) = - \\gamma g_t(x, P)\n",
    "\\end{equation}\n",
    "$$"
   ]
  },
  {
   "cell_type": "markdown",
   "id": "04a9d026",
   "metadata": {
    "editable": true
   },
   "source": [
    "is fulfilled as *best as possible*."
   ]
  },
  {
   "cell_type": "markdown",
   "id": "913dd127",
   "metadata": {
    "editable": true
   },
   "source": [
    "## More technicalities\n",
    "\n",
    "The left hand side and right hand side of ([8](#nnmin)) must be computed separately, and then the neural network must choose weights and biases, contained in $P$, such that the sides are equal as best as possible.\n",
    "This means that the absolute or squared difference between the sides must be as close to zero, ideally equal to zero.\n",
    "In this case, the difference squared shows to be an appropriate measurement of how erroneous the trial solution is with respect to $P$ of the neural network.\n",
    "\n",
    "This gives the following cost function our neural network must solve for:"
   ]
  },
  {
   "cell_type": "markdown",
   "id": "20cadbee",
   "metadata": {
    "editable": true
   },
   "source": [
    "$$\n",
    "\\min_{P}\\Big\\{ \\big(g_t'(x, P) - ( -\\gamma g_t(x, P) \\big)^2 \\Big\\}\n",
    "$$"
   ]
  },
  {
   "cell_type": "markdown",
   "id": "b77e677f",
   "metadata": {
    "editable": true
   },
   "source": [
    "(the notation $\\min_{P}\\{ f(x, P) \\}$ means that we desire to find $P$ that yields the minimum of $f(x, P)$)\n",
    "\n",
    "or, in terms of weights and biases for the hidden and output layer in our network:"
   ]
  },
  {
   "cell_type": "markdown",
   "id": "86e947a2",
   "metadata": {
    "editable": true
   },
   "source": [
    "$$\n",
    "\\min_{P_{\\text{hidden} }, \\ P_{\\text{output} }}\\Big\\{ \\big(g_t'(x, \\{ P_{\\text{hidden} }, P_{\\text{output} }\\}) - ( -\\gamma g_t(x, \\{ P_{\\text{hidden} }, P_{\\text{output} }\\}) \\big)^2 \\Big\\}\n",
    "$$"
   ]
  },
  {
   "cell_type": "markdown",
   "id": "7e527bc7",
   "metadata": {
    "editable": true
   },
   "source": [
    "for an input value $x$."
   ]
  },
  {
   "cell_type": "markdown",
   "id": "e5ed44fa",
   "metadata": {
    "editable": true
   },
   "source": [
    "## More details\n",
    "\n",
    "If the neural network evaluates $g_t(x, P)$ at more values for $x$, say $N$ values $x_i$ for $i = 1, \\dots, N$, then the *total* error to minimize becomes"
   ]
  },
  {
   "cell_type": "markdown",
   "id": "c72bebc8",
   "metadata": {
    "editable": true
   },
   "source": [
    "<!-- Equation labels as ordinary links -->\n",
    "<div id=\"min\"></div>\n",
    "\n",
    "$$\n",
    "\\begin{equation} \\label{min} \\tag{9}\n",
    "\\min_{P}\\Big\\{\\frac{1}{N} \\sum_{i=1}^N  \\big(g_t'(x_i, P) - ( -\\gamma g_t(x_i, P) \\big)^2 \\Big\\}\n",
    "\\end{equation}\n",
    "$$"
   ]
  },
  {
   "cell_type": "markdown",
   "id": "104d97e0",
   "metadata": {
    "editable": true
   },
   "source": [
    "Letting $\\boldsymbol{x}$ be a vector with elements $x_i$ and $C(\\boldsymbol{x}, P) = \\frac{1}{N} \\sum_i  \\big(g_t'(x_i, P) - ( -\\gamma g_t(x_i, P) \\big)^2$ denote the cost function, the minimization problem that our network must solve, becomes"
   ]
  },
  {
   "cell_type": "markdown",
   "id": "e5f18f5b",
   "metadata": {
    "editable": true
   },
   "source": [
    "$$\n",
    "\\min_{P} C(\\boldsymbol{x}, P)\n",
    "$$"
   ]
  },
  {
   "cell_type": "markdown",
   "id": "40df32b6",
   "metadata": {
    "editable": true
   },
   "source": [
    "In terms of $P_{\\text{hidden} }$ and $P_{\\text{output} }$, this could also be expressed as\n",
    "\n",
    "$$\n",
    "\\min_{P_{\\text{hidden} }, \\ P_{\\text{output} }} C(\\boldsymbol{x}, \\{P_{\\text{hidden} }, P_{\\text{output} }\\})\n",
    "$$"
   ]
  },
  {
   "cell_type": "markdown",
   "id": "66ba2804",
   "metadata": {
    "editable": true
   },
   "source": [
    "## A possible implementation of a neural network\n",
    "\n",
    "For simplicity, it is assumed that the input is an array $\\boldsymbol{x} = (x_1, \\dots, x_N)$ with $N$ elements. It is at these points the neural network should find $P$ such that it fulfills ([9](#min)).\n",
    "\n",
    "First, the neural network must feed forward the inputs.\n",
    "This means that $\\boldsymbol{x}s$ must be passed through an input layer, a hidden layer and a output layer. The input layer in this case, does not need to process the data any further.\n",
    "The input layer will consist of $N_{\\text{input} }$ neurons, passing its element to each neuron in the hidden layer.  The number of neurons in the hidden layer will be $N_{\\text{hidden} }$."
   ]
  },
  {
   "cell_type": "markdown",
   "id": "5e95e57b",
   "metadata": {
    "editable": true
   },
   "source": [
    "## Technicalities\n",
    "\n",
    "For the $i$-th in the hidden layer with weight $w_i^{\\text{hidden} }$ and bias $b_i^{\\text{hidden} }$, the weighting from the $j$-th neuron at the input layer is:"
   ]
  },
  {
   "cell_type": "markdown",
   "id": "8e9bad73",
   "metadata": {
    "editable": true
   },
   "source": [
    "$$\n",
    "\\begin{aligned}\n",
    "z_{i,j}^{\\text{hidden}} &= b_i^{\\text{hidden}} + w_i^{\\text{hidden}}x_j \\\\\n",
    "&=\n",
    "\\begin{pmatrix}\n",
    "b_i^{\\text{hidden}} & w_i^{\\text{hidden}}\n",
    "\\end{pmatrix}\n",
    "\\begin{pmatrix}\n",
    "1 \\\\\n",
    "x_j\n",
    "\\end{pmatrix}\n",
    "\\end{aligned}\n",
    "$$"
   ]
  },
  {
   "cell_type": "markdown",
   "id": "17be024e",
   "metadata": {
    "editable": true
   },
   "source": [
    "## Final technicalities I\n",
    "\n",
    "The result after weighting the inputs at the $i$-th hidden neuron can be written as a vector:"
   ]
  },
  {
   "cell_type": "markdown",
   "id": "9d01bc17",
   "metadata": {
    "editable": true
   },
   "source": [
    "$$\n",
    "\\begin{aligned}\n",
    "\\boldsymbol{z}_{i}^{\\text{hidden}} &= \\Big( b_i^{\\text{hidden}} + w_i^{\\text{hidden}}x_1 , \\ b_i^{\\text{hidden}} + w_i^{\\text{hidden}} x_2, \\ \\dots \\, , \\ b_i^{\\text{hidden}} + w_i^{\\text{hidden}} x_N\\Big)  \\\\\n",
    "&=\n",
    "\\begin{pmatrix}\n",
    " b_i^{\\text{hidden}}  & w_i^{\\text{hidden}}\n",
    "\\end{pmatrix}\n",
    "\\begin{pmatrix}\n",
    "1  & 1 & \\dots & 1 \\\\\n",
    "x_1 & x_2 & \\dots & x_N\n",
    "\\end{pmatrix} \\\\\n",
    "&= \\boldsymbol{p}_{i, \\text{hidden}}^T X\n",
    "\\end{aligned}\n",
    "$$"
   ]
  },
  {
   "cell_type": "markdown",
   "id": "464900cc",
   "metadata": {
    "editable": true
   },
   "source": [
    "## Final technicalities II\n",
    "\n",
    "The vector $\\boldsymbol{p}_{i, \\text{hidden}}^T$ constitutes each row in $P_{\\text{hidden} }$, which contains the weights for the neural network to minimize according to ([9](#min)).\n",
    "\n",
    "After having found $\\boldsymbol{z}_{i}^{\\text{hidden}} $ for every $i$-th neuron within the hidden layer, the vector will be sent to an activation function $a_i(\\boldsymbol{z})$.\n",
    "\n",
    "In this example, the sigmoid function has been chosen to be the activation function for each hidden neuron:"
   ]
  },
  {
   "cell_type": "markdown",
   "id": "b0fc5ed4",
   "metadata": {
    "editable": true
   },
   "source": [
    "$$\n",
    "f(z) = \\frac{1}{1 + \\exp{(-z)}}\n",
    "$$"
   ]
  },
  {
   "cell_type": "markdown",
   "id": "3c5d80f9",
   "metadata": {
    "editable": true
   },
   "source": [
    "It is possible to use other activations functions for the hidden layer also.\n",
    "\n",
    "The output $\\boldsymbol{x}_i^{\\text{hidden}}$ from each $i$-th hidden neuron is:\n",
    "\n",
    "$$\n",
    "\\boldsymbol{x}_i^{\\text{hidden} } = f\\big(  \\boldsymbol{z}_{i}^{\\text{hidden}} \\big)\n",
    "$$\n",
    "\n",
    "The outputs $\\boldsymbol{x}_i^{\\text{hidden} } $ are then sent to the output layer.\n",
    "\n",
    "The output layer consists of one neuron in this case, and combines the\n",
    "output from each of the neurons in the hidden layers. The output layer\n",
    "combines the results from the hidden layer using some weights $w_i^{\\text{output}}$\n",
    "and biases $b_i^{\\text{output}}$. In this case,\n",
    "it is assumes that the number of neurons in the output layer is one."
   ]
  },
  {
   "cell_type": "markdown",
   "id": "a73d29ca",
   "metadata": {
    "editable": true
   },
   "source": [
    "## Final technicalities III\n",
    "\n",
    "The procedure of weighting the output neuron $j$ in the hidden layer to the $i$-th neuron in the output layer is similar as for the hidden layer described previously."
   ]
  },
  {
   "cell_type": "markdown",
   "id": "f4c3f5c5",
   "metadata": {
    "editable": true
   },
   "source": [
    "$$\n",
    "\\begin{aligned}\n",
    "z_{1,j}^{\\text{output}} & =\n",
    "\\begin{pmatrix}\n",
    "b_1^{\\text{output}} & \\boldsymbol{w}_1^{\\text{output}}\n",
    "\\end{pmatrix}\n",
    "\\begin{pmatrix}\n",
    "1 \\\\\n",
    "\\boldsymbol{x}_j^{\\text{hidden}}\n",
    "\\end{pmatrix}\n",
    "\\end{aligned}\n",
    "$$"
   ]
  },
  {
   "cell_type": "markdown",
   "id": "e1155b51",
   "metadata": {
    "editable": true
   },
   "source": [
    "## Final technicalities IV\n",
    "\n",
    "Expressing $z_{1,j}^{\\text{output}}$ as a vector gives the following way of weighting the inputs from the hidden layer:"
   ]
  },
  {
   "cell_type": "markdown",
   "id": "99b1704e",
   "metadata": {
    "editable": true
   },
   "source": [
    "$$\n",
    "\\boldsymbol{z}_{1}^{\\text{output}} =\n",
    "\\begin{pmatrix}\n",
    "b_1^{\\text{output}} & \\boldsymbol{w}_1^{\\text{output}}\n",
    "\\end{pmatrix}\n",
    "\\begin{pmatrix}\n",
    "1  & 1 & \\dots & 1 \\\\\n",
    "\\boldsymbol{x}_1^{\\text{hidden}} & \\boldsymbol{x}_2^{\\text{hidden}} & \\dots & \\boldsymbol{x}_N^{\\text{hidden}}\n",
    "\\end{pmatrix}\n",
    "$$"
   ]
  },
  {
   "cell_type": "markdown",
   "id": "a352bdfd",
   "metadata": {
    "editable": true
   },
   "source": [
    "In this case we seek a continuous range of values since we are approximating a function. This means that after computing $\\boldsymbol{z}_{1}^{\\text{output}}$ the neural network has finished its feed forward step, and $\\boldsymbol{z}_{1}^{\\text{output}}$ is the final output of the network."
   ]
  },
  {
   "cell_type": "markdown",
   "id": "55bab555",
   "metadata": {
    "editable": true
   },
   "source": [
    "## Back propagation\n",
    "\n",
    "The next step is to decide how the parameters should be changed such that they minimize the cost function.\n",
    "\n",
    "The chosen cost function for this problem is"
   ]
  },
  {
   "cell_type": "markdown",
   "id": "e36d532f",
   "metadata": {
    "editable": true
   },
   "source": [
    "$$\n",
    "C(\\boldsymbol{x}, P) = \\frac{1}{N} \\sum_i  \\big(g_t'(x_i, P) - ( -\\gamma g_t(x_i, P) \\big)^2\n",
    "$$"
   ]
  },
  {
   "cell_type": "markdown",
   "id": "4de1d72b",
   "metadata": {
    "editable": true
   },
   "source": [
    "In order to minimize the cost function, an optimization method must be chosen.\n",
    "\n",
    "Here, gradient descent with a constant step size has been chosen."
   ]
  },
  {
   "cell_type": "markdown",
   "id": "0ee5e52b",
   "metadata": {
    "editable": true
   },
   "source": [
    "## Gradient descent\n",
    "\n",
    "The idea of the gradient descent algorithm is to update parameters in\n",
    "a direction where the cost function decreases goes to a minimum.\n",
    "\n",
    "In general, the update of some parameters $\\boldsymbol{\\omega}$ given a cost\n",
    "function defined by some weights $\\boldsymbol{\\omega}$, $C(\\boldsymbol{x},\n",
    "\\boldsymbol{\\omega})$, goes as follows:"
   ]
  },
  {
   "cell_type": "markdown",
   "id": "84021866",
   "metadata": {
    "editable": true
   },
   "source": [
    "$$\n",
    "\\boldsymbol{\\omega}_{\\text{new} } = \\boldsymbol{\\omega} - \\lambda \\nabla_{\\boldsymbol{\\omega}} C(\\boldsymbol{x}, \\boldsymbol{\\omega})\n",
    "$$"
   ]
  },
  {
   "cell_type": "markdown",
   "id": "2562f5ba",
   "metadata": {
    "editable": true
   },
   "source": [
    "for a number of iterations or until $ \\big|\\big| \\boldsymbol{\\omega}_{\\text{new} } - \\boldsymbol{\\omega} \\big|\\big|$ becomes smaller than some given tolerance.\n",
    "\n",
    "The value of $\\lambda$ decides how large steps the algorithm must take\n",
    "in the direction of $ \\nabla_{\\boldsymbol{\\omega}} C(\\boldsymbol{x}, \\boldsymbol{\\omega})$.\n",
    "The notation $\\nabla_{\\boldsymbol{\\omega}}$ express the gradient with respect\n",
    "to the elements in $\\boldsymbol{\\omega}$.\n",
    "\n",
    "In our case, we have to minimize the cost function $C(\\boldsymbol{x}, P)$ with\n",
    "respect to the two sets of weights and biases, that is for the hidden\n",
    "layer $P_{\\text{hidden} }$ and for the output layer $P_{\\text{output}\n",
    "}$ .\n",
    "\n",
    "This means that $P_{\\text{hidden} }$ and $P_{\\text{output} }$ is updated by"
   ]
  },
  {
   "cell_type": "markdown",
   "id": "5614c578",
   "metadata": {
    "editable": true
   },
   "source": [
    "$$\n",
    "\\begin{aligned}\n",
    "P_{\\text{hidden},\\text{new}} &= P_{\\text{hidden}} - \\lambda \\nabla_{P_{\\text{hidden}}} C(\\boldsymbol{x}, P)  \\\\\n",
    "P_{\\text{output},\\text{new}} &= P_{\\text{output}} - \\lambda \\nabla_{P_{\\text{output}}} C(\\boldsymbol{x}, P)\n",
    "\\end{aligned}\n",
    "$$"
   ]
  },
  {
   "cell_type": "markdown",
   "id": "b28097df",
   "metadata": {
    "editable": true
   },
   "source": [
    "## The code for solving the ODE"
   ]
  },
  {
   "cell_type": "code",
   "execution_count": 1,
   "id": "86ddd545",
   "metadata": {
    "collapsed": false,
    "editable": true
   },
   "outputs": [],
   "source": [
    "%matplotlib inline\n",
    "\n",
    "import autograd.numpy as np\n",
    "from autograd import grad, elementwise_grad\n",
    "import autograd.numpy.random as npr\n",
    "from matplotlib import pyplot as plt\n",
    "\n",
    "def sigmoid(z):\n",
    "    return 1/(1 + np.exp(-z))\n",
    "\n",
    "# Assuming one input, hidden, and output layer\n",
    "def neural_network(params, x):\n",
    "\n",
    "    # Find the weights (including and biases) for the hidden and output layer.\n",
    "    # Assume that params is a list of parameters for each layer.\n",
    "    # The biases are the first element for each array in params,\n",
    "    # and the weights are the remaning elements in each array in params.\n",
    "\n",
    "    w_hidden = params[0]\n",
    "    w_output = params[1]\n",
    "\n",
    "    # Assumes input x being an one-dimensional array\n",
    "    num_values = np.size(x)\n",
    "    x = x.reshape(-1, num_values)\n",
    "\n",
    "    # Assume that the input layer does nothing to the input x\n",
    "    x_input = x\n",
    "\n",
    "    ## Hidden layer:\n",
    "\n",
    "    # Add a row of ones to include bias\n",
    "    x_input = np.concatenate((np.ones((1,num_values)), x_input ), axis = 0)\n",
    "\n",
    "    z_hidden = np.matmul(w_hidden, x_input)\n",
    "    x_hidden = sigmoid(z_hidden)\n",
    "\n",
    "    ## Output layer:\n",
    "\n",
    "    # Include bias:\n",
    "    x_hidden = np.concatenate((np.ones((1,num_values)), x_hidden ), axis = 0)\n",
    "\n",
    "    z_output = np.matmul(w_output, x_hidden)\n",
    "    x_output = z_output\n",
    "\n",
    "    return x_output\n",
    "\n",
    "# The trial solution using the deep neural network:\n",
    "def g_trial(x,params, g0 = 10):\n",
    "    return g0 + x*neural_network(params,x)\n",
    "\n",
    "# The right side of the ODE:\n",
    "def g(x, g_trial, gamma = 2):\n",
    "    return -gamma*g_trial\n",
    "\n",
    "# The cost function:\n",
    "def cost_function(P, x):\n",
    "\n",
    "    # Evaluate the trial function with the current parameters P\n",
    "    g_t = g_trial(x,P)\n",
    "\n",
    "    # Find the derivative w.r.t x of the neural network\n",
    "    d_net_out = elementwise_grad(neural_network,1)(P,x)\n",
    "\n",
    "    # Find the derivative w.r.t x of the trial function\n",
    "    d_g_t = elementwise_grad(g_trial,0)(x,P)\n",
    "\n",
    "    # The right side of the ODE\n",
    "    func = g(x, g_t)\n",
    "\n",
    "    err_sqr = (d_g_t - func)**2\n",
    "    cost_sum = np.sum(err_sqr)\n",
    "\n",
    "    return cost_sum / np.size(err_sqr)\n",
    "\n",
    "# Solve the exponential decay ODE using neural network with one input, hidden, and output layer\n",
    "def solve_ode_neural_network(x, num_neurons_hidden, num_iter, lmb):\n",
    "    ## Set up initial weights and biases\n",
    "\n",
    "    # For the hidden layer\n",
    "    p0 = npr.randn(num_neurons_hidden, 2 )\n",
    "\n",
    "    # For the output layer\n",
    "    p1 = npr.randn(1, num_neurons_hidden + 1 ) # +1 since bias is included\n",
    "\n",
    "    P = [p0, p1]\n",
    "\n",
    "    print('Initial cost: %g'%cost_function(P, x))\n",
    "\n",
    "    ## Start finding the optimal weights using gradient descent\n",
    "\n",
    "    # Find the Python function that represents the gradient of the cost function\n",
    "    # w.r.t the 0-th input argument -- that is the weights and biases in the hidden and output layer\n",
    "    cost_function_grad = grad(cost_function,0)\n",
    "\n",
    "    # Let the update be done num_iter times\n",
    "    for i in range(num_iter):\n",
    "        # Evaluate the gradient at the current weights and biases in P.\n",
    "        # The cost_grad consist now of two arrays;\n",
    "        # one for the gradient w.r.t P_hidden and\n",
    "        # one for the gradient w.r.t P_output\n",
    "        cost_grad =  cost_function_grad(P, x)\n",
    "\n",
    "        P[0] = P[0] - lmb * cost_grad[0]\n",
    "        P[1] = P[1] - lmb * cost_grad[1]\n",
    "\n",
    "    print('Final cost: %g'%cost_function(P, x))\n",
    "\n",
    "    return P\n",
    "\n",
    "def g_analytic(x, gamma = 2, g0 = 10):\n",
    "    return g0*np.exp(-gamma*x)\n",
    "\n",
    "# Solve the given problem\n",
    "if __name__ == '__main__':\n",
    "    # Set seed such that the weight are initialized\n",
    "    # with same weights and biases for every run.\n",
    "    npr.seed(15)\n",
    "\n",
    "    ## Decide the vales of arguments to the function to solve\n",
    "    N = 10\n",
    "    x = np.linspace(0, 1, N)\n",
    "\n",
    "    ## Set up the initial parameters\n",
    "    num_hidden_neurons = 10\n",
    "    num_iter = 10000\n",
    "    lmb = 0.001\n",
    "\n",
    "    # Use the network\n",
    "    P = solve_ode_neural_network(x, num_hidden_neurons, num_iter, lmb)\n",
    "\n",
    "    # Print the deviation from the trial solution and true solution\n",
    "    res = g_trial(x,P)\n",
    "    res_analytical = g_analytic(x)\n",
    "\n",
    "    print('Max absolute difference: %g'%np.max(np.abs(res - res_analytical)))\n",
    "\n",
    "    # Plot the results\n",
    "    plt.figure(figsize=(10,10))\n",
    "\n",
    "    plt.title('Performance of neural network solving an ODE compared to the analytical solution')\n",
    "    plt.plot(x, res_analytical)\n",
    "    plt.plot(x, res[0,:])\n",
    "    plt.legend(['analytical','nn'])\n",
    "    plt.xlabel('x')\n",
    "    plt.ylabel('g(x)')\n",
    "    plt.show()"
   ]
  },
  {
   "cell_type": "markdown",
   "id": "0e33ec39",
   "metadata": {
    "editable": true
   },
   "source": [
    "## The network with one input layer, specified number of hidden layers, and one output layer\n",
    "\n",
    "It is also possible to extend the construction of our network into a more general one, allowing the network to contain more than one hidden layers.\n",
    "\n",
    "The number of neurons within each hidden layer are given as a list of integers in the program below."
   ]
  },
  {
   "cell_type": "code",
   "execution_count": 2,
   "id": "6aec77e3",
   "metadata": {
    "collapsed": false,
    "editable": true
   },
   "outputs": [],
   "source": [
    "import autograd.numpy as np\n",
    "from autograd import grad, elementwise_grad\n",
    "import autograd.numpy.random as npr\n",
    "from matplotlib import pyplot as plt\n",
    "\n",
    "def sigmoid(z):\n",
    "    return 1/(1 + np.exp(-z))\n",
    "\n",
    "# The neural network with one input layer and one output layer,\n",
    "# but with number of hidden layers specified by the user.\n",
    "def deep_neural_network(deep_params, x):\n",
    "    # N_hidden is the number of hidden layers\n",
    "\n",
    "    N_hidden = np.size(deep_params) - 1 # -1 since params consists of\n",
    "                                        # parameters to all the hidden\n",
    "                                        # layers AND the output layer.\n",
    "\n",
    "    # Assumes input x being an one-dimensional array\n",
    "    num_values = np.size(x)\n",
    "    x = x.reshape(-1, num_values)\n",
    "\n",
    "    # Assume that the input layer does nothing to the input x\n",
    "    x_input = x\n",
    "\n",
    "    # Due to multiple hidden layers, define a variable referencing to the\n",
    "    # output of the previous layer:\n",
    "    x_prev = x_input\n",
    "\n",
    "    ## Hidden layers:\n",
    "\n",
    "    for l in range(N_hidden):\n",
    "        # From the list of parameters P; find the correct weigths and bias for this layer\n",
    "        w_hidden = deep_params[l]\n",
    "\n",
    "        # Add a row of ones to include bias\n",
    "        x_prev = np.concatenate((np.ones((1,num_values)), x_prev ), axis = 0)\n",
    "\n",
    "        z_hidden = np.matmul(w_hidden, x_prev)\n",
    "        x_hidden = sigmoid(z_hidden)\n",
    "\n",
    "        # Update x_prev such that next layer can use the output from this layer\n",
    "        x_prev = x_hidden\n",
    "\n",
    "    ## Output layer:\n",
    "\n",
    "    # Get the weights and bias for this layer\n",
    "    w_output = deep_params[-1]\n",
    "\n",
    "    # Include bias:\n",
    "    x_prev = np.concatenate((np.ones((1,num_values)), x_prev), axis = 0)\n",
    "\n",
    "    z_output = np.matmul(w_output, x_prev)\n",
    "    x_output = z_output\n",
    "\n",
    "    return x_output\n",
    "\n",
    "# The trial solution using the deep neural network:\n",
    "def g_trial_deep(x,params, g0 = 10):\n",
    "    return g0 + x*deep_neural_network(params, x)\n",
    "\n",
    "# The right side of the ODE:\n",
    "def g(x, g_trial, gamma = 2):\n",
    "    return -gamma*g_trial\n",
    "\n",
    "# The same cost function as before, but calls deep_neural_network instead.\n",
    "def cost_function_deep(P, x):\n",
    "\n",
    "    # Evaluate the trial function with the current parameters P\n",
    "    g_t = g_trial_deep(x,P)\n",
    "\n",
    "    # Find the derivative w.r.t x of the neural network\n",
    "    d_net_out = elementwise_grad(deep_neural_network,1)(P,x)\n",
    "\n",
    "    # Find the derivative w.r.t x of the trial function\n",
    "    d_g_t = elementwise_grad(g_trial_deep,0)(x,P)\n",
    "\n",
    "    # The right side of the ODE\n",
    "    func = g(x, g_t)\n",
    "\n",
    "    err_sqr = (d_g_t - func)**2\n",
    "    cost_sum = np.sum(err_sqr)\n",
    "\n",
    "    return cost_sum / np.size(err_sqr)\n",
    "\n",
    "# Solve the exponential decay ODE using neural network with one input and one output layer,\n",
    "# but with specified number of hidden layers from the user.\n",
    "def solve_ode_deep_neural_network(x, num_neurons, num_iter, lmb):\n",
    "    # num_hidden_neurons is now a list of number of neurons within each hidden layer\n",
    "\n",
    "    # The number of elements in the list num_hidden_neurons thus represents\n",
    "    # the number of hidden layers.\n",
    "\n",
    "    # Find the number of hidden layers:\n",
    "    N_hidden = np.size(num_neurons)\n",
    "\n",
    "    ## Set up initial weights and biases\n",
    "\n",
    "    # Initialize the list of parameters:\n",
    "    P = [None]*(N_hidden + 1) # + 1 to include the output layer\n",
    "\n",
    "    P[0] = npr.randn(num_neurons[0], 2 )\n",
    "    for l in range(1,N_hidden):\n",
    "        P[l] = npr.randn(num_neurons[l], num_neurons[l-1] + 1) # +1 to include bias\n",
    "\n",
    "    # For the output layer\n",
    "    P[-1] = npr.randn(1, num_neurons[-1] + 1 ) # +1 since bias is included\n",
    "\n",
    "    print('Initial cost: %g'%cost_function_deep(P, x))\n",
    "\n",
    "    ## Start finding the optimal weights using gradient descent\n",
    "\n",
    "    # Find the Python function that represents the gradient of the cost function\n",
    "    # w.r.t the 0-th input argument -- that is the weights and biases in the hidden and output layer\n",
    "    cost_function_deep_grad = grad(cost_function_deep,0)\n",
    "\n",
    "    # Let the update be done num_iter times\n",
    "    for i in range(num_iter):\n",
    "        # Evaluate the gradient at the current weights and biases in P.\n",
    "        # The cost_grad consist now of N_hidden + 1 arrays; the gradient w.r.t the weights and biases\n",
    "        # in the hidden layers and output layers evaluated at x.\n",
    "        cost_deep_grad =  cost_function_deep_grad(P, x)\n",
    "\n",
    "        for l in range(N_hidden+1):\n",
    "            P[l] = P[l] - lmb * cost_deep_grad[l]\n",
    "\n",
    "    print('Final cost: %g'%cost_function_deep(P, x))\n",
    "\n",
    "    return P\n",
    "\n",
    "def g_analytic(x, gamma = 2, g0 = 10):\n",
    "    return g0*np.exp(-gamma*x)\n",
    "\n",
    "# Solve the given problem\n",
    "if __name__ == '__main__':\n",
    "    npr.seed(15)\n",
    "\n",
    "    ## Decide the vales of arguments to the function to solve\n",
    "    N = 10\n",
    "    x = np.linspace(0, 1, N)\n",
    "\n",
    "    ## Set up the initial parameters\n",
    "    num_hidden_neurons = np.array([10,10])\n",
    "    num_iter = 10000\n",
    "    lmb = 0.001\n",
    "\n",
    "    P = solve_ode_deep_neural_network(x, num_hidden_neurons, num_iter, lmb)\n",
    "\n",
    "    res = g_trial_deep(x,P)\n",
    "    res_analytical = g_analytic(x)\n",
    "\n",
    "    plt.figure(figsize=(10,10))\n",
    "\n",
    "    plt.title('Performance of a deep neural network solving an ODE compared to the analytical solution')\n",
    "    plt.plot(x, res_analytical)\n",
    "    plt.plot(x, res[0,:])\n",
    "    plt.legend(['analytical','dnn'])\n",
    "    plt.ylabel('g(x)')\n",
    "    plt.show()"
   ]
  },
  {
   "cell_type": "markdown",
   "id": "fe8f9c04",
   "metadata": {
    "editable": true
   },
   "source": [
    "## Example: Population growth\n",
    "\n",
    "A logistic model of population growth assumes that a population converges toward an equilibrium.\n",
    "The population growth can be modeled by"
   ]
  },
  {
   "cell_type": "markdown",
   "id": "8dfead93",
   "metadata": {
    "editable": true
   },
   "source": [
    "<!-- Equation labels as ordinary links -->\n",
    "<div id=\"log\"></div>\n",
    "\n",
    "$$\n",
    "\\begin{equation} \\label{log} \\tag{10}\n",
    "\tg'(t) = \\alpha g(t)(A - g(t))\n",
    "\\end{equation}\n",
    "$$"
   ]
  },
  {
   "cell_type": "markdown",
   "id": "a43cac8a",
   "metadata": {
    "editable": true
   },
   "source": [
    "where $g(t)$ is the population density at time $t$, $\\alpha > 0$ the growth rate and $A > 0$ is the maximum population number in the environment.\n",
    "Also, at $t = 0$ the population has the size $g(0) = g_0$, where $g_0$ is some chosen constant.\n",
    "\n",
    "In this example, similar network as for the exponential decay using Autograd has been used to solve the equation. However, as the implementation might suffer from e.g numerical instability\n",
    "and high execution time (this might be more apparent in the examples solving PDEs),\n",
    "using a library like  TensorFlow is recommended.\n",
    "Here, we stay with a more simple approach and implement for comparison, the simple forward Euler method."
   ]
  },
  {
   "cell_type": "markdown",
   "id": "7fc2bf48",
   "metadata": {
    "editable": true
   },
   "source": [
    "## Setting up the problem\n",
    "\n",
    "Here, we will model a population $g(t)$ in an environment having carrying capacity $A$.\n",
    "The population follows the model"
   ]
  },
  {
   "cell_type": "markdown",
   "id": "b1a12bb2",
   "metadata": {
    "editable": true
   },
   "source": [
    "<!-- Equation labels as ordinary links -->\n",
    "<div id=\"solveode_population\"></div>\n",
    "\n",
    "$$\n",
    "\\begin{equation} \\label{solveode_population} \\tag{11}\n",
    "g'(t) = \\alpha g(t)(A - g(t))\n",
    "\\end{equation}\n",
    "$$"
   ]
  },
  {
   "cell_type": "markdown",
   "id": "a9709fb2",
   "metadata": {
    "editable": true
   },
   "source": [
    "where $g(0) = g_0$.\n",
    "\n",
    "In this example, we let $\\alpha = 2$, $A = 1$, and $g_0 = 1.2$."
   ]
  },
  {
   "cell_type": "markdown",
   "id": "00ed3a95",
   "metadata": {
    "editable": true
   },
   "source": [
    "## The trial solution\n",
    "\n",
    "We will get a slightly different trial solution, as the boundary conditions are different\n",
    "compared to the case for exponential decay.\n",
    "\n",
    "A possible trial solution satisfying the condition $g(0) = g_0$ could be\n",
    "\n",
    "$$\n",
    "h_1(t) = g_0 + t \\cdot N(t,P)\n",
    "$$\n",
    "\n",
    "with $N(t,P)$ being the output from the neural network with weights and biases for each layer collected in the set $P$.\n",
    "\n",
    "The analytical solution is\n",
    "\n",
    "$$\n",
    "g(t) = \\frac{Ag_0}{g_0 + (A - g_0)\\exp(-\\alpha A t)}\n",
    "$$"
   ]
  },
  {
   "cell_type": "markdown",
   "id": "bdb2d2c2",
   "metadata": {
    "editable": true
   },
   "source": [
    "## The program using Autograd\n",
    "\n",
    "The network will be the similar as for the exponential decay example, but with some small modifications for our problem."
   ]
  },
  {
   "cell_type": "code",
   "execution_count": 3,
   "id": "071840d2",
   "metadata": {
    "collapsed": false,
    "editable": true
   },
   "outputs": [],
   "source": [
    "import autograd.numpy as np\n",
    "from autograd import grad, elementwise_grad\n",
    "import autograd.numpy.random as npr\n",
    "from matplotlib import pyplot as plt\n",
    "\n",
    "def sigmoid(z):\n",
    "    return 1/(1 + np.exp(-z))\n",
    "\n",
    "# Function to get the parameters.\n",
    "# Done such that one can easily change the paramaters after one's liking.\n",
    "def get_parameters():\n",
    "    alpha = 2\n",
    "    A = 1\n",
    "    g0 = 1.2\n",
    "    return alpha, A, g0\n",
    "\n",
    "def deep_neural_network(P, x):\n",
    "    # N_hidden is the number of hidden layers\n",
    "    N_hidden = np.size(P) - 1 # -1 since params consist of parameters to all the hidden layers AND the output layer\n",
    "\n",
    "    # Assumes input x being an one-dimensional array\n",
    "    num_values = np.size(x)\n",
    "    x = x.reshape(-1, num_values)\n",
    "\n",
    "    # Assume that the input layer does nothing to the input x\n",
    "    x_input = x\n",
    "\n",
    "    # Due to multiple hidden layers, define a variable referencing to the\n",
    "    # output of the previous layer:\n",
    "    x_prev = x_input\n",
    "\n",
    "    ## Hidden layers:\n",
    "\n",
    "    for l in range(N_hidden):\n",
    "        # From the list of parameters P; find the correct weigths and bias for this layer\n",
    "        w_hidden = P[l]\n",
    "\n",
    "        # Add a row of ones to include bias\n",
    "        x_prev = np.concatenate((np.ones((1,num_values)), x_prev ), axis = 0)\n",
    "\n",
    "        z_hidden = np.matmul(w_hidden, x_prev)\n",
    "        x_hidden = sigmoid(z_hidden)\n",
    "\n",
    "        # Update x_prev such that next layer can use the output from this layer\n",
    "        x_prev = x_hidden\n",
    "\n",
    "    ## Output layer:\n",
    "\n",
    "    # Get the weights and bias for this layer\n",
    "    w_output = P[-1]\n",
    "\n",
    "    # Include bias:\n",
    "    x_prev = np.concatenate((np.ones((1,num_values)), x_prev), axis = 0)\n",
    "\n",
    "    z_output = np.matmul(w_output, x_prev)\n",
    "    x_output = z_output\n",
    "\n",
    "    return x_output\n",
    "\n",
    "\n",
    "def cost_function_deep(P, x):\n",
    "\n",
    "    # Evaluate the trial function with the current parameters P\n",
    "    g_t = g_trial_deep(x,P)\n",
    "\n",
    "    # Find the derivative w.r.t x of the trial function\n",
    "    d_g_t = elementwise_grad(g_trial_deep,0)(x,P)\n",
    "\n",
    "    # The right side of the ODE\n",
    "    func = f(x, g_t)\n",
    "\n",
    "    err_sqr = (d_g_t - func)**2\n",
    "    cost_sum = np.sum(err_sqr)\n",
    "\n",
    "    return cost_sum / np.size(err_sqr)\n",
    "\n",
    "# The right side of the ODE:\n",
    "def f(x, g_trial):\n",
    "    alpha,A, g0 = get_parameters()\n",
    "    return alpha*g_trial*(A - g_trial)\n",
    "\n",
    "# The trial solution using the deep neural network:\n",
    "def g_trial_deep(x, params):\n",
    "    alpha,A, g0 = get_parameters()\n",
    "    return g0 + x*deep_neural_network(params,x)\n",
    "\n",
    "# The analytical solution:\n",
    "def g_analytic(t):\n",
    "    alpha,A, g0 = get_parameters()\n",
    "    return A*g0/(g0 + (A - g0)*np.exp(-alpha*A*t))\n",
    "\n",
    "def solve_ode_deep_neural_network(x, num_neurons, num_iter, lmb):\n",
    "    # num_hidden_neurons is now a list of number of neurons within each hidden layer\n",
    "\n",
    "    # Find the number of hidden layers:\n",
    "    N_hidden = np.size(num_neurons)\n",
    "\n",
    "    ## Set up initial weigths and biases\n",
    "\n",
    "    # Initialize the list of parameters:\n",
    "    P = [None]*(N_hidden + 1) # + 1 to include the output layer\n",
    "\n",
    "    P[0] = npr.randn(num_neurons[0], 2 )\n",
    "    for l in range(1,N_hidden):\n",
    "        P[l] = npr.randn(num_neurons[l], num_neurons[l-1] + 1) # +1 to include bias\n",
    "\n",
    "    # For the output layer\n",
    "    P[-1] = npr.randn(1, num_neurons[-1] + 1 ) # +1 since bias is included\n",
    "\n",
    "    print('Initial cost: %g'%cost_function_deep(P, x))\n",
    "\n",
    "    ## Start finding the optimal weigths using gradient descent\n",
    "\n",
    "    # Find the Python function that represents the gradient of the cost function\n",
    "    # w.r.t the 0-th input argument -- that is the weights and biases in the hidden and output layer\n",
    "    cost_function_deep_grad = grad(cost_function_deep,0)\n",
    "\n",
    "    # Let the update be done num_iter times\n",
    "    for i in range(num_iter):\n",
    "        # Evaluate the gradient at the current weights and biases in P.\n",
    "        # The cost_grad consist now of N_hidden + 1 arrays; the gradient w.r.t the weights and biases\n",
    "        # in the hidden layers and output layers evaluated at x.\n",
    "        cost_deep_grad =  cost_function_deep_grad(P, x)\n",
    "\n",
    "        for l in range(N_hidden+1):\n",
    "            P[l] = P[l] - lmb * cost_deep_grad[l]\n",
    "\n",
    "    print('Final cost: %g'%cost_function_deep(P, x))\n",
    "\n",
    "    return P\n",
    "\n",
    "if __name__ == '__main__':\n",
    "    npr.seed(4155)\n",
    "\n",
    "    ## Decide the vales of arguments to the function to solve\n",
    "    Nt = 10\n",
    "    T = 1\n",
    "    t = np.linspace(0,T, Nt)\n",
    "\n",
    "    ## Set up the initial parameters\n",
    "    num_hidden_neurons = [100, 50, 25]\n",
    "    num_iter = 1000\n",
    "    lmb = 1e-3\n",
    "\n",
    "    P = solve_ode_deep_neural_network(t, num_hidden_neurons, num_iter, lmb)\n",
    "\n",
    "    g_dnn_ag = g_trial_deep(t,P)\n",
    "    g_analytical = g_analytic(t)\n",
    "\n",
    "    # Find the maximum absolute difference between the solutons:\n",
    "    diff_ag = np.max(np.abs(g_dnn_ag - g_analytical))\n",
    "    print(\"The max absolute difference between the solutions is: %g\"%diff_ag)\n",
    "\n",
    "    plt.figure(figsize=(10,10))\n",
    "\n",
    "    plt.title('Performance of neural network solving an ODE compared to the analytical solution')\n",
    "    plt.plot(t, g_analytical)\n",
    "    plt.plot(t, g_dnn_ag[0,:])\n",
    "    plt.legend(['analytical','nn'])\n",
    "    plt.xlabel('t')\n",
    "    plt.ylabel('g(t)')\n",
    "\n",
    "    plt.show()"
   ]
  },
  {
   "cell_type": "markdown",
   "id": "0ffcffb4",
   "metadata": {
    "editable": true
   },
   "source": [
    "## Using forward Euler to solve the ODE\n",
    "\n",
    "A straightforward way of solving an ODE numerically, is to use Euler's method.\n",
    "\n",
    "Euler's method uses Taylor series to approximate the value at a function $f$ at a step $\\Delta x$ from $x$:\n",
    "\n",
    "$$\n",
    "f(x + \\Delta x) \\approx f(x) + \\Delta x f'(x)\n",
    "$$\n",
    "\n",
    "In our case, using Euler's method to approximate the value of $g$ at a step $\\Delta t$ from $t$ yields"
   ]
  },
  {
   "cell_type": "markdown",
   "id": "bc3f3cf3",
   "metadata": {
    "editable": true
   },
   "source": [
    "$$\n",
    "\\begin{aligned}\n",
    "  g(t + \\Delta t) &\\approx g(t) + \\Delta t g'(t) \\\\\n",
    "  &= g(t) + \\Delta t \\big(\\alpha g(t)(A - g(t))\\big)\n",
    "\\end{aligned}\n",
    "$$"
   ]
  },
  {
   "cell_type": "markdown",
   "id": "27efdaf7",
   "metadata": {
    "editable": true
   },
   "source": [
    "along with the condition that $g(0) = g_0$.\n",
    "\n",
    "Let $t_i = i \\cdot \\Delta t$ where $\\Delta t = \\frac{T}{N_t-1}$ where $T$ is the final time our solver must solve for and $N_t$ the number of values for $t \\in [0, T]$ for $i = 0, \\dots, N_t-1$.\n",
    "\n",
    "For $i \\geq 1$, we have that"
   ]
  },
  {
   "cell_type": "markdown",
   "id": "8060b7c1",
   "metadata": {
    "editable": true
   },
   "source": [
    "$$\n",
    "\\begin{aligned}\n",
    "t_i &= i\\Delta t \\\\\n",
    "&= (i - 1)\\Delta t + \\Delta t \\\\\n",
    "&= t_{i-1} + \\Delta t\n",
    "\\end{aligned}\n",
    "$$"
   ]
  },
  {
   "cell_type": "markdown",
   "id": "f868033c",
   "metadata": {
    "editable": true
   },
   "source": [
    "Now, if $g_i = g(t_i)$ then"
   ]
  },
  {
   "cell_type": "markdown",
   "id": "0c5a7ec2",
   "metadata": {
    "editable": true
   },
   "source": [
    "<!-- Equation labels as ordinary links -->\n",
    "<div id=\"odenum\"></div>\n",
    "\n",
    "$$\n",
    "\\begin{equation}\n",
    "  \\begin{aligned}\n",
    "  g_i &= g(t_i) \\\\\n",
    "  &= g(t_{i-1} + \\Delta t) \\\\\n",
    "  &\\approx g(t_{i-1}) + \\Delta t \\big(\\alpha g(t_{i-1})(A - g(t_{i-1}))\\big) \\\\\n",
    "  &= g_{i-1} + \\Delta t \\big(\\alpha g_{i-1}(A - g_{i-1})\\big)\n",
    "  \\end{aligned}\n",
    "\\end{equation} \\label{odenum} \\tag{12}\n",
    "$$"
   ]
  },
  {
   "cell_type": "markdown",
   "id": "8abbd2e7",
   "metadata": {
    "editable": true
   },
   "source": [
    "for $i \\geq 1$ and $g_0 = g(t_0) = g(0) = g_0$.\n",
    "\n",
    "Equation ([12](#odenum)) could be implemented in the following way,\n",
    "extending the program that uses the network using Autograd:"
   ]
  },
  {
   "cell_type": "code",
   "execution_count": 4,
   "id": "ffaaa378",
   "metadata": {
    "collapsed": false,
    "editable": true
   },
   "outputs": [],
   "source": [
    "# Assume that all function definitions from the example program using Autograd\n",
    "# are located here.\n",
    "\n",
    "if __name__ == '__main__':\n",
    "    npr.seed(4155)\n",
    "\n",
    "    ## Decide the vales of arguments to the function to solve\n",
    "    Nt = 10\n",
    "    T = 1\n",
    "    t = np.linspace(0,T, Nt)\n",
    "\n",
    "    ## Set up the initial parameters\n",
    "    num_hidden_neurons = [100,50,25]\n",
    "    num_iter = 1000\n",
    "    lmb = 1e-3\n",
    "\n",
    "    P = solve_ode_deep_neural_network(t, num_hidden_neurons, num_iter, lmb)\n",
    "\n",
    "    g_dnn_ag = g_trial_deep(t,P)\n",
    "    g_analytical = g_analytic(t)\n",
    "\n",
    "    # Find the maximum absolute difference between the solutons:\n",
    "    diff_ag = np.max(np.abs(g_dnn_ag - g_analytical))\n",
    "    print(\"The max absolute difference between the solutions is: %g\"%diff_ag)\n",
    "\n",
    "    plt.figure(figsize=(10,10))\n",
    "\n",
    "    plt.title('Performance of neural network solving an ODE compared to the analytical solution')\n",
    "    plt.plot(t, g_analytical)\n",
    "    plt.plot(t, g_dnn_ag[0,:])\n",
    "    plt.legend(['analytical','nn'])\n",
    "    plt.xlabel('t')\n",
    "    plt.ylabel('g(t)')\n",
    "\n",
    "    ## Find an approximation to the funtion using forward Euler\n",
    "\n",
    "    alpha, A, g0 = get_parameters()\n",
    "    dt = T/(Nt - 1)\n",
    "\n",
    "    # Perform forward Euler to solve the ODE\n",
    "    g_euler = np.zeros(Nt)\n",
    "    g_euler[0] = g0\n",
    "\n",
    "    for i in range(1,Nt):\n",
    "        g_euler[i] = g_euler[i-1] + dt*(alpha*g_euler[i-1]*(A - g_euler[i-1]))\n",
    "\n",
    "    # Print the errors done by each method\n",
    "    diff1 = np.max(np.abs(g_euler - g_analytical))\n",
    "    diff2 = np.max(np.abs(g_dnn_ag[0,:] - g_analytical))\n",
    "\n",
    "    print('Max absolute difference between Euler method and analytical: %g'%diff1)\n",
    "    print('Max absolute difference between deep neural network and analytical: %g'%diff2)\n",
    "\n",
    "    # Plot results\n",
    "    plt.figure(figsize=(10,10))\n",
    "\n",
    "    plt.plot(t,g_euler)\n",
    "    plt.plot(t,g_analytical)\n",
    "    plt.plot(t,g_dnn_ag[0,:])\n",
    "\n",
    "    plt.legend(['euler','analytical','dnn'])\n",
    "    plt.xlabel('Time t')\n",
    "    plt.ylabel('g(t)')\n",
    "\n",
    "    plt.show()"
   ]
  },
  {
   "cell_type": "markdown",
   "id": "382710c7",
   "metadata": {
    "editable": true
   },
   "source": [
    "## Example: Solving the one dimensional Poisson equation\n",
    "\n",
    "The Poisson equation for $g(x)$ in one dimension is"
   ]
  },
  {
   "cell_type": "markdown",
   "id": "e40ad03b",
   "metadata": {
    "editable": true
   },
   "source": [
    "<!-- Equation labels as ordinary links -->\n",
    "<div id=\"poisson\"></div>\n",
    "\n",
    "$$\n",
    "\\begin{equation} \\label{poisson} \\tag{13}\n",
    "  -g''(x) = f(x)\n",
    "\\end{equation}\n",
    "$$"
   ]
  },
  {
   "cell_type": "markdown",
   "id": "36990575",
   "metadata": {
    "editable": true
   },
   "source": [
    "where $f(x)$ is a given function for $x \\in (0,1)$.\n",
    "\n",
    "The conditions that $g(x)$ is chosen to fulfill, are"
   ]
  },
  {
   "cell_type": "markdown",
   "id": "2cc6b57b",
   "metadata": {
    "editable": true
   },
   "source": [
    "$$\n",
    "\\begin{align*}\n",
    "  g(0) &= 0 \\\\\n",
    "  g(1) &= 0\n",
    "\\end{align*}\n",
    "$$"
   ]
  },
  {
   "cell_type": "markdown",
   "id": "7acde41c",
   "metadata": {
    "editable": true
   },
   "source": [
    "This equation can be solved numerically using programs where e.g Autograd and TensorFlow are used.\n",
    "The results from the networks can then be compared to the analytical solution.\n",
    "In addition, it could be interesting to see how a typical method for numerically solving second order ODEs compares to the neural networks."
   ]
  },
  {
   "cell_type": "markdown",
   "id": "ab3b9c80",
   "metadata": {
    "editable": true
   },
   "source": [
    "## The specific equation to solve for\n",
    "\n",
    "Here, the function $g(x)$ to solve for follows the equation"
   ]
  },
  {
   "cell_type": "markdown",
   "id": "f0b7cdff",
   "metadata": {
    "editable": true
   },
   "source": [
    "$$\n",
    "-g''(x) = f(x),\\qquad x \\in (0,1)\n",
    "$$"
   ]
  },
  {
   "cell_type": "markdown",
   "id": "afee8aff",
   "metadata": {
    "editable": true
   },
   "source": [
    "where $f(x)$ is a given function, along with the chosen conditions"
   ]
  },
  {
   "cell_type": "markdown",
   "id": "a33680b5",
   "metadata": {
    "editable": true
   },
   "source": [
    "<!-- Equation labels as ordinary links -->\n",
    "<div id=\"cond\"></div>\n",
    "\n",
    "$$\n",
    "\\begin{aligned}\n",
    "g(0) = g(1) = 0\n",
    "\\end{aligned}\\label{cond} \\tag{14}\n",
    "$$"
   ]
  },
  {
   "cell_type": "markdown",
   "id": "807de9bf",
   "metadata": {
    "editable": true
   },
   "source": [
    "In this example, we consider the case when $f(x) = (3x + x^2)\\exp(x)$.\n",
    "\n",
    "For this case, a possible trial solution satisfying the conditions could be"
   ]
  },
  {
   "cell_type": "markdown",
   "id": "801ee056",
   "metadata": {
    "editable": true
   },
   "source": [
    "$$\n",
    "g_t(x) = x \\cdot (1-x) \\cdot N(P,x)\n",
    "$$"
   ]
  },
  {
   "cell_type": "markdown",
   "id": "1e2321f8",
   "metadata": {
    "editable": true
   },
   "source": [
    "The analytical solution for this problem is"
   ]
  },
  {
   "cell_type": "markdown",
   "id": "5ef07107",
   "metadata": {
    "editable": true
   },
   "source": [
    "$$\n",
    "g(x) = x(1 - x)\\exp(x)\n",
    "$$"
   ]
  },
  {
   "cell_type": "markdown",
   "id": "6dff1365",
   "metadata": {
    "editable": true
   },
   "source": [
    "## Solving the equation using Autograd"
   ]
  },
  {
   "cell_type": "code",
   "execution_count": 5,
   "id": "e43d8972",
   "metadata": {
    "collapsed": false,
    "editable": true
   },
   "outputs": [],
   "source": [
    "import autograd.numpy as np\n",
    "from autograd import grad, elementwise_grad\n",
    "import autograd.numpy.random as npr\n",
    "from matplotlib import pyplot as plt\n",
    "\n",
    "def sigmoid(z):\n",
    "    return 1/(1 + np.exp(-z))\n",
    "\n",
    "def deep_neural_network(deep_params, x):\n",
    "    # N_hidden is the number of hidden layers\n",
    "    N_hidden = np.size(deep_params) - 1 # -1 since params consist of parameters to all the hidden layers AND the output layer\n",
    "\n",
    "    # Assumes input x being an one-dimensional array\n",
    "    num_values = np.size(x)\n",
    "    x = x.reshape(-1, num_values)\n",
    "\n",
    "    # Assume that the input layer does nothing to the input x\n",
    "    x_input = x\n",
    "\n",
    "    # Due to multiple hidden layers, define a variable referencing to the\n",
    "    # output of the previous layer:\n",
    "    x_prev = x_input\n",
    "\n",
    "    ## Hidden layers:\n",
    "\n",
    "    for l in range(N_hidden):\n",
    "        # From the list of parameters P; find the correct weigths and bias for this layer\n",
    "        w_hidden = deep_params[l]\n",
    "\n",
    "        # Add a row of ones to include bias\n",
    "        x_prev = np.concatenate((np.ones((1,num_values)), x_prev ), axis = 0)\n",
    "\n",
    "        z_hidden = np.matmul(w_hidden, x_prev)\n",
    "        x_hidden = sigmoid(z_hidden)\n",
    "\n",
    "        # Update x_prev such that next layer can use the output from this layer\n",
    "        x_prev = x_hidden\n",
    "\n",
    "    ## Output layer:\n",
    "\n",
    "    # Get the weights and bias for this layer\n",
    "    w_output = deep_params[-1]\n",
    "\n",
    "    # Include bias:\n",
    "    x_prev = np.concatenate((np.ones((1,num_values)), x_prev), axis = 0)\n",
    "\n",
    "    z_output = np.matmul(w_output, x_prev)\n",
    "    x_output = z_output\n",
    "\n",
    "    return x_output\n",
    "\n",
    "def solve_ode_deep_neural_network(x, num_neurons, num_iter, lmb):\n",
    "    # num_hidden_neurons is now a list of number of neurons within each hidden layer\n",
    "\n",
    "    # Find the number of hidden layers:\n",
    "    N_hidden = np.size(num_neurons)\n",
    "\n",
    "    ## Set up initial weigths and biases\n",
    "\n",
    "    # Initialize the list of parameters:\n",
    "    P = [None]*(N_hidden + 1) # + 1 to include the output layer\n",
    "\n",
    "    P[0] = npr.randn(num_neurons[0], 2 )\n",
    "    for l in range(1,N_hidden):\n",
    "        P[l] = npr.randn(num_neurons[l], num_neurons[l-1] + 1) # +1 to include bias\n",
    "\n",
    "    # For the output layer\n",
    "    P[-1] = npr.randn(1, num_neurons[-1] + 1 ) # +1 since bias is included\n",
    "\n",
    "    print('Initial cost: %g'%cost_function_deep(P, x))\n",
    "\n",
    "    ## Start finding the optimal weigths using gradient descent\n",
    "\n",
    "    # Find the Python function that represents the gradient of the cost function\n",
    "    # w.r.t the 0-th input argument -- that is the weights and biases in the hidden and output layer\n",
    "    cost_function_deep_grad = grad(cost_function_deep,0)\n",
    "\n",
    "    # Let the update be done num_iter times\n",
    "    for i in range(num_iter):\n",
    "        # Evaluate the gradient at the current weights and biases in P.\n",
    "        # The cost_grad consist now of N_hidden + 1 arrays; the gradient w.r.t the weights and biases\n",
    "        # in the hidden layers and output layers evaluated at x.\n",
    "        cost_deep_grad =  cost_function_deep_grad(P, x)\n",
    "\n",
    "        for l in range(N_hidden+1):\n",
    "            P[l] = P[l] - lmb * cost_deep_grad[l]\n",
    "\n",
    "    print('Final cost: %g'%cost_function_deep(P, x))\n",
    "\n",
    "    return P\n",
    "\n",
    "## Set up the cost function specified for this Poisson equation:\n",
    "\n",
    "# The right side of the ODE\n",
    "def f(x):\n",
    "    return (3*x + x**2)*np.exp(x)\n",
    "\n",
    "def cost_function_deep(P, x):\n",
    "\n",
    "    # Evaluate the trial function with the current parameters P\n",
    "    g_t = g_trial_deep(x,P)\n",
    "\n",
    "    # Find the derivative w.r.t x of the trial function\n",
    "    d2_g_t = elementwise_grad(elementwise_grad(g_trial_deep,0))(x,P)\n",
    "\n",
    "    right_side = f(x)\n",
    "\n",
    "    err_sqr = (-d2_g_t - right_side)**2\n",
    "    cost_sum = np.sum(err_sqr)\n",
    "\n",
    "    return cost_sum/np.size(err_sqr)\n",
    "\n",
    "# The trial solution:\n",
    "def g_trial_deep(x,P):\n",
    "    return x*(1-x)*deep_neural_network(P,x)\n",
    "\n",
    "# The analytic solution;\n",
    "def g_analytic(x):\n",
    "    return x*(1-x)*np.exp(x)\n",
    "\n",
    "if __name__ == '__main__':\n",
    "    npr.seed(4155)\n",
    "\n",
    "    ## Decide the vales of arguments to the function to solve\n",
    "    Nx = 10\n",
    "    x = np.linspace(0,1, Nx)\n",
    "\n",
    "    ## Set up the initial parameters\n",
    "    num_hidden_neurons = [200,100]\n",
    "    num_iter = 1000\n",
    "    lmb = 1e-3\n",
    "\n",
    "    P = solve_ode_deep_neural_network(x, num_hidden_neurons, num_iter, lmb)\n",
    "\n",
    "    g_dnn_ag = g_trial_deep(x,P)\n",
    "    g_analytical = g_analytic(x)\n",
    "\n",
    "    # Find the maximum absolute difference between the solutons:\n",
    "    max_diff = np.max(np.abs(g_dnn_ag - g_analytical))\n",
    "    print(\"The max absolute difference between the solutions is: %g\"%max_diff)\n",
    "\n",
    "    plt.figure(figsize=(10,10))\n",
    "\n",
    "    plt.title('Performance of neural network solving an ODE compared to the analytical solution')\n",
    "    plt.plot(x, g_analytical)\n",
    "    plt.plot(x, g_dnn_ag[0,:])\n",
    "    plt.legend(['analytical','nn'])\n",
    "    plt.xlabel('x')\n",
    "    plt.ylabel('g(x)')\n",
    "    plt.show()"
   ]
  },
  {
   "cell_type": "markdown",
   "id": "280c1949",
   "metadata": {
    "editable": true
   },
   "source": [
    "## Comparing with a numerical scheme\n",
    "\n",
    "The Poisson equation is possible to solve using Taylor series to approximate the second derivative.\n",
    "\n",
    "Using Taylor series, the second derivative can be expressed as\n",
    "\n",
    "$$\n",
    "g''(x) = \\frac{g(x + \\Delta x) - 2g(x) + g(x-\\Delta x)}{\\Delta x^2} + E_{\\Delta x}(x)\n",
    "$$\n",
    "\n",
    "where $\\Delta x$ is a small step size and $E_{\\Delta x}(x)$ being the error term.\n",
    "\n",
    "Looking away from the error terms gives an approximation to the second derivative:"
   ]
  },
  {
   "cell_type": "markdown",
   "id": "e5f11c6a",
   "metadata": {
    "editable": true
   },
   "source": [
    "<!-- Equation labels as ordinary links -->\n",
    "<div id=\"approx\"></div>\n",
    "\n",
    "$$\n",
    "\\begin{equation} \\label{approx} \\tag{15}\n",
    "g''(x) \\approx \\frac{g(x + \\Delta x) - 2g(x) + g(x-\\Delta x)}{\\Delta x^2}\n",
    "\\end{equation}\n",
    "$$"
   ]
  },
  {
   "cell_type": "markdown",
   "id": "e4631c3e",
   "metadata": {
    "editable": true
   },
   "source": [
    "If $x_i = i \\Delta x = x_{i-1} + \\Delta x$ and $g_i = g(x_i)$ for $i = 1,\\dots N_x - 2$ with $N_x$ being the number of values for $x$, ([15](#approx)) becomes"
   ]
  },
  {
   "cell_type": "markdown",
   "id": "f325151c",
   "metadata": {
    "editable": true
   },
   "source": [
    "$$\n",
    "\\begin{aligned}\n",
    "g''(x_i) &\\approx \\frac{g(x_i + \\Delta x) - 2g(x_i) + g(x_i -\\Delta x)}{\\Delta x^2} \\\\\n",
    "&= \\frac{g_{i+1} - 2g_i + g_{i-1}}{\\Delta x^2}\n",
    "\\end{aligned}\n",
    "$$"
   ]
  },
  {
   "cell_type": "markdown",
   "id": "a089db38",
   "metadata": {
    "editable": true
   },
   "source": [
    "Since we know from our problem that"
   ]
  },
  {
   "cell_type": "markdown",
   "id": "2d1b4e38",
   "metadata": {
    "editable": true
   },
   "source": [
    "$$\n",
    "\\begin{aligned}\n",
    "-g''(x) &= f(x) \\\\\n",
    "&= (3x + x^2)\\exp(x)\n",
    "\\end{aligned}\n",
    "$$"
   ]
  },
  {
   "cell_type": "markdown",
   "id": "dab22af4",
   "metadata": {
    "editable": true
   },
   "source": [
    "along with the conditions $g(0) = g(1) = 0$,\n",
    "the following scheme can be used to find an approximate solution for $g(x)$ numerically:"
   ]
  },
  {
   "cell_type": "markdown",
   "id": "1e73a90b",
   "metadata": {
    "editable": true
   },
   "source": [
    "<!-- Equation labels as ordinary links -->\n",
    "<div id=\"odesys\"></div>\n",
    "\n",
    "$$\n",
    "\\begin{equation}\n",
    "  \\begin{aligned}\n",
    "  -\\Big( \\frac{g_{i+1} - 2g_i + g_{i-1}}{\\Delta x^2} \\Big) &= f(x_i) \\\\\n",
    "  -g_{i+1} + 2g_i - g_{i-1} &= \\Delta x^2 f(x_i)\n",
    "  \\end{aligned}\n",
    "\\end{equation} \\label{odesys} \\tag{16}\n",
    "$$"
   ]
  },
  {
   "cell_type": "markdown",
   "id": "4ab6ae7f",
   "metadata": {
    "editable": true
   },
   "source": [
    "for $i = 1, \\dots, N_x - 2$ where $g_0 = g_{N_x - 1} = 0$ and $f(x_i) = (3x_i + x_i^2)\\exp(x_i)$, which is given for our specific problem.\n",
    "\n",
    "The equation can be rewritten into a matrix equation:"
   ]
  },
  {
   "cell_type": "markdown",
   "id": "d1140d73",
   "metadata": {
    "editable": true
   },
   "source": [
    "$$\n",
    "\\begin{aligned}\n",
    "\\begin{pmatrix}\n",
    "2 & -1 & 0 & \\dots & 0 \\\\\n",
    "-1 & 2 & -1 & \\dots & 0 \\\\\n",
    "\\vdots & & \\ddots & & \\vdots \\\\\n",
    "0 & \\dots & -1 & 2 & -1  \\\\\n",
    "0 & \\dots & 0 & -1 & 2\\\\\n",
    "\\end{pmatrix}\n",
    "\\begin{pmatrix}\n",
    "g_1 \\\\\n",
    "g_2 \\\\\n",
    "\\vdots \\\\\n",
    "g_{N_x - 3} \\\\\n",
    "g_{N_x - 2}\n",
    "\\end{pmatrix}\n",
    "&=\n",
    "\\Delta x^2\n",
    "\\begin{pmatrix}\n",
    "f(x_1) \\\\\n",
    "f(x_2) \\\\\n",
    "\\vdots \\\\\n",
    "f(x_{N_x - 3}) \\\\\n",
    "f(x_{N_x - 2})\n",
    "\\end{pmatrix} \\\\\n",
    "\\boldsymbol{A}\\boldsymbol{g} &= \\boldsymbol{f},\n",
    "\\end{aligned}\n",
    "$$"
   ]
  },
  {
   "cell_type": "markdown",
   "id": "dda41ea0",
   "metadata": {
    "editable": true
   },
   "source": [
    "which makes it possible to solve for the vector $\\boldsymbol{g}$."
   ]
  },
  {
   "cell_type": "markdown",
   "id": "863f47ce",
   "metadata": {
    "editable": true
   },
   "source": [
    "## Setting up the code\n",
    "\n",
    "We can then compare the result from this numerical scheme with the output from our network using Autograd:"
   ]
  },
  {
   "cell_type": "code",
   "execution_count": 6,
   "id": "f8a7f39d",
   "metadata": {
    "collapsed": false,
    "editable": true
   },
   "outputs": [],
   "source": [
    "import autograd.numpy as np\n",
    "from autograd import grad, elementwise_grad\n",
    "import autograd.numpy.random as npr\n",
    "from matplotlib import pyplot as plt\n",
    "\n",
    "def sigmoid(z):\n",
    "    return 1/(1 + np.exp(-z))\n",
    "\n",
    "def deep_neural_network(deep_params, x):\n",
    "    # N_hidden is the number of hidden layers\n",
    "    N_hidden = np.size(deep_params) - 1 # -1 since params consist of parameters to all the hidden layers AND the output layer\n",
    "\n",
    "    # Assumes input x being an one-dimensional array\n",
    "    num_values = np.size(x)\n",
    "    x = x.reshape(-1, num_values)\n",
    "\n",
    "    # Assume that the input layer does nothing to the input x\n",
    "    x_input = x\n",
    "\n",
    "    # Due to multiple hidden layers, define a variable referencing to the\n",
    "    # output of the previous layer:\n",
    "    x_prev = x_input\n",
    "\n",
    "    ## Hidden layers:\n",
    "\n",
    "    for l in range(N_hidden):\n",
    "        # From the list of parameters P; find the correct weigths and bias for this layer\n",
    "        w_hidden = deep_params[l]\n",
    "\n",
    "        # Add a row of ones to include bias\n",
    "        x_prev = np.concatenate((np.ones((1,num_values)), x_prev ), axis = 0)\n",
    "\n",
    "        z_hidden = np.matmul(w_hidden, x_prev)\n",
    "        x_hidden = sigmoid(z_hidden)\n",
    "\n",
    "        # Update x_prev such that next layer can use the output from this layer\n",
    "        x_prev = x_hidden\n",
    "\n",
    "    ## Output layer:\n",
    "\n",
    "    # Get the weights and bias for this layer\n",
    "    w_output = deep_params[-1]\n",
    "\n",
    "    # Include bias:\n",
    "    x_prev = np.concatenate((np.ones((1,num_values)), x_prev), axis = 0)\n",
    "\n",
    "    z_output = np.matmul(w_output, x_prev)\n",
    "    x_output = z_output\n",
    "\n",
    "    return x_output\n",
    "\n",
    "def solve_ode_deep_neural_network(x, num_neurons, num_iter, lmb):\n",
    "    # num_hidden_neurons is now a list of number of neurons within each hidden layer\n",
    "\n",
    "    # Find the number of hidden layers:\n",
    "    N_hidden = np.size(num_neurons)\n",
    "\n",
    "    ## Set up initial weigths and biases\n",
    "\n",
    "    # Initialize the list of parameters:\n",
    "    P = [None]*(N_hidden + 1) # + 1 to include the output layer\n",
    "\n",
    "    P[0] = npr.randn(num_neurons[0], 2 )\n",
    "    for l in range(1,N_hidden):\n",
    "        P[l] = npr.randn(num_neurons[l], num_neurons[l-1] + 1) # +1 to include bias\n",
    "\n",
    "    # For the output layer\n",
    "    P[-1] = npr.randn(1, num_neurons[-1] + 1 ) # +1 since bias is included\n",
    "\n",
    "    print('Initial cost: %g'%cost_function_deep(P, x))\n",
    "\n",
    "    ## Start finding the optimal weigths using gradient descent\n",
    "\n",
    "    # Find the Python function that represents the gradient of the cost function\n",
    "    # w.r.t the 0-th input argument -- that is the weights and biases in the hidden and output layer\n",
    "    cost_function_deep_grad = grad(cost_function_deep,0)\n",
    "\n",
    "    # Let the update be done num_iter times\n",
    "    for i in range(num_iter):\n",
    "        # Evaluate the gradient at the current weights and biases in P.\n",
    "        # The cost_grad consist now of N_hidden + 1 arrays; the gradient w.r.t the weights and biases\n",
    "        # in the hidden layers and output layers evaluated at x.\n",
    "        cost_deep_grad =  cost_function_deep_grad(P, x)\n",
    "\n",
    "        for l in range(N_hidden+1):\n",
    "            P[l] = P[l] - lmb * cost_deep_grad[l]\n",
    "\n",
    "    print('Final cost: %g'%cost_function_deep(P, x))\n",
    "\n",
    "    return P\n",
    "\n",
    "## Set up the cost function specified for this Poisson equation:\n",
    "\n",
    "# The right side of the ODE\n",
    "def f(x):\n",
    "    return (3*x + x**2)*np.exp(x)\n",
    "\n",
    "def cost_function_deep(P, x):\n",
    "\n",
    "    # Evaluate the trial function with the current parameters P\n",
    "    g_t = g_trial_deep(x,P)\n",
    "\n",
    "    # Find the derivative w.r.t x of the trial function\n",
    "    d2_g_t = elementwise_grad(elementwise_grad(g_trial_deep,0))(x,P)\n",
    "\n",
    "    right_side = f(x)\n",
    "\n",
    "    err_sqr = (-d2_g_t - right_side)**2\n",
    "    cost_sum = np.sum(err_sqr)\n",
    "\n",
    "    return cost_sum/np.size(err_sqr)\n",
    "\n",
    "# The trial solution:\n",
    "def g_trial_deep(x,P):\n",
    "    return x*(1-x)*deep_neural_network(P,x)\n",
    "\n",
    "# The analytic solution;\n",
    "def g_analytic(x):\n",
    "    return x*(1-x)*np.exp(x)\n",
    "\n",
    "if __name__ == '__main__':\n",
    "    npr.seed(4155)\n",
    "\n",
    "    ## Decide the vales of arguments to the function to solve\n",
    "    Nx = 10\n",
    "    x = np.linspace(0,1, Nx)\n",
    "\n",
    "    ## Set up the initial parameters\n",
    "    num_hidden_neurons = [200,100]\n",
    "    num_iter = 1000\n",
    "    lmb = 1e-3\n",
    "\n",
    "    P = solve_ode_deep_neural_network(x, num_hidden_neurons, num_iter, lmb)\n",
    "\n",
    "    g_dnn_ag = g_trial_deep(x,P)\n",
    "    g_analytical = g_analytic(x)\n",
    "\n",
    "    # Find the maximum absolute difference between the solutons:\n",
    "\n",
    "    plt.figure(figsize=(10,10))\n",
    "\n",
    "    plt.title('Performance of neural network solving an ODE compared to the analytical solution')\n",
    "    plt.plot(x, g_analytical)\n",
    "    plt.plot(x, g_dnn_ag[0,:])\n",
    "    plt.legend(['analytical','nn'])\n",
    "    plt.xlabel('x')\n",
    "    plt.ylabel('g(x)')\n",
    "\n",
    "    ## Perform the computation using the numerical scheme\n",
    "\n",
    "    dx = 1/(Nx - 1)\n",
    "\n",
    "    # Set up the matrix A\n",
    "    A = np.zeros((Nx-2,Nx-2))\n",
    "\n",
    "    A[0,0] = 2\n",
    "    A[0,1] = -1\n",
    "\n",
    "    for i in range(1,Nx-3):\n",
    "        A[i,i-1] = -1\n",
    "        A[i,i] = 2\n",
    "        A[i,i+1] = -1\n",
    "\n",
    "    A[Nx - 3, Nx - 4] = -1\n",
    "    A[Nx - 3, Nx - 3] = 2\n",
    "\n",
    "    # Set up the vector f\n",
    "    f_vec = dx**2 * f(x[1:-1])\n",
    "\n",
    "    # Solve the equation\n",
    "    g_res = np.linalg.solve(A,f_vec)\n",
    "\n",
    "    g_vec = np.zeros(Nx)\n",
    "    g_vec[1:-1] = g_res\n",
    "\n",
    "    # Print the differences between each method\n",
    "    max_diff1 = np.max(np.abs(g_dnn_ag - g_analytical))\n",
    "    max_diff2 = np.max(np.abs(g_vec - g_analytical))\n",
    "    print(\"The max absolute difference between the analytical solution and DNN Autograd: %g\"%max_diff1)\n",
    "    print(\"The max absolute difference between the analytical solution and numerical scheme: %g\"%max_diff2)\n",
    "\n",
    "    # Plot the results\n",
    "    plt.figure(figsize=(10,10))\n",
    "\n",
    "    plt.plot(x,g_vec)\n",
    "    plt.plot(x,g_analytical)\n",
    "    plt.plot(x,g_dnn_ag[0,:])\n",
    "\n",
    "    plt.legend(['numerical scheme','analytical','dnn'])\n",
    "    plt.show()"
   ]
  },
  {
   "cell_type": "markdown",
   "id": "ba09686c",
   "metadata": {
    "editable": true
   },
   "source": [
    "## Partial Differential Equations\n",
    "\n",
    "A partial differential equation (PDE) has a solution here the function\n",
    "is defined by multiple variables.  The equation may involve all kinds\n",
    "of combinations of which variables the function is differentiated with\n",
    "respect to.\n",
    "\n",
    "In general, a partial differential equation for a function $g(x_1,\\dots,x_N)$ with $N$ variables may be expressed as"
   ]
  },
  {
   "cell_type": "markdown",
   "id": "303f8b83",
   "metadata": {
    "editable": true
   },
   "source": [
    "<!-- Equation labels as ordinary links -->\n",
    "<div id=\"PDE\"></div>\n",
    "\n",
    "$$\n",
    "\\begin{equation} \\label{PDE} \\tag{17}\n",
    "  f\\left(x_1, \\, \\dots \\, , x_N, \\frac{\\partial g(x_1,\\dots,x_N) }{\\partial x_1}, \\dots , \\frac{\\partial g(x_1,\\dots,x_N) }{\\partial x_N}, \\frac{\\partial g(x_1,\\dots,x_N) }{\\partial x_1\\partial x_2}, \\, \\dots \\, , \\frac{\\partial^n g(x_1,\\dots,x_N) }{\\partial x_N^n} \\right) = 0\n",
    "\\end{equation}\n",
    "$$"
   ]
  },
  {
   "cell_type": "markdown",
   "id": "67238e4a",
   "metadata": {
    "editable": true
   },
   "source": [
    "where $f$ is an expression involving all kinds of possible mixed derivatives of $g(x_1,\\dots,x_N)$ up to an order $n$. In order for the solution to be unique, some additional conditions must also be given."
   ]
  },
  {
   "cell_type": "markdown",
   "id": "8b42afed",
   "metadata": {
    "editable": true
   },
   "source": [
    "## Famous PDEs\n",
    "In the Natural Sciences we often encounter problems with many variables\n",
    "constrained by boundary conditions and initial values. Many of these problems\n",
    "can be modelled as partial differential equations. One case which arises \n",
    "in many situations is the so-called wave equation whose one-dimensional form\n",
    "reads"
   ]
  },
  {
   "cell_type": "markdown",
   "id": "393f4617",
   "metadata": {
    "editable": true
   },
   "source": [
    "<!-- Equation labels as ordinary links -->\n",
    "<div id=\"eq:waveeqpde\"></div>\n",
    "\n",
    "$$\n",
    "\\begin{equation}\n",
    "\\label{eq:waveeqpde} \\tag{18}\n",
    " \\frac{\\partial^2 u}{\\partial x^2}=A\\frac{\\partial^2 u}{\\partial t^2},\n",
    "\\end{equation}\n",
    "$$"
   ]
  },
  {
   "cell_type": "markdown",
   "id": "4ab4ab73",
   "metadata": {
    "editable": true
   },
   "source": [
    "where $A$ is a constant. The solution $u$ depends on both spatial and temporal variables, viz. $u=u(x,t)$."
   ]
  },
  {
   "cell_type": "markdown",
   "id": "3aadce19",
   "metadata": {
    "editable": true
   },
   "source": [
    "## Famous PDEs, two dimension\n",
    "In two dimension we have $u=u(x,y,t)$.  We will, unless otherwise stated, simply use $u$ in our discussion below.\n",
    "Familiar situations which this equation can model\n",
    "are waves on a string, pressure waves, waves on the surface of a fjord or a \n",
    "lake, electromagnetic waves and sound waves to mention a few. For e.g., electromagnetic\n",
    "waves we have the constant $A=c^2$, with $c$ the speed of light. It is rather\n",
    "straightforward to extend this equation to two or three dimension. In two dimensions\n",
    "we have"
   ]
  },
  {
   "cell_type": "markdown",
   "id": "234733fd",
   "metadata": {
    "editable": true
   },
   "source": [
    "$$\n",
    "\\frac{\\partial^2 u}{\\partial x^2}+\\frac{\\partial^2 u}{\\partial y^2}=A\\frac{\\partial^2 u}{\\partial t^2},\n",
    "$$"
   ]
  },
  {
   "cell_type": "markdown",
   "id": "0f5a2999",
   "metadata": {
    "editable": true
   },
   "source": [
    "## Famous PDEs, diffusion equation\n",
    "The diffusion equation whose one-dimensional version   reads"
   ]
  },
  {
   "cell_type": "markdown",
   "id": "b916cd40",
   "metadata": {
    "editable": true
   },
   "source": [
    "<!-- Equation labels as ordinary links -->\n",
    "<div id=\"eq:diffusionpde\"></div>\n",
    "\n",
    "$$\n",
    "\\begin{equation}\n",
    "\\label{eq:diffusionpde} \\tag{19}\n",
    " \\frac{\\partial^2 u}{\\partial x^2}=A\\frac{\\partial u}{\\partial t},\n",
    "\\end{equation}\n",
    "$$"
   ]
  },
  {
   "cell_type": "markdown",
   "id": "3a87bd4d",
   "metadata": {
    "editable": true
   },
   "source": [
    "and  $A$ is in this case called the diffusion constant. It can be used to model\n",
    "a wide selection of diffusion processes, from molecules to the diffusion of heat\n",
    "in a given material."
   ]
  },
  {
   "cell_type": "markdown",
   "id": "d8c90391",
   "metadata": {
    "editable": true
   },
   "source": [
    "## Famous PDEs, Laplace's equation\n",
    "Another familiar equation from electrostatics is Laplace's equation, which looks similar\n",
    "to the wave equation in Eq. ([18](#eq:waveeqpde)) except that we have set $A=0$"
   ]
  },
  {
   "cell_type": "markdown",
   "id": "dfc37720",
   "metadata": {
    "editable": true
   },
   "source": [
    "<!-- Equation labels as ordinary links -->\n",
    "<div id=\"eq:laplacepde\"></div>\n",
    "\n",
    "$$\n",
    "\\begin{equation}\n",
    "\\label{eq:laplacepde} \\tag{20}\n",
    " \\frac{\\partial^2 u}{\\partial x^2}+\\frac{\\partial^2 u}{\\partial y^2}=0,\n",
    "\\end{equation}\n",
    "$$"
   ]
  },
  {
   "cell_type": "markdown",
   "id": "bf982add",
   "metadata": {
    "editable": true
   },
   "source": [
    "or if we have a finite electric charge represented by a charge density \n",
    "$\\rho(\\mathbf{x})$ we have the familiar Poisson equation"
   ]
  },
  {
   "cell_type": "markdown",
   "id": "fcbb0432",
   "metadata": {
    "editable": true
   },
   "source": [
    "<!-- Equation labels as ordinary links -->\n",
    "<div id=\"eq:poissonpde\"></div>\n",
    "\n",
    "$$\n",
    "\\begin{equation}\n",
    "\\label{eq:poissonpde} \\tag{21}\n",
    " \\frac{\\partial^2 u}{\\partial x^2}+\\frac{\\partial^2 u}{\\partial y^2}=-4\\pi \\rho(\\mathbf{x}).\n",
    "\\end{equation}\n",
    "$$"
   ]
  },
  {
   "cell_type": "markdown",
   "id": "3a29ee1a",
   "metadata": {
    "editable": true
   },
   "source": [
    "## Famous PDEs, Helmholtz' equation\n",
    "Other famous partial differential equations  are the Helmholtz (or eigenvalue) equation, here specialized to two \n",
    "dimensions only"
   ]
  },
  {
   "cell_type": "markdown",
   "id": "03680a3b",
   "metadata": {
    "editable": true
   },
   "source": [
    "<!-- Equation labels as ordinary links -->\n",
    "<div id=\"eq:helmholtz\"></div>\n",
    "\n",
    "$$\n",
    "\\begin{equation}\n",
    "\\label{eq:helmholtz} \\tag{22}\n",
    " -\\frac{\\partial^2 u}{\\partial x^2}-\\frac{\\partial^2 u}{\\partial y^2}=\\lambda u,\n",
    "\\end{equation}\n",
    "$$"
   ]
  },
  {
   "cell_type": "markdown",
   "id": "a36f70b8",
   "metadata": {
    "editable": true
   },
   "source": [
    "the linear transport equation  (in $2+1$ dimensions) familiar from Brownian motion as well"
   ]
  },
  {
   "cell_type": "markdown",
   "id": "b4c39bbc",
   "metadata": {
    "editable": true
   },
   "source": [
    "<!-- Equation labels as ordinary links -->\n",
    "<div id=\"eq:transport\"></div>\n",
    "\n",
    "$$\n",
    "\\begin{equation}\n",
    "\\label{eq:transport} \\tag{23}\n",
    "\\frac{\\partial u}{\\partial t} +\\frac{\\partial u}{\\partial x}+\\frac{\\partial u}{\\partial y }=0,\n",
    "\\end{equation}\n",
    "$$"
   ]
  },
  {
   "cell_type": "markdown",
   "id": "94d1c29e",
   "metadata": {
    "editable": true
   },
   "source": [
    "## Famous PDEs, Schroedinger's equation in two dimensions\n",
    "Schroedinger's equation"
   ]
  },
  {
   "cell_type": "markdown",
   "id": "68ee6f5c",
   "metadata": {
    "editable": true
   },
   "source": [
    "$$\n",
    "-\\frac{\\partial^2 u}{\\partial x^2}-\\frac{\\partial^2 u}{\\partial y^2}+f(x,y)u = \\imath\\frac{\\partial u}{\\partial t}.\n",
    "$$"
   ]
  },
  {
   "cell_type": "markdown",
   "id": "db97ae3c",
   "metadata": {
    "editable": true
   },
   "source": [
    "## Famous PDEs, Maxwell's equations\n",
    "Important systems of linear partial differential equations are the famous Maxwell equations"
   ]
  },
  {
   "cell_type": "markdown",
   "id": "84d4937f",
   "metadata": {
    "editable": true
   },
   "source": [
    "$$\n",
    "\\frac{\\partial \\mathbf{E}}{\\partial t} =  \\mathrm{curl}\\mathbf{B},\n",
    "$$"
   ]
  },
  {
   "cell_type": "markdown",
   "id": "4882ad6e",
   "metadata": {
    "editable": true
   },
   "source": [
    "and"
   ]
  },
  {
   "cell_type": "markdown",
   "id": "2549de10",
   "metadata": {
    "editable": true
   },
   "source": [
    "$$\n",
    "-\\mathrm{curl} \\mathbf{E} =  \\mathbf{B}\n",
    "$$"
   ]
  },
  {
   "cell_type": "markdown",
   "id": "f6b51590",
   "metadata": {
    "editable": true
   },
   "source": [
    "and"
   ]
  },
  {
   "cell_type": "markdown",
   "id": "de8516ef",
   "metadata": {
    "editable": true
   },
   "source": [
    "$$\n",
    "\\mathrm{div} \\mathbf{E} =   \\mathrm{div}\\mathbf{B}  = 0.\n",
    "$$"
   ]
  },
  {
   "cell_type": "markdown",
   "id": "827fc6f8",
   "metadata": {
    "editable": true
   },
   "source": [
    "## Famous PDEs, Euler's equations\n",
    "Similarly, famous systems of non-linear partial differential equations are for example Euler's equations for \n",
    "incompressible, inviscid flow"
   ]
  },
  {
   "cell_type": "markdown",
   "id": "9735e5a1",
   "metadata": {
    "editable": true
   },
   "source": [
    "$$\n",
    "\\frac{\\partial \\mathbf{u}}{\\partial t} +\\mathbf{u}\\nabla\\mathbf{u}=  -Dp; \\hspace{1cm} \\mathrm{div} \\mathbf{u} =  0,\n",
    "$$"
   ]
  },
  {
   "cell_type": "markdown",
   "id": "73e68cb2",
   "metadata": {
    "editable": true
   },
   "source": [
    "with $p$ being the pressure and"
   ]
  },
  {
   "cell_type": "markdown",
   "id": "c3b5f282",
   "metadata": {
    "editable": true
   },
   "source": [
    "$$\n",
    "\\nabla = \\frac{\\partial}{\\partial x}e_x+\\frac{\\partial}{\\partial y}e_y,\n",
    "$$"
   ]
  },
  {
   "cell_type": "markdown",
   "id": "ec5c6f3d",
   "metadata": {
    "editable": true
   },
   "source": [
    "in the two dimensions. The unit vectors are $e_x$ and $e_y$."
   ]
  },
  {
   "cell_type": "markdown",
   "id": "5abcdebf",
   "metadata": {
    "editable": true
   },
   "source": [
    "## Famous PDEs, the Navier-Stokes' equations\n",
    "Another example is the set of   \n",
    "Navier-Stokes equations for incompressible, viscous flow"
   ]
  },
  {
   "cell_type": "markdown",
   "id": "8bb2e8b8",
   "metadata": {
    "editable": true
   },
   "source": [
    "$$\n",
    "\\frac{\\partial \\mathbf{u}}{\\partial t} +\\mathbf{u}\\nabla\\mathbf{u}-\\Delta \\mathbf{u}=  -Dp; \\hspace{1cm} \\mathrm{div} \\mathbf{u} =  0.\n",
    "$$"
   ]
  },
  {
   "cell_type": "markdown",
   "id": "23d78540",
   "metadata": {
    "editable": true
   },
   "source": [
    "## Famous PDEs, general equation in two dimensions\n",
    "A general partial differential equation with two given dimensions\n",
    "reads"
   ]
  },
  {
   "cell_type": "markdown",
   "id": "70d841c7",
   "metadata": {
    "editable": true
   },
   "source": [
    "$$\n",
    "A(x,y)\\frac{\\partial^2 u}{\\partial x^2}+B(x,y)\\frac{\\partial^2 u}{\\partial x\\partial y}\n",
    "+C(x,y)\\frac{\\partial^2 u}{\\partial y^2}=F(x,y,u,\\frac{\\partial u}{\\partial x}, \\frac{\\partial u}{\\partial y}),\n",
    "$$"
   ]
  },
  {
   "cell_type": "markdown",
   "id": "e4345948",
   "metadata": {
    "editable": true
   },
   "source": [
    "and if we set"
   ]
  },
  {
   "cell_type": "markdown",
   "id": "31a355b3",
   "metadata": {
    "editable": true
   },
   "source": [
    "$$\n",
    "B=C=0,\n",
    "$$"
   ]
  },
  {
   "cell_type": "markdown",
   "id": "fae112e4",
   "metadata": {
    "editable": true
   },
   "source": [
    "we recover the $1+1$-dimensional diffusion equation which is an example\n",
    "of a so-called parabolic partial differential equation.\n",
    "With"
   ]
  },
  {
   "cell_type": "markdown",
   "id": "cbe8682e",
   "metadata": {
    "editable": true
   },
   "source": [
    "$$\n",
    "B=0, \\hspace{1cm} AC < 0\n",
    "$$"
   ]
  },
  {
   "cell_type": "markdown",
   "id": "3c3d2335",
   "metadata": {
    "editable": true
   },
   "source": [
    "we get the $2+1$-dim wave equation which is an example of a so-called \n",
    "elliptic PDE, where more generally we have\n",
    "$B^2 > AC$.\n",
    "For $B^2 <  AC$ \n",
    "we obtain a so-called hyperbolic PDE, with the Laplace equation in \n",
    "Eq. ([20](#eq:laplacepde)) as one of the \n",
    "classical examples.\n",
    "These equations can all be easily extended to non-linear partial differential\n",
    "equations and $3+1$ dimensional cases."
   ]
  },
  {
   "cell_type": "markdown",
   "id": "e8524993",
   "metadata": {
    "editable": true
   },
   "source": [
    "## Diffusion equation\n",
    "The diffusion equation describes in typical applications the evolution in time of the density $u$ of a quantity like\n",
    "the particle density, energy density, temperature gradient, chemical concentrations etc.\n",
    "\n",
    "The basis is the assumption that the flux density $\\mathbf{\\rho}$ obeys the Gauss-Green theorem"
   ]
  },
  {
   "cell_type": "markdown",
   "id": "457ede5a",
   "metadata": {
    "editable": true
   },
   "source": [
    "$$\n",
    "\\int_V \\mathrm{div}\\mathbf{\\rho} dx = \\int_{\\partial V} \\mathbf{\\rho}\\mathbf{n}dS,\n",
    "$$"
   ]
  },
  {
   "cell_type": "markdown",
   "id": "665b1620",
   "metadata": {
    "editable": true
   },
   "source": [
    "where $n$ is the unit outer normal field and $V$ is a smooth region with the space where\n",
    "we seek a solution.  \n",
    "The Gauss-Green theorem leads to"
   ]
  },
  {
   "cell_type": "markdown",
   "id": "dd9bd460",
   "metadata": {
    "editable": true
   },
   "source": [
    "$$\n",
    "\\mathrm{div} \\mathbf{\\rho} = 0.\n",
    "$$"
   ]
  },
  {
   "cell_type": "markdown",
   "id": "4c44565c",
   "metadata": {
    "editable": true
   },
   "source": [
    "## Diffusion equation\n",
    "Assuming that the flux is proportional to the gradient $\\mathbf{\\nabla} u$ but pointing in the opposite direction\n",
    "since the flow is from regions  of high concetration to lower concentrations, we obtain"
   ]
  },
  {
   "cell_type": "markdown",
   "id": "c32935fb",
   "metadata": {
    "editable": true
   },
   "source": [
    "$$\n",
    "\\mathbf{\\rho} = -D\\mathbf{\\nabla} u,\n",
    "$$"
   ]
  },
  {
   "cell_type": "markdown",
   "id": "3cb5aefc",
   "metadata": {
    "editable": true
   },
   "source": [
    "resulting in"
   ]
  },
  {
   "cell_type": "markdown",
   "id": "7c4c424a",
   "metadata": {
    "editable": true
   },
   "source": [
    "$$\n",
    "\\mathrm{div} \\mathbf{\\nabla} u  = D\\Delta u = 0,\n",
    "$$"
   ]
  },
  {
   "cell_type": "markdown",
   "id": "fb23b558",
   "metadata": {
    "editable": true
   },
   "source": [
    "which is Laplace's equation. The constant $D$ can be coupled with various physical \n",
    "constants, such as the diffusion constant or the specific heat and thermal conductivity discussed below."
   ]
  },
  {
   "cell_type": "markdown",
   "id": "a665f827",
   "metadata": {
    "editable": true
   },
   "source": [
    "## Diffusion equation, famous laws\n",
    "If we let $u$ denote the concetration of a particle species, this results in Fick's law of diffusion. \n",
    "If it denotes the temperature gradient, we have Fourier'slaw of heat conduction and if it refers to the \n",
    "electrostatic potential we have Ohm's law of electrical conduction.\n",
    "\n",
    "Coupling the rate of change (temporal dependence) of $u$ with the flux density we have"
   ]
  },
  {
   "cell_type": "markdown",
   "id": "ea0f5bb8",
   "metadata": {
    "editable": true
   },
   "source": [
    "$$\n",
    "\\frac{\\partial u}{\\partial t} = -\\mathrm{div}\\mathbf{\\rho},\n",
    "$$"
   ]
  },
  {
   "cell_type": "markdown",
   "id": "25b3a33e",
   "metadata": {
    "editable": true
   },
   "source": [
    "which results in"
   ]
  },
  {
   "cell_type": "markdown",
   "id": "ce303fa6",
   "metadata": {
    "editable": true
   },
   "source": [
    "$$\n",
    "\\frac{\\partial u}{\\partial t}= D \\mathrm{div} \\mathbf{\\nabla} u  = D \\Delta u,\n",
    "$$"
   ]
  },
  {
   "cell_type": "markdown",
   "id": "32945fe7",
   "metadata": {
    "editable": true
   },
   "source": [
    "the diffusion equation, or heat equation."
   ]
  },
  {
   "cell_type": "markdown",
   "id": "3db28e54",
   "metadata": {
    "editable": true
   },
   "source": [
    "## Diffusion equation, heat equation\n",
    "If we specialize to the heat equation, \n",
    "we assume that the diffusion of heat through some \n",
    "material is proportional with the temperature gradient $T(\\mathbf{x},t)$\n",
    "and using \n",
    "conservation of energy we arrive at the diffusion equation"
   ]
  },
  {
   "cell_type": "markdown",
   "id": "e71415dc",
   "metadata": {
    "editable": true
   },
   "source": [
    "$$\n",
    "\\frac{\\kappa}{C\\rho}\\nabla^2 T(\\mathbf{x},t) =\\frac{\\partial T(\\mathbf{x},t)}{\\partial t}\n",
    "$$"
   ]
  },
  {
   "cell_type": "markdown",
   "id": "63b658bb",
   "metadata": {
    "editable": true
   },
   "source": [
    "where $C$ is the specific heat and  $\\rho$ \n",
    "the density of the material. \n",
    "Here we let the density be represented by a \n",
    "constant, but there is no problem introducing  an explicit spatial dependence, viz.,"
   ]
  },
  {
   "cell_type": "markdown",
   "id": "7ab38ff7",
   "metadata": {
    "editable": true
   },
   "source": [
    "$$\n",
    "\\frac{\\kappa}{C\\rho(\\mathbf{x},t)}\\nabla^2 T(\\mathbf{x},t) =\n",
    "\\frac{\\partial T(\\mathbf{x},t)}{\\partial t}.\n",
    "$$"
   ]
  },
  {
   "cell_type": "markdown",
   "id": "c02e159d",
   "metadata": {
    "editable": true
   },
   "source": [
    "## Diffusion equation, heat equation in one dimension\n",
    "Setting all constants equal to the diffusion constant $D$, i.e.,"
   ]
  },
  {
   "cell_type": "markdown",
   "id": "3209afbf",
   "metadata": {
    "editable": true
   },
   "source": [
    "$$\n",
    "D=\\frac{C\\rho}{\\kappa},\n",
    "$$"
   ]
  },
  {
   "cell_type": "markdown",
   "id": "f8c52e26",
   "metadata": {
    "editable": true
   },
   "source": [
    "we arrive at"
   ]
  },
  {
   "cell_type": "markdown",
   "id": "42ad44e8",
   "metadata": {
    "editable": true
   },
   "source": [
    "$$\n",
    "\\nabla^2 T(\\mathbf{x},t) =\n",
    "D\\frac{\\partial T(\\mathbf{x},t)}{\\partial t}.\n",
    "$$"
   ]
  },
  {
   "cell_type": "markdown",
   "id": "648dd108",
   "metadata": {
    "editable": true
   },
   "source": [
    "Specializing to the $1+1$-dimensional case we have"
   ]
  },
  {
   "cell_type": "markdown",
   "id": "a609f3b6",
   "metadata": {
    "editable": true
   },
   "source": [
    "$$\n",
    "\\frac{\\partial^2 T(x,t)}{\\partial x^2}=D\\frac{\\partial T(x,t)}{\\partial t}.\n",
    "$$"
   ]
  },
  {
   "cell_type": "markdown",
   "id": "a6b50752",
   "metadata": {
    "editable": true
   },
   "source": [
    "## Diffusion equation, dimensionless form\n",
    "We note that the dimension of $D$ is time/length$^2$.\n",
    "Introducing the dimensionless variables $\\alpha\\hat{x}=x$\n",
    "we get"
   ]
  },
  {
   "cell_type": "markdown",
   "id": "54dad670",
   "metadata": {
    "editable": true
   },
   "source": [
    "$$\n",
    "\\frac{\\partial^2 T(x,t)}{\\alpha^2\\partial \\hat{x}^2}=\n",
    "D\\frac{\\partial T(x,t)}{\\partial t},\n",
    "$$"
   ]
  },
  {
   "cell_type": "markdown",
   "id": "468ff2b5",
   "metadata": {
    "editable": true
   },
   "source": [
    "and since $\\alpha$ is just a constant we could define\n",
    "$\\alpha^2D= 1$ or use the last expression to define a dimensionless time-variable \n",
    "$\\hat{t}$. This yields a simplified diffusion equation"
   ]
  },
  {
   "cell_type": "markdown",
   "id": "cfda6b4e",
   "metadata": {
    "editable": true
   },
   "source": [
    "$$\n",
    "\\frac{\\partial^2 T(\\hat{x},\\hat{t})}{\\partial \\hat{x}^2}=\n",
    "\\frac{\\partial T(\\hat{x},\\hat{t})}{\\partial \\hat{t}}.\n",
    "$$"
   ]
  },
  {
   "cell_type": "markdown",
   "id": "4ab02cee",
   "metadata": {
    "editable": true
   },
   "source": [
    "It is now a partial differential equation in terms of dimensionless\n",
    "variables. In the discussion below, we will however, for the sake\n",
    "of notational simplicity replace $\\hat{x}\\rightarrow x$ and \n",
    "$\\hat{t}\\rightarrow t$. Moreover, the solution to the $1+1$-dimensional\n",
    "partial differential equation is replaced by $T(\\hat{x},\\hat{t})\\rightarrow u(x,t)$."
   ]
  },
  {
   "cell_type": "markdown",
   "id": "b21f8ca0",
   "metadata": {
    "editable": true
   },
   "source": [
    "## Explicit Scheme\n",
    "In one dimension we have the following equation"
   ]
  },
  {
   "cell_type": "markdown",
   "id": "81b3c5f3",
   "metadata": {
    "editable": true
   },
   "source": [
    "$$\n",
    "\\nabla^2 u(x,t) =\\frac{\\partial u(x,t)}{\\partial t},\n",
    "$$"
   ]
  },
  {
   "cell_type": "markdown",
   "id": "65f8addb",
   "metadata": {
    "editable": true
   },
   "source": [
    "or"
   ]
  },
  {
   "cell_type": "markdown",
   "id": "d0999730",
   "metadata": {
    "editable": true
   },
   "source": [
    "$$\n",
    "u_{xx} = u_t,\n",
    "$$"
   ]
  },
  {
   "cell_type": "markdown",
   "id": "e8f07d9e",
   "metadata": {
    "editable": true
   },
   "source": [
    "with initial conditions, i.e., the conditions at $t=0$,"
   ]
  },
  {
   "cell_type": "markdown",
   "id": "ec1d1786",
   "metadata": {
    "editable": true
   },
   "source": [
    "$$\n",
    "u(x,0)= g(x) \\hspace{0.5cm} 0 < x < L\n",
    "$$"
   ]
  },
  {
   "cell_type": "markdown",
   "id": "7a3d3ae2",
   "metadata": {
    "editable": true
   },
   "source": [
    "with $L=1$ the length of the $x$-region of interest."
   ]
  },
  {
   "cell_type": "markdown",
   "id": "46a985e7",
   "metadata": {
    "editable": true
   },
   "source": [
    "## Explicit Scheme, boundary conditions\n",
    "The  boundary conditions are"
   ]
  },
  {
   "cell_type": "markdown",
   "id": "155b38ce",
   "metadata": {
    "editable": true
   },
   "source": [
    "$$\n",
    "u(0,t)= a(t) \\hspace{0.5cm} t \\ge 0,\n",
    "$$"
   ]
  },
  {
   "cell_type": "markdown",
   "id": "607e24c0",
   "metadata": {
    "editable": true
   },
   "source": [
    "and"
   ]
  },
  {
   "cell_type": "markdown",
   "id": "6df957f7",
   "metadata": {
    "editable": true
   },
   "source": [
    "$$\n",
    "u(L,t)= b(t) \\hspace{0.5cm} t \\ge 0,\n",
    "$$"
   ]
  },
  {
   "cell_type": "markdown",
   "id": "bf978427",
   "metadata": {
    "editable": true
   },
   "source": [
    "where $a(t)$ and $b(t)$ are two functions which depend on time only, while\n",
    "$g(x)$ depends only on the position $x$.\n",
    "Our next step is to find a numerical algorithm for solving this equation. Here we recur\n",
    "to our familiar equal-step methods\n",
    "and introduce different step lengths for the space-variable $x$ and time $t$ through\n",
    "the  step length for $x$"
   ]
  },
  {
   "cell_type": "markdown",
   "id": "5c542d93",
   "metadata": {
    "editable": true
   },
   "source": [
    "$$\n",
    "\\Delta x=\\frac{1}{n+1}\n",
    "$$"
   ]
  },
  {
   "cell_type": "markdown",
   "id": "4417dcb7",
   "metadata": {
    "editable": true
   },
   "source": [
    "and the time step length $\\Delta t$. The position after $i$ steps and\n",
    "time at time-step $j$ are now given by"
   ]
  },
  {
   "cell_type": "markdown",
   "id": "abf11a80",
   "metadata": {
    "editable": true
   },
   "source": [
    "$$\n",
    "\\begin{array}{cc} t_j=j\\Delta t & j \\ge 0 \\\\\n",
    "                  x_i=i\\Delta x & 0 \\le i \\le n+1\\end{array}\n",
    "$$"
   ]
  },
  {
   "cell_type": "markdown",
   "id": "020e235c",
   "metadata": {
    "editable": true
   },
   "source": [
    "## Explicit Scheme, algorithm\n",
    "If we use standard approximations for the derivatives we obtain"
   ]
  },
  {
   "cell_type": "markdown",
   "id": "10b7fdca",
   "metadata": {
    "editable": true
   },
   "source": [
    "$$\n",
    "u_t\\approx \\frac{u(x,t+\\Delta t)-u(x,t)}{\\Delta t}=\\frac{u(x_i,t_j+\\Delta t)-u(x_i,t_j)}{\\Delta t}\n",
    "$$"
   ]
  },
  {
   "cell_type": "markdown",
   "id": "b55de170",
   "metadata": {
    "editable": true
   },
   "source": [
    "with a local approximation error $O(\\Delta t)$  \n",
    "and"
   ]
  },
  {
   "cell_type": "markdown",
   "id": "3a0fdb27",
   "metadata": {
    "editable": true
   },
   "source": [
    "$$\n",
    "u_{xx}\\approx \\frac{u(x+\\Delta x,t)-2u(x,t)+u(x-\\Delta x,t)}{\\Delta x^2},\n",
    "$$"
   ]
  },
  {
   "cell_type": "markdown",
   "id": "9496d7a7",
   "metadata": {
    "editable": true
   },
   "source": [
    "or"
   ]
  },
  {
   "cell_type": "markdown",
   "id": "8c16ee66",
   "metadata": {
    "editable": true
   },
   "source": [
    "$$\n",
    "u_{xx}\\approx \\frac{u(x_i+\\Delta x,t_j)-2u(x_i,t_j)+u(x_i-\\Delta x,t_j)}{\\Delta x^2},\n",
    "$$"
   ]
  },
  {
   "cell_type": "markdown",
   "id": "71d5fb68",
   "metadata": {
    "editable": true
   },
   "source": [
    "with a local approximation error $O(\\Delta x^2)$. Our approximation is to higher order\n",
    "in coordinate space. This can be justified since in most cases it is the spatial\n",
    "dependence which causes numerical problems."
   ]
  },
  {
   "cell_type": "markdown",
   "id": "0f6c1ce5",
   "metadata": {
    "editable": true
   },
   "source": [
    "## Explicit Scheme, simplifications\n",
    "These equations can be further simplified as"
   ]
  },
  {
   "cell_type": "markdown",
   "id": "cbc2851e",
   "metadata": {
    "editable": true
   },
   "source": [
    "$$\n",
    "u_t\\approx \\frac{u_{i,j+1}-u_{i,j}}{\\Delta t},\n",
    "$$"
   ]
  },
  {
   "cell_type": "markdown",
   "id": "8ebfef27",
   "metadata": {
    "editable": true
   },
   "source": [
    "and"
   ]
  },
  {
   "cell_type": "markdown",
   "id": "67db0529",
   "metadata": {
    "editable": true
   },
   "source": [
    "$$\n",
    "u_{xx}\\approx \\frac{u_{i+1,j}-2u_{i,j}+u_{i-1,j}}{\\Delta x^2}.\n",
    "$$"
   ]
  },
  {
   "cell_type": "markdown",
   "id": "3609a573",
   "metadata": {
    "editable": true
   },
   "source": [
    "The one-dimensional diffusion equation can then be rewritten in its\n",
    "discretized version as"
   ]
  },
  {
   "cell_type": "markdown",
   "id": "a50a35c5",
   "metadata": {
    "editable": true
   },
   "source": [
    "$$\n",
    "\\frac{u_{i,j+1}-u_{i,j}}{\\Delta t}=\\frac{u_{i+1,j}-2u_{i,j}+u_{i-1,j}}{\\Delta x^2}.\n",
    "$$"
   ]
  },
  {
   "cell_type": "markdown",
   "id": "ad4b8f51",
   "metadata": {
    "editable": true
   },
   "source": [
    "Defining $\\alpha = \\Delta t/\\Delta x^2$ results in the explicit scheme"
   ]
  },
  {
   "cell_type": "markdown",
   "id": "ecac867e",
   "metadata": {
    "editable": true
   },
   "source": [
    "<!-- Equation labels as ordinary links -->\n",
    "<div id=\"eq:explicitpde\"></div>\n",
    "\n",
    "$$\n",
    "\\begin{equation}\n",
    "\\label{eq:explicitpde} \\tag{24}\n",
    " u_{i,j+1}= \\alpha u_{i-1,j}+(1-2\\alpha)u_{i,j}+\\alpha u_{i+1,j}.\n",
    "\\end{equation}\n",
    "$$"
   ]
  },
  {
   "cell_type": "markdown",
   "id": "2e7a903a",
   "metadata": {
    "editable": true
   },
   "source": [
    "## Explicit Scheme, solving the equations\n",
    "Since all the discretized initial values"
   ]
  },
  {
   "cell_type": "markdown",
   "id": "383054f5",
   "metadata": {
    "editable": true
   },
   "source": [
    "$$\n",
    "u_{i,0} = g(x_i),\n",
    "$$"
   ]
  },
  {
   "cell_type": "markdown",
   "id": "4da159c3",
   "metadata": {
    "editable": true
   },
   "source": [
    "are known, then after one time-step the only unknown quantity is\n",
    "$u_{i,1}$ which is given by"
   ]
  },
  {
   "cell_type": "markdown",
   "id": "7b8d217f",
   "metadata": {
    "editable": true
   },
   "source": [
    "$$\n",
    "u_{i,1}= \\alpha u_{i-1,0}+(1-2\\alpha)u_{i,0}+\\alpha u_{i+1,0}=\n",
    "\\alpha g(x_{i-1})+(1-2\\alpha)g(x_{i})+\\alpha g(x_{i+1}).\n",
    "$$"
   ]
  },
  {
   "cell_type": "markdown",
   "id": "49b5d9d4",
   "metadata": {
    "editable": true
   },
   "source": [
    "We can then obtain $u_{i,2}$ using the previously calculated values $u_{i,1}$\n",
    "and the boundary conditions $a(t)$ and $b(t)$. \n",
    "This algorithm results in a so-called explicit scheme, since the next functions\n",
    "$u_{i,j+1}$ are explicitely given by Eq. ([24](#eq:explicitpde))."
   ]
  },
  {
   "cell_type": "markdown",
   "id": "953fcb17",
   "metadata": {
    "editable": true
   },
   "source": [
    "## Explicit Scheme, simple case\n",
    "We specialize to the case\n",
    "$a(t)=b(t)=0$ which results in  $u_{0,j}=u_{n+1,j}=0$.\n",
    "We can then reformulate our partial differential equation through the vector \n",
    "$V_j$ at the time  $t_j=j\\Delta t$"
   ]
  },
  {
   "cell_type": "markdown",
   "id": "c27df835",
   "metadata": {
    "editable": true
   },
   "source": [
    "$$\n",
    "V_j=\\begin{bmatrix}u_{1,j}\\\\ u_{2,j} \\\\ \\dots \\\\ u_{n,j}\\end{bmatrix}.\n",
    "$$"
   ]
  },
  {
   "cell_type": "markdown",
   "id": "b6e8d748",
   "metadata": {
    "editable": true
   },
   "source": [
    "## Explicit Scheme, matrix-vector formulation\n",
    "This results in a matrix-vector multiplication"
   ]
  },
  {
   "cell_type": "markdown",
   "id": "105defa5",
   "metadata": {
    "editable": true
   },
   "source": [
    "$$\n",
    "V_{j+1} = \\mathbf{A}V_{j}\n",
    "$$"
   ]
  },
  {
   "cell_type": "markdown",
   "id": "66e1ad41",
   "metadata": {
    "editable": true
   },
   "source": [
    "with the matrix $\\mathbf{A}$ given by"
   ]
  },
  {
   "cell_type": "markdown",
   "id": "a2563ad5",
   "metadata": {
    "editable": true
   },
   "source": [
    "$$\n",
    "\\mathbf{A}=\\begin{bmatrix}1-2\\alpha&\\alpha&0& 0\\dots\\\\ \n",
    "                            \\alpha&1-2\\alpha&\\alpha & 0\\dots \\\\ \n",
    "                            \\dots & \\dots & \\dots & \\dots \\\\\n",
    "                      0\\dots & 0\\dots &\\alpha& 1-2\\alpha\\end{bmatrix}\n",
    "$$"
   ]
  },
  {
   "cell_type": "markdown",
   "id": "c5e90e9b",
   "metadata": {
    "editable": true
   },
   "source": [
    "which means we can rewrite the original partial differential equation as\n",
    "a set of matrix-vector multiplications"
   ]
  },
  {
   "cell_type": "markdown",
   "id": "fc2dbdc0",
   "metadata": {
    "editable": true
   },
   "source": [
    "$$\n",
    "V_{j+1} = \\mathbf{A}V_{j}=\\dots = \\mathbf{A}^{j+1}V_0,\n",
    "$$"
   ]
  },
  {
   "cell_type": "markdown",
   "id": "1f2cc5c8",
   "metadata": {
    "editable": true
   },
   "source": [
    "where $V_0$ is the initial vector at time $t=0$ defined by the initial value\n",
    "$g(x)$. \n",
    "In the numerical implementation \n",
    "one should avoid to treat this problem as a matrix vector multiplication\n",
    "since the matrix is triangular and at most three elements in each row are different from zero."
   ]
  },
  {
   "cell_type": "markdown",
   "id": "af8c5375",
   "metadata": {
    "editable": true
   },
   "source": [
    "## Explicit Scheme, sketch of code\n",
    "It is rather easy to implement this matrix-vector multiplication as seen in the following piece of code"
   ]
  },
  {
   "cell_type": "markdown",
   "id": "5451676c",
   "metadata": {
    "editable": true
   },
   "source": [
    "        //  First we set initialise the new and old vectors\n",
    "        //  Here we have chosen the boundary conditions to be zero.\n",
    "        //  n+1 is the number of mesh points in x\n",
    "        //  Armadillo notation for vectors\n",
    "            u(0) = unew(0) = u(n) = unew(n) = 0.0;\n",
    "            for (int i = 1; i < n; i++) {\n",
    "              x =  i*step;\n",
    "              //  initial condition\n",
    "              u(i) =  func(x);\n",
    "              //  intitialise the new vector \n",
    "              unew(i) = 0;\n",
    "            }\n",
    "           // Time integration\n",
    "           for (int t = 1; t <= tsteps; t++) {\n",
    "              for (int i = 1; i < n; i++) {\n",
    "                 // Discretized diff eq\n",
    "                 unew(i) = alpha * u(i-1) + (1 - 2*alpha) * u(i) + alpha * u(i+1);\n",
    "              }\n",
    "           //  note that the boundaries are not changed.\n"
   ]
  },
  {
   "cell_type": "markdown",
   "id": "c7598147",
   "metadata": {
    "editable": true
   },
   "source": [
    "## Explicit Scheme, stability condition\n",
    "However, although the explicit scheme is easy to implement, it has a very weak \n",
    "stability condition,  given by"
   ]
  },
  {
   "cell_type": "markdown",
   "id": "95cdd46d",
   "metadata": {
    "editable": true
   },
   "source": [
    "$$\n",
    "\\Delta t/\\Delta x^2 \\le 1/2.\n",
    "$$"
   ]
  },
  {
   "cell_type": "markdown",
   "id": "7a1b9e24",
   "metadata": {
    "editable": true
   },
   "source": [
    "This means that if $\\Delta x = 0.01$ (a rather frequent choice), then $\\Delta t= 5\\times 10^{-5}$. This has obviously \n",
    "bad consequences if our time interval is large.\n",
    "In order to derive this relation we need some results from studies of iterative schemes. \n",
    "If we require that our solution approaches a definite value after \n",
    "a certain amount of time steps we need to require that the so-called\n",
    "spectral radius $\\rho(\\mathbf{A})$ of our matrix $\\mathbf{A}$ satisfies the condition"
   ]
  },
  {
   "cell_type": "markdown",
   "id": "475b7d46",
   "metadata": {
    "editable": true
   },
   "source": [
    "<!-- Equation labels as ordinary links -->\n",
    "<div id=\"eq:rhoconverge\"></div>\n",
    "\n",
    "$$\n",
    "\\begin{equation}\n",
    "\\label{eq:rhoconverge} \\tag{25}\n",
    "   \\rho(\\mathbf{A}) < 1.\n",
    "\\end{equation}\n",
    "$$"
   ]
  },
  {
   "cell_type": "markdown",
   "id": "13c8a4e0",
   "metadata": {
    "editable": true
   },
   "source": [
    "## Explicit Scheme, spectral radius and stability\n",
    "The spectral radius is defined \n",
    "as"
   ]
  },
  {
   "cell_type": "markdown",
   "id": "3c4c34aa",
   "metadata": {
    "editable": true
   },
   "source": [
    "$$\n",
    "\\rho(\\mathbf{A}) = \\hspace{0.1cm}\\mathrm{max}\\left\\{|\\lambda|:\\mathrm{det}(\\mathbf{A}-\\lambda\\hat{I})=0\\right\\},\n",
    "$$"
   ]
  },
  {
   "cell_type": "markdown",
   "id": "c1c55b74",
   "metadata": {
    "editable": true
   },
   "source": [
    "which is interpreted as the smallest number such that a circle  with radius centered at zero in the complex plane\n",
    "contains all eigenvalues of $\\mathbf{A}$. If the matrix is positive definite, the condition in \n",
    "Eq. ([25](#eq:rhoconverge)) is always satisfied."
   ]
  },
  {
   "cell_type": "markdown",
   "id": "0898a36e",
   "metadata": {
    "editable": true
   },
   "source": [
    "## Explicit Scheme, eigenvalues and stability\n",
    "We can obtain closed-form expressions for the  eigenvalues of $\\mathbf{A}$. To achieve this it is convenient\n",
    "to rewrite the matrix as"
   ]
  },
  {
   "cell_type": "markdown",
   "id": "573c8604",
   "metadata": {
    "editable": true
   },
   "source": [
    "$$\n",
    "\\mathbf{A}=\\hat{I}-\\alpha\\hat{B},\n",
    "$$"
   ]
  },
  {
   "cell_type": "markdown",
   "id": "13f19602",
   "metadata": {
    "editable": true
   },
   "source": [
    "with"
   ]
  },
  {
   "cell_type": "markdown",
   "id": "28c3f393",
   "metadata": {
    "editable": true
   },
   "source": [
    "$$\n",
    "\\hat{B} =\\begin{bmatrix}2&-1&0& 0 &\\dots\\\\ \n",
    "                           -1&2&-1& 0&\\dots \\\\ \n",
    "                            \\dots & \\dots & \\dots & \\dots & -1 \\\\\n",
    "                      0 & 0 &\\dots &-1&2\\end{bmatrix}.\n",
    "$$"
   ]
  },
  {
   "cell_type": "markdown",
   "id": "1cdf6a29",
   "metadata": {
    "editable": true
   },
   "source": [
    "## Explicit Scheme, final stability analysis\n",
    "The eigenvalues of $\\mathbf{A}$ are $\\lambda_i=1-\\alpha\\mu_i$, with $\\mu_i$ being the\n",
    "eigenvalues of $\\hat{B}$. To find $\\mu_i$ we note that the matrix elements of $\\hat{B}$ are"
   ]
  },
  {
   "cell_type": "markdown",
   "id": "95212156",
   "metadata": {
    "editable": true
   },
   "source": [
    "$$\n",
    "b_{ij} = 2\\delta_{ij}-\\delta_{i+1j}-\\delta_{i-1j},\n",
    "$$"
   ]
  },
  {
   "cell_type": "markdown",
   "id": "d154c996",
   "metadata": {
    "editable": true
   },
   "source": [
    "meaning that we \n",
    "have the following set of eigenequations for component $i$"
   ]
  },
  {
   "cell_type": "markdown",
   "id": "8ea249d0",
   "metadata": {
    "editable": true
   },
   "source": [
    "$$\n",
    "(\\hat{B}\\hat{x})_i = \\mu_ix_i,\n",
    "$$"
   ]
  },
  {
   "cell_type": "markdown",
   "id": "e68e8851",
   "metadata": {
    "editable": true
   },
   "source": [
    "resulting in"
   ]
  },
  {
   "cell_type": "markdown",
   "id": "beb6750e",
   "metadata": {
    "editable": true
   },
   "source": [
    "$$\n",
    "(\\hat{B}\\hat{x})_i=\\sum_{j=1}^n\\left(2\\delta_{ij}-\\delta_{i+1j}-\\delta_{i-1j}\\right)x_j =\n",
    "2x_i-x_{i+1}-x_{i-1}=\\mu_ix_i.\n",
    "$$"
   ]
  },
  {
   "cell_type": "markdown",
   "id": "96dadc12",
   "metadata": {
    "editable": true
   },
   "source": [
    "## Explicit Scheme, stability condition\n",
    "If we assume that $x$ can be expanded in a basis of $x=(\\sin{(\\theta)}, \\sin{(2\\theta)},\\dots, \\sin{(n\\theta)})$\n",
    "with $\\theta = l\\pi/n+1$, where we have the endpoints given by $x_0 = 0$ and $x_{n+1}=0$, we can rewrite the \n",
    "last equation as"
   ]
  },
  {
   "cell_type": "markdown",
   "id": "309da643",
   "metadata": {
    "editable": true
   },
   "source": [
    "$$\n",
    "2\\sin{(i\\theta)}-\\sin{((i+1)\\theta)}-\\sin{((i-1)\\theta)}=\\mu_i\\sin{(i\\theta)},\n",
    "$$"
   ]
  },
  {
   "cell_type": "markdown",
   "id": "3e2030fb",
   "metadata": {
    "editable": true
   },
   "source": [
    "or"
   ]
  },
  {
   "cell_type": "markdown",
   "id": "74cbd1a4",
   "metadata": {
    "editable": true
   },
   "source": [
    "$$\n",
    "2\\left(1-\\cos{(\\theta)}\\right)\\sin{(i\\theta)}=\\mu_i\\sin{(i\\theta)},\n",
    "$$"
   ]
  },
  {
   "cell_type": "markdown",
   "id": "ec496681",
   "metadata": {
    "editable": true
   },
   "source": [
    "which is nothing but"
   ]
  },
  {
   "cell_type": "markdown",
   "id": "18dc28c2",
   "metadata": {
    "editable": true
   },
   "source": [
    "$$\n",
    "2\\left(1-\\cos{(\\theta)}\\right)x_i=\\mu_ix_i,\n",
    "$$"
   ]
  },
  {
   "cell_type": "markdown",
   "id": "ae15fb5a",
   "metadata": {
    "editable": true
   },
   "source": [
    "with eigenvalues $\\mu_i = 2-2\\cos{(\\theta)}$. \n",
    "\n",
    "Our requirement in \n",
    "Eq. ([25](#eq:rhoconverge)) results in"
   ]
  },
  {
   "cell_type": "markdown",
   "id": "d6c78622",
   "metadata": {
    "editable": true
   },
   "source": [
    "$$\n",
    "-1 < 1-\\alpha2\\left(1-\\cos{(\\theta)}\\right) < 1,\n",
    "$$"
   ]
  },
  {
   "cell_type": "markdown",
   "id": "c771cf4f",
   "metadata": {
    "editable": true
   },
   "source": [
    "which is satisfied only if $\\alpha < \\left(1-\\cos{(\\theta)}\\right)^{-1}$ resulting in\n",
    "$\\alpha \\le 1/2$ or $\\Delta t/\\Delta x^2 \\le 1/2$."
   ]
  },
  {
   "cell_type": "markdown",
   "id": "cf3d111d",
   "metadata": {
    "editable": true
   },
   "source": [
    "## Explicit Scheme, general tridiagonal matrix\n",
    "A more general tridiagonal matrix"
   ]
  },
  {
   "cell_type": "markdown",
   "id": "d5d0739d",
   "metadata": {
    "editable": true
   },
   "source": [
    "$$\n",
    "\\mathbf{A} =\\begin{bmatrix}a&b&0& 0 &\\dots\\\\ \n",
    "                           c&a&b& 0&\\dots \\\\ \n",
    "                            \\dots & \\dots & \\dots & \\dots & b \\\\\n",
    "                      0 & 0 &\\dots &c&a\\end{bmatrix},\n",
    "$$"
   ]
  },
  {
   "cell_type": "markdown",
   "id": "87ce4b78",
   "metadata": {
    "editable": true
   },
   "source": [
    "has eigenvalues $\\mu_i=a+s\\sqrt{bc}\\cos{(i\\pi/n+1)}$ with $i=1:n$."
   ]
  },
  {
   "cell_type": "markdown",
   "id": "34786868",
   "metadata": {
    "editable": true
   },
   "source": [
    "## Implicit Scheme\n",
    "In deriving the equations for the explicit scheme we started with the so-called \n",
    "forward formula for the first derivative, i.e., we used the discrete approximation"
   ]
  },
  {
   "cell_type": "markdown",
   "id": "40b700c3",
   "metadata": {
    "editable": true
   },
   "source": [
    "$$\n",
    "u_t\\approx \\frac{u(x_i,t_j+\\Delta t)-u(x_i,t_j)}{\\Delta t}.\n",
    "$$"
   ]
  },
  {
   "cell_type": "markdown",
   "id": "efed07fd",
   "metadata": {
    "editable": true
   },
   "source": [
    "However, there is nothing which hinders us from using the backward formula"
   ]
  },
  {
   "cell_type": "markdown",
   "id": "5aad78d2",
   "metadata": {
    "editable": true
   },
   "source": [
    "$$\n",
    "u_t\\approx \\frac{u(x_i,t_j)-u(x_i,t_j-\\Delta t)}{\\Delta t},\n",
    "$$"
   ]
  },
  {
   "cell_type": "markdown",
   "id": "b1754886",
   "metadata": {
    "editable": true
   },
   "source": [
    "still with a truncation error which goes like $O(\\Delta t)$."
   ]
  },
  {
   "cell_type": "markdown",
   "id": "df5dec3f",
   "metadata": {
    "editable": true
   },
   "source": [
    "## Implicit Scheme\n",
    "We could also have used a midpoint approximation for the first derivative, resulting in"
   ]
  },
  {
   "cell_type": "markdown",
   "id": "98e44ee1",
   "metadata": {
    "editable": true
   },
   "source": [
    "$$\n",
    "u_t\\approx \\frac{u(x_i,t_j+\\Delta t)-u(x_i,t_j-\\Delta t)}{2\\Delta t},\n",
    "$$"
   ]
  },
  {
   "cell_type": "markdown",
   "id": "a1228d38",
   "metadata": {
    "editable": true
   },
   "source": [
    "with a truncation error $O(\\Delta t^2)$. \n",
    "Here we will stick to the backward formula and come back to the latter below. \n",
    "For the second derivative we use however"
   ]
  },
  {
   "cell_type": "markdown",
   "id": "a36e5062",
   "metadata": {
    "editable": true
   },
   "source": [
    "$$\n",
    "u_{xx}\\approx \\frac{u(x_i+\\Delta x,t_j)-2u(x_i,t_j)+u(x_i-\\Delta x,t_j)}{\\Delta x^2},\n",
    "$$"
   ]
  },
  {
   "cell_type": "markdown",
   "id": "80534ab0",
   "metadata": {
    "editable": true
   },
   "source": [
    "and define again $\\alpha = \\Delta t/\\Delta x^2$."
   ]
  },
  {
   "cell_type": "markdown",
   "id": "e2f0a5ce",
   "metadata": {
    "editable": true
   },
   "source": [
    "## Implicit Scheme\n",
    "We obtain now"
   ]
  },
  {
   "cell_type": "markdown",
   "id": "727e5d51",
   "metadata": {
    "editable": true
   },
   "source": [
    "$$\n",
    "u_{i,j-1}= -\\alpha u_{i-1,j}+(1-2\\alpha)u_{i,j}-\\alpha u_{i+1,j}.\n",
    "$$"
   ]
  },
  {
   "cell_type": "markdown",
   "id": "e2bdad45",
   "metadata": {
    "editable": true
   },
   "source": [
    "Here $u_{i,j-1}$ is the only unknown quantity. \n",
    "Defining the matrix \n",
    "$\\mathbf{A}$"
   ]
  },
  {
   "cell_type": "markdown",
   "id": "72bd73a9",
   "metadata": {
    "editable": true
   },
   "source": [
    "$$\n",
    "\\mathbf{A}=\\begin{bmatrix}1+2\\alpha&-\\alpha&0& 0 &\\dots\\\\ \n",
    "                            -\\alpha&1+2\\alpha&-\\alpha & 0 & \\dots \\\\ \n",
    "                            \\dots & \\dots & \\dots & \\dots &\\dots  \\\\\n",
    "                            \\dots & \\dots & \\dots & \\dots & -\\alpha \\\\\n",
    "                      0 & 0 &\\dots &-\\alpha& 1+2\\alpha\\end{bmatrix},\n",
    "$$"
   ]
  },
  {
   "cell_type": "markdown",
   "id": "636c9ed3",
   "metadata": {
    "editable": true
   },
   "source": [
    "we can reformulate again the problem as a matrix-vector multiplication"
   ]
  },
  {
   "cell_type": "markdown",
   "id": "ff070f15",
   "metadata": {
    "editable": true
   },
   "source": [
    "$$\n",
    "\\mathbf{A}V_{j} = V_{j-1}\n",
    "$$"
   ]
  },
  {
   "cell_type": "markdown",
   "id": "b57db974",
   "metadata": {
    "editable": true
   },
   "source": [
    "## Implicit Scheme\n",
    "It means that we can rewrite the problem as"
   ]
  },
  {
   "cell_type": "markdown",
   "id": "7eec7b47",
   "metadata": {
    "editable": true
   },
   "source": [
    "$$\n",
    "V_{j} = \\mathbf{A}^{-1}V_{j-1}=\\mathbf{A}^{-1}\\left(\\mathbf{A}^{-1}V_{j-2}\\right)=\\dots = \\mathbf{A}^{-j}V_0.\n",
    "$$"
   ]
  },
  {
   "cell_type": "markdown",
   "id": "3d8aee3a",
   "metadata": {
    "editable": true
   },
   "source": [
    "This is an implicit scheme since it relies on determining the vector\n",
    "$u_{i,j-1}$ instead of $u_{i,j+1}$.\n",
    "If $\\alpha$ does not depend on time $t$, we need \n",
    "to invert a matrix only once. Alternatively we can solve this system of equations using our methods\n",
    "from linear algebra.\n",
    "These are however very cumbersome ways of solving since they involve $\\sim O(N^3)$ operations \n",
    "for  a $N\\times N$ matrix. \n",
    "It is much faster to solve these linear equations using methods for tridiagonal matrices,\n",
    "since these involve only $\\sim O(N)$ operations."
   ]
  },
  {
   "cell_type": "markdown",
   "id": "4380ebac",
   "metadata": {
    "editable": true
   },
   "source": [
    "## Implicit Scheme\n",
    "The implicit scheme is always stable since the spectral radius satisfies $\\rho(\\mathbf{A}) < 1 $. We could have inferred this by noting that \n",
    "the matrix is positive definite, viz. all eigenvalues are larger than zero. We see this from\n",
    "the fact that $\\mathbf{A}=\\hat{I}+\\alpha\\hat{B}$ has eigenvalues\n",
    "$\\lambda_i = 1+\\alpha(2-2cos(\\theta))$ which satisfy $\\lambda_i > 1$. Since it is the inverse which stands\n",
    "to the right of our iterative equation, we have $\\rho(\\mathbf{A}^{-1}) < 1 $ \n",
    "and the method is stable for all combinations\n",
    "of $\\Delta t$ and $\\Delta x$."
   ]
  },
  {
   "cell_type": "markdown",
   "id": "1685649a",
   "metadata": {
    "editable": true
   },
   "source": [
    "### Program Example for Implicit Equation\n",
    "\n",
    "We show here parts of a  simple example of how to solve the one-dimensional diffusion equation using the implicit\n",
    "scheme discussed above. The program uses the function to solve linear equations with a tridiagonal \n",
    "matrix."
   ]
  },
  {
   "cell_type": "markdown",
   "id": "f503c957",
   "metadata": {
    "editable": true
   },
   "source": [
    "        //  parts of the function for backward Euler\n",
    "        void backward_euler(int n, int tsteps, double delta_x, double alpha)\n",
    "        {\n",
    "           double a, b, c;\n",
    "           vec u(n+1); // This is u  of Au = y\n",
    "           vec y(n+1); // Right side of matrix equation Au=y, the solution at a previous step\n",
    "           \n",
    "           // Initial conditions\n",
    "           for (int i = 1; i < n; i++) {\n",
    "              y(i) = u(i) = func(delta_x*i);\n",
    "           }\n",
    "           // Boundary conditions (zero here)\n",
    "           y(n) = u(n) = u(0) = y(0);\n",
    "           // Matrix A, only constants\n",
    "           a = c = - alpha;\n",
    "           b = 1 + 2*alpha;\n",
    "           // Time iteration\n",
    "           for (int t = 1; t <= tsteps; t++) {\n",
    "              //  here we solve the tridiagonal linear set of equations, \n",
    "              tridag(a, b, c, y, u, n+1);\n",
    "              // boundary conditions\n",
    "              u(0) = 0;\n",
    "              u(n) = 0;\n",
    "              // replace previous time solution with new\n",
    "              for (int i = 0; i <= n; i++) {\n",
    "        \t y(i) = u(i);\n",
    "              }\n",
    "              //  You may consider printing the solution at regular time intervals\n",
    "              ....   // print statements\n",
    "           }  // end time iteration\n",
    "           ...\n",
    "        }\n"
   ]
  },
  {
   "cell_type": "markdown",
   "id": "d3d555f6",
   "metadata": {
    "editable": true
   },
   "source": [
    "## Crank-Nicolson scheme\n",
    "It is possible to combine the implicit and explicit methods in a slightly more general\n",
    "approach. Introducing a parameter $\\theta$ (the so-called $\\theta$-rule) we can set up \n",
    "an equation"
   ]
  },
  {
   "cell_type": "markdown",
   "id": "6d6871fe",
   "metadata": {
    "editable": true
   },
   "source": [
    "<!-- Equation labels as ordinary links -->\n",
    "<div id=\"eq:cranknicolson\"></div>\n",
    "\n",
    "$$\n",
    "\\begin{equation}\n",
    "\\label{eq:cranknicolson} \\tag{26}\n",
    "  \\frac{\\theta}{\\Delta x^2}\\left(u_{i-1,j}-2u_{i,j}+u_{i+1,j}\\right)+\n",
    "  \\frac{1-\\theta}{\\Delta x^2}\\left(u_{i+1,j-1}-2u_{i,j-1}+u_{i-1,j-1}\\right)=\n",
    "  \\frac{1}{\\Delta t}\\left(u_{i,j}-u_{i,j-1}\\right),\n",
    "\\end{equation}\n",
    "$$"
   ]
  },
  {
   "cell_type": "markdown",
   "id": "5de0957c",
   "metadata": {
    "editable": true
   },
   "source": [
    "which for $\\theta=0$ yields the forward formula for the first derivative and\n",
    "the explicit scheme, while $\\theta=1$ yields the backward formula and the implicit\n",
    "scheme. These two schemes are called the backward and forward Euler schemes, respectively.\n",
    "For $\\theta = 1/2$ we obtain a new scheme after its inventors, Crank and Nicolson.\n",
    "This scheme yields a truncation in time which goes like $O(\\Delta t^2)$ and it is stable \n",
    "for all possible combinations of $\\Delta t$ and $\\Delta x$."
   ]
  },
  {
   "cell_type": "markdown",
   "id": "36ba57f5",
   "metadata": {
    "editable": true
   },
   "source": [
    "## Derivation of CN scheme\n",
    "To derive the Crank-Nicolson equation, \n",
    "we start with the forward Euler scheme and Taylor expand $u(x,t+\\Delta t)$,\n",
    "$u(x+\\Delta x, t)$ and $u(x-\\Delta x,t)$"
   ]
  },
  {
   "cell_type": "markdown",
   "id": "e7a0b22e",
   "metadata": {
    "editable": true
   },
   "source": [
    "<!-- Equation labels as ordinary links -->\n",
    "<div id=\"_auto3\"></div>\n",
    "\n",
    "$$\n",
    "\\begin{equation}\n",
    "u(x+\\Delta x,t)=u(x,t)+\\frac{\\partial u(x,t)}{\\partial x} \\Delta x+\\frac{\\partial^2 u(x,t)}{2\\partial x^2}\\Delta x^2+\\mathcal{O}(\\Delta x^3),\n",
    "\\label{_auto3} \\tag{27}\n",
    "\\end{equation}\n",
    "$$"
   ]
  },
  {
   "cell_type": "markdown",
   "id": "1f8fc2eb",
   "metadata": {
    "editable": true
   },
   "source": [
    "$$\n",
    "\\nonumber\n",
    "u(x-\\Delta x,t)=u(x,t)-\\frac{\\partial u(x,t)}{\\partial x}\\Delta x+\\frac{\\partial^2 u(x,t)}{2\\partial x^2} \\Delta x^2+\\mathcal{O}(\\Delta x^3),\n",
    "$$"
   ]
  },
  {
   "cell_type": "markdown",
   "id": "a5de3157",
   "metadata": {
    "editable": true
   },
   "source": [
    "<!-- Equation labels as ordinary links -->\n",
    "<div id=\"eq:deltat0\"></div>\n",
    "\n",
    "$$\n",
    "\\nonumber\n",
    "u(x,t+\\Delta t)=u(x,t)+\\frac{\\partial u(x,t)}{\\partial t}\\Delta t+  \\mathcal{O}(\\Delta t^2).\n",
    "\\label{eq:deltat0} \\tag{28}\n",
    "$$"
   ]
  },
  {
   "cell_type": "markdown",
   "id": "285c8c03",
   "metadata": {
    "editable": true
   },
   "source": [
    "## Taylor expansions\n",
    "With these Taylor expansions the approximations for the derivatives takes the form"
   ]
  },
  {
   "cell_type": "markdown",
   "id": "6e7f2f4c",
   "metadata": {
    "editable": true
   },
   "source": [
    "<!-- Equation labels as ordinary links -->\n",
    "<div id=\"_auto4\"></div>\n",
    "\n",
    "$$\n",
    "\\begin{equation}\n",
    "\\left[\\frac{\\partial u(x,t)}{\\partial t}\\right]_{\\text{approx}} =\\frac{\\partial u(x,t)}{\\partial t}+\\mathcal{O}(\\Delta t) , \n",
    "\\label{_auto4} \\tag{29}\n",
    "\\end{equation}\n",
    "$$"
   ]
  },
  {
   "cell_type": "markdown",
   "id": "23e5f7cc",
   "metadata": {
    "editable": true
   },
   "source": [
    "$$\n",
    "\\nonumber\n",
    "\\left[\\frac{\\partial^2 u(x,t)}{\\partial x^2}\\right]_{\\text{approx}}=\\frac{\\partial^2 u(x,t)}{\\partial x^2}+\\mathcal{O}(\\Delta x^2).\n",
    "$$"
   ]
  },
  {
   "cell_type": "markdown",
   "id": "811d4ad3",
   "metadata": {
    "editable": true
   },
   "source": [
    "It is easy to convince oneself that the backward Euler method must have the same truncation errors as the forward Euler scheme."
   ]
  },
  {
   "cell_type": "markdown",
   "id": "3d4f0a21",
   "metadata": {
    "editable": true
   },
   "source": [
    "## Error in CN scheme\n",
    "For the Crank-Nicolson scheme we also need to Taylor expand $u(x+\\Delta x, t+\\Delta t)$ and $u(x-\\Delta x, t+\\Delta t)$ around $t'=t+\\Delta t/2$."
   ]
  },
  {
   "cell_type": "markdown",
   "id": "4db420fa",
   "metadata": {
    "editable": true
   },
   "source": [
    "<!-- Equation labels as ordinary links -->\n",
    "<div id=\"_auto5\"></div>\n",
    "\n",
    "$$\n",
    "\\begin{equation}\n",
    "u(x+\\Delta x, t+\\Delta t)=u(x,t')+\\frac{\\partial u(x,t')}{\\partial x}\\Delta x+\\frac{\\partial u(x,t')}{\\partial t} \\frac{\\Delta t}{2} +\\frac{\\partial^2 u(x,t')}{2\\partial x^2}\\Delta x^2+\\frac{\\partial^2 u(x,t')}{2\\partial t^2}\\frac{\\Delta t^2}{4} +\\notag \n",
    "\\label{_auto5} \\tag{30}\n",
    "\\end{equation}\n",
    "$$"
   ]
  },
  {
   "cell_type": "markdown",
   "id": "01974295",
   "metadata": {
    "editable": true
   },
   "source": [
    "$$\n",
    "\\nonumber\n",
    "\\frac{\\partial^2 u(x,t')}{\\partial x\\partial t}\\frac{\\Delta t}{2} \\Delta x+ \\mathcal{O}(\\Delta t^3)\n",
    "$$"
   ]
  },
  {
   "cell_type": "markdown",
   "id": "8c1988e5",
   "metadata": {
    "editable": true
   },
   "source": [
    "$$\n",
    "\\nonumber\n",
    "u(x-\\Delta x, t+\\Delta t)=u(x,t')-\\frac{\\partial u(x,t')}{\\partial x}\\Delta x+\\frac{\\partial u(x,t')}{\\partial t} \\frac{\\Delta t}{2} +\\frac{\\partial^2 u(x,t')}{2\\partial x^2}\\Delta x^2+\\frac{\\partial^2 u(x,t')}{2\\partial t^2}\\frac{\\Delta t^2}{4} - \\notag\n",
    "$$"
   ]
  },
  {
   "cell_type": "markdown",
   "id": "1d77cb7b",
   "metadata": {
    "editable": true
   },
   "source": [
    "$$\n",
    "\\nonumber\n",
    "\\frac{\\partial^2 u(x,t')}{\\partial x\\partial t}\\frac{\\Delta t}{2} \\Delta x+ \\mathcal{O}(\\Delta t^3)\n",
    "$$"
   ]
  },
  {
   "cell_type": "markdown",
   "id": "2dab9a89",
   "metadata": {
    "editable": true
   },
   "source": [
    "<!-- Equation labels as ordinary links -->\n",
    "<div id=\"_auto6\"></div>\n",
    "\n",
    "$$\n",
    "\\begin{equation} \n",
    "u(x+\\Delta x,t)=u(x,t')+\\frac{\\partial u(x,t')}{\\partial x}\\Delta x-\\frac{\\partial u(x,t')}{\\partial t} \\frac{\\Delta t}{2} +\\frac{\\partial^2 u(x,t')}{2\\partial x^2}\\Delta x^2+\\frac{\\partial^2 u(x,t')}{2\\partial t^2}\\frac{\\Delta t^2}{4} -\\notag \n",
    "\\label{_auto6} \\tag{31}\n",
    "\\end{equation}\n",
    "$$"
   ]
  },
  {
   "cell_type": "markdown",
   "id": "09987b10",
   "metadata": {
    "editable": true
   },
   "source": [
    "$$\n",
    "\\nonumber\n",
    "\\frac{\\partial^2 u(x,t')}{\\partial x\\partial t}\\frac{\\Delta t}{2} \\Delta x+ \\mathcal{O}(\\Delta t^3)\n",
    "$$"
   ]
  },
  {
   "cell_type": "markdown",
   "id": "6dd1d06c",
   "metadata": {
    "editable": true
   },
   "source": [
    "$$\n",
    "\\nonumber\n",
    "u(x-\\Delta x,t)=u(x,t')-\\frac{\\partial u(x,t')}{\\partial x}\\Delta x-\\frac{\\partial u(x,t')}{\\partial t} \\frac{\\Delta t}{2} +\\frac{\\partial^2 u(x,t')}{2\\partial x^2}\\Delta x^2+\\frac{\\partial^2 u(x,t')}{2\\partial t^2}\\frac{\\Delta t^2}{4} +\\notag\n",
    "$$"
   ]
  },
  {
   "cell_type": "markdown",
   "id": "e797a417",
   "metadata": {
    "editable": true
   },
   "source": [
    "$$\n",
    "\\nonumber\n",
    "\\frac{\\partial^2 u(x,t')}{\\partial x\\partial t}\\frac{\\Delta t}{2} \\Delta x+ \\mathcal{O}(\\Delta t^3)\n",
    "$$"
   ]
  },
  {
   "cell_type": "markdown",
   "id": "c89bbd36",
   "metadata": {
    "editable": true
   },
   "source": [
    "$$\n",
    "\\nonumber\n",
    "u(x,t+\\Delta t)=u(x,t')+\\frac{\\partial u(x,t')}{\\partial t}\\frac{\\Delta_t}{2} +\\frac{\\partial ^2 u(x,t')}{2\\partial t^2}\\Delta t^2 + \\mathcal{O}(\\Delta t^3)\n",
    "$$"
   ]
  },
  {
   "cell_type": "markdown",
   "id": "7b1694e5",
   "metadata": {
    "editable": true
   },
   "source": [
    "<!-- Equation labels as ordinary links -->\n",
    "<div id=\"eq:deltat\"></div>\n",
    "\n",
    "$$\n",
    "\\nonumber\n",
    "u(x,t)=u(x,t')-\\frac{\\partial u(x,t')}{\\partial t}\\frac{\\Delta t}{2}+\\frac{\\partial ^2 u(x,t')}{2\\partial t^2}\\Delta t^2 + \\mathcal{O}(\\Delta t^3)\n",
    "\\label{eq:deltat} \\tag{32}\n",
    "$$"
   ]
  },
  {
   "cell_type": "markdown",
   "id": "05cd371d",
   "metadata": {
    "editable": true
   },
   "source": [
    "We now insert these expansions in the approximations for the derivatives to find"
   ]
  },
  {
   "cell_type": "markdown",
   "id": "69b919d0",
   "metadata": {
    "editable": true
   },
   "source": [
    "<!-- Equation labels as ordinary links -->\n",
    "<div id=\"_auto7\"></div>\n",
    "\n",
    "$$\n",
    "\\begin{equation}\n",
    "\\left[\\frac{\\partial u(x,t')}{\\partial t}\\right]_{\\text{approx}} =\\frac{\\partial u(x,t')}{\\partial t}+\\mathcal{O}(\\Delta t^2) , \n",
    "\\label{_auto7} \\tag{33}\n",
    "\\end{equation}\n",
    "$$"
   ]
  },
  {
   "cell_type": "markdown",
   "id": "c517581e",
   "metadata": {
    "editable": true
   },
   "source": [
    "$$\n",
    "\\nonumber\n",
    "\\left[\\frac{\\partial^2 u(x,t')}{\\partial x^2}\\right]_{\\text{approx}}=\\frac{\\partial^2 u(x,t')}{\\partial x^2}+\\mathcal{O}(\\Delta x^2).\n",
    "$$"
   ]
  },
  {
   "cell_type": "markdown",
   "id": "6fbcb108",
   "metadata": {
    "editable": true
   },
   "source": [
    "## Type of problem\n",
    "\n",
    "The problem our network must solve for, is similar to the ODE case.\n",
    "We must have a trial solution $g_t$ at hand.\n",
    "\n",
    "For instance, the trial solution could be expressed as"
   ]
  },
  {
   "cell_type": "markdown",
   "id": "e2fa8411",
   "metadata": {
    "editable": true
   },
   "source": [
    "$$\n",
    "\\begin{align*}\n",
    "  g_t(x_1,\\dots,x_N) = h_1(x_1,\\dots,x_N) + h_2(x_1,\\dots,x_N,N(x_1,\\dots,x_N,P))\n",
    "\\end{align*}\n",
    "$$"
   ]
  },
  {
   "cell_type": "markdown",
   "id": "a487abc4",
   "metadata": {
    "editable": true
   },
   "source": [
    "where $h_1(x_1,\\dots,x_N)$ is a function that ensures $g_t(x_1,\\dots,x_N)$ satisfies some given conditions.\n",
    "The neural network $N(x_1,\\dots,x_N,P)$ has weights and biases described by $P$ and $h_2(x_1,\\dots,x_N,N(x_1,\\dots,x_N,P))$ is an expression using the output from the neural network in some way.\n",
    "\n",
    "The role of the function $h_2(x_1,\\dots,x_N,N(x_1,\\dots,x_N,P))$, is to ensure that the output of $N(x_1,\\dots,x_N,P)$ is zero when $g_t(x_1,\\dots,x_N)$ is evaluated at the values of $x_1,\\dots,x_N$ where the given conditions must be satisfied. The function $h_1(x_1,\\dots,x_N)$ should alone make $g_t(x_1,\\dots,x_N)$ satisfy the conditions."
   ]
  },
  {
   "cell_type": "markdown",
   "id": "aea6d794",
   "metadata": {
    "editable": true
   },
   "source": [
    "## Network requirements\n",
    "\n",
    "The network tries then to minimize the cost function following the\n",
    "same ideas as described for the ODE case, but now with more than one\n",
    "variables to consider.  The concept still remains the same; find a set\n",
    "of parameters $P$ such that the expression $f$ in ([17](#PDE)) is as\n",
    "close to zero as possible.\n",
    "\n",
    "As for the ODE case, the cost function is the mean squared error that\n",
    "the network must try to minimize. The cost function for the network to\n",
    "minimize is"
   ]
  },
  {
   "cell_type": "markdown",
   "id": "56a2b72e",
   "metadata": {
    "editable": true
   },
   "source": [
    "$$\n",
    "C\\left(x_1, \\dots, x_N, P\\right) = \\left(  f\\left(x_1, \\, \\dots \\, , x_N, \\frac{\\partial g(x_1,\\dots,x_N) }{\\partial x_1}, \\dots , \\frac{\\partial g(x_1,\\dots,x_N) }{\\partial x_N}, \\frac{\\partial g(x_1,\\dots,x_N) }{\\partial x_1\\partial x_2}, \\, \\dots \\, , \\frac{\\partial^n g(x_1,\\dots,x_N) }{\\partial x_N^n} \\right) \\right)^2\n",
    "$$"
   ]
  },
  {
   "cell_type": "markdown",
   "id": "6748b59e",
   "metadata": {
    "editable": true
   },
   "source": [
    "## More details\n",
    "\n",
    "If we let $\\boldsymbol{x} = \\big( x_1, \\dots, x_N \\big)$ be an array containing the values for $x_1, \\dots, x_N$ respectively, the cost function can be reformulated into the following:"
   ]
  },
  {
   "cell_type": "markdown",
   "id": "f52ca3a7",
   "metadata": {
    "editable": true
   },
   "source": [
    "$$\n",
    "C\\left(\\boldsymbol{x}, P\\right) = f\\left( \\left( \\boldsymbol{x}, \\frac{\\partial g(\\boldsymbol{x}) }{\\partial x_1}, \\dots , \\frac{\\partial g(\\boldsymbol{x}) }{\\partial x_N}, \\frac{\\partial g(\\boldsymbol{x}) }{\\partial x_1\\partial x_2}, \\, \\dots \\, , \\frac{\\partial^n g(\\boldsymbol{x}) }{\\partial x_N^n} \\right) \\right)^2\n",
    "$$"
   ]
  },
  {
   "cell_type": "markdown",
   "id": "c7c72c9b",
   "metadata": {
    "editable": true
   },
   "source": [
    "If we also have $M$ different sets of values for $x_1, \\dots, x_N$, that is $\\boldsymbol{x}_i = \\big(x_1^{(i)}, \\dots, x_N^{(i)}\\big)$ for $i = 1,\\dots,M$ being the rows in matrix $X$, the cost function can be generalized into"
   ]
  },
  {
   "cell_type": "markdown",
   "id": "c3cf58c6",
   "metadata": {
    "editable": true
   },
   "source": [
    "$$\n",
    "C\\left(X, P \\right) = \\sum_{i=1}^M f\\left( \\left( \\boldsymbol{x}_i, \\frac{\\partial g(\\boldsymbol{x}_i) }{\\partial x_1}, \\dots , \\frac{\\partial g(\\boldsymbol{x}_i) }{\\partial x_N}, \\frac{\\partial g(\\boldsymbol{x}_i) }{\\partial x_1\\partial x_2}, \\, \\dots \\, , \\frac{\\partial^n g(\\boldsymbol{x}_i) }{\\partial x_N^n} \\right) \\right)^2.\n",
    "$$"
   ]
  },
  {
   "cell_type": "markdown",
   "id": "b2951c49",
   "metadata": {
    "editable": true
   },
   "source": [
    "## Example: The diffusion equation\n",
    "\n",
    "In one spatial dimension, the equation reads"
   ]
  },
  {
   "cell_type": "markdown",
   "id": "0f4ee58d",
   "metadata": {
    "editable": true
   },
   "source": [
    "$$\n",
    "\\frac{\\partial g(x,t)}{\\partial t} = \\frac{\\partial^2 g(x,t)}{\\partial x^2}\n",
    "$$"
   ]
  },
  {
   "cell_type": "markdown",
   "id": "ccb390a1",
   "metadata": {
    "editable": true
   },
   "source": [
    "where a possible choice of conditions are"
   ]
  },
  {
   "cell_type": "markdown",
   "id": "2b096653",
   "metadata": {
    "editable": true
   },
   "source": [
    "$$\n",
    "\\begin{align*}\n",
    "g(0,t) &= 0 ,\\qquad t \\geq 0 \\\\\n",
    "g(1,t) &= 0, \\qquad t \\geq 0 \\\\\n",
    "g(x,0) &= u(x),\\qquad x\\in [0,1]\n",
    "\\end{align*}\n",
    "$$"
   ]
  },
  {
   "cell_type": "markdown",
   "id": "149a95a4",
   "metadata": {
    "editable": true
   },
   "source": [
    "with $u(x)$ being some given function."
   ]
  },
  {
   "cell_type": "markdown",
   "id": "efb822b6",
   "metadata": {
    "editable": true
   },
   "source": [
    "## Defining the problem\n",
    "\n",
    "For this case, we want to find $g(x,t)$ such that"
   ]
  },
  {
   "cell_type": "markdown",
   "id": "b3974de7",
   "metadata": {
    "editable": true
   },
   "source": [
    "<!-- Equation labels as ordinary links -->\n",
    "<div id=\"diffonedim\"></div>\n",
    "\n",
    "$$\n",
    "\\begin{equation}\n",
    "  \\frac{\\partial g(x,t)}{\\partial t} = \\frac{\\partial^2 g(x,t)}{\\partial x^2}\n",
    "\\end{equation} \\label{diffonedim} \\tag{34}\n",
    "$$"
   ]
  },
  {
   "cell_type": "markdown",
   "id": "2e0bf5ce",
   "metadata": {
    "editable": true
   },
   "source": [
    "and"
   ]
  },
  {
   "cell_type": "markdown",
   "id": "5417207b",
   "metadata": {
    "editable": true
   },
   "source": [
    "$$\n",
    "\\begin{align*}\n",
    "g(0,t) &= 0 ,\\qquad t \\geq 0 \\\\\n",
    "g(1,t) &= 0, \\qquad t \\geq 0 \\\\\n",
    "g(x,0) &= u(x),\\qquad x\\in [0,1]\n",
    "\\end{align*}\n",
    "$$"
   ]
  },
  {
   "cell_type": "markdown",
   "id": "e94a1dc7",
   "metadata": {
    "editable": true
   },
   "source": [
    "with $u(x) = \\sin(\\pi x)$.\n",
    "\n",
    "First, let us set up the deep neural network.\n",
    "The deep neural network will follow the same structure as discussed in the examples solving the ODEs.\n",
    "First, we will look into how Autograd could be used in a network tailored to solve for bivariate functions."
   ]
  },
  {
   "cell_type": "markdown",
   "id": "3b1a7741",
   "metadata": {
    "editable": true
   },
   "source": [
    "## Setting up the network using Autograd\n",
    "\n",
    "The only change to do here, is to extend our network such that\n",
    "functions of multiple parameters are correctly handled.  In this case\n",
    "we have two variables in our function to solve for, that is time $t$\n",
    "and position $x$.  The variables will be represented by a\n",
    "one-dimensional array in the program.  The program will evaluate the\n",
    "network at each possible pair $(x,t)$, given an array for the desired\n",
    "$x$-values and $t$-values to approximate the solution at."
   ]
  },
  {
   "cell_type": "code",
   "execution_count": 7,
   "id": "0a0e50eb",
   "metadata": {
    "collapsed": false,
    "editable": true
   },
   "outputs": [],
   "source": [
    "def sigmoid(z):\n",
    "    return 1/(1 + np.exp(-z))\n",
    "\n",
    "def deep_neural_network(deep_params, x):\n",
    "    # x is now a point and a 1D numpy array; make it a column vector\n",
    "    num_coordinates = np.size(x,0)\n",
    "    x = x.reshape(num_coordinates,-1)\n",
    "\n",
    "    num_points = np.size(x,1)\n",
    "\n",
    "    # N_hidden is the number of hidden layers\n",
    "    N_hidden = np.size(deep_params) - 1 # -1 since params consist of parameters to all the hidden layers AND the output layer\n",
    "\n",
    "    # Assume that the input layer does nothing to the input x\n",
    "    x_input = x\n",
    "    x_prev = x_input\n",
    "\n",
    "    ## Hidden layers:\n",
    "\n",
    "    for l in range(N_hidden):\n",
    "        # From the list of parameters P; find the correct weigths and bias for this layer\n",
    "        w_hidden = deep_params[l]\n",
    "\n",
    "        # Add a row of ones to include bias\n",
    "        x_prev = np.concatenate((np.ones((1,num_points)), x_prev ), axis = 0)\n",
    "\n",
    "        z_hidden = np.matmul(w_hidden, x_prev)\n",
    "        x_hidden = sigmoid(z_hidden)\n",
    "\n",
    "        # Update x_prev such that next layer can use the output from this layer\n",
    "        x_prev = x_hidden\n",
    "\n",
    "    ## Output layer:\n",
    "\n",
    "    # Get the weights and bias for this layer\n",
    "    w_output = deep_params[-1]\n",
    "\n",
    "    # Include bias:\n",
    "    x_prev = np.concatenate((np.ones((1,num_points)), x_prev), axis = 0)\n",
    "\n",
    "    z_output = np.matmul(w_output, x_prev)\n",
    "    x_output = z_output\n",
    "\n",
    "    return x_output[0][0]"
   ]
  },
  {
   "cell_type": "markdown",
   "id": "a5a36072",
   "metadata": {
    "editable": true
   },
   "source": [
    "## Setting up the network using Autograd; The trial solution\n",
    "\n",
    "The cost function must then iterate through the given arrays\n",
    "containing values for $x$ and $t$, defines a point $(x,t)$ the deep\n",
    "neural network and the trial solution is evaluated at, and then finds\n",
    "the Jacobian of the trial solution.\n",
    "\n",
    "A possible trial solution for this PDE is\n",
    "\n",
    "$$\n",
    "g_t(x,t) = h_1(x,t) + x(1-x)tN(x,t,P)\n",
    "$$\n",
    "\n",
    "with $A(x,t)$ being a function ensuring that $g_t(x,t)$ satisfies our given conditions, and $N(x,t,P)$ being the output from the deep neural network using weights and biases for each layer from $P$.\n",
    "\n",
    "To fulfill the conditions, $A(x,t)$ could be:\n",
    "\n",
    "$$\n",
    "h_1(x,t) = (1-t)\\Big(u(x) - \\big((1-x)u(0) + x u(1)\\big)\\Big) = (1-t)u(x) = (1-t)\\sin(\\pi x)\n",
    "$$\n",
    "since $(0) = u(1) = 0$ and $u(x) = \\sin(\\pi x)$."
   ]
  },
  {
   "cell_type": "markdown",
   "id": "09fe5c56",
   "metadata": {
    "editable": true
   },
   "source": [
    "## Why the jacobian?\n",
    "\n",
    "The Jacobian is used because the program must find the derivative of\n",
    "the trial solution with respect to $x$ and $t$.\n",
    "\n",
    "This gives the necessity of computing the Jacobian matrix, as we want\n",
    "to evaluate the gradient with respect to $x$ and $t$ (note that the\n",
    "Jacobian of a scalar-valued multivariate function is simply its\n",
    "gradient).\n",
    "\n",
    "In Autograd, the differentiation is by default done with respect to\n",
    "the first input argument of your Python function. Since the points is\n",
    "an array representing $x$ and $t$, the Jacobian is calculated using\n",
    "the values of $x$ and $t$.\n",
    "\n",
    "To find the second derivative with respect to $x$ and $t$, the\n",
    "Jacobian can be found for the second time. The result is a Hessian\n",
    "matrix, which is the matrix containing all the possible second order\n",
    "mixed derivatives of $g(x,t)$."
   ]
  },
  {
   "cell_type": "code",
   "execution_count": 8,
   "id": "2a92ff36",
   "metadata": {
    "collapsed": false,
    "editable": true
   },
   "outputs": [],
   "source": [
    "# Set up the trial function:\n",
    "def u(x):\n",
    "    return np.sin(np.pi*x)\n",
    "\n",
    "def g_trial(point,P):\n",
    "    x,t = point\n",
    "    return (1-t)*u(x) + x*(1-x)*t*deep_neural_network(P,point)\n",
    "\n",
    "# The right side of the ODE:\n",
    "def f(point):\n",
    "    return 0.\n",
    "\n",
    "# The cost function:\n",
    "def cost_function(P, x, t):\n",
    "    cost_sum = 0\n",
    "\n",
    "    g_t_jacobian_func = jacobian(g_trial)\n",
    "    g_t_hessian_func = hessian(g_trial)\n",
    "\n",
    "    for x_ in x:\n",
    "        for t_ in t:\n",
    "            point = np.array([x_,t_])\n",
    "\n",
    "            g_t = g_trial(point,P)\n",
    "            g_t_jacobian = g_t_jacobian_func(point,P)\n",
    "            g_t_hessian = g_t_hessian_func(point,P)\n",
    "\n",
    "            g_t_dt = g_t_jacobian[1]\n",
    "            g_t_d2x = g_t_hessian[0][0]\n",
    "\n",
    "            func = f(point)\n",
    "\n",
    "            err_sqr = ( (g_t_dt - g_t_d2x) - func)**2\n",
    "            cost_sum += err_sqr\n",
    "\n",
    "    return cost_sum"
   ]
  },
  {
   "cell_type": "markdown",
   "id": "4d9326fa",
   "metadata": {
    "editable": true
   },
   "source": [
    "## Setting up the network using Autograd; The full program\n",
    "\n",
    "Having set up the network, along with the trial solution and cost function, we can now see how the deep neural network performs by comparing the results to the analytical solution.\n",
    "\n",
    "The analytical solution of our problem is\n",
    "\n",
    "$$\n",
    "g(x,t) = \\exp(-\\pi^2 t)\\sin(\\pi x)\n",
    "$$\n",
    "\n",
    "A possible way to implement a neural network solving the PDE, is given below.\n",
    "Be aware, though, that it is fairly slow for the parameters used.\n",
    "A better result is possible, but requires more iterations, and thus longer time to complete.\n",
    "\n",
    "Indeed, the program below is not optimal in its implementation, but rather serves as an example on how to implement and use a neural network to solve a PDE.\n",
    "Using TensorFlow results in a much better execution time. Try it!"
   ]
  },
  {
   "cell_type": "code",
   "execution_count": 9,
   "id": "3163b0ff",
   "metadata": {
    "collapsed": false,
    "editable": true
   },
   "outputs": [],
   "source": [
    "import autograd.numpy as np\n",
    "from autograd import jacobian,hessian,grad\n",
    "import autograd.numpy.random as npr\n",
    "from matplotlib import cm\n",
    "from matplotlib import pyplot as plt\n",
    "from mpl_toolkits.mplot3d import axes3d\n",
    "\n",
    "## Set up the network\n",
    "\n",
    "def sigmoid(z):\n",
    "    return 1/(1 + np.exp(-z))\n",
    "\n",
    "def deep_neural_network(deep_params, x):\n",
    "    # x is now a point and a 1D numpy array; make it a column vector\n",
    "    num_coordinates = np.size(x,0)\n",
    "    x = x.reshape(num_coordinates,-1)\n",
    "\n",
    "    num_points = np.size(x,1)\n",
    "\n",
    "    # N_hidden is the number of hidden layers\n",
    "    N_hidden = np.size(deep_params) - 1 # -1 since params consist of parameters to all the hidden layers AND the output layer\n",
    "\n",
    "    # Assume that the input layer does nothing to the input x\n",
    "    x_input = x\n",
    "    x_prev = x_input\n",
    "\n",
    "    ## Hidden layers:\n",
    "\n",
    "    for l in range(N_hidden):\n",
    "        # From the list of parameters P; find the correct weigths and bias for this layer\n",
    "        w_hidden = deep_params[l]\n",
    "\n",
    "        # Add a row of ones to include bias\n",
    "        x_prev = np.concatenate((np.ones((1,num_points)), x_prev ), axis = 0)\n",
    "\n",
    "        z_hidden = np.matmul(w_hidden, x_prev)\n",
    "        x_hidden = sigmoid(z_hidden)\n",
    "\n",
    "        # Update x_prev such that next layer can use the output from this layer\n",
    "        x_prev = x_hidden\n",
    "\n",
    "    ## Output layer:\n",
    "\n",
    "    # Get the weights and bias for this layer\n",
    "    w_output = deep_params[-1]\n",
    "\n",
    "    # Include bias:\n",
    "    x_prev = np.concatenate((np.ones((1,num_points)), x_prev), axis = 0)\n",
    "\n",
    "    z_output = np.matmul(w_output, x_prev)\n",
    "    x_output = z_output\n",
    "\n",
    "    return x_output[0][0]\n",
    "\n",
    "## Define the trial solution and cost function\n",
    "def u(x):\n",
    "    return np.sin(np.pi*x)\n",
    "\n",
    "def g_trial(point,P):\n",
    "    x,t = point\n",
    "    return (1-t)*u(x) + x*(1-x)*t*deep_neural_network(P,point)\n",
    "\n",
    "# The right side of the ODE:\n",
    "def f(point):\n",
    "    return 0.\n",
    "\n",
    "# The cost function:\n",
    "def cost_function(P, x, t):\n",
    "    cost_sum = 0\n",
    "\n",
    "    g_t_jacobian_func = jacobian(g_trial)\n",
    "    g_t_hessian_func = hessian(g_trial)\n",
    "\n",
    "    for x_ in x:\n",
    "        for t_ in t:\n",
    "            point = np.array([x_,t_])\n",
    "\n",
    "            g_t = g_trial(point,P)\n",
    "            g_t_jacobian = g_t_jacobian_func(point,P)\n",
    "            g_t_hessian = g_t_hessian_func(point,P)\n",
    "\n",
    "            g_t_dt = g_t_jacobian[1]\n",
    "            g_t_d2x = g_t_hessian[0][0]\n",
    "\n",
    "            func = f(point)\n",
    "\n",
    "            err_sqr = ( (g_t_dt - g_t_d2x) - func)**2\n",
    "            cost_sum += err_sqr\n",
    "\n",
    "    return cost_sum /( np.size(x)*np.size(t) )\n",
    "\n",
    "## For comparison, define the analytical solution\n",
    "def g_analytic(point):\n",
    "    x,t = point\n",
    "    return np.exp(-np.pi**2*t)*np.sin(np.pi*x)\n",
    "\n",
    "## Set up a function for training the network to solve for the equation\n",
    "def solve_pde_deep_neural_network(x,t, num_neurons, num_iter, lmb):\n",
    "    ## Set up initial weigths and biases\n",
    "    N_hidden = np.size(num_neurons)\n",
    "\n",
    "    ## Set up initial weigths and biases\n",
    "\n",
    "    # Initialize the list of parameters:\n",
    "    P = [None]*(N_hidden + 1) # + 1 to include the output layer\n",
    "\n",
    "    P[0] = npr.randn(num_neurons[0], 2 + 1 ) # 2 since we have two points, +1 to include bias\n",
    "    for l in range(1,N_hidden):\n",
    "        P[l] = npr.randn(num_neurons[l], num_neurons[l-1] + 1) # +1 to include bias\n",
    "\n",
    "    # For the output layer\n",
    "    P[-1] = npr.randn(1, num_neurons[-1] + 1 ) # +1 since bias is included\n",
    "\n",
    "    print('Initial cost: ',cost_function(P, x, t))\n",
    "\n",
    "    cost_function_grad = grad(cost_function,0)\n",
    "\n",
    "    # Let the update be done num_iter times\n",
    "    for i in range(num_iter):\n",
    "        cost_grad =  cost_function_grad(P, x , t)\n",
    "\n",
    "        for l in range(N_hidden+1):\n",
    "            P[l] = P[l] - lmb * cost_grad[l]\n",
    "\n",
    "    print('Final cost: ',cost_function(P, x, t))\n",
    "\n",
    "    return P\n",
    "\n",
    "if __name__ == '__main__':\n",
    "    ### Use the neural network:\n",
    "    npr.seed(15)\n",
    "\n",
    "    ## Decide the vales of arguments to the function to solve\n",
    "    Nx = 10; Nt = 10\n",
    "    x = np.linspace(0, 1, Nx)\n",
    "    t = np.linspace(0,1,Nt)\n",
    "\n",
    "    ## Set up the parameters for the network\n",
    "    num_hidden_neurons = [100, 25]\n",
    "    num_iter = 250\n",
    "    lmb = 0.01\n",
    "\n",
    "    P = solve_pde_deep_neural_network(x,t, num_hidden_neurons, num_iter, lmb)\n",
    "\n",
    "    ## Store the results\n",
    "    g_dnn_ag = np.zeros((Nx, Nt))\n",
    "    G_analytical = np.zeros((Nx, Nt))\n",
    "    for i,x_ in enumerate(x):\n",
    "        for j, t_ in enumerate(t):\n",
    "            point = np.array([x_, t_])\n",
    "            g_dnn_ag[i,j] = g_trial(point,P)\n",
    "\n",
    "            G_analytical[i,j] = g_analytic(point)\n",
    "\n",
    "    # Find the map difference between the analytical and the computed solution\n",
    "    diff_ag = np.abs(g_dnn_ag - G_analytical)\n",
    "    print('Max absolute difference between the analytical solution and the network: %g'%np.max(diff_ag))\n",
    "\n",
    "    ## Plot the solutions in two dimensions, that being in position and time\n",
    "\n",
    "    T,X = np.meshgrid(t,x)\n",
    "\n",
    "    fig = plt.figure(figsize=(10,10))\n",
    "    ax = fig.gca(projection='3d')\n",
    "    ax.set_title('Solution from the deep neural network w/ %d layer'%len(num_hidden_neurons))\n",
    "    s = ax.plot_surface(T,X,g_dnn_ag,linewidth=0,antialiased=False,cmap=cm.viridis)\n",
    "    ax.set_xlabel('Time $t$')\n",
    "    ax.set_ylabel('Position $x$');\n",
    "\n",
    "\n",
    "    fig = plt.figure(figsize=(10,10))\n",
    "    ax = fig.gca(projection='3d')\n",
    "    ax.set_title('Analytical solution')\n",
    "    s = ax.plot_surface(T,X,G_analytical,linewidth=0,antialiased=False,cmap=cm.viridis)\n",
    "    ax.set_xlabel('Time $t$')\n",
    "    ax.set_ylabel('Position $x$');\n",
    "\n",
    "    fig = plt.figure(figsize=(10,10))\n",
    "    ax = fig.gca(projection='3d')\n",
    "    ax.set_title('Difference')\n",
    "    s = ax.plot_surface(T,X,diff_ag,linewidth=0,antialiased=False,cmap=cm.viridis)\n",
    "    ax.set_xlabel('Time $t$')\n",
    "    ax.set_ylabel('Position $x$');\n",
    "\n",
    "    ## Take some slices of the 3D plots just to see the solutions at particular times\n",
    "    indx1 = 0\n",
    "    indx2 = int(Nt/2)\n",
    "    indx3 = Nt-1\n",
    "\n",
    "    t1 = t[indx1]\n",
    "    t2 = t[indx2]\n",
    "    t3 = t[indx3]\n",
    "\n",
    "    # Slice the results from the DNN\n",
    "    res1 = g_dnn_ag[:,indx1]\n",
    "    res2 = g_dnn_ag[:,indx2]\n",
    "    res3 = g_dnn_ag[:,indx3]\n",
    "\n",
    "    # Slice the analytical results\n",
    "    res_analytical1 = G_analytical[:,indx1]\n",
    "    res_analytical2 = G_analytical[:,indx2]\n",
    "    res_analytical3 = G_analytical[:,indx3]\n",
    "\n",
    "    # Plot the slices\n",
    "    plt.figure(figsize=(10,10))\n",
    "    plt.title(\"Computed solutions at time = %g\"%t1)\n",
    "    plt.plot(x, res1)\n",
    "    plt.plot(x,res_analytical1)\n",
    "    plt.legend(['dnn','analytical'])\n",
    "\n",
    "    plt.figure(figsize=(10,10))\n",
    "    plt.title(\"Computed solutions at time = %g\"%t2)\n",
    "    plt.plot(x, res2)\n",
    "    plt.plot(x,res_analytical2)\n",
    "    plt.legend(['dnn','analytical'])\n",
    "\n",
    "    plt.figure(figsize=(10,10))\n",
    "    plt.title(\"Computed solutions at time = %g\"%t3)\n",
    "    plt.plot(x, res3)\n",
    "    plt.plot(x,res_analytical3)\n",
    "    plt.legend(['dnn','analytical'])\n",
    "\n",
    "    plt.show()"
   ]
  },
  {
   "cell_type": "markdown",
   "id": "f12c8ab8",
   "metadata": {
    "editable": true
   },
   "source": [
    "## Example: Solving the wave equation with Neural Networks\n",
    "\n",
    "The wave equation is"
   ]
  },
  {
   "cell_type": "markdown",
   "id": "5cbae008",
   "metadata": {
    "editable": true
   },
   "source": [
    "$$\n",
    "\\frac{\\partial^2 g(x,t)}{\\partial t^2} = c^2\\frac{\\partial^2 g(x,t)}{\\partial x^2}\n",
    "$$"
   ]
  },
  {
   "cell_type": "markdown",
   "id": "a97a30d1",
   "metadata": {
    "editable": true
   },
   "source": [
    "with $c$ being the specified wave speed.\n",
    "\n",
    "Here, the chosen conditions are"
   ]
  },
  {
   "cell_type": "markdown",
   "id": "9c546eb9",
   "metadata": {
    "editable": true
   },
   "source": [
    "$$\n",
    "\\begin{align*}\n",
    "\tg(0,t) &= 0 \\\\\n",
    "\tg(1,t) &= 0 \\\\\n",
    "\tg(x,0) &= u(x) \\\\\n",
    "\t\\frac{\\partial g(x,t)}{\\partial t} \\Big |_{t = 0} &= v(x)\n",
    "\\end{align*}\n",
    "$$"
   ]
  },
  {
   "cell_type": "markdown",
   "id": "7e214099",
   "metadata": {
    "editable": true
   },
   "source": [
    "where $\\frac{\\partial g(x,t)}{\\partial t} \\Big |_{t = 0}$ means the derivative of $g(x,t)$ with respect to $t$ is evaluated at $t = 0$, and $u(x)$ and $v(x)$ being given functions."
   ]
  },
  {
   "cell_type": "markdown",
   "id": "1f0b2fd9",
   "metadata": {
    "editable": true
   },
   "source": [
    "## The problem to solve for\n",
    "\n",
    "The wave equation to solve for, is"
   ]
  },
  {
   "cell_type": "markdown",
   "id": "e4ec963b",
   "metadata": {
    "editable": true
   },
   "source": [
    "<!-- Equation labels as ordinary links -->\n",
    "<div id=\"wave\"></div>\n",
    "\n",
    "$$\n",
    "\\begin{equation} \\label{wave} \\tag{35}\n",
    "\\frac{\\partial^2 g(x,t)}{\\partial t^2} = c^2 \\frac{\\partial^2 g(x,t)}{\\partial x^2}\n",
    "\\end{equation}\n",
    "$$"
   ]
  },
  {
   "cell_type": "markdown",
   "id": "02faf6c1",
   "metadata": {
    "editable": true
   },
   "source": [
    "where $c$ is the given wave speed.\n",
    "The chosen conditions for this equation are"
   ]
  },
  {
   "cell_type": "markdown",
   "id": "1aa86722",
   "metadata": {
    "editable": true
   },
   "source": [
    "<!-- Equation labels as ordinary links -->\n",
    "<div id=\"condwave\"></div>\n",
    "\n",
    "$$\n",
    "\\begin{aligned}\n",
    "g(0,t) &= 0, &t \\geq 0 \\\\\n",
    "g(1,t) &= 0, &t \\geq 0 \\\\\n",
    "g(x,0) &= u(x), &x\\in[0,1] \\\\\n",
    "\\frac{\\partial g(x,t)}{\\partial t}\\Big |_{t = 0} &= v(x), &x \\in [0,1]\n",
    "\\end{aligned} \\label{condwave} \\tag{36}\n",
    "$$"
   ]
  },
  {
   "cell_type": "markdown",
   "id": "d32d9deb",
   "metadata": {
    "editable": true
   },
   "source": [
    "In this example, let $c = 1$ and $u(x) = \\sin(\\pi x)$ and $v(x) = -\\pi\\sin(\\pi x)$."
   ]
  },
  {
   "cell_type": "markdown",
   "id": "eb553500",
   "metadata": {
    "editable": true
   },
   "source": [
    "## The trial solution\n",
    "Setting up the network is done in similar matter as for the example of solving the diffusion equation.\n",
    "The only things we have to change, is the trial solution such that it satisfies the conditions from ([36](#condwave)) and the cost function.\n",
    "\n",
    "The trial solution becomes slightly different since we have other conditions than in the example of solving the diffusion equation. Here, a possible trial solution $g_t(x,t)$ is\n",
    "\n",
    "$$\n",
    "g_t(x,t) = h_1(x,t) + x(1-x)t^2N(x,t,P)\n",
    "$$\n",
    "\n",
    "where\n",
    "\n",
    "$$\n",
    "h_1(x,t) = (1-t^2)u(x) + tv(x)\n",
    "$$\n",
    "\n",
    "Note that this trial solution satisfies the conditions only if $u(0) = v(0) = u(1) = v(1) = 0$, which is the case in this example."
   ]
  },
  {
   "cell_type": "markdown",
   "id": "88eea86c",
   "metadata": {
    "editable": true
   },
   "source": [
    "## The analytical solution\n",
    "\n",
    "The analytical solution for our specific problem, is\n",
    "\n",
    "$$\n",
    "g(x,t) = \\sin(\\pi x)\\cos(\\pi t) - \\sin(\\pi x)\\sin(\\pi t)\n",
    "$$"
   ]
  },
  {
   "cell_type": "markdown",
   "id": "92412eae",
   "metadata": {
    "editable": true
   },
   "source": [
    "## Solving the wave equation - the full program using Autograd"
   ]
  },
  {
   "cell_type": "code",
   "execution_count": 10,
   "id": "7a0ea27b",
   "metadata": {
    "collapsed": false,
    "editable": true
   },
   "outputs": [],
   "source": [
    "import autograd.numpy as np\n",
    "from autograd import hessian,grad\n",
    "import autograd.numpy.random as npr\n",
    "from matplotlib import cm\n",
    "from matplotlib import pyplot as plt\n",
    "from mpl_toolkits.mplot3d import axes3d\n",
    "\n",
    "## Set up the trial function:\n",
    "def u(x):\n",
    "    return np.sin(np.pi*x)\n",
    "\n",
    "def v(x):\n",
    "    return -np.pi*np.sin(np.pi*x)\n",
    "\n",
    "def h1(point):\n",
    "    x,t = point\n",
    "    return (1 - t**2)*u(x) + t*v(x)\n",
    "\n",
    "def g_trial(point,P):\n",
    "    x,t = point\n",
    "    return h1(point) + x*(1-x)*t**2*deep_neural_network(P,point)\n",
    "\n",
    "## Define the cost function\n",
    "def cost_function(P, x, t):\n",
    "    cost_sum = 0\n",
    "\n",
    "    g_t_hessian_func = hessian(g_trial)\n",
    "\n",
    "    for x_ in x:\n",
    "        for t_ in t:\n",
    "            point = np.array([x_,t_])\n",
    "\n",
    "            g_t_hessian = g_t_hessian_func(point,P)\n",
    "\n",
    "            g_t_d2x = g_t_hessian[0][0]\n",
    "            g_t_d2t = g_t_hessian[1][1]\n",
    "\n",
    "            err_sqr = ( (g_t_d2t - g_t_d2x) )**2\n",
    "            cost_sum += err_sqr\n",
    "\n",
    "    return cost_sum / (np.size(t) * np.size(x))\n",
    "\n",
    "## The neural network\n",
    "def sigmoid(z):\n",
    "    return 1/(1 + np.exp(-z))\n",
    "\n",
    "def deep_neural_network(deep_params, x):\n",
    "    # x is now a point and a 1D numpy array; make it a column vector\n",
    "    num_coordinates = np.size(x,0)\n",
    "    x = x.reshape(num_coordinates,-1)\n",
    "\n",
    "    num_points = np.size(x,1)\n",
    "\n",
    "    # N_hidden is the number of hidden layers\n",
    "    N_hidden = np.size(deep_params) - 1 # -1 since params consist of parameters to all the hidden layers AND the output layer\n",
    "\n",
    "    # Assume that the input layer does nothing to the input x\n",
    "    x_input = x\n",
    "    x_prev = x_input\n",
    "\n",
    "    ## Hidden layers:\n",
    "\n",
    "    for l in range(N_hidden):\n",
    "        # From the list of parameters P; find the correct weigths and bias for this layer\n",
    "        w_hidden = deep_params[l]\n",
    "\n",
    "        # Add a row of ones to include bias\n",
    "        x_prev = np.concatenate((np.ones((1,num_points)), x_prev ), axis = 0)\n",
    "\n",
    "        z_hidden = np.matmul(w_hidden, x_prev)\n",
    "        x_hidden = sigmoid(z_hidden)\n",
    "\n",
    "        # Update x_prev such that next layer can use the output from this layer\n",
    "        x_prev = x_hidden\n",
    "\n",
    "    ## Output layer:\n",
    "\n",
    "    # Get the weights and bias for this layer\n",
    "    w_output = deep_params[-1]\n",
    "\n",
    "    # Include bias:\n",
    "    x_prev = np.concatenate((np.ones((1,num_points)), x_prev), axis = 0)\n",
    "\n",
    "    z_output = np.matmul(w_output, x_prev)\n",
    "    x_output = z_output\n",
    "\n",
    "    return x_output[0][0]\n",
    "\n",
    "## The analytical solution\n",
    "def g_analytic(point):\n",
    "    x,t = point\n",
    "    return np.sin(np.pi*x)*np.cos(np.pi*t) - np.sin(np.pi*x)*np.sin(np.pi*t)\n",
    "\n",
    "def solve_pde_deep_neural_network(x,t, num_neurons, num_iter, lmb):\n",
    "    ## Set up initial weigths and biases\n",
    "    N_hidden = np.size(num_neurons)\n",
    "\n",
    "    ## Set up initial weigths and biases\n",
    "\n",
    "    # Initialize the list of parameters:\n",
    "    P = [None]*(N_hidden + 1) # + 1 to include the output layer\n",
    "\n",
    "    P[0] = npr.randn(num_neurons[0], 2 + 1 ) # 2 since we have two points, +1 to include bias\n",
    "    for l in range(1,N_hidden):\n",
    "        P[l] = npr.randn(num_neurons[l], num_neurons[l-1] + 1) # +1 to include bias\n",
    "\n",
    "    # For the output layer\n",
    "    P[-1] = npr.randn(1, num_neurons[-1] + 1 ) # +1 since bias is included\n",
    "\n",
    "    print('Initial cost: ',cost_function(P, x, t))\n",
    "\n",
    "    cost_function_grad = grad(cost_function,0)\n",
    "\n",
    "    # Let the update be done num_iter times\n",
    "    for i in range(num_iter):\n",
    "        cost_grad =  cost_function_grad(P, x , t)\n",
    "\n",
    "        for l in range(N_hidden+1):\n",
    "            P[l] = P[l] - lmb * cost_grad[l]\n",
    "\n",
    "\n",
    "    print('Final cost: ',cost_function(P, x, t))\n",
    "\n",
    "    return P\n",
    "\n",
    "if __name__ == '__main__':\n",
    "    ### Use the neural network:\n",
    "    npr.seed(15)\n",
    "\n",
    "    ## Decide the vales of arguments to the function to solve\n",
    "    Nx = 10; Nt = 10\n",
    "    x = np.linspace(0, 1, Nx)\n",
    "    t = np.linspace(0,1,Nt)\n",
    "\n",
    "    ## Set up the parameters for the network\n",
    "    num_hidden_neurons = [50,20]\n",
    "    num_iter = 1000\n",
    "    lmb = 0.01\n",
    "\n",
    "    P = solve_pde_deep_neural_network(x,t, num_hidden_neurons, num_iter, lmb)\n",
    "\n",
    "    ## Store the results\n",
    "    res = np.zeros((Nx, Nt))\n",
    "    res_analytical = np.zeros((Nx, Nt))\n",
    "    for i,x_ in enumerate(x):\n",
    "        for j, t_ in enumerate(t):\n",
    "            point = np.array([x_, t_])\n",
    "            res[i,j] = g_trial(point,P)\n",
    "\n",
    "            res_analytical[i,j] = g_analytic(point)\n",
    "\n",
    "    diff = np.abs(res - res_analytical)\n",
    "    print(\"Max difference between analytical and solution from nn: %g\"%np.max(diff))\n",
    "\n",
    "    ## Plot the solutions in two dimensions, that being in position and time\n",
    "\n",
    "    T,X = np.meshgrid(t,x)\n",
    "\n",
    "    fig = plt.figure(figsize=(10,10))\n",
    "    ax = fig.gca(projection='3d')\n",
    "    ax.set_title('Solution from the deep neural network w/ %d layer'%len(num_hidden_neurons))\n",
    "    s = ax.plot_surface(T,X,res,linewidth=0,antialiased=False,cmap=cm.viridis)\n",
    "    ax.set_xlabel('Time $t$')\n",
    "    ax.set_ylabel('Position $x$');\n",
    "\n",
    "\n",
    "    fig = plt.figure(figsize=(10,10))\n",
    "    ax = fig.gca(projection='3d')\n",
    "    ax.set_title('Analytical solution')\n",
    "    s = ax.plot_surface(T,X,res_analytical,linewidth=0,antialiased=False,cmap=cm.viridis)\n",
    "    ax.set_xlabel('Time $t$')\n",
    "    ax.set_ylabel('Position $x$');\n",
    "\n",
    "\n",
    "    fig = plt.figure(figsize=(10,10))\n",
    "    ax = fig.gca(projection='3d')\n",
    "    ax.set_title('Difference')\n",
    "    s = ax.plot_surface(T,X,diff,linewidth=0,antialiased=False,cmap=cm.viridis)\n",
    "    ax.set_xlabel('Time $t$')\n",
    "    ax.set_ylabel('Position $x$');\n",
    "\n",
    "    ## Take some slices of the 3D plots just to see the solutions at particular times\n",
    "    indx1 = 0\n",
    "    indx2 = int(Nt/2)\n",
    "    indx3 = Nt-1\n",
    "\n",
    "    t1 = t[indx1]\n",
    "    t2 = t[indx2]\n",
    "    t3 = t[indx3]\n",
    "\n",
    "    # Slice the results from the DNN\n",
    "    res1 = res[:,indx1]\n",
    "    res2 = res[:,indx2]\n",
    "    res3 = res[:,indx3]\n",
    "\n",
    "    # Slice the analytical results\n",
    "    res_analytical1 = res_analytical[:,indx1]\n",
    "    res_analytical2 = res_analytical[:,indx2]\n",
    "    res_analytical3 = res_analytical[:,indx3]\n",
    "\n",
    "    # Plot the slices\n",
    "    plt.figure(figsize=(10,10))\n",
    "    plt.title(\"Computed solutions at time = %g\"%t1)\n",
    "    plt.plot(x, res1)\n",
    "    plt.plot(x,res_analytical1)\n",
    "    plt.legend(['dnn','analytical'])\n",
    "\n",
    "    plt.figure(figsize=(10,10))\n",
    "    plt.title(\"Computed solutions at time = %g\"%t2)\n",
    "    plt.plot(x, res2)\n",
    "    plt.plot(x,res_analytical2)\n",
    "    plt.legend(['dnn','analytical'])\n",
    "\n",
    "    plt.figure(figsize=(10,10))\n",
    "    plt.title(\"Computed solutions at time = %g\"%t3)\n",
    "    plt.plot(x, res3)\n",
    "    plt.plot(x,res_analytical3)\n",
    "    plt.legend(['dnn','analytical'])\n",
    "\n",
    "    plt.show()"
   ]
  },
  {
   "cell_type": "markdown",
   "id": "1f70148a",
   "metadata": {
    "editable": true
   },
   "source": [
    "## CNNs in brief\n",
    "\n",
    "To be revised.\n",
    "\n",
    "In summary:\n",
    "\n",
    "* A CNN architecture is in the simplest case a list of Layers that transform the image volume into an output volume (e.g. holding the class scores)\n",
    "\n",
    "* There are a few distinct types of Layers (e.g. CONV/FC/RELU/POOL are by far the most popular)\n",
    "\n",
    "* Each Layer accepts an input 3D volume and transforms it to an output 3D volume through a differentiable function\n",
    "\n",
    "* Each Layer may or may not have parameters (e.g. CONV/FC do, RELU/POOL don’t)\n",
    "\n",
    "* Each Layer may or may not have additional hyperparameters (e.g. CONV/FC/POOL do, RELU doesn’t)\n",
    "\n",
    "For more material on convolutional networks, we strongly recommend\n",
    "the course\n",
    "[IN5400 – Machine Learning for Image Analysis](https://www.uio.no/studier/emner/matnat/ifi/IN5400/index-eng.html)\n",
    "and the slides of [CS231](http://cs231n.github.io/convolutional-networks/) which is taught at Stanford University (consistently ranked as one of the top computer science programs in the world). [Michael Nielsen's book is a must read, in particular chapter 6 which deals with CNNs](http://neuralnetworksanddeeplearning.com/chap6.html).\n",
    "\n",
    "However, both standard feed forwards networks and CNNs perform well on data with unknown length.\n",
    "\n",
    "This is where recurrent nueral networks (RNNs) come to our rescue."
   ]
  },
  {
   "cell_type": "markdown",
   "id": "206d8c01",
   "metadata": {
    "editable": true
   },
   "source": [
    "## Recurrent neural networks: Overarching view\n",
    "\n",
    "Till now our focus has been, including convolutional neural networks\n",
    "as well, on feedforward neural networks. The output or the activations\n",
    "flow only in one direction, from the input layer to the output layer.\n",
    "\n",
    "A recurrent neural network (RNN) looks very much like a feedforward\n",
    "neural network, except that it also has connections pointing\n",
    "backward. \n",
    "\n",
    "RNNs are used to analyze time series data such as stock prices, and\n",
    "tell you when to buy or sell. In autonomous driving systems, they can\n",
    "anticipate car trajectories and help avoid accidents. More generally,\n",
    "they can work on sequences of arbitrary lengths, rather than on\n",
    "fixed-sized inputs like all the nets we have discussed so far. For\n",
    "example, they can take sentences, documents, or audio samples as\n",
    "input, making them extremely useful for natural language processing\n",
    "systems such as automatic translation and speech-to-text."
   ]
  }
 ],
 "metadata": {},
 "nbformat": 4,
 "nbformat_minor": 5
}
