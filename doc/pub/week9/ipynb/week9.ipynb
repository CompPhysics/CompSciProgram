{
 "cells": [
  {
   "cell_type": "markdown",
   "id": "8b9c0bff",
   "metadata": {
    "editable": true
   },
   "source": [
    "<!-- HTML file automatically generated from DocOnce source (https://github.com/doconce/doconce/)\n",
    "doconce format html week9.do.txt --no_mako -->\n",
    "<!-- dom:TITLE: Deep Learning: Convolutional Neural Networks -->"
   ]
  },
  {
   "cell_type": "markdown",
   "id": "38303352",
   "metadata": {
    "editable": true
   },
   "source": [
    "# Deep Learning: Convolutional Neural Networks\n",
    "**Morten Hjorth-Jensen**, Department of Physics, University of Oslo and Department of Physics and Astronomy and National Superconducting Cyclotron Laboratory, Michigan State University\n",
    "\n",
    "Date: **Feb 27, 2022**\n",
    "\n",
    "Copyright 1999-2022, Morten Hjorth-Jensen. Released under CC Attribution-NonCommercial 4.0 license"
   ]
  },
  {
   "cell_type": "markdown",
   "id": "6bb71f0a",
   "metadata": {
    "editable": true
   },
   "source": [
    "## Plans for week 9, February 28-March 4\n",
    "\n",
    "* Convolutional Neural Networks\n",
    "\n",
    "* Recurrent neural networks"
   ]
  },
  {
   "cell_type": "markdown",
   "id": "8c692ab8",
   "metadata": {
    "editable": true
   },
   "source": [
    "## Resources on Convolutional Networks\n",
    "\n",
    "**Excellent lectures on CNNs.**\n",
    "\n",
    "* [Video  on Convolutional Neural Networks from MIT](https://www.youtube.com/watch?v=iaSUYvmCekI&ab_channel=AlexanderAmini)\n",
    "\n",
    "* [Video on Deep Learning](https://www.youtube.com/playlist?list=PLZHQObOWTQDNU6R1_67000Dx_ZCJB-3pi)\n",
    "\n",
    "**More resources.**\n",
    "\n",
    "* [IN5400 at UiO Lecture](https://www.uio.no/studier/emner/matnat/ifi/IN5400/v20/material/week10/in5400_2020_week10_recurrent_neural_network.pdf)\n",
    "\n",
    "* [CS231 at Stanford Lecture](https://www.youtube.com/watch?v=6niqTuYFZLQ&list=PLzUTmXVwsnXod6WNdg57Yc3zFx_f-RYsq&index=10&ab_channel=StanfordUniversitySchoolofEngineering)\n",
    "\n",
    "**Reading Recommendations.**\n",
    "\n",
    "* Goodfellow et al, chapter 9 on CNNs, chapters 11 and 12 on various practicalities around deep learning are also recommended.\n",
    "\n",
    "* Aurelien Geron, chapter 13 on CNNs."
   ]
  },
  {
   "cell_type": "markdown",
   "id": "ef954502",
   "metadata": {
    "editable": true
   },
   "source": [
    "## Convolutional Neural Networks (recognizing images)\n",
    "\n",
    "Convolutional neural networks (CNNs) were developed during the last\n",
    "decade of the previous century, with a focus on character recognition\n",
    "tasks. Nowadays, CNNs are a central element in the spectacular success\n",
    "of deep learning methods. The success in for example image\n",
    "classifications have made them a central tool for most machine\n",
    "learning practitioners.\n",
    "\n",
    "CNNs are very similar to ordinary Neural Networks.\n",
    "They are made up of neurons that have learnable weights and\n",
    "biases. Each neuron receives some inputs, performs a dot product and\n",
    "optionally follows it with a non-linearity. The whole network still\n",
    "expresses a single differentiable score function: from the raw image\n",
    "pixels on one end to class scores at the other. And they still have a\n",
    "loss function (for example Softmax) on the last (fully-connected) layer\n",
    "and all the tips/tricks we developed for learning regular Neural\n",
    "Networks still apply (back propagation, gradient descent etc etc)."
   ]
  },
  {
   "cell_type": "markdown",
   "id": "15811ea7",
   "metadata": {
    "editable": true
   },
   "source": [
    "## What is the Difference\n",
    "\n",
    "**CNN architectures make the explicit assumption that\n",
    "the inputs are images, which allows us to encode certain properties\n",
    "into the architecture. These then make the forward function more\n",
    "efficient to implement and vastly reduce the amount of parameters in\n",
    "the network.**\n",
    "\n",
    "Here we provide only a superficial overview, for the more interested, we recommend highly the course\n",
    "[IN5400 – Machine Learning for Image Analysis](https://www.uio.no/studier/emner/matnat/ifi/IN5400/index-eng.html)\n",
    "and the slides of [CS231](http://cs231n.github.io/convolutional-networks/).\n",
    "\n",
    "Another good read is the article here <https://arxiv.org/pdf/1603.07285.pdf>."
   ]
  },
  {
   "cell_type": "markdown",
   "id": "22da5177",
   "metadata": {
    "editable": true
   },
   "source": [
    "## Neural Networks vs CNNs\n",
    "\n",
    "Neural networks are defined as **affine transformations**, that is \n",
    "a vector is received as input and is multiplied with a matrix of so-called weights (our unknown paramters) to produce an\n",
    "output (to which a bias vector is usually added before passing the result\n",
    "through a nonlinear activation function). This is applicable to any type of input, be it an\n",
    "image, a sound clip or an unordered collection of features: whatever their\n",
    "dimensionality, their representation can always be flattened into a vector\n",
    "before the transformation."
   ]
  },
  {
   "cell_type": "markdown",
   "id": "92064408",
   "metadata": {
    "editable": true
   },
   "source": [
    "## Why CNNS for images, sound files, medical images from CT scans etc?\n",
    "\n",
    "However, when we consider images, sound clips and many other similar kinds of data, these data  have an intrinsic\n",
    "structure. More formally, they share these important properties:\n",
    "* They are stored as multi-dimensional arrays (think of the pixels of a figure) .\n",
    "\n",
    "* They feature one or more axes for which ordering matters (e.g., width and height axes for an image, time axis for a sound clip).\n",
    "\n",
    "* One axis, called the channel axis, is used to access different views of the data (e.g., the red, green and blue channels of a color image, or the left and right channels of a stereo audio track).\n",
    "\n",
    "These properties are not exploited when an affine transformation is applied; in\n",
    "fact, all the axes are treated in the same way and the topological information\n",
    "is not taken into account. Still, taking advantage of the implicit structure of\n",
    "the data may prove very handy in solving some tasks, like computer vision and\n",
    "speech recognition, and in these cases it would be best to preserve it. This is\n",
    "where discrete convolutions come into play.\n",
    "\n",
    "A discrete convolution is a linear transformation that preserves this notion of\n",
    "ordering. It is sparse (only a few input units contribute to a given output\n",
    "unit) and reuses parameters (the same weights are applied to multiple locations\n",
    "in the input)."
   ]
  },
  {
   "cell_type": "markdown",
   "id": "193dc577",
   "metadata": {
    "editable": true
   },
   "source": [
    "## Regular NNs don’t scale well to full images\n",
    "\n",
    "As an example, consider\n",
    "an image of size $32\\times 32\\times 3$ (32 wide, 32 high, 3 color channels), so a\n",
    "single fully-connected neuron in a first hidden layer of a regular\n",
    "Neural Network would have $32\\times 32\\times 3 = 3072$ weights. This amount still\n",
    "seems manageable, but clearly this fully-connected structure does not\n",
    "scale to larger images. For example, an image of more respectable\n",
    "size, say $200\\times 200\\times 3$, would lead to neurons that have \n",
    "$200\\times 200\\times 3 = 120,000$ weights. \n",
    "\n",
    "We could have\n",
    "several such neurons, and the parameters would add up quickly! Clearly,\n",
    "this full connectivity is wasteful and the huge number of parameters\n",
    "would quickly lead to possible overfitting.\n",
    "\n",
    "<!-- dom:FIGURE: [figslides/nn.jpeg, width=500 frac=0.6]  A regular 3-layer Neural Network. -->\n",
    "<!-- begin figure -->\n",
    "\n",
    "<img src=\"figslides/nn.jpeg\" width=\"500\"><p style=\"font-size: 0.9em\"><i>Figure 1: A regular 3-layer Neural Network.</i></p>\n",
    "<!-- end figure -->"
   ]
  },
  {
   "cell_type": "markdown",
   "id": "feee20fc",
   "metadata": {
    "editable": true
   },
   "source": [
    "## 3D volumes of neurons\n",
    "\n",
    "Convolutional Neural Networks take advantage of the fact that the\n",
    "input consists of images and they constrain the architecture in a more\n",
    "sensible way. \n",
    "\n",
    "In particular, unlike a regular Neural Network, the\n",
    "layers of a CNN have neurons arranged in 3 dimensions: width,\n",
    "height, depth. (Note that the word depth here refers to the third\n",
    "dimension of an activation volume, not to the depth of a full Neural\n",
    "Network, which can refer to the total number of layers in a network.)\n",
    "\n",
    "To understand it better, the above example of an image \n",
    "with an input volume of\n",
    "activations has dimensions $32\\times 32\\times 3$ (width, height,\n",
    "depth respectively). \n",
    "\n",
    "The neurons in a layer will\n",
    "only be connected to a small region of the layer before it, instead of\n",
    "all of the neurons in a fully-connected manner. Moreover, the final\n",
    "output layer could  for this specific image have dimensions $1\\times 1 \\times 10$, \n",
    "because by the\n",
    "end of the CNN architecture we will reduce the full image into a\n",
    "single vector of class scores, arranged along the depth\n",
    "dimension. \n",
    "\n",
    "<!-- dom:FIGURE: [figslides/cnn.jpeg, width=500 frac=0.6]  A CNN arranges its neurons in three dimensions (width, height, depth), as visualized in one of the layers. Every layer of a CNN transforms the 3D input volume to a 3D output volume of neuron activations. In this example, the red input layer holds the image, so its width and height would be the dimensions of the image, and the depth would be 3 (Red, Green, Blue channels). -->\n",
    "<!-- begin figure -->\n",
    "\n",
    "<img src=\"figslides/cnn.jpeg\" width=\"500\"><p style=\"font-size: 0.9em\"><i>Figure 1: A CNN arranges its neurons in three dimensions (width, height, depth), as visualized in one of the layers. Every layer of a CNN transforms the 3D input volume to a 3D output volume of neuron activations. In this example, the red input layer holds the image, so its width and height would be the dimensions of the image, and the depth would be 3 (Red, Green, Blue channels).</i></p>\n",
    "<!-- end figure -->"
   ]
  },
  {
   "cell_type": "markdown",
   "id": "eea0b2f0",
   "metadata": {
    "editable": true
   },
   "source": [
    "## Layers used to build CNNs\n",
    "\n",
    "A simple CNN is a sequence of layers, and every layer of a CNN\n",
    "transforms one volume of activations to another through a\n",
    "differentiable function. We use three main types of layers to build\n",
    "CNN architectures: Convolutional Layer, Pooling Layer, and\n",
    "Fully-Connected Layer (exactly as seen in regular Neural Networks). We\n",
    "will stack these layers to form a full CNN architecture.\n",
    "\n",
    "A simple CNN for image classification could have the architecture:\n",
    "\n",
    "* **INPUT** ($32\\times 32 \\times 3$) will hold the raw pixel values of the image, in this case an image of width 32, height 32, and with three color channels R,G,B.\n",
    "\n",
    "* **CONV** (convolutional )layer will compute the output of neurons that are connected to local regions in the input, each computing a dot product between their weights and a small region they are connected to in the input volume. This may result in volume such as $[32\\times 32\\times 12]$ if we decided to use 12 filters.\n",
    "\n",
    "* **RELU** layer will apply an elementwise activation function, such as the $max(0,x)$ thresholding at zero. This leaves the size of the volume unchanged ($[32\\times 32\\times 12]$).\n",
    "\n",
    "* **POOL** (pooling) layer will perform a downsampling operation along the spatial dimensions (width, height), resulting in volume such as $[16\\times 16\\times 12]$.\n",
    "\n",
    "* **FC** (i.e. fully-connected) layer will compute the class scores, resulting in volume of size $[1\\times 1\\times 10]$, where each of the 10 numbers correspond to a class score, such as among the 10 categories of the MNIST images we considered above . As with ordinary Neural Networks and as the name implies, each neuron in this layer will be connected to all the numbers in the previous volume."
   ]
  },
  {
   "cell_type": "markdown",
   "id": "ab9f35c1",
   "metadata": {
    "editable": true
   },
   "source": [
    "## Transforming images\n",
    "\n",
    "CNNs transform the original image layer by layer from the original\n",
    "pixel values to the final class scores. \n",
    "\n",
    "Observe that some layers contain\n",
    "parameters and other don’t. In particular, the CNN layers perform\n",
    "transformations that are a function of not only the activations in the\n",
    "input volume, but also of the parameters (the weights and biases of\n",
    "the neurons). On the other hand, the RELU/POOL layers will implement a\n",
    "fixed function. The parameters in the CONV/FC layers will be trained\n",
    "with gradient descent so that the class scores that the CNN computes\n",
    "are consistent with the labels in the training set for each image."
   ]
  },
  {
   "cell_type": "markdown",
   "id": "c37011fa",
   "metadata": {
    "editable": true
   },
   "source": [
    "## CNNs in brief\n",
    "\n",
    "In summary:\n",
    "\n",
    "* A CNN architecture is in the simplest case a list of Layers that transform the image volume into an output volume (e.g. holding the class scores)\n",
    "\n",
    "* There are a few distinct types of Layers (e.g. CONV/FC/RELU/POOL are by far the most popular)\n",
    "\n",
    "* Each Layer accepts an input 3D volume and transforms it to an output 3D volume through a differentiable function\n",
    "\n",
    "* Each Layer may or may not have parameters (e.g. CONV/FC do, RELU/POOL don’t)\n",
    "\n",
    "* Each Layer may or may not have additional hyperparameters (e.g. CONV/FC/POOL do, RELU doesn’t)\n",
    "\n",
    "For more material on convolutional networks, we strongly recommend\n",
    "the course\n",
    "[IN5400 – Machine Learning for Image Analysis](https://www.uio.no/studier/emner/matnat/ifi/IN5400/index-eng.html)\n",
    "and the slides of [CS231](http://cs231n.github.io/convolutional-networks/) which is taught at Stanford University (consistently ranked as one of the top computer science programs in the world). [Michael Nielsen's book is a must read, in particular chapter 6 which deals with CNNs](http://neuralnetworksanddeeplearning.com/chap6.html).\n",
    "\n",
    "The textbook by Goodfellow et al, see chapter 9 contains an in depth discussion as well."
   ]
  },
  {
   "cell_type": "markdown",
   "id": "ff5dfc3e",
   "metadata": {
    "editable": true
   },
   "source": [
    "## Key Idea\n",
    "\n",
    "A dense neural network is representd by an affine operation (like matrix-matrix multiplication) where all parameters are included.\n",
    "\n",
    "The key idea in CNNs for say imaging is that in images neighbor pixels tend to be related! So we connect\n",
    "only neighboring neurons in the input instead of connecting all with the first hidden layer.\n",
    "\n",
    "We say we perform a filtering (convolution is the mathematical operation)."
   ]
  },
  {
   "cell_type": "markdown",
   "id": "d476907f",
   "metadata": {
    "editable": true
   },
   "source": [
    "## Mathematics of CNNs\n",
    "\n",
    "The mathematics of CNNs is based on the mathematical operation of\n",
    "**convolution**.  In mathematics (in particular in functional analysis),\n",
    "convolution is represented by matheematical operation (integration,\n",
    "summation etc) on two function in order to produce a third function\n",
    "that expresses how the shape of one gets modified by the other.\n",
    "Convolution has a plethora of applications in a variety of disciplines, spanning from statistics to signal processing, computer vision, solutions of differential equations,linear algebra, engineering,  and yes, machine learning.\n",
    "\n",
    "Mathematically, convolution is defined as follows (one-dimensional example):\n",
    "Let us define a continuous function $y(t)$ given by"
   ]
  },
  {
   "cell_type": "markdown",
   "id": "98318a37",
   "metadata": {
    "editable": true
   },
   "source": [
    "$$\n",
    "y(t) = \\int x(a) w(t-a) da,\n",
    "$$"
   ]
  },
  {
   "cell_type": "markdown",
   "id": "6146378b",
   "metadata": {
    "editable": true
   },
   "source": [
    "where $x(a)$ represents a so-called input and $w(t-a)$ is normally called the weight function or kernel.\n",
    "\n",
    "The above integral is written in  a more compact form as"
   ]
  },
  {
   "cell_type": "markdown",
   "id": "eab8c45b",
   "metadata": {
    "editable": true
   },
   "source": [
    "$$\n",
    "y(t) = \\left(x * w\\right)(t).\n",
    "$$"
   ]
  },
  {
   "cell_type": "markdown",
   "id": "e38656f1",
   "metadata": {
    "editable": true
   },
   "source": [
    "The discretized version reads"
   ]
  },
  {
   "cell_type": "markdown",
   "id": "a1f52aa4",
   "metadata": {
    "editable": true
   },
   "source": [
    "$$\n",
    "y(t) = \\sum_{a=-\\infty}^{a=\\infty}x(a)w(t-a).\n",
    "$$"
   ]
  },
  {
   "cell_type": "markdown",
   "id": "e68f90ec",
   "metadata": {
    "editable": true
   },
   "source": [
    "Computing the inverse of the above convolution operations is known as deconvolution.\n",
    "\n",
    "How can we use this? And what does it mean? Let us study some familiar examples first."
   ]
  },
  {
   "cell_type": "markdown",
   "id": "97b8f329",
   "metadata": {
    "editable": true
   },
   "source": [
    "## Convolution Examples: Polynomial multiplication\n",
    "\n",
    "We have already met such an example in project 1 when we tried to set\n",
    "up the design matrix for a two-dimensional function. This was an\n",
    "example of polynomial multiplication.  Let us recast such a problem in terms of the convolution operation.\n",
    "Let us look a the following polynomials to second and third order, respectively:"
   ]
  },
  {
   "cell_type": "markdown",
   "id": "723f0d4c",
   "metadata": {
    "editable": true
   },
   "source": [
    "$$\n",
    "p(t) = \\alpha_0+\\alpha_1 t+\\alpha_2 t^2,\n",
    "$$"
   ]
  },
  {
   "cell_type": "markdown",
   "id": "a83699e6",
   "metadata": {
    "editable": true
   },
   "source": [
    "and"
   ]
  },
  {
   "cell_type": "markdown",
   "id": "671c9a25",
   "metadata": {
    "editable": true
   },
   "source": [
    "$$\n",
    "s(t) = \\beta_0+\\beta_1 t+\\beta_2 t^2+\\beta_3 t^3.\n",
    "$$"
   ]
  },
  {
   "cell_type": "markdown",
   "id": "ea32956d",
   "metadata": {
    "editable": true
   },
   "source": [
    "The polynomial multiplication gives us a new polynomial of degree $5$"
   ]
  },
  {
   "cell_type": "markdown",
   "id": "43130bda",
   "metadata": {
    "editable": true
   },
   "source": [
    "$$\n",
    "z(t) = \\delta_0+\\delta_1 t+\\delta_2 t^2+\\delta_3 t^3+\\delta_4 t^4+\\delta_5 t^5.\n",
    "$$"
   ]
  },
  {
   "cell_type": "markdown",
   "id": "4dc901c0",
   "metadata": {
    "editable": true
   },
   "source": [
    "## Efficient Polynomial Multiplication\n",
    "\n",
    "Computing polynomial products can be implemented efficiently if we rewrite the more brute force multiplications using convolution.\n",
    "We note first that the new coefficients are given as"
   ]
  },
  {
   "cell_type": "markdown",
   "id": "354a415f",
   "metadata": {
    "editable": true
   },
   "source": [
    "$$\n",
    "\\begin{split}\n",
    "\\delta_0=&\\alpha_0\\beta_0\\\\\n",
    "\\delta_1=&\\alpha_1\\beta_0+\\alpha_1\\beta_0\\\\\n",
    "\\delta_2=&\\alpha_0\\beta_2+\\alpha_1\\beta_1+\\alpha_2\\beta_0\\\\\n",
    "\\delta_3=&\\alpha_1\\beta_2+\\alpha_2\\beta_1+\\alpha_0\\beta_3\\\\\n",
    "\\delta_4=&\\alpha_2\\beta_2+\\alpha_1\\beta_3\\\\\n",
    "\\delta_5=&\\alpha_2\\beta_3.\\\\\n",
    "\\end{split}\n",
    "$$"
   ]
  },
  {
   "cell_type": "markdown",
   "id": "e6c6c9f7",
   "metadata": {
    "editable": true
   },
   "source": [
    "We note that $\\alpha_i=0$ except for $i\\in \\left\\{0,1,2\\right\\}$ and $\\beta_i=0$ except for $i\\in\\left\\{0,1,2,3\\right\\}$.\n",
    "\n",
    "We can then rewrite the coefficients $\\delta_j$ using a discrete convolution as"
   ]
  },
  {
   "cell_type": "markdown",
   "id": "d83c5a76",
   "metadata": {
    "editable": true
   },
   "source": [
    "$$\n",
    "\\delta_j = \\sum_{i=-\\infty}^{i=\\infty}\\alpha_i\\beta_{j-i}=(\\alpha * \\beta)_j,\n",
    "$$"
   ]
  },
  {
   "cell_type": "markdown",
   "id": "cf7aee43",
   "metadata": {
    "editable": true
   },
   "source": [
    "or as a double sum with restriction $l=i+j$"
   ]
  },
  {
   "cell_type": "markdown",
   "id": "7511c55f",
   "metadata": {
    "editable": true
   },
   "source": [
    "$$\n",
    "\\delta_l = \\sum_{ij}\\alpha_i\\beta_{j}.\n",
    "$$"
   ]
  },
  {
   "cell_type": "markdown",
   "id": "7ab3b414",
   "metadata": {
    "editable": true
   },
   "source": [
    "Do you see a potential drawback with these equations?"
   ]
  },
  {
   "cell_type": "markdown",
   "id": "542be93a",
   "metadata": {
    "editable": true
   },
   "source": [
    "## A more efficient way of coding the above Convolution\n",
    "\n",
    "Since we only have a finite number of $\\alpha$ and $\\beta$ values\n",
    "which are non-zero, we can rewrite the above convolution expressions\n",
    "as a matrix-vector multiplication"
   ]
  },
  {
   "cell_type": "markdown",
   "id": "8f41e997",
   "metadata": {
    "editable": true
   },
   "source": [
    "$$\n",
    "\\boldsymbol{\\delta}=\\begin{bmatrix}\\alpha_0 & 0 & 0 & 0 \\\\\n",
    "                            \\alpha_1 & \\alpha_0 & 0 & 0 \\\\\n",
    "\t\t\t    \\alpha_2 & \\alpha_1 & \\alpha_0 & 0 \\\\\n",
    "\t\t\t    0 & \\alpha_2 & \\alpha_1 & \\alpha_0 \\\\\n",
    "\t\t\t    0 & 0 & \\alpha_2 & \\alpha_1 \\\\\n",
    "\t\t\t    0 & 0 & 0 & \\alpha_2\n",
    "\t\t\t    \\end{bmatrix}\\begin{bmatrix} \\beta_0 \\\\ \\beta_1 \\\\ \\beta_2 \\\\ \\beta_3\\end{bmatrix}.\n",
    "$$"
   ]
  },
  {
   "cell_type": "markdown",
   "id": "70752eeb",
   "metadata": {
    "editable": true
   },
   "source": [
    "The process is commutative and we can easily see that we can rewrite the multiplication in terms of  a matrix holding $\\beta$ and a vector holding $\\alpha$.\n",
    "In this case we have"
   ]
  },
  {
   "cell_type": "markdown",
   "id": "24b870e4",
   "metadata": {
    "editable": true
   },
   "source": [
    "$$\n",
    "\\boldsymbol{\\delta}=\\begin{bmatrix}\\beta_0 & 0 & 0  \\\\\n",
    "                            \\beta_1 & \\beta_0 & 0  \\\\\n",
    "\t\t\t    \\beta_2 & \\beta_1 & \\beta_0  \\\\\n",
    "\t\t\t    \\beta_3 & \\beta_2 & \\beta_1 \\\\\n",
    "\t\t\t    0 & \\beta_3 & \\beta_2 \\\\\n",
    "\t\t\t    0 & 0 & \\beta_3\n",
    "\t\t\t    \\end{bmatrix}\\begin{bmatrix} \\alpha_0 \\\\ \\alpha_1 \\\\ \\alpha_2\\end{bmatrix}.\n",
    "$$"
   ]
  },
  {
   "cell_type": "markdown",
   "id": "b4a0daba",
   "metadata": {
    "editable": true
   },
   "source": [
    "Note that the use of these  matrices is for mathematical purposes only  and not implementation purposes.\n",
    "When implementing the above equation we do not encode (and allocate memory) the matrices explicitely.\n",
    "We rather code the convolutions in the minimal memory footprint that they require.\n",
    "\n",
    "Does the number of floating point operations change here when we use the commutative property?"
   ]
  },
  {
   "cell_type": "markdown",
   "id": "0b7f0a98",
   "metadata": {
    "editable": true
   },
   "source": [
    "## Convolution Examples: Principle of Superposition and Periodic Forces (Fourier Transforms)\n",
    "\n",
    "For problems with so-called harmonic oscillations, given by for example the following differential equation"
   ]
  },
  {
   "cell_type": "markdown",
   "id": "f12e452e",
   "metadata": {
    "editable": true
   },
   "source": [
    "$$\n",
    "m\\frac{d^2x}{dt^2}+\\eta\\frac{dx}{dt}+x(t)=F(t),\n",
    "$$"
   ]
  },
  {
   "cell_type": "markdown",
   "id": "e8039102",
   "metadata": {
    "editable": true
   },
   "source": [
    "where $F(t)$ is an applied external force acting on the system (often called a driving force), one can use the theory of Fourier transformations to find the solutions of this type of equations.\n",
    "\n",
    "If one has several driving forces, $F(t)=\\sum_n F_n(t)$, one can find\n",
    "the particular solution to each $F_n$, $x_{pn}(t)$, and the particular\n",
    "solution for the entire driving force is then given by a series like"
   ]
  },
  {
   "cell_type": "markdown",
   "id": "78da51c5",
   "metadata": {
    "editable": true
   },
   "source": [
    "<!-- Equation labels as ordinary links -->\n",
    "<div id=\"_auto1\"></div>\n",
    "\n",
    "$$\n",
    "\\begin{equation}\n",
    "x_p(t)=\\sum_nx_{pn}(t).\n",
    "\\label{_auto1} \\tag{1}\n",
    "\\end{equation}\n",
    "$$"
   ]
  },
  {
   "cell_type": "markdown",
   "id": "79d000a4",
   "metadata": {
    "editable": true
   },
   "source": [
    "## Principle of Superposition\n",
    "\n",
    "This is known as the principle of superposition. It only applies when\n",
    "the homogenous equation is linear. If there were an anharmonic term\n",
    "such as $x^3$ in the homogenous equation, then when one summed various\n",
    "solutions, $x=(\\sum_n x_n)^2$, one would get cross\n",
    "terms. Superposition is especially useful when $F(t)$ can be written\n",
    "as a sum of sinusoidal terms, because the solutions for each\n",
    "sinusoidal (sine or cosine)  term is analytic. \n",
    "\n",
    "Driving forces are often periodic, even when they are not\n",
    "sinusoidal. Periodicity implies that for some time $\\tau$"
   ]
  },
  {
   "cell_type": "markdown",
   "id": "5f9e0e81",
   "metadata": {
    "editable": true
   },
   "source": [
    "$$\n",
    "\\begin{eqnarray}\n",
    "F(t+\\tau)=F(t). \n",
    "\\end{eqnarray}\n",
    "$$"
   ]
  },
  {
   "cell_type": "markdown",
   "id": "6b27697d",
   "metadata": {
    "editable": true
   },
   "source": [
    "One example of a non-sinusoidal periodic force is a square wave. Many\n",
    "components in electric circuits are non-linear, e.g. diodes, which\n",
    "makes many wave forms non-sinusoidal even when the circuits are being\n",
    "driven by purely sinusoidal sources."
   ]
  },
  {
   "cell_type": "markdown",
   "id": "79ea60df",
   "metadata": {
    "editable": true
   },
   "source": [
    "## Simple Code Example\n",
    "\n",
    "The code here shows a typical example of such a square wave generated using the functionality included in the **scipy** Python package. We have used a period of $\\tau=0.2$."
   ]
  },
  {
   "cell_type": "code",
   "execution_count": 1,
   "id": "18f0c224",
   "metadata": {
    "collapsed": false,
    "editable": true
   },
   "outputs": [],
   "source": [
    "%matplotlib inline\n",
    "\n",
    "import numpy as np\n",
    "import math\n",
    "from scipy import signal\n",
    "import matplotlib.pyplot as plt\n",
    "\n",
    "# number of points                                                                                       \n",
    "n = 500\n",
    "# start and final times                                                                                  \n",
    "t0 = 0.0\n",
    "tn = 1.0\n",
    "# Period                                                                                                 \n",
    "t = np.linspace(t0, tn, n, endpoint=False)\n",
    "SqrSignal = np.zeros(n)\n",
    "SqrSignal = 1.0+signal.square(2*np.pi*5*t)\n",
    "plt.plot(t, SqrSignal)\n",
    "plt.ylim(-0.5, 2.5)\n",
    "plt.show()"
   ]
  },
  {
   "cell_type": "markdown",
   "id": "68f33968",
   "metadata": {
    "editable": true
   },
   "source": [
    "For the sinusoidal example the\n",
    "period is $\\tau=2\\pi/\\omega$. However, higher harmonics can also\n",
    "satisfy the periodicity requirement. In general, any force that\n",
    "satisfies the periodicity requirement can be expressed as a sum over\n",
    "harmonics,"
   ]
  },
  {
   "cell_type": "markdown",
   "id": "2342dd72",
   "metadata": {
    "editable": true
   },
   "source": [
    "<!-- Equation labels as ordinary links -->\n",
    "<div id=\"_auto2\"></div>\n",
    "\n",
    "$$\n",
    "\\begin{equation}\n",
    "F(t)=\\frac{f_0}{2}+\\sum_{n>0} f_n\\cos(2n\\pi t/\\tau)+g_n\\sin(2n\\pi t/\\tau).\n",
    "\\label{_auto2} \\tag{2}\n",
    "\\end{equation}\n",
    "$$"
   ]
  },
  {
   "cell_type": "markdown",
   "id": "c703d45b",
   "metadata": {
    "editable": true
   },
   "source": [
    "## Wrapping up Fourier transforms\n",
    "\n",
    "We can write down the answer for\n",
    "$x_{pn}(t)$, by substituting $f_n/m$ or $g_n/m$ for $F_0/m$. By\n",
    "writing each factor $2n\\pi t/\\tau$ as $n\\omega t$, with $\\omega\\equiv\n",
    "2\\pi/\\tau$,"
   ]
  },
  {
   "cell_type": "markdown",
   "id": "87aea0ca",
   "metadata": {
    "editable": true
   },
   "source": [
    "<!-- Equation labels as ordinary links -->\n",
    "<div id=\"eq:fourierdef1\"></div>\n",
    "\n",
    "$$\n",
    "\\begin{equation}\n",
    "\\label{eq:fourierdef1} \\tag{3}\n",
    "F(t)=\\frac{f_0}{2}+\\sum_{n>0}f_n\\cos(n\\omega t)+g_n\\sin(n\\omega t).\n",
    "\\end{equation}\n",
    "$$"
   ]
  },
  {
   "cell_type": "markdown",
   "id": "f73e3a1a",
   "metadata": {
    "editable": true
   },
   "source": [
    "The solutions for $x(t)$ then come from replacing $\\omega$ with\n",
    "$n\\omega$ for each term in the particular solution,"
   ]
  },
  {
   "cell_type": "markdown",
   "id": "cf9c7448",
   "metadata": {
    "editable": true
   },
   "source": [
    "$$\n",
    "\\begin{eqnarray}\n",
    "x_p(t)&=&\\frac{f_0}{2k}+\\sum_{n>0} \\alpha_n\\cos(n\\omega t-\\delta_n)+\\beta_n\\sin(n\\omega t-\\delta_n),\\\\\n",
    "\\nonumber\n",
    "\\alpha_n&=&\\frac{f_n/m}{\\sqrt{((n\\omega)^2-\\omega_0^2)+4\\beta^2n^2\\omega^2}},\\\\\n",
    "\\nonumber\n",
    "\\beta_n&=&\\frac{g_n/m}{\\sqrt{((n\\omega)^2-\\omega_0^2)+4\\beta^2n^2\\omega^2}},\\\\\n",
    "\\nonumber\n",
    "\\delta_n&=&\\tan^{-1}\\left(\\frac{2\\beta n\\omega}{\\omega_0^2-n^2\\omega^2}\\right).\n",
    "\\end{eqnarray}\n",
    "$$"
   ]
  },
  {
   "cell_type": "markdown",
   "id": "fa5dd337",
   "metadata": {
    "editable": true
   },
   "source": [
    "## Finding the Coefficients\n",
    "\n",
    "Because the forces have been applied for a long time, any non-zero\n",
    "damping eliminates the homogenous parts of the solution, so one need\n",
    "only consider the particular solution for each $n$.\n",
    "\n",
    "The problem is considered solved if one can find expressions for the\n",
    "coefficients $f_n$ and $g_n$, even though the solutions are expressed\n",
    "as an infinite sum. The coefficients can be extracted from the\n",
    "function $F(t)$ by"
   ]
  },
  {
   "cell_type": "markdown",
   "id": "3c999813",
   "metadata": {
    "editable": true
   },
   "source": [
    "<!-- Equation labels as ordinary links -->\n",
    "<div id=\"eq:fourierdef2\"></div>\n",
    "\n",
    "$$\n",
    "\\begin{eqnarray}\n",
    "\\label{eq:fourierdef2} \\tag{4}\n",
    "f_n&=&\\frac{2}{\\tau}\\int_{-\\tau/2}^{\\tau/2} dt~F(t)\\cos(2n\\pi t/\\tau),\\\\\n",
    "\\nonumber\n",
    "g_n&=&\\frac{2}{\\tau}\\int_{-\\tau/2}^{\\tau/2} dt~F(t)\\sin(2n\\pi t/\\tau).\n",
    "\\end{eqnarray}\n",
    "$$"
   ]
  },
  {
   "cell_type": "markdown",
   "id": "10efc3c0",
   "metadata": {
    "editable": true
   },
   "source": [
    "To check the consistency of these expressions and to verify\n",
    "Eq. ([4](#eq:fourierdef2)), one can insert the expansion of $F(t)$ in\n",
    "Eq. ([3](#eq:fourierdef1)) into the expression for the coefficients in\n",
    "Eq. ([4](#eq:fourierdef2)) and see whether"
   ]
  },
  {
   "cell_type": "markdown",
   "id": "39182bd2",
   "metadata": {
    "editable": true
   },
   "source": [
    "$$\n",
    "\\begin{eqnarray}\n",
    "f_n&=?&\\frac{2}{\\tau}\\int_{-\\tau/2}^{\\tau/2} dt~\\left\\{\n",
    "\\frac{f_0}{2}+\\sum_{m>0}f_m\\cos(m\\omega t)+g_m\\sin(m\\omega t)\n",
    "\\right\\}\\cos(n\\omega t).\n",
    "\\end{eqnarray}\n",
    "$$"
   ]
  },
  {
   "cell_type": "markdown",
   "id": "dc82d48b",
   "metadata": {
    "editable": true
   },
   "source": [
    "Immediately, one can throw away all the terms with $g_m$ because they\n",
    "convolute an even and an odd function. The term with $f_0/2$\n",
    "disappears because $\\cos(n\\omega t)$ is equally positive and negative\n",
    "over the interval and will integrate to zero. For all the terms\n",
    "$f_m\\cos(m\\omega t)$ appearing in the sum, one can use angle addition\n",
    "formulas to see that $\\cos(m\\omega t)\\cos(n\\omega\n",
    "t)=(1/2)(\\cos[(m+n)\\omega t]+\\cos[(m-n)\\omega t]$. This will integrate\n",
    "to zero unless $m=n$. In that case the $m=n$ term gives"
   ]
  },
  {
   "cell_type": "markdown",
   "id": "ee4f059f",
   "metadata": {
    "editable": true
   },
   "source": [
    "<!-- Equation labels as ordinary links -->\n",
    "<div id=\"_auto3\"></div>\n",
    "\n",
    "$$\n",
    "\\begin{equation}\n",
    "\\int_{-\\tau/2}^{\\tau/2}dt~\\cos^2(m\\omega t)=\\frac{\\tau}{2},\n",
    "\\label{_auto3} \\tag{5}\n",
    "\\end{equation}\n",
    "$$"
   ]
  },
  {
   "cell_type": "markdown",
   "id": "bede1769",
   "metadata": {
    "editable": true
   },
   "source": [
    "and"
   ]
  },
  {
   "cell_type": "markdown",
   "id": "1c584b9d",
   "metadata": {
    "editable": true
   },
   "source": [
    "$$\n",
    "\\begin{eqnarray}\n",
    "f_n&=?&\\frac{2}{\\tau}\\int_{-\\tau/2}^{\\tau/2} dt~f_n/2\\\\\n",
    "\\nonumber\n",
    "&=&f_n~\\checkmark.\n",
    "\\end{eqnarray}\n",
    "$$"
   ]
  },
  {
   "cell_type": "markdown",
   "id": "bc2a422a",
   "metadata": {
    "editable": true
   },
   "source": [
    "The same method can be used to check for the consistency of $g_n$."
   ]
  },
  {
   "cell_type": "markdown",
   "id": "adcbdbd3",
   "metadata": {
    "editable": true
   },
   "source": [
    "## Final words on Fourier Transforms\n",
    "\n",
    "The code here uses the Fourier series applied to a \n",
    "square wave signal. The code here\n",
    "visualizes the various approximations given by Fourier series compared\n",
    "with a square wave with period $T=0.2$ (dimensionless time), width $0.1$ and max value of the force $F=2$. We\n",
    "see that when we increase the number of components in the Fourier\n",
    "series, the Fourier series approximation gets closer and closer to the\n",
    "square wave signal."
   ]
  },
  {
   "cell_type": "code",
   "execution_count": 2,
   "id": "3efd84c7",
   "metadata": {
    "collapsed": false,
    "editable": true
   },
   "outputs": [],
   "source": [
    "import numpy as np\n",
    "import math\n",
    "from scipy import signal\n",
    "import matplotlib.pyplot as plt\n",
    "\n",
    "# number of points                                                                                       \n",
    "n = 500\n",
    "# start and final times                                                                                  \n",
    "t0 = 0.0\n",
    "tn = 1.0\n",
    "# Period                                                                                                 \n",
    "T =0.2\n",
    "# Max value of square signal                                                                             \n",
    "Fmax= 2.0\n",
    "# Width of signal   \n",
    "Width = 0.1\n",
    "t = np.linspace(t0, tn, n, endpoint=False)\n",
    "SqrSignal = np.zeros(n)\n",
    "FourierSeriesSignal = np.zeros(n)\n",
    "SqrSignal = 1.0+signal.square(2*np.pi*5*t+np.pi*Width/T)\n",
    "a0 = Fmax*Width/T\n",
    "FourierSeriesSignal = a0\n",
    "Factor = 2.0*Fmax/np.pi\n",
    "for i in range(1,500):\n",
    "    FourierSeriesSignal += Factor/(i)*np.sin(np.pi*i*Width/T)*np.cos(i*t*2*np.pi/T)\n",
    "plt.plot(t, SqrSignal)\n",
    "plt.plot(t, FourierSeriesSignal)\n",
    "plt.ylim(-0.5, 2.5)\n",
    "plt.show()"
   ]
  },
  {
   "cell_type": "markdown",
   "id": "0151c5ba",
   "metadata": {
    "editable": true
   },
   "source": [
    "## Two-dimensional Objects\n",
    "\n",
    "We often use convolutions over more than one dimension at a time. If\n",
    "we have a two-dimensional image $I$ as input, we can have a **filter**\n",
    "defined by a two-dimensional **kernel** $K$. This leads to an output $S$"
   ]
  },
  {
   "cell_type": "markdown",
   "id": "4e356111",
   "metadata": {
    "editable": true
   },
   "source": [
    "$$\n",
    "S_(i,j)=(I * K)(i,j) = \\sum_m\\sum_n I(m,n)K(i-m,j-n).\n",
    "$$"
   ]
  },
  {
   "cell_type": "markdown",
   "id": "b69e8931",
   "metadata": {
    "editable": true
   },
   "source": [
    "Convolution is a commutatitave process, which means we can rewrite this equation as"
   ]
  },
  {
   "cell_type": "markdown",
   "id": "57e49e3f",
   "metadata": {
    "editable": true
   },
   "source": [
    "$$\n",
    "S_(i,j)=(I * K)(i,j) = \\sum_m\\sum_n I(i-m,j-n)K(m,n).\n",
    "$$"
   ]
  },
  {
   "cell_type": "markdown",
   "id": "460024a3",
   "metadata": {
    "editable": true
   },
   "source": [
    "Normally the latter is more straightforward to implement in  a machine elarning library since there is less variation in the range of values of $m$ and $n$."
   ]
  },
  {
   "cell_type": "markdown",
   "id": "31e80214",
   "metadata": {
    "editable": true
   },
   "source": [
    "## Cross-Correlation\n",
    "\n",
    "Many deep learning libraries implement cross-correlation instead of convolution"
   ]
  },
  {
   "cell_type": "markdown",
   "id": "04ad74e3",
   "metadata": {
    "editable": true
   },
   "source": [
    "$$\n",
    "S_(i,j)=(I * K)(i,j) = \\sum_m\\sum_n I(i+m,j-+)K(m,n).\n",
    "$$"
   ]
  },
  {
   "cell_type": "markdown",
   "id": "eba33fc2",
   "metadata": {
    "editable": true
   },
   "source": [
    "## More on Dimensionalities\n",
    "\n",
    "In feilds like signal processing (and imaging as well), one designs\n",
    "so-called filters. These filters are defined by the convolutions and\n",
    "are often hand-crafted. One may specify filters for smoothing, edge\n",
    "detection, frequency reshaping, and similar operations. However with\n",
    "neural networks the idea is to automatically learn the filters and use\n",
    "many of them in conjunction with non-linear operations (activation\n",
    "functions).\n",
    "\n",
    "As an example consider a neural network operating on sound sequence\n",
    "data.  Assume that we an input vector $\\boldsymbol{x}$ of length $d=10^6$.  We\n",
    "construct then a neural network with onle hidden layer only with\n",
    "$10^4$ nodes. This means that we will have a weight matrix with\n",
    "$10^4\\times 10^6=10^{10}$ weights to be determined, together with $10^4$ biases.\n",
    "\n",
    "Assume furthermore that we have an output layer which is meant to train whether the sound sequence represents a human voice (true) or something else (false).\n",
    "It means that we have only one output node. But since this output node connects to $10^4$ nodes in the hidden layer, there are in total $10^4$ weights to be determined for the output layer, plus one bias. In total we have"
   ]
  },
  {
   "cell_type": "markdown",
   "id": "2ca13ed1",
   "metadata": {
    "editable": true
   },
   "source": [
    "$$\n",
    "\\mathrm{NumberParameters}=10^{10}+10^4+10^4+1 \\approx 10^{10},\n",
    "$$"
   ]
  },
  {
   "cell_type": "markdown",
   "id": "9e80fde9",
   "metadata": {
    "editable": true
   },
   "source": [
    "that is ten billion parameters to determine."
   ]
  },
  {
   "cell_type": "markdown",
   "id": "6c1d604b",
   "metadata": {
    "editable": true
   },
   "source": [
    "## Further Dimensionality Remarks\n",
    "\n",
    "In today’s architecture one can train such neural networks, however\n",
    "this is a huge number of parameters for the task at hand. In general,\n",
    "it is a very wasteful and inefficient use of dense matrices as\n",
    "parameters. Just as importantly, such trained network parameters are\n",
    "very specific for the type of input data on which they were trained\n",
    "and the network is not likely to generalize easily to variations in\n",
    "the input.\n",
    "\n",
    "The main principles that justify convolutions is locality of\n",
    "information and repetion of patterns within the signal. Sound samples\n",
    "of the input in adjacent spots are much more likely to affect each\n",
    "other than those that are very far away. Similarly, sounds are\n",
    "repeated in multiple times in the signal. While slightly simplistic,\n",
    "reasoning about such a sound example demonstrates this. The same\n",
    "principles then apply to images and other similar data."
   ]
  },
  {
   "cell_type": "markdown",
   "id": "47a39af9",
   "metadata": {
    "editable": true
   },
   "source": [
    "## CNNs in more detail, building convolutional neural networks in Tensorflow and Keras\n",
    "\n",
    "As discussed above, CNNs are neural networks built from the assumption that the inputs\n",
    "to the network are 2D images. This is important because the number of features or pixels in images\n",
    "grows very fast with the image size, and an enormous number of weights and biases are needed in order to build an accurate network.  \n",
    "\n",
    "As before, we still have our input, a hidden layer and an output. What's novel about convolutional networks\n",
    "are the **convolutional** and **pooling** layers stacked in pairs between the input and the hidden layer.\n",
    "In addition, the data is no longer represented as a 2D feature matrix, instead each input is a number of 2D\n",
    "matrices, typically 1 for each color dimension (Red, Green, Blue)."
   ]
  },
  {
   "cell_type": "markdown",
   "id": "db03806b",
   "metadata": {
    "editable": true
   },
   "source": [
    "## Setting it up\n",
    "\n",
    "It means that to represent the entire\n",
    "dataset of images, we require a 4D matrix or **tensor**. This tensor has the dimensions:"
   ]
  },
  {
   "cell_type": "markdown",
   "id": "9974aced",
   "metadata": {
    "editable": true
   },
   "source": [
    "$$\n",
    "(n_{inputs},\\, n_{pixels, width},\\, n_{pixels, height},\\, depth) .\n",
    "$$"
   ]
  },
  {
   "cell_type": "markdown",
   "id": "a05753fb",
   "metadata": {
    "editable": true
   },
   "source": [
    "## The MNIST dataset again\n",
    "\n",
    "The MNIST dataset consists of grayscale images with a pixel size of\n",
    "$28\\times 28$, meaning we require $28 \\times 28 = 724$ weights to each\n",
    "neuron in the first hidden layer.\n",
    "\n",
    "If we were to analyze images of size $128\\times 128$ we would require\n",
    "$128 \\times 128 = 16384$ weights to each neuron. Even worse if we were\n",
    "dealing with color images, as most images are, we have an image matrix\n",
    "of size $128\\times 128$ for each color dimension (Red, Green, Blue),\n",
    "meaning 3 times the number of weights $= 49152$ are required for every\n",
    "single neuron in the first hidden layer."
   ]
  },
  {
   "cell_type": "markdown",
   "id": "431bb752",
   "metadata": {
    "editable": true
   },
   "source": [
    "## Strong correlations\n",
    "\n",
    "Images typically have strong local correlations, meaning that a small\n",
    "part of the image varies little from its neighboring regions. If for\n",
    "example we have an image of a blue car, we can roughly assume that a\n",
    "small blue part of the image is surrounded by other blue regions.\n",
    "\n",
    "Therefore, instead of connecting every single pixel to a neuron in the\n",
    "first hidden layer, as we have previously done with deep neural\n",
    "networks, we can instead connect each neuron to a small part of the\n",
    "image (in all 3 RGB depth dimensions).  The size of each small area is\n",
    "fixed, and known as a [receptive](https://en.wikipedia.org/wiki/Receptive_field)."
   ]
  },
  {
   "cell_type": "markdown",
   "id": "db8bc0c4",
   "metadata": {
    "editable": true
   },
   "source": [
    "## Layers of a CNN\n",
    "The layers of a convolutional neural network arrange neurons in 3D: width, height and depth.  \n",
    "The input image is typically a square matrix of depth 3. \n",
    "\n",
    "A **convolution** is performed on the image which outputs\n",
    "a 3D volume of neurons. The weights to the input are arranged in a number of 2D matrices, known as **filters**.\n",
    "\n",
    "Each filter slides along the input image, taking the dot product\n",
    "between each small part of the image and the filter, in all depth\n",
    "dimensions. This is then passed through a non-linear function,\n",
    "typically the **Rectified Linear (ReLu)** function, which serves as the\n",
    "activation of the neurons in the first convolutional layer. This is\n",
    "further passed through a **pooling layer**, which reduces the size of the\n",
    "convolutional layer, e.g. by taking the maximum or average across some\n",
    "small regions, and this serves as input to the next convolutional\n",
    "layer."
   ]
  },
  {
   "cell_type": "markdown",
   "id": "814772b3",
   "metadata": {
    "editable": true
   },
   "source": [
    "## Systematic reduction\n",
    "\n",
    "By systematically reducing the size of the input volume, through\n",
    "convolution and pooling, the network should create representations of\n",
    "small parts of the input, and then from them assemble representations\n",
    "of larger areas.  The final pooling layer is flattened to serve as\n",
    "input to a hidden layer, such that each neuron in the final pooling\n",
    "layer is connected to every single neuron in the hidden layer. This\n",
    "then serves as input to the output layer, e.g. a softmax output for\n",
    "classification."
   ]
  },
  {
   "cell_type": "markdown",
   "id": "1b43c40e",
   "metadata": {
    "editable": true
   },
   "source": [
    "## Prerequisites: Collect and pre-process data"
   ]
  },
  {
   "cell_type": "code",
   "execution_count": 3,
   "id": "a86efbba",
   "metadata": {
    "collapsed": false,
    "editable": true
   },
   "outputs": [],
   "source": [
    "# import necessary packages\n",
    "import numpy as np\n",
    "import matplotlib.pyplot as plt\n",
    "from sklearn import datasets\n",
    "\n",
    "\n",
    "# ensure the same random numbers appear every time\n",
    "np.random.seed(0)\n",
    "\n",
    "# display images in notebook\n",
    "%matplotlib inline\n",
    "plt.rcParams['figure.figsize'] = (12,12)\n",
    "\n",
    "\n",
    "# download MNIST dataset\n",
    "digits = datasets.load_digits()\n",
    "\n",
    "# define inputs and labels\n",
    "inputs = digits.images\n",
    "labels = digits.target\n",
    "\n",
    "# RGB images have a depth of 3\n",
    "# our images are grayscale so they should have a depth of 1\n",
    "inputs = inputs[:,:,:,np.newaxis]\n",
    "\n",
    "print(\"inputs = (n_inputs, pixel_width, pixel_height, depth) = \" + str(inputs.shape))\n",
    "print(\"labels = (n_inputs) = \" + str(labels.shape))\n",
    "\n",
    "\n",
    "# choose some random images to display\n",
    "n_inputs = len(inputs)\n",
    "indices = np.arange(n_inputs)\n",
    "random_indices = np.random.choice(indices, size=5)\n",
    "\n",
    "for i, image in enumerate(digits.images[random_indices]):\n",
    "    plt.subplot(1, 5, i+1)\n",
    "    plt.axis('off')\n",
    "    plt.imshow(image, cmap=plt.cm.gray_r, interpolation='nearest')\n",
    "    plt.title(\"Label: %d\" % digits.target[random_indices[i]])\n",
    "plt.show()"
   ]
  },
  {
   "cell_type": "markdown",
   "id": "7f26d68a",
   "metadata": {
    "editable": true
   },
   "source": [
    "## Importing Keras and Tensorflow"
   ]
  },
  {
   "cell_type": "code",
   "execution_count": 4,
   "id": "dd6ad6fd",
   "metadata": {
    "collapsed": false,
    "editable": true
   },
   "outputs": [],
   "source": [
    "from tensorflow.keras import datasets, layers, models\n",
    "from tensorflow.keras.layers import Input\n",
    "from tensorflow.keras.models import Sequential      #This allows appending layers to existing models\n",
    "from tensorflow.keras.layers import Dense           #This allows defining the characteristics of a particular layer\n",
    "from tensorflow.keras import optimizers             #This allows using whichever optimiser we want (sgd,adam,RMSprop)\n",
    "from tensorflow.keras import regularizers           #This allows using whichever regularizer we want (l1,l2,l1_l2)\n",
    "from tensorflow.keras.utils import to_categorical   #This allows using categorical cross entropy as the cost function\n",
    "#from tensorflow.keras import Conv2D\n",
    "#from tensorflow.keras import MaxPooling2D\n",
    "#from tensorflow.keras import Flatten\n",
    "\n",
    "from sklearn.model_selection import train_test_split\n",
    "\n",
    "# representation of labels\n",
    "labels = to_categorical(labels)\n",
    "\n",
    "# split into train and test data\n",
    "# one-liner from scikit-learn library\n",
    "train_size = 0.8\n",
    "test_size = 1 - train_size\n",
    "X_train, X_test, Y_train, Y_test = train_test_split(inputs, labels, train_size=train_size,\n",
    "                                                    test_size=test_size)"
   ]
  },
  {
   "cell_type": "markdown",
   "id": "ed5b071b",
   "metadata": {
    "editable": true
   },
   "source": [
    "## Running with Keras"
   ]
  },
  {
   "cell_type": "code",
   "execution_count": 5,
   "id": "41d92637",
   "metadata": {
    "collapsed": false,
    "editable": true
   },
   "outputs": [],
   "source": [
    "def create_convolutional_neural_network_keras(input_shape, receptive_field,\n",
    "                                              n_filters, n_neurons_connected, n_categories,\n",
    "                                              eta, lmbd):\n",
    "    model = Sequential()\n",
    "    model.add(layers.Conv2D(n_filters, (receptive_field, receptive_field), input_shape=input_shape, padding='same',\n",
    "              activation='relu', kernel_regularizer=regularizers.l2(lmbd)))\n",
    "    model.add(layers.MaxPooling2D(pool_size=(2, 2)))\n",
    "    model.add(layers.Flatten())\n",
    "    model.add(layers.Dense(n_neurons_connected, activation='relu', kernel_regularizer=regularizers.l2(lmbd)))\n",
    "    model.add(layers.Dense(n_categories, activation='softmax', kernel_regularizer=regularizers.l2(lmbd)))\n",
    "    \n",
    "    sgd = optimizers.SGD(lr=eta)\n",
    "    model.compile(loss='categorical_crossentropy', optimizer=sgd, metrics=['accuracy'])\n",
    "    \n",
    "    return model\n",
    "\n",
    "epochs = 100\n",
    "batch_size = 100\n",
    "input_shape = X_train.shape[1:4]\n",
    "receptive_field = 3\n",
    "n_filters = 10\n",
    "n_neurons_connected = 50\n",
    "n_categories = 10\n",
    "\n",
    "eta_vals = np.logspace(-5, 1, 7)\n",
    "lmbd_vals = np.logspace(-5, 1, 7)"
   ]
  },
  {
   "cell_type": "markdown",
   "id": "086a133e",
   "metadata": {
    "editable": true
   },
   "source": [
    "## Final part"
   ]
  },
  {
   "cell_type": "code",
   "execution_count": 6,
   "id": "c952a1ce",
   "metadata": {
    "collapsed": false,
    "editable": true
   },
   "outputs": [],
   "source": [
    "CNN_keras = np.zeros((len(eta_vals), len(lmbd_vals)), dtype=object)\n",
    "        \n",
    "for i, eta in enumerate(eta_vals):\n",
    "    for j, lmbd in enumerate(lmbd_vals):\n",
    "        CNN = create_convolutional_neural_network_keras(input_shape, receptive_field,\n",
    "                                              n_filters, n_neurons_connected, n_categories,\n",
    "                                              eta, lmbd)\n",
    "        CNN.fit(X_train, Y_train, epochs=epochs, batch_size=batch_size, verbose=0)\n",
    "        scores = CNN.evaluate(X_test, Y_test)\n",
    "        \n",
    "        CNN_keras[i][j] = CNN\n",
    "        \n",
    "        print(\"Learning rate = \", eta)\n",
    "        print(\"Lambda = \", lmbd)\n",
    "        print(\"Test accuracy: %.3f\" % scores[1])\n",
    "        print()"
   ]
  },
  {
   "cell_type": "markdown",
   "id": "88d99f9e",
   "metadata": {
    "editable": true
   },
   "source": [
    "## Final visualization"
   ]
  },
  {
   "cell_type": "code",
   "execution_count": 7,
   "id": "03e7dadc",
   "metadata": {
    "collapsed": false,
    "editable": true
   },
   "outputs": [],
   "source": [
    "# visual representation of grid search\n",
    "# uses seaborn heatmap, could probably do this in matplotlib\n",
    "import seaborn as sns\n",
    "\n",
    "sns.set()\n",
    "\n",
    "train_accuracy = np.zeros((len(eta_vals), len(lmbd_vals)))\n",
    "test_accuracy = np.zeros((len(eta_vals), len(lmbd_vals)))\n",
    "\n",
    "for i in range(len(eta_vals)):\n",
    "    for j in range(len(lmbd_vals)):\n",
    "        CNN = CNN_keras[i][j]\n",
    "\n",
    "        train_accuracy[i][j] = CNN.evaluate(X_train, Y_train)[1]\n",
    "        test_accuracy[i][j] = CNN.evaluate(X_test, Y_test)[1]\n",
    "\n",
    "        \n",
    "fig, ax = plt.subplots(figsize = (10, 10))\n",
    "sns.heatmap(train_accuracy, annot=True, ax=ax, cmap=\"viridis\")\n",
    "ax.set_title(\"Training Accuracy\")\n",
    "ax.set_ylabel(\"$\\eta$\")\n",
    "ax.set_xlabel(\"$\\lambda$\")\n",
    "plt.show()\n",
    "\n",
    "fig, ax = plt.subplots(figsize = (10, 10))\n",
    "sns.heatmap(test_accuracy, annot=True, ax=ax, cmap=\"viridis\")\n",
    "ax.set_title(\"Test Accuracy\")\n",
    "ax.set_ylabel(\"$\\eta$\")\n",
    "ax.set_xlabel(\"$\\lambda$\")\n",
    "plt.show()"
   ]
  },
  {
   "cell_type": "markdown",
   "id": "6e9550a9",
   "metadata": {
    "editable": true
   },
   "source": [
    "## The CIFAR01 data set\n",
    "\n",
    "The CIFAR10 dataset contains 60,000 color images in 10 classes, with\n",
    "6,000 images in each class. The dataset is divided into 50,000\n",
    "training images and 10,000 testing images. The classes are mutually\n",
    "exclusive and there is no overlap between them."
   ]
  },
  {
   "cell_type": "code",
   "execution_count": 8,
   "id": "5dc3a897",
   "metadata": {
    "collapsed": false,
    "editable": true
   },
   "outputs": [],
   "source": [
    "import tensorflow as tf\n",
    "\n",
    "from tensorflow.keras import datasets, layers, models\n",
    "import matplotlib.pyplot as plt\n",
    "\n",
    "# We import the data set\n",
    "(train_images, train_labels), (test_images, test_labels) = datasets.cifar10.load_data()\n",
    "\n",
    "# Normalize pixel values to be between 0 and 1 by dividing by 255. \n",
    "train_images, test_images = train_images / 255.0, test_images / 255.0"
   ]
  },
  {
   "cell_type": "markdown",
   "id": "dd5542e9",
   "metadata": {
    "editable": true
   },
   "source": [
    "## Verifying the data set\n",
    "\n",
    "To verify that the dataset looks correct, let's plot the first 25 images from the training set and display the class name below each image."
   ]
  },
  {
   "cell_type": "code",
   "execution_count": 9,
   "id": "04963a42",
   "metadata": {
    "collapsed": false,
    "editable": true
   },
   "outputs": [],
   "source": [
    "class_names = ['airplane', 'automobile', 'bird', 'cat', 'deer',\n",
    "               'dog', 'frog', 'horse', 'ship', 'truck']\n",
    "​\n",
    "plt.figure(figsize=(10,10))\n",
    "for i in range(25):\n",
    "    plt.subplot(5,5,i+1)\n",
    "    plt.xticks([])\n",
    "    plt.yticks([])\n",
    "    plt.grid(False)\n",
    "    plt.imshow(train_images[i], cmap=plt.cm.binary)\n",
    "    # The CIFAR labels happen to be arrays, \n",
    "    # which is why you need the extra index\n",
    "    plt.xlabel(class_names[train_labels[i][0]])\n",
    "plt.show()"
   ]
  },
  {
   "cell_type": "markdown",
   "id": "00fe20c4",
   "metadata": {
    "editable": true
   },
   "source": [
    "## Set up  the model\n",
    "\n",
    "The 6 lines of code below define the convolutional base using a common pattern: a stack of Conv2D and MaxPooling2D layers.\n",
    "\n",
    "As input, a CNN takes tensors of shape (image_height, image_width, color_channels), ignoring the batch size. If you are new to these dimensions, color_channels refers to (R,G,B). In this example, you will configure our CNN to process inputs of shape (32, 32, 3), which is the format of CIFAR images. You can do this by passing the argument input_shape to our first layer."
   ]
  },
  {
   "cell_type": "code",
   "execution_count": 10,
   "id": "cde5ab40",
   "metadata": {
    "collapsed": false,
    "editable": true
   },
   "outputs": [],
   "source": [
    "model = models.Sequential()\n",
    "model.add(layers.Conv2D(32, (3, 3), activation='relu', input_shape=(32, 32, 3)))\n",
    "model.add(layers.MaxPooling2D((2, 2)))\n",
    "model.add(layers.Conv2D(64, (3, 3), activation='relu'))\n",
    "model.add(layers.MaxPooling2D((2, 2)))\n",
    "model.add(layers.Conv2D(64, (3, 3), activation='relu'))\n",
    "\n",
    "# Let's display the architecture of our model so far.\n",
    "\n",
    "model.summary()"
   ]
  },
  {
   "cell_type": "markdown",
   "id": "d3fe4590",
   "metadata": {
    "editable": true
   },
   "source": [
    "You can see that the output of every Conv2D and MaxPooling2D layer is a 3D tensor of shape (height, width, channels). The width and height dimensions tend to shrink as you go deeper in the network. The number of output channels for each Conv2D layer is controlled by the first argument (e.g., 32 or 64). Typically, as the width and height shrink, you can afford (computationally) to add more output channels in each Conv2D layer."
   ]
  },
  {
   "cell_type": "markdown",
   "id": "43266448",
   "metadata": {
    "editable": true
   },
   "source": [
    "## Add Dense layers on top\n",
    "\n",
    "To complete our model, you will feed the last output tensor from the\n",
    "convolutional base (of shape (4, 4, 64)) into one or more Dense layers\n",
    "to perform classification. Dense layers take vectors as input (which\n",
    "are 1D), while the current output is a 3D tensor. First, you will\n",
    "flatten (or unroll) the 3D output to 1D, then add one or more Dense\n",
    "layers on top. CIFAR has 10 output classes, so you use a final Dense\n",
    "layer with 10 outputs and a softmax activation."
   ]
  },
  {
   "cell_type": "code",
   "execution_count": 11,
   "id": "90e96433",
   "metadata": {
    "collapsed": false,
    "editable": true
   },
   "outputs": [],
   "source": [
    "model.add(layers.Flatten())\n",
    "model.add(layers.Dense(64, activation='relu'))\n",
    "model.add(layers.Dense(10))\n",
    "Here's the complete architecture of our model.\n",
    "\n",
    "model.summary()"
   ]
  },
  {
   "cell_type": "markdown",
   "id": "6cbe2034",
   "metadata": {
    "editable": true
   },
   "source": [
    "As you can see, our (4, 4, 64) outputs were flattened into vectors of shape (1024) before going through two Dense layers."
   ]
  },
  {
   "cell_type": "markdown",
   "id": "096f3f2b",
   "metadata": {
    "editable": true
   },
   "source": [
    "## Compile and train the model"
   ]
  },
  {
   "cell_type": "code",
   "execution_count": 12,
   "id": "be330c12",
   "metadata": {
    "collapsed": false,
    "editable": true
   },
   "outputs": [],
   "source": [
    "model.compile(optimizer='adam',\n",
    "              loss=tf.keras.losses.SparseCategoricalCrossentropy(from_logits=True),\n",
    "              metrics=['accuracy'])\n",
    "​\n",
    "history = model.fit(train_images, train_labels, epochs=10, \n",
    "                    validation_data=(test_images, test_labels))"
   ]
  },
  {
   "cell_type": "markdown",
   "id": "ebdccd85",
   "metadata": {
    "editable": true
   },
   "source": [
    "## Finally, evaluate the model"
   ]
  },
  {
   "cell_type": "code",
   "execution_count": 13,
   "id": "11fc2141",
   "metadata": {
    "collapsed": false,
    "editable": true
   },
   "outputs": [],
   "source": [
    "plt.plot(history.history['accuracy'], label='accuracy')\n",
    "plt.plot(history.history['val_accuracy'], label = 'val_accuracy')\n",
    "plt.xlabel('Epoch')\n",
    "plt.ylabel('Accuracy')\n",
    "plt.ylim([0.5, 1])\n",
    "plt.legend(loc='lower right')\n",
    "\n",
    "test_loss, test_acc = model.evaluate(test_images,  test_labels, verbose=2)\n",
    "\n",
    "print(test_acc)"
   ]
  }
 ],
 "metadata": {},
 "nbformat": 4,
 "nbformat_minor": 5
}
