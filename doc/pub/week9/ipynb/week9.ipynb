{
 "cells": [
  {
   "cell_type": "markdown",
   "id": "719982b3",
   "metadata": {
    "editable": true
   },
   "source": [
    "<!-- HTML file automatically generated from DocOnce source (https://github.com/doconce/doconce/)\n",
    "doconce format html week9.do.txt --no_mako -->\n",
    "<!-- dom:TITLE: Deep Learning: Convolutional Neural Networks -->"
   ]
  },
  {
   "cell_type": "markdown",
   "id": "1282d23c",
   "metadata": {
    "editable": true
   },
   "source": [
    "# Deep Learning: Convolutional Neural Networks\n",
    "**Morten Hjorth-Jensen**, Department of Physics, University of Oslo and Department of Physics and Astronomy and National Superconducting Cyclotron Laboratory, Michigan State University\n",
    "\n",
    "Date: **Feb 28, 2023**\n",
    "\n",
    "Copyright 1999-2023, Morten Hjorth-Jensen. Released under CC Attribution-NonCommercial 4.0 license"
   ]
  },
  {
   "cell_type": "markdown",
   "id": "d5a87274",
   "metadata": {
    "editable": true
   },
   "source": [
    "## Plans for week 9, February 27-March 3\n",
    "\n",
    "* Basics and mathematics of Convolutional  Neural Networks.\n",
    "\n",
    "* [Video of lecture](https://youtu.be/C8Pj7Wq_7fw)\n",
    "\n",
    "* [Video of Lecture with subtitles](https://youtu.be/UWfLGcqmqt8)\n",
    "\n",
    "* [Handwritten notes](https://github.com/CompPhysics/CompSciProgram/blob/main/doc/HandwrittenNotes/2021/NotesFebruary28.pdf)"
   ]
  },
  {
   "cell_type": "markdown",
   "id": "b7bedfb6",
   "metadata": {
    "editable": true
   },
   "source": [
    "## Resources on Convolutional Networks\n",
    "\n",
    "**Excellent lectures on CNNs and RNNs.**\n",
    "\n",
    "* [Video  on Convolutional Neural Networks from MIT](https://www.youtube.com/watch?v=iaSUYvmCekI&ab_channel=AlexanderAmini)\n",
    "\n",
    "* [Video on CNNs from Stanford](https://www.youtube.com/watch?v=bNb2fEVKeEo&list=PLC1qU-LWwrF64f4QKQT-Vg5Wr4qEE1Zxk&index=6&ab_channel=StanfordUniversitySchoolofEngineering)\n",
    "\n",
    "* [Video on Deep Learning](https://www.youtube.com/playlist?list=PLZHQObOWTQDNU6R1_67000Dx_ZCJB-3pi)\n",
    "\n",
    "**Reading Recommendations.**\n",
    "\n",
    "* Goodfellow et al, chapter 9 on CNNs, chapters 11 and 12 on various practicalities around deep learning are also recommended.\n",
    "\n",
    "* Aurelien Geron, chapter 13 on CNNs.\n",
    "\n",
    "**And Lecture material on CNNs.**\n",
    "\n",
    "* [Lectures from IN5400 spring 2019](https://www.uio.no/studier/emner/matnat/ifi/IN5400/v19/material/week5/in5400_2019_week5_convolutional_nerual_networks.pdf)\n",
    "\n",
    "* [Lectures from IN5400 spring 2021](https://www.uio.no/studier/emner/matnat/ifi/IN5400/v21/lecture-slides/in5400_2021_w5_lecture_convolutions.pdf)\n",
    "\n",
    "* [See also Michael Nielsen's Lectures](http://neuralnetworksanddeeplearning.com/chap6.html)"
   ]
  },
  {
   "cell_type": "markdown",
   "id": "c4adfbdf",
   "metadata": {
    "editable": true
   },
   "source": [
    "## Mathematics of CNNs\n",
    "\n",
    "The mathematics of CNNs is based on the mathematical operation of\n",
    "**convolution**.  In mathematics (in particular in functional analysis),\n",
    "convolution is represented by mathematical operations (integration,\n",
    "summation etc) on two functions in order to produce a third function\n",
    "that expresses how the shape of one gets modified by the other.\n",
    "Convolution has a plethora of applications in a variety of\n",
    "disciplines, spanning from statistics to signal processing, computer\n",
    "vision, solutions of differential equations,linear algebra,\n",
    "engineering, and yes, machine learning.\n",
    "\n",
    "Mathematically, convolution is defined as follows (one-dimensional example):\n",
    "Let us define a continuous function $y(t)$ given by"
   ]
  },
  {
   "cell_type": "markdown",
   "id": "5c4edf6c",
   "metadata": {
    "editable": true
   },
   "source": [
    "$$\n",
    "y(t) = \\int x(a) w(t-a) da,\n",
    "$$"
   ]
  },
  {
   "cell_type": "markdown",
   "id": "166901f3",
   "metadata": {
    "editable": true
   },
   "source": [
    "where $x(a)$ represents a so-called input and $w(t-a)$ is normally called the weight function or kernel.\n",
    "\n",
    "The above integral is written in  a more compact form as"
   ]
  },
  {
   "cell_type": "markdown",
   "id": "965544f7",
   "metadata": {
    "editable": true
   },
   "source": [
    "$$\n",
    "y(t) = \\left(x * w\\right)(t).\n",
    "$$"
   ]
  },
  {
   "cell_type": "markdown",
   "id": "5c5c2150",
   "metadata": {
    "editable": true
   },
   "source": [
    "The discretized version reads"
   ]
  },
  {
   "cell_type": "markdown",
   "id": "020a732c",
   "metadata": {
    "editable": true
   },
   "source": [
    "$$\n",
    "y(t) = \\sum_{a=-\\infty}^{a=\\infty}x(a)w(t-a).\n",
    "$$"
   ]
  },
  {
   "cell_type": "markdown",
   "id": "8c737309",
   "metadata": {
    "editable": true
   },
   "source": [
    "Computing the inverse of the above convolution operations is known as deconvolution and the process is commutative.\n",
    "\n",
    "How can we use this? And what does it mean? Let us study some familiar examples first."
   ]
  },
  {
   "cell_type": "markdown",
   "id": "1026662c",
   "metadata": {
    "editable": true
   },
   "source": [
    "## Convolution Examples: Polynomial multiplication\n",
    "\n",
    "Our first example is that of a multiplication between two polynomials,\n",
    "which we will rewrite in terms of the mathematics of convolution. In\n",
    "the final stage, since the problem here is a discrete one, we will\n",
    "recats the final expression in terms of a matrix-vector\n",
    "multiplication, where the matrix is a so-called [Toeplitz matrix\n",
    "](https://link.springer.com/book/10.1007/978-93-86279-04-0).\n",
    "\n",
    "Let us look a the following polynomials to second and third order, respectively:"
   ]
  },
  {
   "cell_type": "markdown",
   "id": "0ccca937",
   "metadata": {
    "editable": true
   },
   "source": [
    "$$\n",
    "p(t) = \\alpha_0+\\alpha_1 t+\\alpha_2 t^2,\n",
    "$$"
   ]
  },
  {
   "cell_type": "markdown",
   "id": "83020258",
   "metadata": {
    "editable": true
   },
   "source": [
    "and"
   ]
  },
  {
   "cell_type": "markdown",
   "id": "42bf67e5",
   "metadata": {
    "editable": true
   },
   "source": [
    "$$\n",
    "s(t) = \\beta_0+\\beta_1 t+\\beta_2 t^2+\\beta_3 t^3.\n",
    "$$"
   ]
  },
  {
   "cell_type": "markdown",
   "id": "2fcaa603",
   "metadata": {
    "editable": true
   },
   "source": [
    "The polynomial multiplication gives us a new polynomial of degree $5$"
   ]
  },
  {
   "cell_type": "markdown",
   "id": "14469a66",
   "metadata": {
    "editable": true
   },
   "source": [
    "$$\n",
    "z(t) = \\delta_0+\\delta_1 t+\\delta_2 t^2+\\delta_3 t^3+\\delta_4 t^4+\\delta_5 t^5.\n",
    "$$"
   ]
  },
  {
   "cell_type": "markdown",
   "id": "efff7923",
   "metadata": {
    "editable": true
   },
   "source": [
    "## Efficient Polynomial Multiplication\n",
    "\n",
    "Computing polynomial products can be implemented efficiently if we rewrite the more brute force multiplications using convolution.\n",
    "We note first that the new coefficients are given as"
   ]
  },
  {
   "cell_type": "markdown",
   "id": "53931670",
   "metadata": {
    "editable": true
   },
   "source": [
    "$$\n",
    "\\begin{split}\n",
    "\\delta_0=&\\alpha_0\\beta_0\\\\\n",
    "\\delta_1=&\\alpha_1\\beta_0+\\alpha_0\\beta_1\\\\\n",
    "\\delta_2=&\\alpha_0\\beta_2+\\alpha_1\\beta_1+\\alpha_2\\beta_0\\\\\n",
    "\\delta_3=&\\alpha_1\\beta_2+\\alpha_2\\beta_1+\\alpha_0\\beta_3\\\\\n",
    "\\delta_4=&\\alpha_2\\beta_2+\\alpha_1\\beta_3\\\\\n",
    "\\delta_5=&\\alpha_2\\beta_3.\\\\\n",
    "\\end{split}\n",
    "$$"
   ]
  },
  {
   "cell_type": "markdown",
   "id": "65665e7b",
   "metadata": {
    "editable": true
   },
   "source": [
    "We note that $\\alpha_i=0$ except for $i\\in \\left\\{0,1,2\\right\\}$ and $\\beta_i=0$ except for $i\\in\\left\\{0,1,2,3\\right\\}$.\n",
    "\n",
    "We can then rewrite the coefficients $\\delta_j$ using a discrete convolution as"
   ]
  },
  {
   "cell_type": "markdown",
   "id": "7e0f82f5",
   "metadata": {
    "editable": true
   },
   "source": [
    "$$\n",
    "\\delta_j = \\sum_{i=-\\infty}^{i=\\infty}\\alpha_i\\beta_{j-i}=(\\alpha * \\beta)_j,\n",
    "$$"
   ]
  },
  {
   "cell_type": "markdown",
   "id": "92d3e96f",
   "metadata": {
    "editable": true
   },
   "source": [
    "or as a double sum with restriction $l=i+j$"
   ]
  },
  {
   "cell_type": "markdown",
   "id": "7a93bbe7",
   "metadata": {
    "editable": true
   },
   "source": [
    "$$\n",
    "\\delta_l = \\sum_{ij}\\alpha_i\\beta_{j}.\n",
    "$$"
   ]
  },
  {
   "cell_type": "markdown",
   "id": "0fc15a4c",
   "metadata": {
    "editable": true
   },
   "source": [
    "## A more efficient way of coding the above Convolution\n",
    "\n",
    "Since we only have a finite number of $\\alpha$ and $\\beta$ values\n",
    "which are non-zero, we can rewrite the above convolution expressions\n",
    "as a matrix-vector multiplication"
   ]
  },
  {
   "cell_type": "markdown",
   "id": "c7735311",
   "metadata": {
    "editable": true
   },
   "source": [
    "$$\n",
    "\\boldsymbol{\\delta}=\\begin{bmatrix}\\alpha_0 & 0 & 0 & 0 \\\\\n",
    "                            \\alpha_1 & \\alpha_0 & 0 & 0 \\\\\n",
    "\t\t\t    \\alpha_2 & \\alpha_1 & \\alpha_0 & 0 \\\\\n",
    "\t\t\t    0 & \\alpha_2 & \\alpha_1 & \\alpha_0 \\\\\n",
    "\t\t\t    0 & 0 & \\alpha_2 & \\alpha_1 \\\\\n",
    "\t\t\t    0 & 0 & 0 & \\alpha_2\n",
    "\t\t\t    \\end{bmatrix}\\begin{bmatrix} \\beta_0 \\\\ \\beta_1 \\\\ \\beta_2 \\\\ \\beta_3\\end{bmatrix}.\n",
    "$$"
   ]
  },
  {
   "cell_type": "markdown",
   "id": "08c4e9ef",
   "metadata": {
    "editable": true
   },
   "source": [
    "The process is commutative and we can easily see that we can rewrite the multiplication in terms of  a matrix holding $\\beta$ and a vector holding $\\alpha$.\n",
    "In this case we have"
   ]
  },
  {
   "cell_type": "markdown",
   "id": "fac6b195",
   "metadata": {
    "editable": true
   },
   "source": [
    "$$\n",
    "\\boldsymbol{\\delta}=\\begin{bmatrix}\\beta_0 & 0 & 0  \\\\\n",
    "                            \\beta_1 & \\beta_0 & 0  \\\\\n",
    "\t\t\t    \\beta_2 & \\beta_1 & \\beta_0  \\\\\n",
    "\t\t\t    \\beta_3 & \\beta_2 & \\beta_1 \\\\\n",
    "\t\t\t    0 & \\beta_3 & \\beta_2 \\\\\n",
    "\t\t\t    0 & 0 & \\beta_3\n",
    "\t\t\t    \\end{bmatrix}\\begin{bmatrix} \\alpha_0 \\\\ \\alpha_1 \\\\ \\alpha_2\\end{bmatrix}.\n",
    "$$"
   ]
  },
  {
   "cell_type": "markdown",
   "id": "014cf764",
   "metadata": {
    "editable": true
   },
   "source": [
    "Note that the use of these matrices is for mathematical purposes only\n",
    "and not implementation purposes.  When implementing the above equation\n",
    "we do not encode (and allocate memory) the matrices explicitely.  We\n",
    "rather code the convolutions in the minimal memory footprint that they\n",
    "require.\n",
    "\n",
    "The above matrices are examples of so-called [Toeplitz\n",
    "matrices](https://link.springer.com/book/10.1007/978-93-86279-04-0). A\n",
    "Toeplitz matrix is a matrix in which each descending diagonal from\n",
    "left to right is constant. For instance the last matrix, which we\n",
    "rewrite as"
   ]
  },
  {
   "cell_type": "markdown",
   "id": "d43959a3",
   "metadata": {
    "editable": true
   },
   "source": [
    "$$\n",
    "\\boldsymbol{A}=\\begin{bmatrix}a_0 & 0 & 0  \\\\\n",
    "                            a_1 & a_0 & 0  \\\\\n",
    "\t\t\t    a_2 & a_1 & a_0  \\\\\n",
    "\t\t\t    a_3 & a_2 & a_1 \\\\\n",
    "\t\t\t    0 & a_3 & a_2 \\\\\n",
    "\t\t\t    0 & 0 & a_3\n",
    "\t\t\t    \\end{bmatrix},\n",
    "$$"
   ]
  },
  {
   "cell_type": "markdown",
   "id": "acddd83c",
   "metadata": {
    "editable": true
   },
   "source": [
    "with elements $a_{ii}=a_{i+1,j+1}=a_{i-j}$ is an example of a Toeplitz\n",
    "matrix. Such a matrix does not need to be a square matrix.  Toeplitz\n",
    "matrices are also closely connected with Fourier series discussed\n",
    "below, because the multiplication operator by a trigonometric\n",
    "polynomial, compressed to a finite-dimensional space, can be\n",
    "represented by such a matrix. The example above shows that we can\n",
    "represent linear convolution as multiplication of a Toeplitz matrix by\n",
    "a vector."
   ]
  },
  {
   "cell_type": "markdown",
   "id": "ae957ce6",
   "metadata": {
    "editable": true
   },
   "source": [
    "## Convolution Examples: Principle of Superposition and Periodic Forces (Fourier Transforms)\n",
    "\n",
    "For problems with so-called harmonic oscillations, given by for example the following differential equation"
   ]
  },
  {
   "cell_type": "markdown",
   "id": "44451832",
   "metadata": {
    "editable": true
   },
   "source": [
    "$$\n",
    "m\\frac{d^2x}{dt^2}+\\eta\\frac{dx}{dt}+x(t)=F(t),\n",
    "$$"
   ]
  },
  {
   "cell_type": "markdown",
   "id": "dfe314f4",
   "metadata": {
    "editable": true
   },
   "source": [
    "where $F(t)$ is an applied external force acting on the system (often\n",
    "called a driving force), one can use the theory of Fourier\n",
    "transformations to find the solutions of this type of equations.\n",
    "\n",
    "If one has several driving forces, $F(t)=\\sum_n F_n(t)$, one can find\n",
    "the particular solution $x_{pn}(t)$ to the above differential equation for each $F_n$. The particular\n",
    "solution for the entire driving force is then given by a series like"
   ]
  },
  {
   "cell_type": "markdown",
   "id": "32d11a70",
   "metadata": {
    "editable": true
   },
   "source": [
    "<!-- Equation labels as ordinary links -->\n",
    "<div id=\"_auto1\"></div>\n",
    "\n",
    "$$\n",
    "\\begin{equation}\n",
    "x_p(t)=\\sum_nx_{pn}(t).\n",
    "\\label{_auto1} \\tag{1}\n",
    "\\end{equation}\n",
    "$$"
   ]
  },
  {
   "cell_type": "markdown",
   "id": "3bab30b6",
   "metadata": {
    "editable": true
   },
   "source": [
    "This is known as the principle of superposition. It only applies when\n",
    "the homogenous equation is linear. \n",
    "Superposition is especially useful when $F(t)$ can be written\n",
    "as a sum of sinusoidal terms, because the solutions for each\n",
    "sinusoidal (sine or cosine)  term is analytic. \n",
    "\n",
    "Driving forces are often periodic, even when they are not\n",
    "sinusoidal. Periodicity implies that for some time $t$ our function repeats itself periodically after a period $\\tau$, that is"
   ]
  },
  {
   "cell_type": "markdown",
   "id": "b8d3fe9b",
   "metadata": {
    "editable": true
   },
   "source": [
    "$$\n",
    "\\begin{eqnarray}\n",
    "F(t+\\tau)=F(t). \n",
    "\\end{eqnarray}\n",
    "$$"
   ]
  },
  {
   "cell_type": "markdown",
   "id": "5b90e19f",
   "metadata": {
    "editable": true
   },
   "source": [
    "One example of a non-sinusoidal periodic force is a square wave. Many\n",
    "components in electric circuits are non-linear, for example diodes. This \n",
    "makes many wave forms non-sinusoidal even when the circuits are being\n",
    "driven by purely sinusoidal sources."
   ]
  },
  {
   "cell_type": "markdown",
   "id": "fa33c104",
   "metadata": {
    "editable": true
   },
   "source": [
    "## Simple Code Example\n",
    "\n",
    "The code here shows a typical example of such a square wave generated\n",
    "using the functionality included in the **scipy** Python package. We\n",
    "have used a period of $\\tau=0.2$."
   ]
  },
  {
   "cell_type": "code",
   "execution_count": 1,
   "id": "ce4ed944",
   "metadata": {
    "collapsed": false,
    "editable": true
   },
   "outputs": [],
   "source": [
    "%matplotlib inline\n",
    "\n",
    "import numpy as np\n",
    "import math\n",
    "from scipy import signal\n",
    "import matplotlib.pyplot as plt\n",
    "\n",
    "# number of points                                                                                       \n",
    "n = 500\n",
    "# start and final times                                                                                  \n",
    "t0 = 0.0\n",
    "tn = 1.0\n",
    "# Period                                                                                                 \n",
    "t = np.linspace(t0, tn, n, endpoint=False)\n",
    "SqrSignal = np.zeros(n)\n",
    "SqrSignal = 1.0+signal.square(2*np.pi*5*t)\n",
    "plt.plot(t, SqrSignal)\n",
    "plt.ylim(-0.5, 2.5)\n",
    "plt.show()"
   ]
  },
  {
   "cell_type": "markdown",
   "id": "51ba66d9",
   "metadata": {
    "editable": true
   },
   "source": [
    "For the sinusoidal example the\n",
    "period is $\\tau=2\\pi/\\omega$. However, higher harmonics can also\n",
    "satisfy the periodicity requirement. In general, any force that\n",
    "satisfies the periodicity requirement can be expressed as a sum over\n",
    "harmonics,"
   ]
  },
  {
   "cell_type": "markdown",
   "id": "d15cb481",
   "metadata": {
    "editable": true
   },
   "source": [
    "<!-- Equation labels as ordinary links -->\n",
    "<div id=\"_auto2\"></div>\n",
    "\n",
    "$$\n",
    "\\begin{equation}\n",
    "F(t)=\\frac{f_0}{2}+\\sum_{n>0} f_n\\cos(2n\\pi t/\\tau)+g_n\\sin(2n\\pi t/\\tau).\n",
    "\\label{_auto2} \\tag{2}\n",
    "\\end{equation}\n",
    "$$"
   ]
  },
  {
   "cell_type": "markdown",
   "id": "af0d5e32",
   "metadata": {
    "editable": true
   },
   "source": [
    "## Wrapping up Fourier transforms\n",
    "\n",
    "We can write down the answer for\n",
    "$x_{pn}(t)$, by substituting $f_n/m$ or $g_n/m$ for $F_0/m$. By\n",
    "writing each factor $2n\\pi t/\\tau$ as $n\\omega t$, with $\\omega\\equiv\n",
    "2\\pi/\\tau$,"
   ]
  },
  {
   "cell_type": "markdown",
   "id": "646abcc5",
   "metadata": {
    "editable": true
   },
   "source": [
    "<!-- Equation labels as ordinary links -->\n",
    "<div id=\"eq:fourierdef1\"></div>\n",
    "\n",
    "$$\n",
    "\\begin{equation}\n",
    "\\label{eq:fourierdef1} \\tag{3}\n",
    "F(t)=\\frac{f_0}{2}+\\sum_{n>0}f_n\\cos(n\\omega t)+g_n\\sin(n\\omega t).\n",
    "\\end{equation}\n",
    "$$"
   ]
  },
  {
   "cell_type": "markdown",
   "id": "88d5a3d1",
   "metadata": {
    "editable": true
   },
   "source": [
    "The solutions for $x(t)$ then come from replacing $\\omega$ with\n",
    "$n\\omega$ for each term in the particular solution,"
   ]
  },
  {
   "cell_type": "markdown",
   "id": "a5cfb70a",
   "metadata": {
    "editable": true
   },
   "source": [
    "$$\n",
    "\\begin{eqnarray}\n",
    "x_p(t)&=&\\frac{f_0}{2k}+\\sum_{n>0} \\alpha_n\\cos(n\\omega t-\\delta_n)+\\beta_n\\sin(n\\omega t-\\delta_n),\\\\\n",
    "\\nonumber\n",
    "\\alpha_n&=&\\frac{f_n/m}{\\sqrt{((n\\omega)^2-\\omega_0^2)+4\\beta^2n^2\\omega^2}},\\\\\n",
    "\\nonumber\n",
    "\\beta_n&=&\\frac{g_n/m}{\\sqrt{((n\\omega)^2-\\omega_0^2)+4\\beta^2n^2\\omega^2}},\\\\\n",
    "\\nonumber\n",
    "\\delta_n&=&\\tan^{-1}\\left(\\frac{2\\beta n\\omega}{\\omega_0^2-n^2\\omega^2}\\right).\n",
    "\\end{eqnarray}\n",
    "$$"
   ]
  },
  {
   "cell_type": "markdown",
   "id": "10544606",
   "metadata": {
    "editable": true
   },
   "source": [
    "## Finding the Coefficients\n",
    "\n",
    "Because the forces have been applied for a long time, any non-zero\n",
    "damping eliminates the homogenous parts of the solution. We need then \n",
    "only consider the particular solution for each $n$.\n",
    "\n",
    "The problem is considered solved if one can find expressions for the\n",
    "coefficients $f_n$ and $g_n$, even though the solutions are expressed\n",
    "as an infinite sum. The coefficients can be extracted from the\n",
    "function $F(t)$ by"
   ]
  },
  {
   "cell_type": "markdown",
   "id": "e0fbf63f",
   "metadata": {
    "editable": true
   },
   "source": [
    "<!-- Equation labels as ordinary links -->\n",
    "<div id=\"eq:fourierdef2\"></div>\n",
    "\n",
    "$$\n",
    "\\begin{eqnarray}\n",
    "\\label{eq:fourierdef2} \\tag{4}\n",
    "f_n&=&\\frac{2}{\\tau}\\int_{-\\tau/2}^{\\tau/2} dt~F(t)\\cos(2n\\pi t/\\tau),\\\\\n",
    "\\nonumber\n",
    "g_n&=&\\frac{2}{\\tau}\\int_{-\\tau/2}^{\\tau/2} dt~F(t)\\sin(2n\\pi t/\\tau).\n",
    "\\end{eqnarray}\n",
    "$$"
   ]
  },
  {
   "cell_type": "markdown",
   "id": "175c0c59",
   "metadata": {
    "editable": true
   },
   "source": [
    "To check the consistency of these expressions and to verify\n",
    "Eq. ([4](#eq:fourierdef2)), one can insert the expansion of $F(t)$ in\n",
    "Eq. ([3](#eq:fourierdef1)) into the expression for the coefficients in\n",
    "Eq. ([4](#eq:fourierdef2)) and see whether"
   ]
  },
  {
   "cell_type": "markdown",
   "id": "c5c86359",
   "metadata": {
    "editable": true
   },
   "source": [
    "$$\n",
    "f_n=\\frac{2}{\\tau}\\int_{-\\tau/2}^{\\tau/2} dt~\\left\\{\\frac{f_0}{2}+\\sum_{m>0}f_m\\cos(m\\omega t)+g_m\\sin(m\\omega t)\\right\\}\\cos(n\\omega t).\n",
    "$$"
   ]
  },
  {
   "cell_type": "markdown",
   "id": "d2730668",
   "metadata": {
    "editable": true
   },
   "source": [
    "Immediately, one can throw away all the terms with $g_m$ because they\n",
    "convolute an even and an odd function. The term with $f_0/2$\n",
    "disappears because $\\cos(n\\omega t)$ is equally positive and negative\n",
    "over the interval and will integrate to zero. For all the terms\n",
    "$f_m\\cos(m\\omega t)$ appearing in the sum, one can use angle addition\n",
    "formulas to see that $\\cos(m\\omega t)\\cos(n\\omega\n",
    "t)=(1/2)(\\cos[(m+n)\\omega t]+\\cos[(m-n)\\omega t]$. This will integrate\n",
    "to zero unless $m=n$. In that case the $m=n$ term gives"
   ]
  },
  {
   "cell_type": "markdown",
   "id": "4d5e3b28",
   "metadata": {
    "editable": true
   },
   "source": [
    "<!-- Equation labels as ordinary links -->\n",
    "<div id=\"_auto3\"></div>\n",
    "\n",
    "$$\n",
    "\\begin{equation}\n",
    "\\int_{-\\tau/2}^{\\tau/2}dt~\\cos^2(m\\omega t)=\\frac{\\tau}{2},\n",
    "\\label{_auto3} \\tag{5}\n",
    "\\end{equation}\n",
    "$$"
   ]
  },
  {
   "cell_type": "markdown",
   "id": "5a802c1e",
   "metadata": {
    "editable": true
   },
   "source": [
    "and"
   ]
  },
  {
   "cell_type": "markdown",
   "id": "e9af3ad2",
   "metadata": {
    "editable": true
   },
   "source": [
    "$$\n",
    "f_n=\\frac{2}{\\tau}\\int_{-\\tau/2}^{\\tau/2} dt~f_n/2=f_n.\n",
    "$$"
   ]
  },
  {
   "cell_type": "markdown",
   "id": "b655479d",
   "metadata": {
    "editable": true
   },
   "source": [
    "The same method can be used to check for the consistency of $g_n$."
   ]
  },
  {
   "cell_type": "markdown",
   "id": "9ace9aac",
   "metadata": {
    "editable": true
   },
   "source": [
    "## Final words on Fourier Transforms\n",
    "\n",
    "The code here uses the Fourier series applied to a \n",
    "square wave signal. The code here\n",
    "visualizes the various approximations given by Fourier series compared\n",
    "with a square wave with period $T=0.2$ (dimensionless time), width $0.1$ and max value of the force $F=2$. We\n",
    "see that when we increase the number of components in the Fourier\n",
    "series, the Fourier series approximation gets closer and closer to the\n",
    "square wave signal."
   ]
  },
  {
   "cell_type": "code",
   "execution_count": 2,
   "id": "9ae3cdd0",
   "metadata": {
    "collapsed": false,
    "editable": true
   },
   "outputs": [],
   "source": [
    "import numpy as np\n",
    "import math\n",
    "from scipy import signal\n",
    "import matplotlib.pyplot as plt\n",
    "\n",
    "# number of points                                                                                       \n",
    "n = 500\n",
    "# start and final times                                                                                  \n",
    "t0 = 0.0\n",
    "tn = 1.0\n",
    "# Period                                                                                                 \n",
    "T =0.2\n",
    "# Max value of square signal                                                                             \n",
    "Fmax= 2.0\n",
    "# Width of signal   \n",
    "Width = 0.1\n",
    "t = np.linspace(t0, tn, n, endpoint=False)\n",
    "SqrSignal = np.zeros(n)\n",
    "FourierSeriesSignal = np.zeros(n)\n",
    "SqrSignal = 1.0+signal.square(2*np.pi*5*t+np.pi*Width/T)\n",
    "a0 = Fmax*Width/T\n",
    "FourierSeriesSignal = a0\n",
    "Factor = 2.0*Fmax/np.pi\n",
    "for i in range(1,500):\n",
    "    FourierSeriesSignal += Factor/(i)*np.sin(np.pi*i*Width/T)*np.cos(i*t*2*np.pi/T)\n",
    "plt.plot(t, SqrSignal)\n",
    "plt.plot(t, FourierSeriesSignal)\n",
    "plt.ylim(-0.5, 2.5)\n",
    "plt.show()"
   ]
  },
  {
   "cell_type": "markdown",
   "id": "4acdd2d3",
   "metadata": {
    "editable": true
   },
   "source": [
    "### Fourier transforms and convolution\n",
    "\n",
    "We can use Fourier transforms in our studies of convolution as well. To see this, assume we have two functions $f$ and $g$ and their corresponding Fourier transforms $\\hat{f}$ and $\\hat{g}$. We remind the reader that the Fourier transform reads (say for the function $f$)"
   ]
  },
  {
   "cell_type": "markdown",
   "id": "adffa751",
   "metadata": {
    "editable": true
   },
   "source": [
    "$$\n",
    "\\hat{f}(y)=\\boldsymbol{F}[f(y)]=\\frac{1}{2\\pi}\\int_{-\\infty}^{\\infty} d\\omega \\exp{-i\\omega y} f(\\omega),\n",
    "$$"
   ]
  },
  {
   "cell_type": "markdown",
   "id": "c6033f07",
   "metadata": {
    "editable": true
   },
   "source": [
    "and similarly we have"
   ]
  },
  {
   "cell_type": "markdown",
   "id": "b7a5b5c2",
   "metadata": {
    "editable": true
   },
   "source": [
    "$$\n",
    "\\hat{g}(y)=\\boldsymbol{F}[g(y)]=\\frac{1}{2\\pi}\\int_{-\\infty}^{\\infty} d\\omega \\exp{-i\\omega y} g(\\omega).\n",
    "$$"
   ]
  },
  {
   "cell_type": "markdown",
   "id": "314f493a",
   "metadata": {
    "editable": true
   },
   "source": [
    "The inverse Fourier transform is given by"
   ]
  },
  {
   "cell_type": "markdown",
   "id": "6817ac64",
   "metadata": {
    "editable": true
   },
   "source": [
    "$$\n",
    "\\boldsymbol{F}^{-1}[g(y)]=\\frac{1}{2\\pi}\\int_{-\\infty}^{\\infty} d\\omega \\exp{i\\omega y} g(\\omega).\n",
    "$$"
   ]
  },
  {
   "cell_type": "markdown",
   "id": "5effa480",
   "metadata": {
    "editable": true
   },
   "source": [
    "The inverse Fourier transform of the product of the two functions $\\hat{f}\\hat{g}$ can be written as"
   ]
  },
  {
   "cell_type": "markdown",
   "id": "b19d0d7e",
   "metadata": {
    "editable": true
   },
   "source": [
    "$$\n",
    "\\boldsymbol{F}^{-1}[(\\hat{f}\\hat{g})(x)]=\\frac{1}{2\\pi}\\int_{-\\infty}^{\\infty} d\\omega \\exp{i\\omega x} \\hat{f}(\\omega)\\hat{g}(\\omega).\n",
    "$$"
   ]
  },
  {
   "cell_type": "markdown",
   "id": "e3570815",
   "metadata": {
    "editable": true
   },
   "source": [
    "We can rewrite the latter as"
   ]
  },
  {
   "cell_type": "markdown",
   "id": "ecb174ab",
   "metadata": {
    "editable": true
   },
   "source": [
    "$$\n",
    "\\boldsymbol{F}^{-1}[(\\hat{f}\\hat{g})(x)]=\\int_{-\\infty}^{\\infty} d\\omega \\exp{i\\omega x} \\hat{f}(\\omega)\\left[\\frac{1}{2\\pi}\\int_{-\\infty}^{\\infty}g(y)dy \\exp{-i\\omega y}\\right]=\\frac{1}{2\\pi}\\int_{-\\infty}^{\\infty}dy g(y)\\int_{-\\infty}^{\\infty} d\\omega \\hat{f}(\\omega) \\exp{i\\omega(x- y)},\n",
    "$$"
   ]
  },
  {
   "cell_type": "markdown",
   "id": "b5617702",
   "metadata": {
    "editable": true
   },
   "source": [
    "which is simply"
   ]
  },
  {
   "cell_type": "markdown",
   "id": "e97f1c4a",
   "metadata": {
    "editable": true
   },
   "source": [
    "$$\n",
    "\\boldsymbol{F}^{-1}[(\\hat{f}\\hat{g})(x)]=\\int_{-\\infty}^{\\infty}dy g(y)f(x-y)=(f*g)(x),\n",
    "$$"
   ]
  },
  {
   "cell_type": "markdown",
   "id": "b54c7110",
   "metadata": {
    "editable": true
   },
   "source": [
    "the convolution of the functions $f$ and $g$."
   ]
  },
  {
   "cell_type": "markdown",
   "id": "23397365",
   "metadata": {
    "editable": true
   },
   "source": [
    "## Two-dimensional Objects\n",
    "\n",
    "We are now ready to start studying the discrete convolutions relevant for convolutional neural networks.\n",
    "We often use convolutions over more than one dimension at a time. If\n",
    "we have a two-dimensional image $I$ as input, we can have a **filter**\n",
    "defined by a two-dimensional **kernel** $K$. This leads to an output $S$"
   ]
  },
  {
   "cell_type": "markdown",
   "id": "b8d14b22",
   "metadata": {
    "editable": true
   },
   "source": [
    "$$\n",
    "S_(i,j)=(I * K)(i,j) = \\sum_m\\sum_n I(m,n)K(i-m,j-n).\n",
    "$$"
   ]
  },
  {
   "cell_type": "markdown",
   "id": "66af72c3",
   "metadata": {
    "editable": true
   },
   "source": [
    "Convolution is a commutatitave process, which means we can rewrite this equation as"
   ]
  },
  {
   "cell_type": "markdown",
   "id": "44a7b0d4",
   "metadata": {
    "editable": true
   },
   "source": [
    "$$\n",
    "S_(i,j)=(I * K)(i,j) = \\sum_m\\sum_n I(i-m,j-n)K(m,n).\n",
    "$$"
   ]
  },
  {
   "cell_type": "markdown",
   "id": "409482d5",
   "metadata": {
    "editable": true
   },
   "source": [
    "Normally the latter is more straightforward to implement in  a machine larning library since there is less variation in the range of values of $m$ and $n$.\n",
    "\n",
    "Many deep learning libraries implement cross-correlation instead of convolution (although it is referred to s convolution)"
   ]
  },
  {
   "cell_type": "markdown",
   "id": "977a8494",
   "metadata": {
    "editable": true
   },
   "source": [
    "$$\n",
    "S_(i,j)=(I * K)(i,j) = \\sum_m\\sum_n I(i+m,j+n)K(m,n).\n",
    "$$"
   ]
  },
  {
   "cell_type": "markdown",
   "id": "272f5dab",
   "metadata": {
    "editable": true
   },
   "source": [
    "## More on Dimensionalities\n",
    "\n",
    "In fields like signal processing (and imaging as well), one designs\n",
    "so-called filters. These filters are defined by the convolutions and\n",
    "are often hand-crafted. One may specify filters for smoothing, edge\n",
    "detection, frequency reshaping, and similar operations. However with\n",
    "neural networks the idea is to automatically learn the filters and use\n",
    "many of them in conjunction with non-linear operations (activation\n",
    "functions).\n",
    "\n",
    "As an example consider a neural network operating on sound sequence\n",
    "data.  Assume that we an input vector $\\boldsymbol{x}$ of length $d=10^6$.  We\n",
    "construct then a neural network with onle hidden layer only with\n",
    "$10^4$ nodes. This means that we will have a weight matrix with\n",
    "$10^4\\times 10^6=10^{10}$ weights to be determined, together with $10^4$ biases.\n",
    "\n",
    "Assume furthermore that we have an output layer which is meant to train whether the sound sequence represents a human voice (true) or something else (false).\n",
    "It means that we have only one output node. But since this output node connects to $10^4$ nodes in the hidden layer, there are in total $10^4$ weights to be determined for the output layer, plus one bias. In total we have"
   ]
  },
  {
   "cell_type": "markdown",
   "id": "9a30677c",
   "metadata": {
    "editable": true
   },
   "source": [
    "$$\n",
    "\\mathrm{NumberParameters}=10^{10}+10^4+10^4+1 \\approx 10^{10},\n",
    "$$"
   ]
  },
  {
   "cell_type": "markdown",
   "id": "1b90a5c4",
   "metadata": {
    "editable": true
   },
   "source": [
    "that is ten billion parameters to determine."
   ]
  },
  {
   "cell_type": "markdown",
   "id": "097668e9",
   "metadata": {
    "editable": true
   },
   "source": [
    "## Further Dimensionality Remarks\n",
    "\n",
    "In today’s architecture one can train such neural networks, however\n",
    "this is a huge number of parameters for the task at hand. In general,\n",
    "it is a very wasteful and inefficient use of dense matrices as\n",
    "parameters. Just as importantly, such trained network parameters are\n",
    "very specific for the type of input data on which they were trained\n",
    "and the network is not likely to generalize easily to variations in\n",
    "the input.\n",
    "\n",
    "The main principles that justify convolutions is locality of\n",
    "information and repetion of patterns within the signal. Sound samples\n",
    "of the input in adjacent spots are much more likely to affect each\n",
    "other than those that are very far away. Similarly, sounds are\n",
    "repeated in multiple times in the signal. While slightly simplistic,\n",
    "reasoning about such a sound example demonstrates this. The same\n",
    "principles then apply to images and other similar data."
   ]
  },
  {
   "cell_type": "markdown",
   "id": "ec1c536c",
   "metadata": {
    "editable": true
   },
   "source": [
    "## CNNs in more detail\n",
    "\n",
    "Let assume we have an input matrix $I$ of dimensionality $3\\times 3$\n",
    "and a $2\\times 2$ filter $W$ given by the following matrices"
   ]
  },
  {
   "cell_type": "markdown",
   "id": "4427f380",
   "metadata": {
    "editable": true
   },
   "source": [
    "$$\n",
    "\\boldsymbol{I}=\\begin{bmatrix}i_{00} & i_{01} & i_{02}  \\\\\n",
    "                      i_{10} & i_{11} & i_{12}  \\\\\n",
    "\t              i_{20} & i_{21} & i_{22} \\end{bmatrix},\n",
    "$$"
   ]
  },
  {
   "cell_type": "markdown",
   "id": "a4b8c433",
   "metadata": {
    "editable": true
   },
   "source": [
    "and"
   ]
  },
  {
   "cell_type": "markdown",
   "id": "fda47941",
   "metadata": {
    "editable": true
   },
   "source": [
    "$$\n",
    "\\boldsymbol{W}=\\begin{bmatrix}w_{00} & w_{01} \\\\\n",
    "\t              w_{10} & w_{11}\\end{bmatrix}.\n",
    "$$"
   ]
  },
  {
   "cell_type": "markdown",
   "id": "e1b2b1b2",
   "metadata": {
    "editable": true
   },
   "source": [
    "We introduce now the hyperparameter $S$ **stride**. Stride represents how the filter $W$ moves the convolution process on the matrix $I$.\n",
    "We strongly recommend the repository on [Arithmetic of deep learning by Dumoulin and Visin](https://github.com/vdumoulin/conv_arithmetic) \n",
    "\n",
    "Here we set the stride equal to $S=1$, which means that, starting with the element $i_{00}$, the filter will act on $2\\times 2$ submatrices each time, starting with the upper corner and moving according to the stride value column by column. \n",
    "\n",
    "Here we perform the operation"
   ]
  },
  {
   "cell_type": "markdown",
   "id": "181707ac",
   "metadata": {
    "editable": true
   },
   "source": [
    "$$\n",
    "S_(i,j)=(I * W)(i,j) = \\sum_m\\sum_n I(i-m,j-n)W(m,n),\n",
    "$$"
   ]
  },
  {
   "cell_type": "markdown",
   "id": "1e3baf27",
   "metadata": {
    "editable": true
   },
   "source": [
    "and obtain"
   ]
  },
  {
   "cell_type": "markdown",
   "id": "1c902096",
   "metadata": {
    "editable": true
   },
   "source": [
    "$$\n",
    "\\boldsymbol{S}=\\begin{bmatrix}i_{00}w_{00}+i_{01}w_{01}+i_{10}w_{10}+i_{11}w_{11} & i_{01}w_{00}+i_{02}w_{01}+i_{11}w_{10}+i_{12}w_{11}  \\\\\n",
    "\t              i_{10}w_{00}+i_{11}w_{01}+i_{20}w_{10}+i_{21}w_{11} & i_{11}w_{00}+i_{12}w_{01}+i_{21}w_{10}+i_{22}w_{11}\\end{bmatrix}.\n",
    "$$"
   ]
  },
  {
   "cell_type": "markdown",
   "id": "d9a6ec23",
   "metadata": {
    "editable": true
   },
   "source": [
    "We can rewrite this operation in terms of a matrix-vector multiplication by defining a new vector where we flatten out the inputs as a vector $\\boldsymbol{I}'$ of length $9$ and\n",
    "a matrix $\\boldsymbol{W}'$ with dimension $4\\times 9$ as"
   ]
  },
  {
   "cell_type": "markdown",
   "id": "3f1521ef",
   "metadata": {
    "editable": true
   },
   "source": [
    "$$\n",
    "\\boldsymbol{I}'=\\begin{bmatrix}i_{00} \\\\ i_{01} \\\\ i_{02} \\\\ i_{10} \\\\ i_{11} \\\\ i_{12} \\\\ i_{20} \\\\ i_{21} \\\\ i_{22} \\end{bmatrix},\n",
    "$$"
   ]
  },
  {
   "cell_type": "markdown",
   "id": "6a83f5f0",
   "metadata": {
    "editable": true
   },
   "source": [
    "and the new matrix"
   ]
  },
  {
   "cell_type": "markdown",
   "id": "4c85c830",
   "metadata": {
    "editable": true
   },
   "source": [
    "$$\n",
    "\\boldsymbol{W}'=\\begin{bmatrix} w_{00} & w_{01} & 0 & w_{10} & w_{11} & 0 & 0 & 0 & 0 \\\\\n",
    "                        0  & w_{00} & w_{01} & 0 & w_{10} & w_{11} & 0 & 0 & 0 \\\\\n",
    "\t\t\t0 & 0 & 0 & w_{00} & w_{01} & 0 & w_{10} & w_{11} & 0  \\\\\n",
    "                        0 & 0 & 0 & 0 & w_{00} & w_{01} & 0 & w_{10} & w_{11}\\end{bmatrix}.\n",
    "$$"
   ]
  },
  {
   "cell_type": "markdown",
   "id": "6bb0dd66",
   "metadata": {
    "editable": true
   },
   "source": [
    "We see easily that performing the matrix-vector multiplication $\\boldsymbol{W}'\\boldsymbol{I}'$ is the same as the above convolution with stride $S=1$, that is"
   ]
  },
  {
   "cell_type": "markdown",
   "id": "ee70736a",
   "metadata": {
    "editable": true
   },
   "source": [
    "$$\n",
    "S=(\\boldsymbol{W}*\\boldsymbol{I}),\n",
    "$$"
   ]
  },
  {
   "cell_type": "markdown",
   "id": "0b8b7e39",
   "metadata": {
    "editable": true
   },
   "source": [
    "is now given by $\\boldsymbol{W}'\\boldsymbol{I}'$ which is a vector of length $4$ instead of the originally resulting  $2\\times 2$ output matrix.\n",
    "\n",
    "The collection of kernels/filters $W$ defining a discrete convolution has a shape\n",
    "corresponding to some permutation of $(n, m, k_1, \\ldots, k_N)$, where"
   ]
  },
  {
   "cell_type": "markdown",
   "id": "d2313963",
   "metadata": {
    "editable": true
   },
   "source": [
    "$$\n",
    "\\begin{split}\n",
    "    n &\\equiv \\text{number of output feature maps},\\\\\n",
    "    m &\\equiv \\text{number of input feature maps},\\\\\n",
    "    k_j &\\equiv \\text{kernel size along axis $j$}.\n",
    "\\end{split}\n",
    "$$"
   ]
  },
  {
   "cell_type": "markdown",
   "id": "5395a54b",
   "metadata": {
    "editable": true
   },
   "source": [
    "The following properties affect the output size $o_j$ of a convolutional layer\n",
    "along axis $j$:\n",
    "\n",
    "1. $i_j$: input size along axis $j$,\n",
    "\n",
    "2. $k_j$: kernel/filter size along axis $j$,\n",
    "\n",
    "3. stride (distance between two consecutive positions of the kernel/filter) along axis $j$,\n",
    "\n",
    "4. zero padding (number of zeros concatenated at the beginning and at the end of an axis) along axis $j$.\n",
    "\n",
    "For instance, the above examples shows a  $2\\times 2$ kernel/filter $\\boldsymbol{W}$  applied to a $3 \\times 3$ input padded with a $0 \\times 0$\n",
    "border of zeros using $1 \\times 1$ strides.\n",
    "\n",
    "Note that strides constitute a form of **subsampling**. As an alternative to\n",
    "being interpreted as a measure of how much the kernel/filter is translated, strides\n",
    "can also be viewed as how much of the output is retained. For instance, moving\n",
    "the kernel by hops of two is equivalent to moving the kernel by hops of one but\n",
    "retaining only odd output elements."
   ]
  },
  {
   "cell_type": "markdown",
   "id": "f45233ed",
   "metadata": {
    "editable": true
   },
   "source": [
    "## Pooling\n",
    "\n",
    "In addition to discrete convolutions themselves, {\\em pooling\\/} operations\n",
    "make up another important building block in CNNs. Pooling operations reduce\n",
    "the size of feature maps by using some function to summarize subregions, such\n",
    "as taking the average or the maximum value.\n",
    "\n",
    "Pooling works by sliding a window across the input and feeding the content of\n",
    "the window to a {\\em pooling function}. In some sense, pooling works very much\n",
    "like a discrete convolution, but replaces the linear combination described by\n",
    "the kernel with some other function. Poolin\n",
    "provides an example for average pooling, and \n",
    "does the same for max pooling.\n",
    "\n",
    "The following properties affect the output size $o_j$ of a pooling layer\n",
    "along axis $j$:\n",
    "\n",
    "1. $i_j$: input size along axis $j$,\n",
    "\n",
    "2. $k_j$: pooling window size along axis $j$,\n",
    "\n",
    "3. $s_j$: stride (distance between two consecutive positions of the pooling window) along axis $j$.\n",
    "\n",
    "The analysis of the relationship between convolutional layer properties is eased\n",
    "by the fact that they don't interact across axes, i.e., the choice of kernel\n",
    "size, stride and zero padding along axis $j$ only affects the output size of\n",
    "axis $j$. Because of that, we will focus on the following simplified\n",
    "setting:\n",
    "\n",
    "1. 2-D discrete convolutions ($N = 2$),\n",
    "\n",
    "2. square inputs ($i_1 = i_2 = i$),\n",
    "\n",
    "3. square kernel size ($k_1 = k_2 = k$),\n",
    "\n",
    "4. same strides along both axes ($s_1 = s_2 = s$),\n",
    "\n",
    "5. same zero padding along both axes ($p_1 = p_2 = p$).\n",
    "\n",
    "This facilitates the analysis and the visualization, but keep in mind that the\n",
    "results outlined here also generalize to the N-D and non-square cases."
   ]
  },
  {
   "cell_type": "markdown",
   "id": "3556a24e",
   "metadata": {
    "editable": true
   },
   "source": [
    "## No zero padding, unit strides\n",
    "\n",
    "The simplest case to analyze is when the kernel just slides across every\n",
    "position of the input (i.e., $s = 1$ and $p = 0$).\n",
    "\n",
    "For any $i$ and $k$, and for $s = 1$ and $p = 0$,"
   ]
  },
  {
   "cell_type": "markdown",
   "id": "77cc1cdc",
   "metadata": {
    "editable": true
   },
   "source": [
    "$$\n",
    "o = (i - k) + 1.\n",
    "$$"
   ]
  },
  {
   "cell_type": "markdown",
   "id": "6fec18b2",
   "metadata": {
    "editable": true
   },
   "source": [
    "## Zero padding, unit strides\n",
    "\n",
    "To factor in zero padding (i.e., only restricting to $s = 1$), let's consider\n",
    "its effect on the effective input size: padding with $p$ zeros changes the\n",
    "effective input size from $i$ to $i + 2p$. In the general case, we can infer the following\n",
    "relationship\n",
    "\n",
    "For any $i$, $k$ and $p$, and for $s = 1$,"
   ]
  },
  {
   "cell_type": "markdown",
   "id": "f9b13c37",
   "metadata": {
    "editable": true
   },
   "source": [
    "$$\n",
    "o = (i - k) + 2p + 1.\n",
    "$$"
   ]
  },
  {
   "cell_type": "markdown",
   "id": "1716bd36",
   "metadata": {
    "editable": true
   },
   "source": [
    "## Half (same) padding\n",
    "\n",
    "Having the output size be the same as the input size (i.e., $o = i$) can be a\n",
    "desirable property:\n",
    "\n",
    "For any $i$ and for $k$ odd ($k = 2n + 1, \\quad n \\in \\mathbb{N}$), $s = 1$ and\n",
    "$p = \\lfloor k / 2 \\rfloor = n$,"
   ]
  },
  {
   "cell_type": "markdown",
   "id": "521096da",
   "metadata": {
    "editable": true
   },
   "source": [
    "$$\n",
    "\\begin{split}\n",
    "    o &= i + 2 \\lfloor k / 2 \\rfloor - (k - 1) \\\\\n",
    "      &= i + 2n - 2n \\\\\n",
    "      &= i.\n",
    "\\end{split}\n",
    "$$"
   ]
  },
  {
   "cell_type": "markdown",
   "id": "f97d8575",
   "metadata": {
    "editable": true
   },
   "source": [
    "## Full padding\n",
    "\n",
    "While convolving a kernel generally decreases the output size with\n",
    "respect to the input size, sometimes the opposite is required. This can be\n",
    "achieved with proper zero padding:\n",
    "\n",
    "For any $i$ and $k$, and for $p = k - 1$ and $s = 1$,"
   ]
  },
  {
   "cell_type": "markdown",
   "id": "21fd4bb2",
   "metadata": {
    "editable": true
   },
   "source": [
    "$$\n",
    "\\begin{split}\n",
    "    o &= i + 2(k - 1) - (k - 1) \\\\\n",
    "      &= i + (k - 1).\n",
    "\\end{split}\n",
    "$$"
   ]
  },
  {
   "cell_type": "markdown",
   "id": "f334ffc7",
   "metadata": {
    "editable": true
   },
   "source": [
    "This is sometimes referred to as full padding, because in this\n",
    "setting every possible partial or complete superimposition of the kernel on the\n",
    "input feature map is taken into account."
   ]
  },
  {
   "cell_type": "markdown",
   "id": "5c866c2c",
   "metadata": {
    "editable": true
   },
   "source": [
    "## Pooling arithmetic\n",
    "\n",
    "In a neural network, pooling layers provide invariance to small translations of\n",
    "the input. The most common kind of pooling is **max pooling**, which\n",
    "consists in splitting the input in (usually non-overlapping) patches and\n",
    "outputting the maximum value of each patch. Other kinds of pooling exist, e.g.,\n",
    "mean or average pooling, which all share the same idea of aggregating the input\n",
    "locally by applying a non-linearity to the content of some patches.\n",
    "\n",
    "Since pooling does not involve\n",
    "zero padding, the relationship describing the general case is as follows:\n",
    "\n",
    "For any $i$, $k$ and $s$,"
   ]
  },
  {
   "cell_type": "markdown",
   "id": "c96362ba",
   "metadata": {
    "editable": true
   },
   "source": [
    "$$\n",
    "o = \\left\\lfloor \\frac{i - k}{s} \\right\\rfloor + 1.\n",
    "$$"
   ]
  },
  {
   "cell_type": "markdown",
   "id": "e2090284",
   "metadata": {
    "editable": true
   },
   "source": [
    "## Building convolutional neural networks in Tensorflow and Keras\n",
    "\n",
    "As discussed above, CNNs are neural networks built from the assumption that the inputs\n",
    "to the network are 2D images. This is important because the number of features or pixels in images\n",
    "grows very fast with the image size, and an enormous number of weights and biases are needed in order to build an accurate network.  \n",
    "\n",
    "As before, we still have our input, a hidden layer and an output. What's novel about convolutional networks\n",
    "are the **convolutional** and **pooling** layers stacked in pairs between the input and the hidden layer.\n",
    "In addition, the data is no longer represented as a 2D feature matrix, instead each input is a number of 2D\n",
    "matrices, typically 1 for each color dimension (Red, Green, Blue)."
   ]
  },
  {
   "cell_type": "markdown",
   "id": "7f222094",
   "metadata": {
    "editable": true
   },
   "source": [
    "## Setting it up\n",
    "\n",
    "It means that to represent the entire\n",
    "dataset of images, we require a 4D matrix or **tensor**. This tensor has the dimensions:"
   ]
  },
  {
   "cell_type": "markdown",
   "id": "d5c36809",
   "metadata": {
    "editable": true
   },
   "source": [
    "$$\n",
    "(n_{inputs},\\, n_{pixels, width},\\, n_{pixels, height},\\, depth) .\n",
    "$$"
   ]
  },
  {
   "cell_type": "markdown",
   "id": "cb1732ac",
   "metadata": {
    "editable": true
   },
   "source": [
    "## The MNIST dataset again\n",
    "\n",
    "The MNIST dataset consists of grayscale images with a pixel size of\n",
    "$28\\times 28$, meaning we require $28 \\times 28 = 724$ weights to each\n",
    "neuron in the first hidden layer.\n",
    "\n",
    "If we were to analyze images of size $128\\times 128$ we would require\n",
    "$128 \\times 128 = 16384$ weights to each neuron. Even worse if we were\n",
    "dealing with color images, as most images are, we have an image matrix\n",
    "of size $128\\times 128$ for each color dimension (Red, Green, Blue),\n",
    "meaning 3 times the number of weights $= 49152$ are required for every\n",
    "single neuron in the first hidden layer."
   ]
  },
  {
   "cell_type": "markdown",
   "id": "dbb78261",
   "metadata": {
    "editable": true
   },
   "source": [
    "## Strong correlations\n",
    "\n",
    "Images typically have strong local correlations, meaning that a small\n",
    "part of the image varies little from its neighboring regions. If for\n",
    "example we have an image of a blue car, we can roughly assume that a\n",
    "small blue part of the image is surrounded by other blue regions.\n",
    "\n",
    "Therefore, instead of connecting every single pixel to a neuron in the\n",
    "first hidden layer, as we have previously done with deep neural\n",
    "networks, we can instead connect each neuron to a small part of the\n",
    "image (in all 3 RGB depth dimensions).  The size of each small area is\n",
    "fixed, and known as a [receptive](https://en.wikipedia.org/wiki/Receptive_field)."
   ]
  },
  {
   "cell_type": "markdown",
   "id": "d713bfef",
   "metadata": {
    "editable": true
   },
   "source": [
    "## Layers of a CNN\n",
    "The layers of a convolutional neural network arrange neurons in 3D: width, height and depth.  \n",
    "The input image is typically a square matrix of depth 3. \n",
    "\n",
    "A **convolution** is performed on the image which outputs\n",
    "a 3D volume of neurons. The weights to the input are arranged in a number of 2D matrices, known as **filters**.\n",
    "\n",
    "Each filter slides along the input image, taking the dot product\n",
    "between each small part of the image and the filter, in all depth\n",
    "dimensions. This is then passed through a non-linear function,\n",
    "typically the **Rectified Linear (ReLu)** function, which serves as the\n",
    "activation of the neurons in the first convolutional layer. This is\n",
    "further passed through a **pooling layer**, which reduces the size of the\n",
    "convolutional layer, e.g. by taking the maximum or average across some\n",
    "small regions, and this serves as input to the next convolutional\n",
    "layer."
   ]
  },
  {
   "cell_type": "markdown",
   "id": "3cb0106d",
   "metadata": {
    "editable": true
   },
   "source": [
    "## Systematic reduction\n",
    "\n",
    "By systematically reducing the size of the input volume, through\n",
    "convolution and pooling, the network should create representations of\n",
    "small parts of the input, and then from them assemble representations\n",
    "of larger areas.  The final pooling layer is flattened to serve as\n",
    "input to a hidden layer, such that each neuron in the final pooling\n",
    "layer is connected to every single neuron in the hidden layer. This\n",
    "then serves as input to the output layer, e.g. a softmax output for\n",
    "classification."
   ]
  },
  {
   "cell_type": "markdown",
   "id": "e25d0db0",
   "metadata": {
    "editable": true
   },
   "source": [
    "## Prerequisites: Collect and pre-process data"
   ]
  },
  {
   "cell_type": "code",
   "execution_count": 3,
   "id": "91b09f3e",
   "metadata": {
    "collapsed": false,
    "editable": true
   },
   "outputs": [],
   "source": [
    "# import necessary packages\n",
    "import numpy as np\n",
    "import matplotlib.pyplot as plt\n",
    "from sklearn import datasets\n",
    "\n",
    "\n",
    "# ensure the same random numbers appear every time\n",
    "np.random.seed(0)\n",
    "\n",
    "# display images in notebook\n",
    "%matplotlib inline\n",
    "plt.rcParams['figure.figsize'] = (12,12)\n",
    "\n",
    "\n",
    "# download MNIST dataset\n",
    "digits = datasets.load_digits()\n",
    "\n",
    "# define inputs and labels\n",
    "inputs = digits.images\n",
    "labels = digits.target\n",
    "\n",
    "# RGB images have a depth of 3\n",
    "# our images are grayscale so they should have a depth of 1\n",
    "inputs = inputs[:,:,:,np.newaxis]\n",
    "\n",
    "print(\"inputs = (n_inputs, pixel_width, pixel_height, depth) = \" + str(inputs.shape))\n",
    "print(\"labels = (n_inputs) = \" + str(labels.shape))\n",
    "\n",
    "\n",
    "# choose some random images to display\n",
    "n_inputs = len(inputs)\n",
    "indices = np.arange(n_inputs)\n",
    "random_indices = np.random.choice(indices, size=5)\n",
    "\n",
    "for i, image in enumerate(digits.images[random_indices]):\n",
    "    plt.subplot(1, 5, i+1)\n",
    "    plt.axis('off')\n",
    "    plt.imshow(image, cmap=plt.cm.gray_r, interpolation='nearest')\n",
    "    plt.title(\"Label: %d\" % digits.target[random_indices[i]])\n",
    "plt.show()"
   ]
  },
  {
   "cell_type": "markdown",
   "id": "e7c152d7",
   "metadata": {
    "editable": true
   },
   "source": [
    "## Importing Keras and Tensorflow"
   ]
  },
  {
   "cell_type": "code",
   "execution_count": 4,
   "id": "d790a83f",
   "metadata": {
    "collapsed": false,
    "editable": true
   },
   "outputs": [],
   "source": [
    "from tensorflow.keras import datasets, layers, models\n",
    "from tensorflow.keras.layers import Input\n",
    "from tensorflow.keras.models import Sequential      #This allows appending layers to existing models\n",
    "from tensorflow.keras.layers import Dense           #This allows defining the characteristics of a particular layer\n",
    "from tensorflow.keras import optimizers             #This allows using whichever optimiser we want (sgd,adam,RMSprop)\n",
    "from tensorflow.keras import regularizers           #This allows using whichever regularizer we want (l1,l2,l1_l2)\n",
    "from tensorflow.keras.utils import to_categorical   #This allows using categorical cross entropy as the cost function\n",
    "#from tensorflow.keras import Conv2D\n",
    "#from tensorflow.keras import MaxPooling2D\n",
    "#from tensorflow.keras import Flatten\n",
    "\n",
    "from sklearn.model_selection import train_test_split\n",
    "\n",
    "# representation of labels\n",
    "labels = to_categorical(labels)\n",
    "\n",
    "# split into train and test data\n",
    "# one-liner from scikit-learn library\n",
    "train_size = 0.8\n",
    "test_size = 1 - train_size\n",
    "X_train, X_test, Y_train, Y_test = train_test_split(inputs, labels, train_size=train_size,\n",
    "                                                    test_size=test_size)"
   ]
  },
  {
   "cell_type": "markdown",
   "id": "83478770",
   "metadata": {
    "editable": true
   },
   "source": [
    "## Running with Keras"
   ]
  },
  {
   "cell_type": "code",
   "execution_count": 5,
   "id": "2c311c16",
   "metadata": {
    "collapsed": false,
    "editable": true
   },
   "outputs": [],
   "source": [
    "def create_convolutional_neural_network_keras(input_shape, receptive_field,\n",
    "                                              n_filters, n_neurons_connected, n_categories,\n",
    "                                              eta, lmbd):\n",
    "    model = Sequential()\n",
    "    model.add(layers.Conv2D(n_filters, (receptive_field, receptive_field), input_shape=input_shape, padding='same',\n",
    "              activation='relu', kernel_regularizer=regularizers.l2(lmbd)))\n",
    "    model.add(layers.MaxPooling2D(pool_size=(2, 2)))\n",
    "    model.add(layers.Flatten())\n",
    "    model.add(layers.Dense(n_neurons_connected, activation='relu', kernel_regularizer=regularizers.l2(lmbd)))\n",
    "    model.add(layers.Dense(n_categories, activation='softmax', kernel_regularizer=regularizers.l2(lmbd)))\n",
    "    \n",
    "    sgd = optimizers.SGD(lr=eta)\n",
    "    model.compile(loss='categorical_crossentropy', optimizer=sgd, metrics=['accuracy'])\n",
    "    \n",
    "    return model\n",
    "\n",
    "epochs = 100\n",
    "batch_size = 100\n",
    "input_shape = X_train.shape[1:4]\n",
    "receptive_field = 3\n",
    "n_filters = 10\n",
    "n_neurons_connected = 50\n",
    "n_categories = 10\n",
    "\n",
    "eta_vals = np.logspace(-5, 1, 7)\n",
    "lmbd_vals = np.logspace(-5, 1, 7)"
   ]
  },
  {
   "cell_type": "markdown",
   "id": "a1aa2814",
   "metadata": {
    "editable": true
   },
   "source": [
    "## Final part"
   ]
  },
  {
   "cell_type": "code",
   "execution_count": 6,
   "id": "58ea0ac2",
   "metadata": {
    "collapsed": false,
    "editable": true
   },
   "outputs": [],
   "source": [
    "CNN_keras = np.zeros((len(eta_vals), len(lmbd_vals)), dtype=object)\n",
    "        \n",
    "for i, eta in enumerate(eta_vals):\n",
    "    for j, lmbd in enumerate(lmbd_vals):\n",
    "        CNN = create_convolutional_neural_network_keras(input_shape, receptive_field,\n",
    "                                              n_filters, n_neurons_connected, n_categories,\n",
    "                                              eta, lmbd)\n",
    "        CNN.fit(X_train, Y_train, epochs=epochs, batch_size=batch_size, verbose=0)\n",
    "        scores = CNN.evaluate(X_test, Y_test)\n",
    "        \n",
    "        CNN_keras[i][j] = CNN\n",
    "        \n",
    "        print(\"Learning rate = \", eta)\n",
    "        print(\"Lambda = \", lmbd)\n",
    "        print(\"Test accuracy: %.3f\" % scores[1])\n",
    "        print()"
   ]
  },
  {
   "cell_type": "markdown",
   "id": "4fc4787a",
   "metadata": {
    "editable": true
   },
   "source": [
    "## Final visualization"
   ]
  },
  {
   "cell_type": "code",
   "execution_count": 7,
   "id": "bfefe6fe",
   "metadata": {
    "collapsed": false,
    "editable": true
   },
   "outputs": [],
   "source": [
    "# visual representation of grid search\n",
    "# uses seaborn heatmap, could probably do this in matplotlib\n",
    "import seaborn as sns\n",
    "\n",
    "sns.set()\n",
    "\n",
    "train_accuracy = np.zeros((len(eta_vals), len(lmbd_vals)))\n",
    "test_accuracy = np.zeros((len(eta_vals), len(lmbd_vals)))\n",
    "\n",
    "for i in range(len(eta_vals)):\n",
    "    for j in range(len(lmbd_vals)):\n",
    "        CNN = CNN_keras[i][j]\n",
    "\n",
    "        train_accuracy[i][j] = CNN.evaluate(X_train, Y_train)[1]\n",
    "        test_accuracy[i][j] = CNN.evaluate(X_test, Y_test)[1]\n",
    "\n",
    "        \n",
    "fig, ax = plt.subplots(figsize = (10, 10))\n",
    "sns.heatmap(train_accuracy, annot=True, ax=ax, cmap=\"viridis\")\n",
    "ax.set_title(\"Training Accuracy\")\n",
    "ax.set_ylabel(\"$\\eta$\")\n",
    "ax.set_xlabel(\"$\\lambda$\")\n",
    "plt.show()\n",
    "\n",
    "fig, ax = plt.subplots(figsize = (10, 10))\n",
    "sns.heatmap(test_accuracy, annot=True, ax=ax, cmap=\"viridis\")\n",
    "ax.set_title(\"Test Accuracy\")\n",
    "ax.set_ylabel(\"$\\eta$\")\n",
    "ax.set_xlabel(\"$\\lambda$\")\n",
    "plt.show()"
   ]
  },
  {
   "cell_type": "markdown",
   "id": "58ca5e1d",
   "metadata": {
    "editable": true
   },
   "source": [
    "## The CIFAR01 data set\n",
    "\n",
    "The CIFAR10 dataset contains 60,000 color images in 10 classes, with\n",
    "6,000 images in each class. The dataset is divided into 50,000\n",
    "training images and 10,000 testing images. The classes are mutually\n",
    "exclusive and there is no overlap between them."
   ]
  },
  {
   "cell_type": "code",
   "execution_count": 8,
   "id": "78401612",
   "metadata": {
    "collapsed": false,
    "editable": true
   },
   "outputs": [],
   "source": [
    "import tensorflow as tf\n",
    "\n",
    "from tensorflow.keras import datasets, layers, models\n",
    "import matplotlib.pyplot as plt\n",
    "\n",
    "# We import the data set\n",
    "(train_images, train_labels), (test_images, test_labels) = datasets.cifar10.load_data()\n",
    "\n",
    "# Normalize pixel values to be between 0 and 1 by dividing by 255. \n",
    "train_images, test_images = train_images / 255.0, test_images / 255.0"
   ]
  },
  {
   "cell_type": "markdown",
   "id": "78b36895",
   "metadata": {
    "editable": true
   },
   "source": [
    "## Verifying the data set\n",
    "\n",
    "To verify that the dataset looks correct, let's plot the first 25 images from the training set and display the class name below each image."
   ]
  },
  {
   "cell_type": "code",
   "execution_count": 9,
   "id": "505b4865",
   "metadata": {
    "collapsed": false,
    "editable": true
   },
   "outputs": [],
   "source": [
    "class_names = ['airplane', 'automobile', 'bird', 'cat', 'deer',\n",
    "               'dog', 'frog', 'horse', 'ship', 'truck']\n",
    "​\n",
    "plt.figure(figsize=(10,10))\n",
    "for i in range(25):\n",
    "    plt.subplot(5,5,i+1)\n",
    "    plt.xticks([])\n",
    "    plt.yticks([])\n",
    "    plt.grid(False)\n",
    "    plt.imshow(train_images[i], cmap=plt.cm.binary)\n",
    "    # The CIFAR labels happen to be arrays, \n",
    "    # which is why you need the extra index\n",
    "    plt.xlabel(class_names[train_labels[i][0]])\n",
    "plt.show()"
   ]
  },
  {
   "cell_type": "markdown",
   "id": "9ed8f2f7",
   "metadata": {
    "editable": true
   },
   "source": [
    "## Set up  the model\n",
    "\n",
    "The 6 lines of code below define the convolutional base using a common pattern: a stack of Conv2D and MaxPooling2D layers.\n",
    "\n",
    "As input, a CNN takes tensors of shape (image_height, image_width, color_channels), ignoring the batch size. If you are new to these dimensions, color_channels refers to (R,G,B). In this example, you will configure our CNN to process inputs of shape (32, 32, 3), which is the format of CIFAR images. You can do this by passing the argument input_shape to our first layer."
   ]
  },
  {
   "cell_type": "code",
   "execution_count": 10,
   "id": "b583ef44",
   "metadata": {
    "collapsed": false,
    "editable": true
   },
   "outputs": [],
   "source": [
    "model = models.Sequential()\n",
    "model.add(layers.Conv2D(32, (3, 3), activation='relu', input_shape=(32, 32, 3)))\n",
    "model.add(layers.MaxPooling2D((2, 2)))\n",
    "model.add(layers.Conv2D(64, (3, 3), activation='relu'))\n",
    "model.add(layers.MaxPooling2D((2, 2)))\n",
    "model.add(layers.Conv2D(64, (3, 3), activation='relu'))\n",
    "\n",
    "# Let's display the architecture of our model so far.\n",
    "\n",
    "model.summary()"
   ]
  },
  {
   "cell_type": "markdown",
   "id": "f670be3f",
   "metadata": {
    "editable": true
   },
   "source": [
    "You can see that the output of every Conv2D and MaxPooling2D layer is a 3D tensor of shape (height, width, channels). The width and height dimensions tend to shrink as you go deeper in the network. The number of output channels for each Conv2D layer is controlled by the first argument (e.g., 32 or 64). Typically, as the width and height shrink, you can afford (computationally) to add more output channels in each Conv2D layer."
   ]
  },
  {
   "cell_type": "markdown",
   "id": "2cbdbc20",
   "metadata": {
    "editable": true
   },
   "source": [
    "## Add Dense layers on top\n",
    "\n",
    "To complete our model, you will feed the last output tensor from the\n",
    "convolutional base (of shape (4, 4, 64)) into one or more Dense layers\n",
    "to perform classification. Dense layers take vectors as input (which\n",
    "are 1D), while the current output is a 3D tensor. First, you will\n",
    "flatten (or unroll) the 3D output to 1D, then add one or more Dense\n",
    "layers on top. CIFAR has 10 output classes, so you use a final Dense\n",
    "layer with 10 outputs and a softmax activation."
   ]
  },
  {
   "cell_type": "code",
   "execution_count": 11,
   "id": "c019208f",
   "metadata": {
    "collapsed": false,
    "editable": true
   },
   "outputs": [],
   "source": [
    "model.add(layers.Flatten())\n",
    "model.add(layers.Dense(64, activation='relu'))\n",
    "model.add(layers.Dense(10))\n",
    "Here's the complete architecture of our model.\n",
    "\n",
    "model.summary()"
   ]
  },
  {
   "cell_type": "markdown",
   "id": "d037ee83",
   "metadata": {
    "editable": true
   },
   "source": [
    "As you can see, our (4, 4, 64) outputs were flattened into vectors of shape (1024) before going through two Dense layers."
   ]
  },
  {
   "cell_type": "markdown",
   "id": "88635f2c",
   "metadata": {
    "editable": true
   },
   "source": [
    "## Compile and train the model"
   ]
  },
  {
   "cell_type": "code",
   "execution_count": 12,
   "id": "91b2b1b8",
   "metadata": {
    "collapsed": false,
    "editable": true
   },
   "outputs": [],
   "source": [
    "model.compile(optimizer='adam',\n",
    "              loss=tf.keras.losses.SparseCategoricalCrossentropy(from_logits=True),\n",
    "              metrics=['accuracy'])\n",
    "​\n",
    "history = model.fit(train_images, train_labels, epochs=10, \n",
    "                    validation_data=(test_images, test_labels))"
   ]
  },
  {
   "cell_type": "markdown",
   "id": "bcc0138d",
   "metadata": {
    "editable": true
   },
   "source": [
    "## Finally, evaluate the model"
   ]
  },
  {
   "cell_type": "code",
   "execution_count": 13,
   "id": "75d19696",
   "metadata": {
    "collapsed": false,
    "editable": true
   },
   "outputs": [],
   "source": [
    "plt.plot(history.history['accuracy'], label='accuracy')\n",
    "plt.plot(history.history['val_accuracy'], label = 'val_accuracy')\n",
    "plt.xlabel('Epoch')\n",
    "plt.ylabel('Accuracy')\n",
    "plt.ylim([0.5, 1])\n",
    "plt.legend(loc='lower right')\n",
    "\n",
    "test_loss, test_acc = model.evaluate(test_images,  test_labels, verbose=2)\n",
    "\n",
    "print(test_acc)"
   ]
  }
 ],
 "metadata": {},
 "nbformat": 4,
 "nbformat_minor": 5
}
