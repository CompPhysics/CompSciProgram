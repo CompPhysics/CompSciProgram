{
 "cells": [
  {
   "cell_type": "markdown",
   "id": "49f96118",
   "metadata": {
    "editable": true
   },
   "source": [
    "<!-- HTML file automatically generated from DocOnce source (https://github.com/doconce/doconce/)\n",
    "doconce format html week10.do.txt --no_mako -->\n",
    "<!-- dom:TITLE: Week 10: Recurrent neural networks  -->"
   ]
  },
  {
   "cell_type": "markdown",
   "id": "dfe5f0f0",
   "metadata": {
    "editable": true
   },
   "source": [
    "# Week 10: Recurrent neural networks \n",
    "**Morten Hjorth-Jensen**, Department of Physics, University of Oslo and Department of Physics and Astronomy and Facility for Rare Isotope Beams, Michigan State University\n",
    "\n",
    "Date: **March 6-10, 2023**"
   ]
  },
  {
   "cell_type": "markdown",
   "id": "950273c6",
   "metadata": {
    "editable": true
   },
   "source": [
    "## Plans for week 10, March 6-10\n",
    "\n",
    "* Wrapping up Convolutional Neural Networks\n",
    "\n",
    "* Recurrent neural networks\n",
    "\n",
    "* [Video of lecture at with subtitles](https://youtube.be)"
   ]
  },
  {
   "cell_type": "markdown",
   "id": "6d462ec6",
   "metadata": {
    "editable": true
   },
   "source": [
    "## Resources on Deeep learning\n",
    "\n",
    "**Excellent lectures on CNNs and RNNs.**\n",
    "\n",
    "* [Video  on Convolutional Neural Networks from MIT](https://www.youtube.com/watch?v=iaSUYvmCekI&ab_channel=AlexanderAmini)\n",
    "\n",
    "* [Video  on Recurrent Neural Networks from MIT](https://www.youtube.com/watch?v=SEnXr6v2ifU&ab_channel=AlexanderAmini)\n",
    "\n",
    "* [Video on Deep Learning](https://www.youtube.com/playlist?list=PLZHQObOWTQDNU6R1_67000Dx_ZCJB-3pi)\n",
    "\n",
    "**More resources.**\n",
    "\n",
    "* [IN5400 at UiO Lecture](https://www.uio.no/studier/emner/matnat/ifi/IN5400/v20/material/week10/in5400_2020_week10_recurrent_neural_network.pdf)\n",
    "\n",
    "* [CS231 at Stanford Lecture](https://www.youtube.com/watch?v=6niqTuYFZLQ&list=PLzUTmXVwsnXod6WNdg57Yc3zFx_f-RYsq&index=10&ab_channel=StanfordUniversitySchoolofEngineering)\n",
    "\n",
    "**Reading Recommendations.**\n",
    "\n",
    "* Goodfellow et al, chapter 9 on CNNs and chapter 10 on RNNs, chapters 11 and 12 on various practicalities around deep learning are also recommended.\n",
    "\n",
    "* Aurelien Geron, chapter 13 on CNNs."
   ]
  },
  {
   "cell_type": "markdown",
   "id": "6d4320f7",
   "metadata": {
    "editable": true
   },
   "source": [
    "## Building convolutional neural networks in Tensorflow and Keras\n",
    "\n",
    "As discussed above, CNNs are neural networks built from the assumption that the inputs\n",
    "to the network are 2D images. This is important because the number of features or pixels in images\n",
    "grows very fast with the image size, and an enormous number of weights and biases are needed in order to build an accurate network.  \n",
    "\n",
    "As before, we still have our input, a hidden layer and an output. What's novel about convolutional networks\n",
    "are the **convolutional** and **pooling** layers stacked in pairs between the input and the hidden layer.\n",
    "In addition, the data is no longer represented as a 2D feature matrix, instead each input is a number of 2D\n",
    "matrices, typically 1 for each color dimension (Red, Green, Blue)."
   ]
  },
  {
   "cell_type": "markdown",
   "id": "93de99d5",
   "metadata": {
    "editable": true
   },
   "source": [
    "## Setting it up\n",
    "\n",
    "It means that to represent the entire\n",
    "dataset of images, we require a 4D matrix or **tensor**. This tensor has the dimensions:"
   ]
  },
  {
   "cell_type": "markdown",
   "id": "9a925301",
   "metadata": {
    "editable": true
   },
   "source": [
    "$$\n",
    "(n_{inputs},\\, n_{pixels, width},\\, n_{pixels, height},\\, depth) .\n",
    "$$"
   ]
  },
  {
   "cell_type": "markdown",
   "id": "9b98f00a",
   "metadata": {
    "editable": true
   },
   "source": [
    "## The MNIST dataset again\n",
    "\n",
    "The MNIST dataset consists of grayscale images with a pixel size of\n",
    "$28\\times 28$, meaning we require $28 \\times 28 = 724$ weights to each\n",
    "neuron in the first hidden layer.\n",
    "\n",
    "If we were to analyze images of size $128\\times 128$ we would require\n",
    "$128 \\times 128 = 16384$ weights to each neuron. Even worse if we were\n",
    "dealing with color images, as most images are, we have an image matrix\n",
    "of size $128\\times 128$ for each color dimension (Red, Green, Blue),\n",
    "meaning 3 times the number of weights $= 49152$ are required for every\n",
    "single neuron in the first hidden layer."
   ]
  },
  {
   "cell_type": "markdown",
   "id": "844857a1",
   "metadata": {
    "editable": true
   },
   "source": [
    "## Strong correlations\n",
    "\n",
    "Images typically have strong local correlations, meaning that a small\n",
    "part of the image varies little from its neighboring regions. If for\n",
    "example we have an image of a blue car, we can roughly assume that a\n",
    "small blue part of the image is surrounded by other blue regions.\n",
    "\n",
    "Therefore, instead of connecting every single pixel to a neuron in the\n",
    "first hidden layer, as we have previously done with deep neural\n",
    "networks, we can instead connect each neuron to a small part of the\n",
    "image (in all 3 RGB depth dimensions).  The size of each small area is\n",
    "fixed, and known as a [receptive](https://en.wikipedia.org/wiki/Receptive_field)."
   ]
  },
  {
   "cell_type": "markdown",
   "id": "5fc6b021",
   "metadata": {
    "editable": true
   },
   "source": [
    "## Layers of a CNN\n",
    "The layers of a convolutional neural network arrange neurons in 3D: width, height and depth.  \n",
    "The input image is typically a square matrix of depth 3. \n",
    "\n",
    "A **convolution** is performed on the image which outputs\n",
    "a 3D volume of neurons. The weights to the input are arranged in a number of 2D matrices, known as **filters**.\n",
    "\n",
    "Each filter slides along the input image, taking the dot product\n",
    "between each small part of the image and the filter, in all depth\n",
    "dimensions. This is then passed through a non-linear function,\n",
    "typically the **Rectified Linear (ReLu)** function, which serves as the\n",
    "activation of the neurons in the first convolutional layer. This is\n",
    "further passed through a **pooling layer**, which reduces the size of the\n",
    "convolutional layer, e.g. by taking the maximum or average across some\n",
    "small regions, and this serves as input to the next convolutional\n",
    "layer."
   ]
  },
  {
   "cell_type": "markdown",
   "id": "40327e1f",
   "metadata": {
    "editable": true
   },
   "source": [
    "## Systematic reduction\n",
    "\n",
    "By systematically reducing the size of the input volume, through\n",
    "convolution and pooling, the network should create representations of\n",
    "small parts of the input, and then from them assemble representations\n",
    "of larger areas.  The final pooling layer is flattened to serve as\n",
    "input to a hidden layer, such that each neuron in the final pooling\n",
    "layer is connected to every single neuron in the hidden layer. This\n",
    "then serves as input to the output layer, e.g. a softmax output for\n",
    "classification."
   ]
  },
  {
   "cell_type": "markdown",
   "id": "9b689f4c",
   "metadata": {
    "editable": true
   },
   "source": [
    "## Prerequisites: Collect and pre-process data"
   ]
  },
  {
   "cell_type": "code",
   "execution_count": 1,
   "id": "8720ff8e",
   "metadata": {
    "collapsed": false,
    "editable": true
   },
   "outputs": [],
   "source": [
    "%matplotlib inline\n",
    "\n",
    "# import necessary packages\n",
    "import numpy as np\n",
    "import matplotlib.pyplot as plt\n",
    "from sklearn import datasets\n",
    "\n",
    "\n",
    "# ensure the same random numbers appear every time\n",
    "np.random.seed(0)\n",
    "\n",
    "# display images in notebook\n",
    "%matplotlib inline\n",
    "plt.rcParams['figure.figsize'] = (12,12)\n",
    "\n",
    "\n",
    "# download MNIST dataset\n",
    "digits = datasets.load_digits()\n",
    "\n",
    "# define inputs and labels\n",
    "inputs = digits.images\n",
    "labels = digits.target\n",
    "\n",
    "# RGB images have a depth of 3\n",
    "# our images are grayscale so they should have a depth of 1\n",
    "inputs = inputs[:,:,:,np.newaxis]\n",
    "\n",
    "print(\"inputs = (n_inputs, pixel_width, pixel_height, depth) = \" + str(inputs.shape))\n",
    "print(\"labels = (n_inputs) = \" + str(labels.shape))\n",
    "\n",
    "\n",
    "# choose some random images to display\n",
    "n_inputs = len(inputs)\n",
    "indices = np.arange(n_inputs)\n",
    "random_indices = np.random.choice(indices, size=5)\n",
    "\n",
    "for i, image in enumerate(digits.images[random_indices]):\n",
    "    plt.subplot(1, 5, i+1)\n",
    "    plt.axis('off')\n",
    "    plt.imshow(image, cmap=plt.cm.gray_r, interpolation='nearest')\n",
    "    plt.title(\"Label: %d\" % digits.target[random_indices[i]])\n",
    "plt.show()"
   ]
  },
  {
   "cell_type": "markdown",
   "id": "28aa9a1a",
   "metadata": {
    "editable": true
   },
   "source": [
    "## Importing Keras and Tensorflow"
   ]
  },
  {
   "cell_type": "code",
   "execution_count": 2,
   "id": "e21bbe88",
   "metadata": {
    "collapsed": false,
    "editable": true
   },
   "outputs": [],
   "source": [
    "from tensorflow.keras import datasets, layers, models\n",
    "from tensorflow.keras.layers import Input\n",
    "from tensorflow.keras.models import Sequential      #This allows appending layers to existing models\n",
    "from tensorflow.keras.layers import Dense           #This allows defining the characteristics of a particular layer\n",
    "from tensorflow.keras import optimizers             #This allows using whichever optimiser we want (sgd,adam,RMSprop)\n",
    "from tensorflow.keras import regularizers           #This allows using whichever regularizer we want (l1,l2,l1_l2)\n",
    "from tensorflow.keras.utils import to_categorical   #This allows using categorical cross entropy as the cost function\n",
    "#from tensorflow.keras import Conv2D\n",
    "#from tensorflow.keras import MaxPooling2D\n",
    "#from tensorflow.keras import Flatten\n",
    "\n",
    "from sklearn.model_selection import train_test_split\n",
    "\n",
    "# representation of labels\n",
    "labels = to_categorical(labels)\n",
    "\n",
    "# split into train and test data\n",
    "# one-liner from scikit-learn library\n",
    "train_size = 0.8\n",
    "test_size = 1 - train_size\n",
    "X_train, X_test, Y_train, Y_test = train_test_split(inputs, labels, train_size=train_size,\n",
    "                                                    test_size=test_size)"
   ]
  },
  {
   "cell_type": "markdown",
   "id": "082ecddb",
   "metadata": {
    "editable": true
   },
   "source": [
    "## Running with Keras"
   ]
  },
  {
   "cell_type": "code",
   "execution_count": 3,
   "id": "ef43ab7d",
   "metadata": {
    "collapsed": false,
    "editable": true
   },
   "outputs": [],
   "source": [
    "def create_convolutional_neural_network_keras(input_shape, receptive_field,\n",
    "                                              n_filters, n_neurons_connected, n_categories,\n",
    "                                              eta, lmbd):\n",
    "    model = Sequential()\n",
    "    model.add(layers.Conv2D(n_filters, (receptive_field, receptive_field), input_shape=input_shape, padding='same',\n",
    "              activation='relu', kernel_regularizer=regularizers.l2(lmbd)))\n",
    "    model.add(layers.MaxPooling2D(pool_size=(2, 2)))\n",
    "    model.add(layers.Flatten())\n",
    "    model.add(layers.Dense(n_neurons_connected, activation='relu', kernel_regularizer=regularizers.l2(lmbd)))\n",
    "    model.add(layers.Dense(n_categories, activation='softmax', kernel_regularizer=regularizers.l2(lmbd)))\n",
    "    \n",
    "    sgd = optimizers.SGD(lr=eta)\n",
    "    model.compile(loss='categorical_crossentropy', optimizer=sgd, metrics=['accuracy'])\n",
    "    \n",
    "    return model\n",
    "\n",
    "epochs = 100\n",
    "batch_size = 100\n",
    "input_shape = X_train.shape[1:4]\n",
    "receptive_field = 3\n",
    "n_filters = 10\n",
    "n_neurons_connected = 50\n",
    "n_categories = 10\n",
    "\n",
    "eta_vals = np.logspace(-5, 1, 7)\n",
    "lmbd_vals = np.logspace(-5, 1, 7)"
   ]
  },
  {
   "cell_type": "markdown",
   "id": "30eefa89",
   "metadata": {
    "editable": true
   },
   "source": [
    "## Final part"
   ]
  },
  {
   "cell_type": "code",
   "execution_count": 4,
   "id": "1b80e743",
   "metadata": {
    "collapsed": false,
    "editable": true
   },
   "outputs": [],
   "source": [
    "CNN_keras = np.zeros((len(eta_vals), len(lmbd_vals)), dtype=object)\n",
    "        \n",
    "for i, eta in enumerate(eta_vals):\n",
    "    for j, lmbd in enumerate(lmbd_vals):\n",
    "        CNN = create_convolutional_neural_network_keras(input_shape, receptive_field,\n",
    "                                              n_filters, n_neurons_connected, n_categories,\n",
    "                                              eta, lmbd)\n",
    "        CNN.fit(X_train, Y_train, epochs=epochs, batch_size=batch_size, verbose=0)\n",
    "        scores = CNN.evaluate(X_test, Y_test)\n",
    "        \n",
    "        CNN_keras[i][j] = CNN\n",
    "        \n",
    "        print(\"Learning rate = \", eta)\n",
    "        print(\"Lambda = \", lmbd)\n",
    "        print(\"Test accuracy: %.3f\" % scores[1])\n",
    "        print()"
   ]
  },
  {
   "cell_type": "markdown",
   "id": "dbad2f3d",
   "metadata": {
    "editable": true
   },
   "source": [
    "## Final visualization"
   ]
  },
  {
   "cell_type": "code",
   "execution_count": 5,
   "id": "fa7896b2",
   "metadata": {
    "collapsed": false,
    "editable": true
   },
   "outputs": [],
   "source": [
    "# visual representation of grid search\n",
    "# uses seaborn heatmap, could probably do this in matplotlib\n",
    "import seaborn as sns\n",
    "\n",
    "sns.set()\n",
    "\n",
    "train_accuracy = np.zeros((len(eta_vals), len(lmbd_vals)))\n",
    "test_accuracy = np.zeros((len(eta_vals), len(lmbd_vals)))\n",
    "\n",
    "for i in range(len(eta_vals)):\n",
    "    for j in range(len(lmbd_vals)):\n",
    "        CNN = CNN_keras[i][j]\n",
    "\n",
    "        train_accuracy[i][j] = CNN.evaluate(X_train, Y_train)[1]\n",
    "        test_accuracy[i][j] = CNN.evaluate(X_test, Y_test)[1]\n",
    "\n",
    "        \n",
    "fig, ax = plt.subplots(figsize = (10, 10))\n",
    "sns.heatmap(train_accuracy, annot=True, ax=ax, cmap=\"viridis\")\n",
    "ax.set_title(\"Training Accuracy\")\n",
    "ax.set_ylabel(\"$\\eta$\")\n",
    "ax.set_xlabel(\"$\\lambda$\")\n",
    "plt.show()\n",
    "\n",
    "fig, ax = plt.subplots(figsize = (10, 10))\n",
    "sns.heatmap(test_accuracy, annot=True, ax=ax, cmap=\"viridis\")\n",
    "ax.set_title(\"Test Accuracy\")\n",
    "ax.set_ylabel(\"$\\eta$\")\n",
    "ax.set_xlabel(\"$\\lambda$\")\n",
    "plt.show()"
   ]
  },
  {
   "cell_type": "markdown",
   "id": "d10f6bdc",
   "metadata": {
    "editable": true
   },
   "source": [
    "## The CIFAR01 data set\n",
    "\n",
    "The CIFAR10 dataset contains 60,000 color images in 10 classes, with\n",
    "6,000 images in each class. The dataset is divided into 50,000\n",
    "training images and 10,000 testing images. The classes are mutually\n",
    "exclusive and there is no overlap between them."
   ]
  },
  {
   "cell_type": "code",
   "execution_count": 6,
   "id": "d3157151",
   "metadata": {
    "collapsed": false,
    "editable": true
   },
   "outputs": [],
   "source": [
    "import tensorflow as tf\n",
    "\n",
    "from tensorflow.keras import datasets, layers, models\n",
    "import matplotlib.pyplot as plt\n",
    "\n",
    "# We import the data set\n",
    "(train_images, train_labels), (test_images, test_labels) = datasets.cifar10.load_data()\n",
    "\n",
    "# Normalize pixel values to be between 0 and 1 by dividing by 255. \n",
    "train_images, test_images = train_images / 255.0, test_images / 255.0"
   ]
  },
  {
   "cell_type": "markdown",
   "id": "4f198d75",
   "metadata": {
    "editable": true
   },
   "source": [
    "## Verifying the data set\n",
    "\n",
    "To verify that the dataset looks correct, let's plot the first 25 images from the training set and display the class name below each image."
   ]
  },
  {
   "cell_type": "code",
   "execution_count": 7,
   "id": "8e0054e1",
   "metadata": {
    "collapsed": false,
    "editable": true
   },
   "outputs": [],
   "source": [
    "class_names = ['airplane', 'automobile', 'bird', 'cat', 'deer',\n",
    "               'dog', 'frog', 'horse', 'ship', 'truck']\n",
    "​\n",
    "plt.figure(figsize=(10,10))\n",
    "for i in range(25):\n",
    "    plt.subplot(5,5,i+1)\n",
    "    plt.xticks([])\n",
    "    plt.yticks([])\n",
    "    plt.grid(False)\n",
    "    plt.imshow(train_images[i], cmap=plt.cm.binary)\n",
    "    # The CIFAR labels happen to be arrays, \n",
    "    # which is why you need the extra index\n",
    "    plt.xlabel(class_names[train_labels[i][0]])\n",
    "plt.show()"
   ]
  },
  {
   "cell_type": "markdown",
   "id": "1d6e5124",
   "metadata": {
    "editable": true
   },
   "source": [
    "## Set up  the model\n",
    "\n",
    "The 6 lines of code below define the convolutional base using a common pattern: a stack of Conv2D and MaxPooling2D layers.\n",
    "\n",
    "As input, a CNN takes tensors of shape (image_height, image_width, color_channels), ignoring the batch size. If you are new to these dimensions, color_channels refers to (R,G,B). In this example, you will configure our CNN to process inputs of shape (32, 32, 3), which is the format of CIFAR images. You can do this by passing the argument input_shape to our first layer."
   ]
  },
  {
   "cell_type": "code",
   "execution_count": 8,
   "id": "649223de",
   "metadata": {
    "collapsed": false,
    "editable": true
   },
   "outputs": [],
   "source": [
    "model = models.Sequential()\n",
    "model.add(layers.Conv2D(32, (3, 3), activation='relu', input_shape=(32, 32, 3)))\n",
    "model.add(layers.MaxPooling2D((2, 2)))\n",
    "model.add(layers.Conv2D(64, (3, 3), activation='relu'))\n",
    "model.add(layers.MaxPooling2D((2, 2)))\n",
    "model.add(layers.Conv2D(64, (3, 3), activation='relu'))\n",
    "\n",
    "# Let's display the architecture of our model so far.\n",
    "\n",
    "model.summary()"
   ]
  },
  {
   "cell_type": "markdown",
   "id": "f561dc63",
   "metadata": {
    "editable": true
   },
   "source": [
    "You can see that the output of every Conv2D and MaxPooling2D layer is a 3D tensor of shape (height, width, channels). The width and height dimensions tend to shrink as you go deeper in the network. The number of output channels for each Conv2D layer is controlled by the first argument (e.g., 32 or 64). Typically, as the width and height shrink, you can afford (computationally) to add more output channels in each Conv2D layer."
   ]
  },
  {
   "cell_type": "markdown",
   "id": "b457e192",
   "metadata": {
    "editable": true
   },
   "source": [
    "## Add Dense layers on top\n",
    "\n",
    "To complete our model, you will feed the last output tensor from the\n",
    "convolutional base (of shape (4, 4, 64)) into one or more Dense layers\n",
    "to perform classification. Dense layers take vectors as input (which\n",
    "are 1D), while the current output is a 3D tensor. First, you will\n",
    "flatten (or unroll) the 3D output to 1D, then add one or more Dense\n",
    "layers on top. CIFAR has 10 output classes, so you use a final Dense\n",
    "layer with 10 outputs and a softmax activation."
   ]
  },
  {
   "cell_type": "code",
   "execution_count": 9,
   "id": "0261c28c",
   "metadata": {
    "collapsed": false,
    "editable": true
   },
   "outputs": [],
   "source": [
    "model.add(layers.Flatten())\n",
    "model.add(layers.Dense(64, activation='relu'))\n",
    "model.add(layers.Dense(10))\n",
    "Here's the complete architecture of our model.\n",
    "\n",
    "model.summary()"
   ]
  },
  {
   "cell_type": "markdown",
   "id": "c975dccc",
   "metadata": {
    "editable": true
   },
   "source": [
    "As you can see, our (4, 4, 64) outputs were flattened into vectors of shape (1024) before going through two Dense layers."
   ]
  },
  {
   "cell_type": "markdown",
   "id": "eb4470f4",
   "metadata": {
    "editable": true
   },
   "source": [
    "## Compile and train the model"
   ]
  },
  {
   "cell_type": "code",
   "execution_count": 10,
   "id": "5fe4b11c",
   "metadata": {
    "collapsed": false,
    "editable": true
   },
   "outputs": [],
   "source": [
    "model.compile(optimizer='adam',\n",
    "              loss=tf.keras.losses.SparseCategoricalCrossentropy(from_logits=True),\n",
    "              metrics=['accuracy'])\n",
    "​\n",
    "history = model.fit(train_images, train_labels, epochs=10, \n",
    "                    validation_data=(test_images, test_labels))"
   ]
  },
  {
   "cell_type": "markdown",
   "id": "a503a81e",
   "metadata": {
    "editable": true
   },
   "source": [
    "## Finally, evaluate the model"
   ]
  },
  {
   "cell_type": "code",
   "execution_count": 11,
   "id": "c9c14bc5",
   "metadata": {
    "collapsed": false,
    "editable": true
   },
   "outputs": [],
   "source": [
    "plt.plot(history.history['accuracy'], label='accuracy')\n",
    "plt.plot(history.history['val_accuracy'], label = 'val_accuracy')\n",
    "plt.xlabel('Epoch')\n",
    "plt.ylabel('Accuracy')\n",
    "plt.ylim([0.5, 1])\n",
    "plt.legend(loc='lower right')\n",
    "\n",
    "test_loss, test_acc = model.evaluate(test_images,  test_labels, verbose=2)\n",
    "\n",
    "print(test_acc)"
   ]
  },
  {
   "cell_type": "markdown",
   "id": "49890bab",
   "metadata": {
    "editable": true
   },
   "source": [
    "## Recurrent neural networks (RNNs): Overarching view\n",
    "\n",
    "Till now our focus has been, including convolutional neural networks\n",
    "as well, on feedforward neural networks. The output or the activations\n",
    "flow only in one direction, from the input layer to the output layer.\n",
    "\n",
    "A recurrent neural network (RNN) looks very much like a feedforward\n",
    "neural network, except that it also has connections pointing\n",
    "backward. \n",
    "\n",
    "RNNs are used to analyze time series data such as stock prices, and\n",
    "tell you when to buy or sell. In autonomous driving systems, they can\n",
    "anticipate car trajectories and help avoid accidents. More generally,\n",
    "they can work on sequences of arbitrary lengths, rather than on\n",
    "fixed-sized inputs like all the nets we have discussed so far. For\n",
    "example, they can take sentences, documents, or audio samples as\n",
    "input, making them extremely useful for natural language processing\n",
    "systems such as automatic translation and speech-to-text."
   ]
  },
  {
   "cell_type": "markdown",
   "id": "33c4da1a",
   "metadata": {
    "editable": true
   },
   "source": [
    "## More examples\n",
    "When applying machine learning to sequences, we often want to turn an input\n",
    "sequence into an output sequence that lives in a different domain.\n",
    "* As example, consider turning a sequence of sound pressures into a sequence of word identities.\n",
    "\n",
    "a. When there is no separate target sequence, we can get a teaching signal by trying to predict the next term in the input sequence.\n",
    "\n",
    "b. The target output sequence is the input sequence with an advance of 1 step.\n",
    "\n",
    "c. This seems much more natural than trying to predict one pixel in an image from the other pixels, or one patch of an image from the rest of the image.\n",
    "\n",
    "d. For temporal sequences there is a natural order for the predictions."
   ]
  },
  {
   "cell_type": "markdown",
   "id": "922b16ea",
   "metadata": {
    "editable": true
   },
   "source": [
    "## A simple example"
   ]
  },
  {
   "cell_type": "code",
   "execution_count": 12,
   "id": "40ff44a6",
   "metadata": {
    "collapsed": false,
    "editable": true
   },
   "outputs": [],
   "source": [
    "# Start importing packages\n",
    "import pandas as pd\n",
    "import numpy as np\n",
    "import matplotlib.pyplot as plt\n",
    "import tensorflow as tf\n",
    "from tensorflow.keras import datasets, layers, models\n",
    "from tensorflow.keras.layers import Input\n",
    "from tensorflow.keras.models import Model, Sequential \n",
    "from tensorflow.keras.layers import Dense, SimpleRNN, LSTM, GRU\n",
    "from tensorflow.keras import optimizers     \n",
    "from tensorflow.keras import regularizers           \n",
    "from tensorflow.keras.utils import to_categorical \n",
    "\n",
    "\n",
    "\n",
    "# convert into dataset matrix\n",
    "def convertToMatrix(data, step):\n",
    " X, Y =[], []\n",
    " for i in range(len(data)-step):\n",
    "  d=i+step  \n",
    "  X.append(data[i:d,])\n",
    "  Y.append(data[d,])\n",
    " return np.array(X), np.array(Y)\n",
    "\n",
    "step = 4\n",
    "N = 1000    \n",
    "Tp = 800    \n",
    "\n",
    "t=np.arange(0,N)\n",
    "x=np.sin(0.02*t)+2*np.random.rand(N)\n",
    "df = pd.DataFrame(x)\n",
    "df.head()\n",
    "\n",
    "plt.plot(df)\n",
    "plt.show()\n",
    "\n",
    "values=df.values\n",
    "train,test = values[0:Tp,:], values[Tp:N,:]\n",
    "\n",
    "# add step elements into train and test\n",
    "test = np.append(test,np.repeat(test[-1,],step))\n",
    "train = np.append(train,np.repeat(train[-1,],step))\n",
    " \n",
    "trainX,trainY =convertToMatrix(train,step)\n",
    "testX,testY =convertToMatrix(test,step)\n",
    "trainX = np.reshape(trainX, (trainX.shape[0], 1, trainX.shape[1]))\n",
    "testX = np.reshape(testX, (testX.shape[0], 1, testX.shape[1]))\n",
    "\n",
    "model = Sequential()\n",
    "model.add(SimpleRNN(units=32, input_shape=(1,step), activation=\"relu\"))\n",
    "model.add(Dense(8, activation=\"relu\")) \n",
    "model.add(Dense(1))\n",
    "model.compile(loss='mean_squared_error', optimizer='rmsprop')\n",
    "model.summary()\n",
    "\n",
    "model.fit(trainX,trainY, epochs=100, batch_size=16, verbose=2)\n",
    "trainPredict = model.predict(trainX)\n",
    "testPredict= model.predict(testX)\n",
    "predicted=np.concatenate((trainPredict,testPredict),axis=0)\n",
    "\n",
    "trainScore = model.evaluate(trainX, trainY, verbose=0)\n",
    "print(trainScore)\n",
    "\n",
    "index = df.index.values\n",
    "plt.plot(index,df)\n",
    "plt.plot(index,predicted)\n",
    "plt.axvline(df.index[Tp], c=\"r\")\n",
    "plt.show()"
   ]
  },
  {
   "cell_type": "markdown",
   "id": "79bb75a4",
   "metadata": {
    "editable": true
   },
   "source": [
    "### Memoryless models\n",
    "\n",
    "Autoregressive models Predict the next term in a sequence from a fixed number of\n",
    "previous terms using “delay taps”.\n",
    "\n",
    "**Feed-forward neural networks.**\n",
    "\n",
    "These generalize autoregressive\n",
    "models by using one or more\n",
    "layers of non-linear hidden units.\n",
    "\n",
    "If we give our generative model some hidden state, and if we give\n",
    "this hidden state its own internal dynamics, we get a much more\n",
    "interesting kind of model.\n",
    "1. It can store information in its hidden state for a long time.\n",
    "\n",
    "2. If the dynamics is noisy and the way it generates outputs from its hidden state is noisy, we can never know its exact hidden state.\n",
    "\n",
    "3. The best we can do is to infer a probability distribution over the\n",
    "\n",
    "space of hidden state vectors.\n",
    "\n",
    "This inference is only tractable for two types of hidden state model."
   ]
  },
  {
   "cell_type": "markdown",
   "id": "e6fe3a46",
   "metadata": {
    "editable": true
   },
   "source": [
    "### Linear dynamical model\n",
    "\n",
    "If we give our generative model some hidden state, and if we give\n",
    "this hidden state its own internal dynamics, we get a much more\n",
    "interesting kind of model.\n",
    "1. It can store information in its hidden state for a long time.\n",
    "\n",
    "a. If the dynamics is noisy and the way it generates outputs from its hidden state is noisy, we can never know its exact hidden state.\n",
    "\n",
    "2. The best we can do is to infer a probability distribution over the space of hidden state vectors."
   ]
  },
  {
   "cell_type": "markdown",
   "id": "b7d9eeda",
   "metadata": {
    "editable": true
   },
   "source": [
    "### Hidden Markov Models\n",
    "\n",
    "Hidden Markov Models have a discrete oneof-$N$ hidden state. Transitions between states\n",
    "are stochastic and controlled by a transition\n",
    "matrix. The outputs produced by a state are\n",
    "stochastic.\n",
    "* We cannot be sure which state produced a given output. So the state is “hidden”.\n",
    "\n",
    "* It is easy to represent a probability distribution across N states with N numbers.\n",
    "\n",
    "* To predict the next output we need to infer the probability distribution over hidden states.\n",
    "\n",
    "HMMs have efficient algorithms for inference and learning"
   ]
  },
  {
   "cell_type": "markdown",
   "id": "9252d61e",
   "metadata": {
    "editable": true
   },
   "source": [
    "### RNNs\n",
    "\n",
    "RNNs are very powerful, because they\n",
    "combine two properties:\n",
    "1. Distributed hidden state that allows them to store a lot of information about the past efficiently.\n",
    "\n",
    "2. Non-linear dynamics that allows them to update their hidden state in complicated ways.\n",
    "\n",
    "With enough neurons and time, RNNs\n",
    "can compute anything that can be\n",
    "computed by your computer."
   ]
  },
  {
   "cell_type": "markdown",
   "id": "6dc3921b",
   "metadata": {
    "editable": true
   },
   "source": [
    "### Do generative models need to be stochastic?\n",
    "\n",
    "**Linear dynamical systems and hidden Markov models are stochastic models.**\n",
    "\n",
    "But the posterior probability\n",
    "distribution over their\n",
    "hidden states given the\n",
    "observed data so far is a\n",
    "deterministic function of the\n",
    "data."
   ]
  },
  {
   "cell_type": "markdown",
   "id": "d91ca731",
   "metadata": {
    "editable": true
   },
   "source": [
    "**Recurrent neural networks are deterministic.**\n",
    "\n",
    "Think of the hidden state\n",
    "of an RNN as the\n",
    "equivalent of the\n",
    "deterministic probability\n",
    "distribution over hidden\n",
    "states in a linear dynamical\n",
    "system or hidden Markov\n",
    "model."
   ]
  },
  {
   "cell_type": "markdown",
   "id": "788f159b",
   "metadata": {
    "editable": true
   },
   "source": [
    "### What kinds of behaviour can RNNs exhibit?\n",
    "\n",
    "1. They can oscillate. Good for motor control?\n",
    "\n",
    "2. They can settle to point attractors. Good for retrieving memories?\n",
    "\n",
    "3. They can behave chaotically. Bad for information processing?\n",
    "\n",
    "4. RNNs could potentially learn to implement lots of small programs that each capture a nugget of knowledge and run in parallel, interacting to produce very complicated effects.\n",
    "\n",
    "But the computational power of RNNs makes them very hard to train."
   ]
  },
  {
   "cell_type": "markdown",
   "id": "fb9974d5",
   "metadata": {
    "editable": true
   },
   "source": [
    "### Backpropagation through time\n",
    "\n",
    "We can think of the recurrent net as a layered, feed-forward\n",
    "net with shared weights and then train the feed-forward net\n",
    "with weight constraints.\n",
    "\n",
    "We can also think of this training algorithm in the time domain:\n",
    "1. The forward pass builds up a stack of the activities of all the units at each time step.\n",
    "\n",
    "2. The backward pass peels activities off the stack to compute the error derivatives at each time step.\n",
    "\n",
    "3. After the backward pass we add together the derivatives at all the different times for each weight."
   ]
  },
  {
   "cell_type": "markdown",
   "id": "e07d10e6",
   "metadata": {
    "editable": true
   },
   "source": [
    "### We need to specify the initial activity state of all the hidden and output units\n",
    "\n",
    "1. We could just fix these initial states to have some default value like 0.5.\n",
    "\n",
    "2. But it is better to treat the initial states as learned parameters.\n",
    "\n",
    "3. We learn them in the same way as we learn the weights.\n",
    "\n",
    "* Start off with an initial random guess for the initial states.\n",
    "\n",
    "a. At the end of each training sequence, backpropagate through time all the way to the initial states to get the gradient of the error function with respect to each initial state.\n",
    "\n",
    "b. Adjust the initial states by following the negative gradient."
   ]
  },
  {
   "cell_type": "markdown",
   "id": "ea06e442",
   "metadata": {
    "editable": true
   },
   "source": [
    "### We can specify inputs in several ways\n",
    "\n",
    "1. Specify the initial states of all the units.\n",
    "\n",
    "2. Specify the initial states of a subset of the units.\n",
    "\n",
    "3. Specify the states of the same subset of the units at every time step.\n",
    "\n",
    "This is the natural way to model most sequential data."
   ]
  },
  {
   "cell_type": "markdown",
   "id": "f63b51c7",
   "metadata": {
    "editable": true
   },
   "source": [
    "### We can specify targets in several ways\n",
    "\n",
    "1. Specify desired final activities of all the units\n",
    "\n",
    "2. Specify desired activities of all units for the last few steps\n",
    "\n",
    "* Good for learning attractors\n",
    "\n",
    "* It is easy to add in extra error derivatives as we backpropagate.\n",
    "\n",
    "  * Specify the desired activity of a subset of the units.\n",
    "\n",
    "* The other units are input or hidden units."
   ]
  },
  {
   "cell_type": "markdown",
   "id": "20291c9a",
   "metadata": {
    "editable": true
   },
   "source": [
    "### The backward pass is linear\n",
    "\n",
    "* There is a big difference between the forward and backward passes.\n",
    "\n",
    "* In the forward pass we use squashing functions (like the logistic) to prevent the activity vectors from exploding.\n",
    "\n",
    "* The backward pass, is completely linear. If you double the error derivatives at the final layer, all the error derivatives will double.\n",
    "\n",
    "The forward pass determines the slope of the linear function used for\n",
    "backpropagating through each neuron"
   ]
  },
  {
   "cell_type": "markdown",
   "id": "bf287775",
   "metadata": {
    "editable": true
   },
   "source": [
    "### The problem of exploding or vanishing gradients\n",
    "\n",
    "* What happens to the magnitude of the gradients as we backpropagate through many layers?\n",
    "\n",
    "a. If the weights are small, the gradients shrink exponentially.\n",
    "\n",
    "b. If the weights are big the gradients grow exponentially.\n",
    "\n",
    "* Typical feed-forward neural nets can cope with these exponential effects because they only have a few hidden layers.\n",
    "\n",
    "* In an RNN trained on long sequences (e.g. 100 time steps) the gradients can easily explode or vanish.\n",
    "\n",
    "a. We can avoid this by initializing the weights very carefully.\n",
    "\n",
    "* Even with good initial weights, its very hard to detect that the current target output depends on an input from many time-steps ago.\n",
    "\n",
    "RNNs have difficulty dealing with long-range dependencies."
   ]
  },
  {
   "cell_type": "markdown",
   "id": "5fe80fbd",
   "metadata": {
    "editable": true
   },
   "source": [
    "### Four effective ways to learn an RNN\n",
    "\n",
    "1. Long Short Term Memory Make the RNN out of little modules that are designed to remember values for a long time.\n",
    "\n",
    "2. Hessian Free Optimization: Deal with the vanishing gradients problem by using a fancy optimizer that can detect directions with a tiny gradient but even smaller curvature.\n",
    "\n",
    "3. Echo State Networks: Initialize the input a hidden and hidden-hidden and output-hidden connections very carefully so that the hidden state has a huge reservoir of weakly coupled oscillators which can be selectively driven by the input.\n",
    "\n",
    "  * ESNs only need to learn the hidden-output connections.\n",
    "\n",
    "4. Good initialization with momentum Initialize like in Echo State Networks, but then learn all of the connections using momentum"
   ]
  },
  {
   "cell_type": "markdown",
   "id": "82219616",
   "metadata": {
    "editable": true
   },
   "source": [
    "### Long Short Term Memory (LSTM)\n",
    "\n",
    "1. Hochreiter and Schmidhuber (1997) solved the problem of getting an RNN to remember things for a long time (like hundreds of time steps).\n",
    "\n",
    "2. They designed a memory cell using logistic and linear units with multiplicative interactions.\n",
    "\n",
    "3. Information gets into the cell whenever its “write” gate is on.\n",
    "\n",
    "4. The information stays in the cell so long as its **keep** gate is on.\n",
    "\n",
    "5. Information can be read from the cell by turning on its **read** gate."
   ]
  },
  {
   "cell_type": "markdown",
   "id": "c2c89465",
   "metadata": {
    "editable": true
   },
   "source": [
    "### Implementing a memory cell in a neural network\n",
    "\n",
    "To preserve information for a long time in\n",
    "the activities of an RNN, we use a circuit\n",
    "that implements an analog memory cell.\n",
    "\n",
    "1. A linear unit that has a self-link with a weight of 1 will maintain its state.\n",
    "\n",
    "2. Information is stored in the cell by activating its write gate.\n",
    "\n",
    "3. Information is retrieved by activating the read gate.\n",
    "\n",
    "4. We can backpropagate through this circuit because logistics are have nice derivatives."
   ]
  },
  {
   "cell_type": "markdown",
   "id": "75b7a815",
   "metadata": {
    "editable": true
   },
   "source": [
    "## An extrapolation example\n",
    "\n",
    "The following code provides an example of how recurrent neural\n",
    "networks can be used to extrapolate to unknown values of physics data\n",
    "sets.  Specifically, the data sets used in this program come from\n",
    "a quantum mechanical many-body calculation of energies as functions of the number of particles."
   ]
  },
  {
   "cell_type": "code",
   "execution_count": 13,
   "id": "2835914c",
   "metadata": {
    "collapsed": false,
    "editable": true
   },
   "outputs": [],
   "source": [
    "\n",
    "# For matrices and calculations\n",
    "import numpy as np\n",
    "# For machine learning (backend for keras)\n",
    "import tensorflow as tf\n",
    "# User-friendly machine learning library\n",
    "# Front end for TensorFlow\n",
    "import tensorflow.keras\n",
    "# Different methods from Keras needed to create an RNN\n",
    "# This is not necessary but it shortened function calls \n",
    "# that need to be used in the code.\n",
    "from tensorflow.keras import datasets, layers, models\n",
    "from tensorflow.keras.layers import Input\n",
    "from tensorflow.keras import regularizers\n",
    "from tensorflow.keras.models import Model, Sequential\n",
    "from tensorflow.keras.layers import Dense, SimpleRNN, LSTM, GRU\n",
    "# For timing the code\n",
    "from timeit import default_timer as timer\n",
    "# For plotting\n",
    "import matplotlib.pyplot as plt\n",
    "\n",
    "\n",
    "# The data set\n",
    "datatype='VaryDimension'\n",
    "X_tot = np.arange(2, 42, 2)\n",
    "y_tot = np.array([-0.03077640549, -0.08336233266, -0.1446729567, -0.2116753732, -0.2830637392, -0.3581341341, -0.436462435, -0.5177783846,\n",
    "\t-0.6019067271, -0.6887363571, -0.7782028952, -0.8702784034, -0.9649652536, -1.062292565, -1.16231451, \n",
    "\t-1.265109911, -1.370782966, -1.479465113, -1.591317992, -1.70653767])"
   ]
  },
  {
   "cell_type": "markdown",
   "id": "03550254",
   "metadata": {
    "editable": true
   },
   "source": [
    "## Formatting the Data\n",
    "\n",
    "The way the recurrent neural networks are trained in this program\n",
    "differs from how machine learning algorithms are usually trained.\n",
    "Typically a machine learning algorithm is trained by learning the\n",
    "relationship between the x data and the y data.  In this program, the\n",
    "recurrent neural network will be trained to recognize the relationship\n",
    "in a sequence of y values.  This is type of data formatting is\n",
    "typically used time series forcasting, but it can also be used in any\n",
    "extrapolation (time series forecasting is just a specific type of\n",
    "extrapolation along the time axis).  This method of data formatting\n",
    "does not use the x data and assumes that the y data are evenly spaced.\n",
    "\n",
    "For a standard machine learning algorithm, the training data has the\n",
    "form of (x,y) so the machine learning algorithm learns to assiciate a\n",
    "y value with a given x value.  This is useful when the test data has x\n",
    "values within the same range as the training data.  However, for this\n",
    "application, the x values of the test data are outside of the x values\n",
    "of the training data and the traditional method of training a machine\n",
    "learning algorithm does not work as well.  For this reason, the\n",
    "recurrent neural network is trained on sequences of y values of the\n",
    "form ((y1, y2), y3), so that the network is concerned with learning\n",
    "the pattern of the y data and not the relation between the x and y\n",
    "data.  As long as the pattern of y data outside of the training region\n",
    "stays relatively stable compared to what was inside the training\n",
    "region, this method of training can produce accurate extrapolations to\n",
    "y values far removed from the training data set.\n",
    "\n",
    "<!--  -->\n",
    "<!-- The idea behind formatting the data in this way comes from [this resource](https://machinelearningmastery.com/time-series-prediction-lstm-recurrent-neural-networks-python-keras/) and [this one](https://fairyonice.github.io/Understand-Keras%27s-RNN-behind-the-scenes-with-a-sin-wave-example.html). -->\n",
    "<!--  -->\n",
    "<!-- The following method takes in a y data set and formats it so the \"x data\" are of the form (y1, y2) and the \"y data\" are of the form y3, with extra brackets added in to make the resulting arrays compatable with both Keras and Tensorflow. -->\n",
    "<!--  -->\n",
    "<!-- Note: Using a sequence length of two is not required for time series forecasting so any lenght of sequence could be used (for example instead of ((y1, y2) y3) you could change the length of sequence to be 4 and the resulting data points would have the form ((y1, y2, y3, y4), y5)).  While the following method can be used to create a data set of any sequence length, the remainder of the code expects the length of sequence to be 2.  This is because the data sets are very small and the higher the lenght of the sequence the less resulting data points. -->"
   ]
  },
  {
   "cell_type": "code",
   "execution_count": 14,
   "id": "b1632aa1",
   "metadata": {
    "collapsed": false,
    "editable": true
   },
   "outputs": [],
   "source": [
    "# FORMAT_DATA\n",
    "def format_data(data, length_of_sequence = 2):  \n",
    "    \"\"\"\n",
    "        Inputs:\n",
    "            data(a numpy array): the data that will be the inputs to the recurrent neural\n",
    "                network\n",
    "            length_of_sequence (an int): the number of elements in one iteration of the\n",
    "                sequence patter.  For a function approximator use length_of_sequence = 2.\n",
    "        Returns:\n",
    "            rnn_input (a 3D numpy array): the input data for the recurrent neural network.  Its\n",
    "                dimensions are length of data - length of sequence, length of sequence, \n",
    "                dimnsion of data\n",
    "            rnn_output (a numpy array): the training data for the neural network\n",
    "        Formats data to be used in a recurrent neural network.\n",
    "    \"\"\"\n",
    "\n",
    "    X, Y = [], []\n",
    "    for i in range(len(data)-length_of_sequence):\n",
    "        # Get the next length_of_sequence elements\n",
    "        a = data[i:i+length_of_sequence]\n",
    "        # Get the element that immediately follows that\n",
    "        b = data[i+length_of_sequence]\n",
    "        # Reshape so that each data point is contained in its own array\n",
    "        a = np.reshape (a, (len(a), 1))\n",
    "        X.append(a)\n",
    "        Y.append(b)\n",
    "    rnn_input = np.array(X)\n",
    "    rnn_output = np.array(Y)\n",
    "\n",
    "    return rnn_input, rnn_output\n",
    "\n",
    "\n",
    "# ## Defining the Recurrent Neural Network Using Keras\n",
    "# \n",
    "# The following method defines a simple recurrent neural network in keras consisting of one input layer, one hidden layer, and one output layer.\n",
    "\n",
    "def rnn(length_of_sequences, batch_size = None, stateful = False):\n",
    "    \"\"\"\n",
    "        Inputs:\n",
    "            length_of_sequences (an int): the number of y values in \"x data\".  This is determined\n",
    "                when the data is formatted\n",
    "            batch_size (an int): Default value is None.  See Keras documentation of SimpleRNN.\n",
    "            stateful (a boolean): Default value is False.  See Keras documentation of SimpleRNN.\n",
    "        Returns:\n",
    "            model (a Keras model): The recurrent neural network that is built and compiled by this\n",
    "                method\n",
    "        Builds and compiles a recurrent neural network with one hidden layer and returns the model.\n",
    "    \"\"\"\n",
    "    # Number of neurons in the input and output layers\n",
    "    in_out_neurons = 1\n",
    "    # Number of neurons in the hidden layer\n",
    "    hidden_neurons = 200\n",
    "    # Define the input layer\n",
    "    inp = Input(batch_shape=(batch_size, \n",
    "                length_of_sequences, \n",
    "                in_out_neurons))  \n",
    "    # Define the hidden layer as a simple RNN layer with a set number of neurons and add it to \n",
    "    # the network immediately after the input layer\n",
    "    rnn = SimpleRNN(hidden_neurons, \n",
    "                    return_sequences=False,\n",
    "                    stateful = stateful,\n",
    "                    name=\"RNN\")(inp)\n",
    "    # Define the output layer as a dense neural network layer (standard neural network layer)\n",
    "    #and add it to the network immediately after the hidden layer.\n",
    "    dens = Dense(in_out_neurons,name=\"dense\")(rnn)\n",
    "    # Create the machine learning model starting with the input layer and ending with the \n",
    "    # output layer\n",
    "    model = Model(inputs=[inp],outputs=[dens])\n",
    "    # Compile the machine learning model using the mean squared error function as the loss \n",
    "    # function and an Adams optimizer.\n",
    "    model.compile(loss=\"mean_squared_error\", optimizer=\"adam\")  \n",
    "    return model"
   ]
  },
  {
   "cell_type": "markdown",
   "id": "1e12311b",
   "metadata": {
    "editable": true
   },
   "source": [
    "## Predicting New Points With A Trained Recurrent Neural Network"
   ]
  },
  {
   "cell_type": "code",
   "execution_count": 15,
   "id": "75dad0af",
   "metadata": {
    "collapsed": false,
    "editable": true
   },
   "outputs": [],
   "source": [
    "def test_rnn (x1, y_test, plot_min, plot_max):\n",
    "    \"\"\"\n",
    "        Inputs:\n",
    "            x1 (a list or numpy array): The complete x component of the data set\n",
    "            y_test (a list or numpy array): The complete y component of the data set\n",
    "            plot_min (an int or float): the smallest x value used in the training data\n",
    "            plot_max (an int or float): the largest x valye used in the training data\n",
    "        Returns:\n",
    "            None.\n",
    "        Uses a trained recurrent neural network model to predict future points in the \n",
    "        series.  Computes the MSE of the predicted data set from the true data set, saves\n",
    "        the predicted data set to a csv file, and plots the predicted and true data sets w\n",
    "        while also displaying the data range used for training.\n",
    "    \"\"\"\n",
    "    # Add the training data as the first dim points in the predicted data array as these\n",
    "    # are known values.\n",
    "    y_pred = y_test[:dim].tolist()\n",
    "    # Generate the first input to the trained recurrent neural network using the last two \n",
    "    # points of the training data.  Based on how the network was trained this means that it\n",
    "    # will predict the first point in the data set after the training data.  All of the \n",
    "    # brackets are necessary for Tensorflow.\n",
    "    next_input = np.array([[[y_test[dim-2]], [y_test[dim-1]]]])\n",
    "    # Save the very last point in the training data set.  This will be used later.\n",
    "    last = [y_test[dim-1]]\n",
    "\n",
    "    # Iterate until the complete data set is created.\n",
    "    for i in range (dim, len(y_test)):\n",
    "        # Predict the next point in the data set using the previous two points.\n",
    "        next = model.predict(next_input)\n",
    "        # Append just the number of the predicted data set\n",
    "        y_pred.append(next[0][0])\n",
    "        # Create the input that will be used to predict the next data point in the data set.\n",
    "        next_input = np.array([[last, next[0]]], dtype=np.float64)\n",
    "        last = next\n",
    "\n",
    "    # Print the mean squared error between the known data set and the predicted data set.\n",
    "    print('MSE: ', np.square(np.subtract(y_test, y_pred)).mean())\n",
    "    # Save the predicted data set as a csv file for later use\n",
    "    name = datatype + 'Predicted'+str(dim)+'.csv'\n",
    "    np.savetxt(name, y_pred, delimiter=',')\n",
    "    # Plot the known data set and the predicted data set.  The red box represents the region that was used\n",
    "    # for the training data.\n",
    "    fig, ax = plt.subplots()\n",
    "    ax.plot(x1, y_test, label=\"true\", linewidth=3)\n",
    "    ax.plot(x1, y_pred, 'g-.',label=\"predicted\", linewidth=4)\n",
    "    ax.legend()\n",
    "    # Created a red region to represent the points used in the training data.\n",
    "    ax.axvspan(plot_min, plot_max, alpha=0.25, color='red')\n",
    "    plt.show()\n",
    "\n",
    "# Check to make sure the data set is complete\n",
    "assert len(X_tot) == len(y_tot)\n",
    "\n",
    "# This is the number of points that will be used in as the training data\n",
    "dim=12\n",
    "\n",
    "# Separate the training data from the whole data set\n",
    "X_train = X_tot[:dim]\n",
    "y_train = y_tot[:dim]\n",
    "\n",
    "\n",
    "# Generate the training data for the RNN, using a sequence of 2\n",
    "rnn_input, rnn_training = format_data(y_train, 2)\n",
    "\n",
    "\n",
    "# Create a recurrent neural network in Keras and produce a summary of the \n",
    "# machine learning model\n",
    "model = rnn(length_of_sequences = rnn_input.shape[1])\n",
    "model.summary()\n",
    "\n",
    "# Start the timer.  Want to time training+testing\n",
    "start = timer()\n",
    "# Fit the model using the training data genenerated above using 150 training iterations and a 5%\n",
    "# validation split.  Setting verbose to True prints information about each training iteration.\n",
    "hist = model.fit(rnn_input, rnn_training, batch_size=None, epochs=150, \n",
    "                 verbose=True,validation_split=0.05)\n",
    "\n",
    "for label in [\"loss\",\"val_loss\"]:\n",
    "    plt.plot(hist.history[label],label=label)\n",
    "\n",
    "plt.ylabel(\"loss\")\n",
    "plt.xlabel(\"epoch\")\n",
    "plt.title(\"The final validation loss: {}\".format(hist.history[\"val_loss\"][-1]))\n",
    "plt.legend()\n",
    "plt.show()\n",
    "\n",
    "# Use the trained neural network to predict more points of the data set\n",
    "test_rnn(X_tot, y_tot, X_tot[0], X_tot[dim-1])\n",
    "# Stop the timer and calculate the total time needed.\n",
    "end = timer()\n",
    "print('Time: ', end-start)"
   ]
  },
  {
   "cell_type": "markdown",
   "id": "d9ac52dd",
   "metadata": {
    "editable": true
   },
   "source": [
    "## Other Things to Try\n",
    "\n",
    "Changing the size of the recurrent neural network and its parameters\n",
    "can drastically change the results you get from the model.  The below\n",
    "code takes the simple recurrent neural network from above and adds a\n",
    "second hidden layer, changes the number of neurons in the hidden\n",
    "layer, and explicitly declares the activation function of the hidden\n",
    "layers to be a sigmoid function.  The loss function and optimizer can\n",
    "also be changed but are kept the same as the above network.  These\n",
    "parameters can be tuned to provide the optimal result from the\n",
    "network.  For some ideas on how to improve the performance of a\n",
    "[recurrent neural network](https://danijar.com/tips-for-training-recurrent-neural-networks)."
   ]
  },
  {
   "cell_type": "code",
   "execution_count": 16,
   "id": "40bcf784",
   "metadata": {
    "collapsed": false,
    "editable": true
   },
   "outputs": [],
   "source": [
    "def rnn_2layers(length_of_sequences, batch_size = None, stateful = False):\n",
    "    \"\"\"\n",
    "        Inputs:\n",
    "            length_of_sequences (an int): the number of y values in \"x data\".  This is determined\n",
    "                when the data is formatted\n",
    "            batch_size (an int): Default value is None.  See Keras documentation of SimpleRNN.\n",
    "            stateful (a boolean): Default value is False.  See Keras documentation of SimpleRNN.\n",
    "        Returns:\n",
    "            model (a Keras model): The recurrent neural network that is built and compiled by this\n",
    "                method\n",
    "        Builds and compiles a recurrent neural network with two hidden layers and returns the model.\n",
    "    \"\"\"\n",
    "    # Number of neurons in the input and output layers\n",
    "    in_out_neurons = 1\n",
    "    # Number of neurons in the hidden layer, increased from the first network\n",
    "    hidden_neurons = 500\n",
    "    # Define the input layer\n",
    "    inp = Input(batch_shape=(batch_size, \n",
    "                length_of_sequences, \n",
    "                in_out_neurons))  \n",
    "    # Create two hidden layers instead of one hidden layer.  Explicitly set the activation\n",
    "    # function to be the sigmoid function (the default value is hyperbolic tangent)\n",
    "    rnn1 = SimpleRNN(hidden_neurons, \n",
    "                    return_sequences=True,  # This needs to be True if another hidden layer is to follow\n",
    "                    stateful = stateful, activation = 'sigmoid',\n",
    "                    name=\"RNN1\")(inp)\n",
    "    rnn2 = SimpleRNN(hidden_neurons, \n",
    "                    return_sequences=False, activation = 'sigmoid',\n",
    "                    stateful = stateful,\n",
    "                    name=\"RNN2\")(rnn1)\n",
    "    # Define the output layer as a dense neural network layer (standard neural network layer)\n",
    "    #and add it to the network immediately after the hidden layer.\n",
    "    dens = Dense(in_out_neurons,name=\"dense\")(rnn2)\n",
    "    # Create the machine learning model starting with the input layer and ending with the \n",
    "    # output layer\n",
    "    model = Model(inputs=[inp],outputs=[dens])\n",
    "    # Compile the machine learning model using the mean squared error function as the loss \n",
    "    # function and an Adams optimizer.\n",
    "    model.compile(loss=\"mean_squared_error\", optimizer=\"adam\")  \n",
    "    return model\n",
    "\n",
    "# Check to make sure the data set is complete\n",
    "assert len(X_tot) == len(y_tot)\n",
    "\n",
    "# This is the number of points that will be used in as the training data\n",
    "dim=12\n",
    "\n",
    "# Separate the training data from the whole data set\n",
    "X_train = X_tot[:dim]\n",
    "y_train = y_tot[:dim]\n",
    "\n",
    "\n",
    "# Generate the training data for the RNN, using a sequence of 2\n",
    "rnn_input, rnn_training = format_data(y_train, 2)\n",
    "\n",
    "\n",
    "# Create a recurrent neural network in Keras and produce a summary of the \n",
    "# machine learning model\n",
    "model = rnn_2layers(length_of_sequences = 2)\n",
    "model.summary()\n",
    "\n",
    "# Start the timer.  Want to time training+testing\n",
    "start = timer()\n",
    "# Fit the model using the training data genenerated above using 150 training iterations and a 5%\n",
    "# validation split.  Setting verbose to True prints information about each training iteration.\n",
    "hist = model.fit(rnn_input, rnn_training, batch_size=None, epochs=150, \n",
    "                 verbose=True,validation_split=0.05)\n",
    "\n",
    "\n",
    "# This section plots the training loss and the validation loss as a function of training iteration.\n",
    "# This is not required for analyzing the couple cluster data but can help determine if the network is\n",
    "# being overtrained.\n",
    "for label in [\"loss\",\"val_loss\"]:\n",
    "    plt.plot(hist.history[label],label=label)\n",
    "\n",
    "plt.ylabel(\"loss\")\n",
    "plt.xlabel(\"epoch\")\n",
    "plt.title(\"The final validation loss: {}\".format(hist.history[\"val_loss\"][-1]))\n",
    "plt.legend()\n",
    "plt.show()\n",
    "\n",
    "# Use the trained neural network to predict more points of the data set\n",
    "test_rnn(X_tot, y_tot, X_tot[0], X_tot[dim-1])\n",
    "# Stop the timer and calculate the total time needed.\n",
    "end = timer()\n",
    "print('Time: ', end-start)"
   ]
  },
  {
   "cell_type": "markdown",
   "id": "4e1e4ade",
   "metadata": {
    "editable": true
   },
   "source": [
    "## Other Types of Recurrent Neural Networks\n",
    "\n",
    "Besides a simple recurrent neural network layer, there are two other\n",
    "commonly used types of recurrent neural network layers: Long Short\n",
    "Term Memory (LSTM) and Gated Recurrent Unit (GRU).  For a short\n",
    "introduction to these layers see <https://medium.com/mindboard/lstm-vs-gru-experimental-comparison-955820c21e8b>\n",
    "and <https://medium.com/mindboard/lstm-vs-gru-experimental-comparison-955820c21e8b>.\n",
    "\n",
    "The first network created below is similar to the previous network,\n",
    "but it replaces the SimpleRNN layers with LSTM layers.  The second\n",
    "network below has two hidden layers made up of GRUs, which are\n",
    "preceeded by two dense (feeddorward) neural network layers.  These\n",
    "dense layers \"preprocess\" the data before it reaches the recurrent\n",
    "layers.  This architecture has been shown to improve the performance\n",
    "of recurrent neural networks (see the link above and also\n",
    "<https://arxiv.org/pdf/1807.02857.pdf>."
   ]
  },
  {
   "cell_type": "code",
   "execution_count": 17,
   "id": "87856937",
   "metadata": {
    "collapsed": false,
    "editable": true
   },
   "outputs": [],
   "source": [
    "def lstm_2layers(length_of_sequences, batch_size = None, stateful = False):\n",
    "    \"\"\"\n",
    "        Inputs:\n",
    "            length_of_sequences (an int): the number of y values in \"x data\".  This is determined\n",
    "                when the data is formatted\n",
    "            batch_size (an int): Default value is None.  See Keras documentation of SimpleRNN.\n",
    "            stateful (a boolean): Default value is False.  See Keras documentation of SimpleRNN.\n",
    "        Returns:\n",
    "            model (a Keras model): The recurrent neural network that is built and compiled by this\n",
    "                method\n",
    "        Builds and compiles a recurrent neural network with two LSTM hidden layers and returns the model.\n",
    "    \"\"\"\n",
    "    # Number of neurons on the input/output layer and the number of neurons in the hidden layer\n",
    "    in_out_neurons = 1\n",
    "    hidden_neurons = 250\n",
    "    # Input Layer\n",
    "    inp = Input(batch_shape=(batch_size, \n",
    "                length_of_sequences, \n",
    "                in_out_neurons)) \n",
    "    # Hidden layers (in this case they are LSTM layers instead if SimpleRNN layers)\n",
    "    rnn= LSTM(hidden_neurons, \n",
    "                    return_sequences=True,\n",
    "                    stateful = stateful,\n",
    "                    name=\"RNN\", use_bias=True, activation='tanh')(inp)\n",
    "    rnn1 = LSTM(hidden_neurons, \n",
    "                    return_sequences=False,\n",
    "                    stateful = stateful,\n",
    "                    name=\"RNN1\", use_bias=True, activation='tanh')(rnn)\n",
    "    # Output layer\n",
    "    dens = Dense(in_out_neurons,name=\"dense\")(rnn1)\n",
    "    # Define the midel\n",
    "    model = Model(inputs=[inp],outputs=[dens])\n",
    "    # Compile the model\n",
    "    model.compile(loss='mean_squared_error', optimizer='adam')  \n",
    "    # Return the model\n",
    "    return model\n",
    "\n",
    "def dnn2_gru2(length_of_sequences, batch_size = None, stateful = False):\n",
    "    \"\"\"\n",
    "        Inputs:\n",
    "            length_of_sequences (an int): the number of y values in \"x data\".  This is determined\n",
    "                when the data is formatted\n",
    "            batch_size (an int): Default value is None.  See Keras documentation of SimpleRNN.\n",
    "            stateful (a boolean): Default value is False.  See Keras documentation of SimpleRNN.\n",
    "        Returns:\n",
    "            model (a Keras model): The recurrent neural network that is built and compiled by this\n",
    "                method\n",
    "        Builds and compiles a recurrent neural network with four hidden layers (two dense followed by\n",
    "        two GRU layers) and returns the model.\n",
    "    \"\"\"    \n",
    "    # Number of neurons on the input/output layers and hidden layers\n",
    "    in_out_neurons = 1\n",
    "    hidden_neurons = 250\n",
    "    # Input layer\n",
    "    inp = Input(batch_shape=(batch_size, \n",
    "                length_of_sequences, \n",
    "                in_out_neurons)) \n",
    "    # Hidden Dense (feedforward) layers\n",
    "    dnn = Dense(hidden_neurons/2, activation='relu', name='dnn')(inp)\n",
    "    dnn1 = Dense(hidden_neurons/2, activation='relu', name='dnn1')(dnn)\n",
    "    # Hidden GRU layers\n",
    "    rnn1 = GRU(hidden_neurons, \n",
    "                    return_sequences=True,\n",
    "                    stateful = stateful,\n",
    "                    name=\"RNN1\", use_bias=True)(dnn1)\n",
    "    rnn = GRU(hidden_neurons, \n",
    "                    return_sequences=False,\n",
    "                    stateful = stateful,\n",
    "                    name=\"RNN\", use_bias=True)(rnn1)\n",
    "    # Output layer\n",
    "    dens = Dense(in_out_neurons,name=\"dense\")(rnn)\n",
    "    # Define the model\n",
    "    model = Model(inputs=[inp],outputs=[dens])\n",
    "    # Compile the mdoel\n",
    "    model.compile(loss='mean_squared_error', optimizer='adam')  \n",
    "    # Return the model\n",
    "    return model\n",
    "\n",
    "# Check to make sure the data set is complete\n",
    "assert len(X_tot) == len(y_tot)\n",
    "\n",
    "# This is the number of points that will be used in as the training data\n",
    "dim=12\n",
    "\n",
    "# Separate the training data from the whole data set\n",
    "X_train = X_tot[:dim]\n",
    "y_train = y_tot[:dim]\n",
    "\n",
    "\n",
    "# Generate the training data for the RNN, using a sequence of 2\n",
    "rnn_input, rnn_training = format_data(y_train, 2)\n",
    "\n",
    "\n",
    "# Create a recurrent neural network in Keras and produce a summary of the \n",
    "# machine learning model\n",
    "# Change the method name to reflect which network you want to use\n",
    "model = dnn2_gru2(length_of_sequences = 2)\n",
    "model.summary()\n",
    "\n",
    "# Start the timer.  Want to time training+testing\n",
    "start = timer()\n",
    "# Fit the model using the training data genenerated above using 150 training iterations and a 5%\n",
    "# validation split.  Setting verbose to True prints information about each training iteration.\n",
    "hist = model.fit(rnn_input, rnn_training, batch_size=None, epochs=150, \n",
    "                 verbose=True,validation_split=0.05)\n",
    "\n",
    "\n",
    "# This section plots the training loss and the validation loss as a function of training iteration.\n",
    "# This is not required for analyzing the couple cluster data but can help determine if the network is\n",
    "# being overtrained.\n",
    "for label in [\"loss\",\"val_loss\"]:\n",
    "    plt.plot(hist.history[label],label=label)\n",
    "\n",
    "plt.ylabel(\"loss\")\n",
    "plt.xlabel(\"epoch\")\n",
    "plt.title(\"The final validation loss: {}\".format(hist.history[\"val_loss\"][-1]))\n",
    "plt.legend()\n",
    "plt.show()\n",
    "\n",
    "# Use the trained neural network to predict more points of the data set\n",
    "test_rnn(X_tot, y_tot, X_tot[0], X_tot[dim-1])\n",
    "# Stop the timer and calculate the total time needed.\n",
    "end = timer()\n",
    "print('Time: ', end-start)\n",
    "\n",
    "\n",
    "# ### Training Recurrent Neural Networks in the Standard Way (i.e. learning the relationship between the X and Y data)\n",
    "# \n",
    "# Finally, comparing the performace of a recurrent neural network using the standard data formatting to the performance of the network with time sequence data formatting shows the benefit of this type of data formatting with extrapolation.\n",
    "\n",
    "# Check to make sure the data set is complete\n",
    "assert len(X_tot) == len(y_tot)\n",
    "\n",
    "# This is the number of points that will be used in as the training data\n",
    "dim=12\n",
    "\n",
    "# Separate the training data from the whole data set\n",
    "X_train = X_tot[:dim]\n",
    "y_train = y_tot[:dim]\n",
    "\n",
    "# Reshape the data for Keras specifications\n",
    "X_train = X_train.reshape((dim, 1))\n",
    "y_train = y_train.reshape((dim, 1))\n",
    "\n",
    "\n",
    "# Create a recurrent neural network in Keras and produce a summary of the \n",
    "# machine learning model\n",
    "# Set the sequence length to 1 for regular data formatting \n",
    "model = rnn(length_of_sequences = 1)\n",
    "model.summary()\n",
    "\n",
    "# Start the timer.  Want to time training+testing\n",
    "start = timer()\n",
    "# Fit the model using the training data genenerated above using 150 training iterations and a 5%\n",
    "# validation split.  Setting verbose to True prints information about each training iteration.\n",
    "hist = model.fit(X_train, y_train, batch_size=None, epochs=150, \n",
    "                 verbose=True,validation_split=0.05)\n",
    "\n",
    "\n",
    "# This section plots the training loss and the validation loss as a function of training iteration.\n",
    "# This is not required for analyzing the couple cluster data but can help determine if the network is\n",
    "# being overtrained.\n",
    "for label in [\"loss\",\"val_loss\"]:\n",
    "    plt.plot(hist.history[label],label=label)\n",
    "\n",
    "plt.ylabel(\"loss\")\n",
    "plt.xlabel(\"epoch\")\n",
    "plt.title(\"The final validation loss: {}\".format(hist.history[\"val_loss\"][-1]))\n",
    "plt.legend()\n",
    "plt.show()\n",
    "\n",
    "# Use the trained neural network to predict the remaining data points\n",
    "X_pred = X_tot[dim:]\n",
    "X_pred = X_pred.reshape((len(X_pred), 1))\n",
    "y_model = model.predict(X_pred)\n",
    "y_pred = np.concatenate((y_tot[:dim], y_model.flatten()))\n",
    "\n",
    "# Plot the known data set and the predicted data set.  The red box represents the region that was used\n",
    "# for the training data.\n",
    "fig, ax = plt.subplots()\n",
    "ax.plot(X_tot, y_tot, label=\"true\", linewidth=3)\n",
    "ax.plot(X_tot, y_pred, 'g-.',label=\"predicted\", linewidth=4)\n",
    "ax.legend()\n",
    "# Created a red region to represent the points used in the training data.\n",
    "ax.axvspan(X_tot[0], X_tot[dim], alpha=0.25, color='red')\n",
    "plt.show()\n",
    "\n",
    "# Stop the timer and calculate the total time needed.\n",
    "end = timer()\n",
    "print('Time: ', end-start)"
   ]
  }
 ],
 "metadata": {},
 "nbformat": 4,
 "nbformat_minor": 5
}
