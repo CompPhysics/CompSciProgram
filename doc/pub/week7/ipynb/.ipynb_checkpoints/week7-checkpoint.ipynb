{
 "cells": [
  {
   "cell_type": "markdown",
   "id": "483b210d",
   "metadata": {},
   "source": [
    "<!-- HTML file automatically generated from DocOnce source (https://github.com/doconce/doconce/)\n",
    "doconce format html week7.do.txt --no_mako -->\n",
    "<!-- dom:TITLE: Deep Learning: Solving differential equations and Convolutional Neural Networks -->"
   ]
  },
  {
   "cell_type": "markdown",
   "id": "a3615af1",
   "metadata": {},
   "source": [
    "# Deep Learning: Solving differential equations and Convolutional Neural Networks\n",
    "**Morten Hjorth-Jensen**, Department of Physics, University of Oslo and Department of Physics and Astronomy and National Superconducting Cyclotron Laboratory, Michigan State University\n",
    "\n",
    "Date: **Feb 20, 2022**\n",
    "\n",
    "Copyright 1999-2022, Morten Hjorth-Jensen. Released under CC Attribution-NonCommercial 4.0 license"
   ]
  },
  {
   "cell_type": "markdown",
   "id": "24ea9572",
   "metadata": {},
   "source": [
    "## Plans for week 7 and week 8\n",
    "\n",
    "* Wrapping up Solving differential equations with Neural Networks\n",
    "\n",
    "  * [Video of lecture without subtitles](https://www.uio.no/studier/emner/matnat/fys/FYS4411/v22/forelesningsvideoer/CompSciLectureFeb7.mp4?vrtx=view-as-webpage)\n",
    "\n",
    "  * [Video of Lecture with subtitles](https://youtu.be/XcqUFNkXOZU)\n",
    "\n",
    "* Discussion of project 2\n",
    "\n",
    "* Convolutional Neural Networks"
   ]
  },
  {
   "cell_type": "markdown",
   "id": "74b10d41",
   "metadata": {},
   "source": [
    "## Resources on differential equations and deep learning\n",
    "\n",
    "1. [Artificial neural networks for solving ordinary and partial differential equations by I.E. Lagaris et al](https://pdfs.semanticscholar.org/d061/df393e0e8fbfd0ea24976458b7d42419040d.pdf)\n",
    "\n",
    "2. [Neural networks for solving differential equations by A. Honchar](https://becominghuman.ai/neural-networks-for-solving-differential-equations-fa230ac5e04c)\n",
    "\n",
    "3. [Solving differential equations using neural networks by M.M Chiaramonte and M. Kiener](http://cs229.stanford.edu/proj2013/ChiaramonteKiener-SolvingDifferentialEquationsUsingNeuralNetworks.pdf)\n",
    "\n",
    "4. [Introduction to Partial Differential Equations by A. Tveito, R. Winther](https://www.springer.com/us/book/9783540225515)"
   ]
  },
  {
   "cell_type": "markdown",
   "id": "a661f6a3",
   "metadata": {},
   "source": [
    "## Resources on Convolutional Networks\n",
    "\n",
    "**Excellent lectures on CNNs.**\n",
    "\n",
    "* [Video  on Convolutional Neural Networks from MIT](https://www.youtube.com/watch?v=iaSUYvmCekI&ab_channel=AlexanderAmini)\n",
    "\n",
    "* [Video on Deep Learning](https://www.youtube.com/playlist?list=PLZHQObOWTQDNU6R1_67000Dx_ZCJB-3pi)\n",
    "\n",
    "**More resources.**\n",
    "\n",
    "* [IN5400 at UiO Lecture](https://www.uio.no/studier/emner/matnat/ifi/IN5400/v20/material/week10/in5400_2020_week10_recurrent_neural_network.pdf)\n",
    "\n",
    "* [CS231 at Stanford Lecture](https://www.youtube.com/watch?v=6niqTuYFZLQ&list=PLzUTmXVwsnXod6WNdg57Yc3zFx_f-RYsq&index=10&ab_channel=StanfordUniversitySchoolofEngineering)\n",
    "\n",
    "**Reading Recommendations.**\n",
    "\n",
    "* Goodfellow et al, chapter 9 on CNNs, chapters 11 and 12 on various practicalities around deep learning are also recommended.\n",
    "\n",
    "* Aurelien Geron, chapter 13 on CNNs."
   ]
  },
  {
   "cell_type": "markdown",
   "id": "5e91d0af",
   "metadata": {},
   "source": [
    "## Using Automatic differentiation\n",
    "\n",
    "In our discussions of ordinary differential equations \n",
    "we will also study the usage of [Autograd](https://www.youtube.com/watch?v=fRf4l5qaX1M&ab_channel=AlexSmola) in computing gradients for deep learning."
   ]
  },
  {
   "cell_type": "markdown",
   "id": "7dd28e84",
   "metadata": {},
   "source": [
    "## Solving ODEs with Deep Learning\n",
    "\n",
    "The Universal Approximation Theorem states that a neural network can\n",
    "approximate any function at a single hidden layer along with one input\n",
    "and output layer to any given precision.\n",
    "\n",
    "**Book on solving differential equations with ML methods.**\n",
    "\n",
    "[An Introduction to Neural Network Methods for Differential Equations](https://www.springer.com/gp/book/9789401798150), by Yadav and Kumar.\n",
    "\n",
    "**Thanks to Kristine Baluka Hein.**\n",
    "\n",
    "The lectures on differential equations were developed by Kristine Baluka Hein, now PhD student at IFI.\n",
    "A great thank you  to Kristine."
   ]
  },
  {
   "cell_type": "markdown",
   "id": "8d200f73",
   "metadata": {},
   "source": [
    "## Ordinary Differential Equations\n",
    "\n",
    "An ordinary differential equation (ODE) is an equation involving functions having one variable.\n",
    "\n",
    "In general, an ordinary differential equation looks like"
   ]
  },
  {
   "cell_type": "markdown",
   "id": "2b95a55e",
   "metadata": {},
   "source": [
    "<!-- Equation labels as ordinary links -->\n",
    "<div id=\"ode\"></div>\n",
    "\n",
    "$$\n",
    "\\begin{equation} \\label{ode} \\tag{1}\n",
    "f\\left(x, \\, g(x), \\, g'(x), \\, g''(x), \\, \\dots \\, , \\, g^{(n)}(x)\\right) = 0\n",
    "\\end{equation}\n",
    "$$"
   ]
  },
  {
   "cell_type": "markdown",
   "id": "31c1b8d5",
   "metadata": {},
   "source": [
    "where $g(x)$ is the function to find, and $g^{(n)}(x)$ is the $n$-th derivative of $g(x)$.\n",
    "\n",
    "The $f\\left(x, g(x), g'(x), g''(x), \\, \\dots \\, , g^{(n)}(x)\\right)$ is just a way to write that there is an expression involving $x$ and $g(x), \\ g'(x), \\ g''(x), \\, \\dots \\, , \\text{ and } g^{(n)}(x)$ on the left side of the equality sign in ([1](#ode)).\n",
    "The highest order of derivative, that is the value of $n$, determines to the order of the equation.\n",
    "The equation is referred to as a $n$-th order ODE.\n",
    "Along with ([1](#ode)), some additional conditions of the function $g(x)$ are typically given\n",
    "for the solution to be unique."
   ]
  },
  {
   "cell_type": "markdown",
   "id": "012c16e4",
   "metadata": {},
   "source": [
    "## The trial solution\n",
    "\n",
    "Let the trial solution $g_t(x)$ be"
   ]
  },
  {
   "cell_type": "markdown",
   "id": "60c9d418",
   "metadata": {},
   "source": [
    "<!-- Equation labels as ordinary links -->\n",
    "<div id=\"_auto1\"></div>\n",
    "\n",
    "$$\n",
    "\\begin{equation}\n",
    "\tg_t(x) = h_1(x) + h_2(x,N(x,P))\n",
    "\\label{_auto1} \\tag{2}\n",
    "\\end{equation}\n",
    "$$"
   ]
  },
  {
   "cell_type": "markdown",
   "id": "5604c732",
   "metadata": {},
   "source": [
    "where $h_1(x)$ is a function that makes $g_t(x)$ satisfy a given set\n",
    "of conditions, $N(x,P)$ a neural network with weights and biases\n",
    "described by $P$ and $h_2(x, N(x,P))$ some expression involving the\n",
    "neural network.  The role of the function $h_2(x, N(x,P))$, is to\n",
    "ensure that the output from $N(x,P)$ is zero when $g_t(x)$ is\n",
    "evaluated at the values of $x$ where the given conditions must be\n",
    "satisfied.  The function $h_1(x)$ should alone make $g_t(x)$ satisfy\n",
    "the conditions.\n",
    "\n",
    "But what about the network $N(x,P)$?\n",
    "\n",
    "As described previously, an optimization method could be used to minimize the parameters of a neural network, that being its weights and biases, through backward propagation."
   ]
  },
  {
   "cell_type": "markdown",
   "id": "5768d788",
   "metadata": {},
   "source": [
    "## Minimization process\n",
    "\n",
    "For the minimization to be defined, we need to have a cost function at hand to minimize.\n",
    "\n",
    "It is given that $f\\left(x, \\, g(x), \\, g'(x), \\, g''(x), \\, \\dots \\, , \\, g^{(n)}(x)\\right)$ should be equal to zero in ([1](#ode)).\n",
    "We can choose to consider the mean squared error as the cost function for an input $x$.\n",
    "Since we are looking at one input, the cost function is just $f$ squared.\n",
    "The cost function $c\\left(x, P \\right)$ can therefore be expressed as"
   ]
  },
  {
   "cell_type": "markdown",
   "id": "a9b4b660",
   "metadata": {},
   "source": [
    "$$\n",
    "C\\left(x, P\\right) = \\big(f\\left(x, \\, g(x), \\, g'(x), \\, g''(x), \\, \\dots \\, , \\, g^{(n)}(x)\\right)\\big)^2\n",
    "$$"
   ]
  },
  {
   "cell_type": "markdown",
   "id": "63015acf",
   "metadata": {},
   "source": [
    "If $N$ inputs are given as a vector $\\boldsymbol{x}$ with elements $x_i$ for $i = 1,\\dots,N$,\n",
    "the cost function becomes"
   ]
  },
  {
   "cell_type": "markdown",
   "id": "e9c91d72",
   "metadata": {},
   "source": [
    "<!-- Equation labels as ordinary links -->\n",
    "<div id=\"cost\"></div>\n",
    "\n",
    "$$\n",
    "\\begin{equation} \\label{cost} \\tag{3}\n",
    "\tC\\left(\\boldsymbol{x}, P\\right) = \\frac{1}{N} \\sum_{i=1}^N \\big(f\\left(x_i, \\, g(x_i), \\, g'(x_i), \\, g''(x_i), \\, \\dots \\, , \\, g^{(n)}(x_i)\\right)\\big)^2\n",
    "\\end{equation}\n",
    "$$"
   ]
  },
  {
   "cell_type": "markdown",
   "id": "059c5929",
   "metadata": {},
   "source": [
    "The neural net should then find the parameters $P$ that minimizes the cost function in\n",
    "([3](#cost)) for a set of $N$ training samples $x_i$."
   ]
  },
  {
   "cell_type": "markdown",
   "id": "a779e620",
   "metadata": {},
   "source": [
    "## Minimizing the cost function using gradient descent and automatic differentiation\n",
    "\n",
    "To perform the minimization using gradient descent, the gradient of $C\\left(\\boldsymbol{x}, P\\right)$ is needed.\n",
    "It might happen so that finding an analytical expression of the gradient of $C(\\boldsymbol{x}, P)$ from ([3](#cost)) gets too messy, depending on which cost function one desires to use.\n",
    "\n",
    "Luckily, there exists libraries that makes the job for us through automatic differentiation.\n",
    "Automatic differentiation is a method of finding the derivatives numerically with very high precision."
   ]
  },
  {
   "cell_type": "markdown",
   "id": "a6e74376",
   "metadata": {},
   "source": [
    "## Example: Exponential decay\n",
    "\n",
    "An exponential decay of a quantity $g(x)$ is described by the equation"
   ]
  },
  {
   "cell_type": "markdown",
   "id": "c41d00f5",
   "metadata": {},
   "source": [
    "<!-- Equation labels as ordinary links -->\n",
    "<div id=\"solve_expdec\"></div>\n",
    "\n",
    "$$\n",
    "\\begin{equation} \\label{solve_expdec} \\tag{4}\n",
    "  g'(x) = -\\gamma g(x)\n",
    "\\end{equation}\n",
    "$$"
   ]
  },
  {
   "cell_type": "markdown",
   "id": "fc155aa6",
   "metadata": {},
   "source": [
    "with $g(0) = g_0$ for some chosen initial value $g_0$.\n",
    "\n",
    "The analytical solution of ([4](#solve_expdec)) is"
   ]
  },
  {
   "cell_type": "markdown",
   "id": "9157f7df",
   "metadata": {},
   "source": [
    "<!-- Equation labels as ordinary links -->\n",
    "<div id=\"_auto2\"></div>\n",
    "\n",
    "$$\n",
    "\\begin{equation}\n",
    "  g(x) = g_0 \\exp\\left(-\\gamma x\\right)\n",
    "\\label{_auto2} \\tag{5}\n",
    "\\end{equation}\n",
    "$$"
   ]
  },
  {
   "cell_type": "markdown",
   "id": "9bb43896",
   "metadata": {},
   "source": [
    "Having an analytical solution at hand, it is possible to use it to compare how well a neural network finds a solution of ([4](#solve_expdec))."
   ]
  },
  {
   "cell_type": "markdown",
   "id": "ca373442",
   "metadata": {},
   "source": [
    "## The function to solve for\n",
    "\n",
    "The program will use a neural network to solve"
   ]
  },
  {
   "cell_type": "markdown",
   "id": "b478f324",
   "metadata": {},
   "source": [
    "<!-- Equation labels as ordinary links -->\n",
    "<div id=\"solveode\"></div>\n",
    "\n",
    "$$\n",
    "\\begin{equation} \\label{solveode} \\tag{6}\n",
    "g'(x) = -\\gamma g(x)\n",
    "\\end{equation}\n",
    "$$"
   ]
  },
  {
   "cell_type": "markdown",
   "id": "d2ede74b",
   "metadata": {},
   "source": [
    "where $g(0) = g_0$ with $\\gamma$ and $g_0$ being some chosen values.\n",
    "\n",
    "In this example, $\\gamma = 2$ and $g_0 = 10$."
   ]
  },
  {
   "cell_type": "markdown",
   "id": "c19faf1f",
   "metadata": {},
   "source": [
    "## The trial solution\n",
    "To begin with, a trial solution $g_t(t)$ must be chosen. A general trial solution for ordinary differential equations could be"
   ]
  },
  {
   "cell_type": "markdown",
   "id": "cc241136",
   "metadata": {},
   "source": [
    "$$\n",
    "g_t(x, P) = h_1(x) + h_2(x, N(x, P))\n",
    "$$"
   ]
  },
  {
   "cell_type": "markdown",
   "id": "6d5a6dd8",
   "metadata": {},
   "source": [
    "with $h_1(x)$ ensuring that $g_t(x)$ satisfies some conditions and $h_2(x,N(x, P))$ an expression involving $x$ and the output from the neural network $N(x,P)$ with $P $ being the collection of the weights and biases for each layer. For now, it is assumed that the network consists of one input layer, one hidden layer, and one output layer."
   ]
  },
  {
   "cell_type": "markdown",
   "id": "07b42901",
   "metadata": {},
   "source": [
    "## Setup of Network\n",
    "\n",
    "In this network, there are no weights and bias at the input layer, so $P = \\{ P_{\\text{hidden}},  P_{\\text{output}} \\}$.\n",
    "If there are $N_{\\text{hidden} }$ neurons in the hidden layer, then $P_{\\text{hidden}}$ is a $N_{\\text{hidden} } \\times (1 + N_{\\text{input}})$ matrix, given that there are $N_{\\text{input}}$ neurons in the input layer.\n",
    "\n",
    "The first column in $P_{\\text{hidden} }$ represents the bias for each neuron in the hidden layer and the second column represents the weights for each neuron in the hidden layer from the input layer.\n",
    "If there are $N_{\\text{output} }$ neurons in the output layer, then $P_{\\text{output}} $ is a $N_{\\text{output} } \\times (1 + N_{\\text{hidden} })$ matrix.\n",
    "\n",
    "Its first column represents the bias of each neuron and the remaining columns represents the weights to each neuron.\n",
    "\n",
    "It is given that $g(0) = g_0$. The trial solution must fulfill this condition to be a proper solution of ([6](#solveode)). A possible way to ensure that $g_t(0, P) = g_0$, is to let $F(N(x,P)) = x \\cdot N(x,P)$ and $A(x) = g_0$. This gives the following trial solution:"
   ]
  },
  {
   "cell_type": "markdown",
   "id": "b0443879",
   "metadata": {},
   "source": [
    "<!-- Equation labels as ordinary links -->\n",
    "<div id=\"trial\"></div>\n",
    "\n",
    "$$\n",
    "\\begin{equation} \\label{trial} \\tag{7}\n",
    "g_t(x, P) = g_0 + x \\cdot N(x, P)\n",
    "\\end{equation}\n",
    "$$"
   ]
  },
  {
   "cell_type": "markdown",
   "id": "b2f36a77",
   "metadata": {},
   "source": [
    "## Reformulating the problem\n",
    "\n",
    "We wish that our neural network manages to minimize a given cost function.\n",
    "\n",
    "A reformulation of out equation, ([6](#solveode)), must therefore be done,\n",
    "such that it describes the problem a neural network can solve for.\n",
    "\n",
    "The neural network must find the set of weights and biases $P$ such that the trial solution in ([7](#trial)) satisfies ([6](#solveode)).\n",
    "\n",
    "The trial solution"
   ]
  },
  {
   "cell_type": "markdown",
   "id": "27947a59",
   "metadata": {},
   "source": [
    "$$\n",
    "g_t(x, P) = g_0 + x \\cdot N(x, P)\n",
    "$$"
   ]
  },
  {
   "cell_type": "markdown",
   "id": "7411d336",
   "metadata": {},
   "source": [
    "has been chosen such that it already solves the condition $g(0) = g_0$. What remains, is to find $P$ such that"
   ]
  },
  {
   "cell_type": "markdown",
   "id": "b2212c5d",
   "metadata": {},
   "source": [
    "<!-- Equation labels as ordinary links -->\n",
    "<div id=\"nnmin\"></div>\n",
    "\n",
    "$$\n",
    "\\begin{equation} \\label{nnmin} \\tag{8}\n",
    "g_t'(x, P) = - \\gamma g_t(x, P)\n",
    "\\end{equation}\n",
    "$$"
   ]
  },
  {
   "cell_type": "markdown",
   "id": "143addf8",
   "metadata": {},
   "source": [
    "is fulfilled as *best as possible*."
   ]
  },
  {
   "cell_type": "markdown",
   "id": "eda95a7d",
   "metadata": {},
   "source": [
    "## More technicalities\n",
    "\n",
    "The left hand side and right hand side of ([8](#nnmin)) must be computed separately, and then the neural network must choose weights and biases, contained in $P$, such that the sides are equal as best as possible.\n",
    "This means that the absolute or squared difference between the sides must be as close to zero, ideally equal to zero.\n",
    "In this case, the difference squared shows to be an appropriate measurement of how erroneous the trial solution is with respect to $P$ of the neural network.\n",
    "\n",
    "This gives the following cost function our neural network must solve for:"
   ]
  },
  {
   "cell_type": "markdown",
   "id": "5829382c",
   "metadata": {},
   "source": [
    "$$\n",
    "\\min_{P}\\Big\\{ \\big(g_t'(x, P) - ( -\\gamma g_t(x, P) \\big)^2 \\Big\\}\n",
    "$$"
   ]
  },
  {
   "cell_type": "markdown",
   "id": "b6099036",
   "metadata": {},
   "source": [
    "(the notation $\\min_{P}\\{ f(x, P) \\}$ means that we desire to find $P$ that yields the minimum of $f(x, P)$)\n",
    "\n",
    "or, in terms of weights and biases for the hidden and output layer in our network:"
   ]
  },
  {
   "cell_type": "markdown",
   "id": "75e35703",
   "metadata": {},
   "source": [
    "$$\n",
    "\\min_{P_{\\text{hidden} }, \\ P_{\\text{output} }}\\Big\\{ \\big(g_t'(x, \\{ P_{\\text{hidden} }, P_{\\text{output} }\\}) - ( -\\gamma g_t(x, \\{ P_{\\text{hidden} }, P_{\\text{output} }\\}) \\big)^2 \\Big\\}\n",
    "$$"
   ]
  },
  {
   "cell_type": "markdown",
   "id": "d50a55fb",
   "metadata": {},
   "source": [
    "for an input value $x$."
   ]
  },
  {
   "cell_type": "markdown",
   "id": "f5d41020",
   "metadata": {},
   "source": [
    "## More details\n",
    "\n",
    "If the neural network evaluates $g_t(x, P)$ at more values for $x$, say $N$ values $x_i$ for $i = 1, \\dots, N$, then the *total* error to minimize becomes"
   ]
  },
  {
   "cell_type": "markdown",
   "id": "09117a90",
   "metadata": {},
   "source": [
    "<!-- Equation labels as ordinary links -->\n",
    "<div id=\"min\"></div>\n",
    "\n",
    "$$\n",
    "\\begin{equation} \\label{min} \\tag{9}\n",
    "\\min_{P}\\Big\\{\\frac{1}{N} \\sum_{i=1}^N  \\big(g_t'(x_i, P) - ( -\\gamma g_t(x_i, P) \\big)^2 \\Big\\}\n",
    "\\end{equation}\n",
    "$$"
   ]
  },
  {
   "cell_type": "markdown",
   "id": "be83da3a",
   "metadata": {},
   "source": [
    "Letting $\\boldsymbol{x}$ be a vector with elements $x_i$ and $C(\\boldsymbol{x}, P) = \\frac{1}{N} \\sum_i  \\big(g_t'(x_i, P) - ( -\\gamma g_t(x_i, P) \\big)^2$ denote the cost function, the minimization problem that our network must solve, becomes"
   ]
  },
  {
   "cell_type": "markdown",
   "id": "dfd04207",
   "metadata": {},
   "source": [
    "$$\n",
    "\\min_{P} C(\\boldsymbol{x}, P)\n",
    "$$"
   ]
  },
  {
   "cell_type": "markdown",
   "id": "3288800f",
   "metadata": {},
   "source": [
    "In terms of $P_{\\text{hidden} }$ and $P_{\\text{output} }$, this could also be expressed as\n",
    "\n",
    "$$\n",
    "\\min_{P_{\\text{hidden} }, \\ P_{\\text{output} }} C(\\boldsymbol{x}, \\{P_{\\text{hidden} }, P_{\\text{output} }\\})\n",
    "$$"
   ]
  },
  {
   "cell_type": "markdown",
   "id": "76d99c90",
   "metadata": {},
   "source": [
    "## A possible implementation of a neural network\n",
    "\n",
    "For simplicity, it is assumed that the input is an array $\\boldsymbol{x} = (x_1, \\dots, x_N)$ with $N$ elements. It is at these points the neural network should find $P$ such that it fulfills ([9](#min)).\n",
    "\n",
    "First, the neural network must feed forward the inputs.\n",
    "This means that $\\boldsymbol{x}s$ must be passed through an input layer, a hidden layer and a output layer. The input layer in this case, does not need to process the data any further.\n",
    "The input layer will consist of $N_{\\text{input} }$ neurons, passing its element to each neuron in the hidden layer.  The number of neurons in the hidden layer will be $N_{\\text{hidden} }$."
   ]
  },
  {
   "cell_type": "markdown",
   "id": "c2b044a1",
   "metadata": {},
   "source": [
    "## Technicalities\n",
    "\n",
    "For the $i$-th in the hidden layer with weight $w_i^{\\text{hidden} }$ and bias $b_i^{\\text{hidden} }$, the weighting from the $j$-th neuron at the input layer is:"
   ]
  },
  {
   "cell_type": "markdown",
   "id": "5102d2b4",
   "metadata": {},
   "source": [
    "$$\n",
    "\\begin{aligned}\n",
    "z_{i,j}^{\\text{hidden}} &= b_i^{\\text{hidden}} + w_i^{\\text{hidden}}x_j \\\\\n",
    "&=\n",
    "\\begin{pmatrix}\n",
    "b_i^{\\text{hidden}} & w_i^{\\text{hidden}}\n",
    "\\end{pmatrix}\n",
    "\\begin{pmatrix}\n",
    "1 \\\\\n",
    "x_j\n",
    "\\end{pmatrix}\n",
    "\\end{aligned}\n",
    "$$"
   ]
  },
  {
   "cell_type": "markdown",
   "id": "d2aa6af4",
   "metadata": {},
   "source": [
    "## Final technicalities I\n",
    "\n",
    "The result after weighting the inputs at the $i$-th hidden neuron can be written as a vector:"
   ]
  },
  {
   "cell_type": "markdown",
   "id": "26907261",
   "metadata": {},
   "source": [
    "$$\n",
    "\\begin{aligned}\n",
    "\\boldsymbol{z}_{i}^{\\text{hidden}} &= \\Big( b_i^{\\text{hidden}} + w_i^{\\text{hidden}}x_1 , \\ b_i^{\\text{hidden}} + w_i^{\\text{hidden}} x_2, \\ \\dots \\, , \\ b_i^{\\text{hidden}} + w_i^{\\text{hidden}} x_N\\Big)  \\\\\n",
    "&=\n",
    "\\begin{pmatrix}\n",
    " b_i^{\\text{hidden}}  & w_i^{\\text{hidden}}\n",
    "\\end{pmatrix}\n",
    "\\begin{pmatrix}\n",
    "1  & 1 & \\dots & 1 \\\\\n",
    "x_1 & x_2 & \\dots & x_N\n",
    "\\end{pmatrix} \\\\\n",
    "&= \\boldsymbol{p}_{i, \\text{hidden}}^T X\n",
    "\\end{aligned}\n",
    "$$"
   ]
  },
  {
   "cell_type": "markdown",
   "id": "6a1f990d",
   "metadata": {},
   "source": [
    "## Final technicalities II\n",
    "\n",
    "The vector $\\boldsymbol{p}_{i, \\text{hidden}}^T$ constitutes each row in $P_{\\text{hidden} }$, which contains the weights for the neural network to minimize according to ([9](#min)).\n",
    "\n",
    "After having found $\\boldsymbol{z}_{i}^{\\text{hidden}} $ for every $i$-th neuron within the hidden layer, the vector will be sent to an activation function $a_i(\\boldsymbol{z})$.\n",
    "\n",
    "In this example, the sigmoid function has been chosen to be the activation function for each hidden neuron:"
   ]
  },
  {
   "cell_type": "markdown",
   "id": "e1421bd7",
   "metadata": {},
   "source": [
    "$$\n",
    "f(z) = \\frac{1}{1 + \\exp{(-z)}}\n",
    "$$"
   ]
  },
  {
   "cell_type": "markdown",
   "id": "caeeaf52",
   "metadata": {},
   "source": [
    "It is possible to use other activations functions for the hidden layer also.\n",
    "\n",
    "The output $\\boldsymbol{x}_i^{\\text{hidden}}$ from each $i$-th hidden neuron is:\n",
    "\n",
    "$$\n",
    "\\boldsymbol{x}_i^{\\text{hidden} } = f\\big(  \\boldsymbol{z}_{i}^{\\text{hidden}} \\big)\n",
    "$$\n",
    "\n",
    "The outputs $\\boldsymbol{x}_i^{\\text{hidden} } $ are then sent to the output layer.\n",
    "\n",
    "The output layer consists of one neuron in this case, and combines the\n",
    "output from each of the neurons in the hidden layers. The output layer\n",
    "combines the results from the hidden layer using some weights $w_i^{\\text{output}}$\n",
    "and biases $b_i^{\\text{output}}$. In this case,\n",
    "it is assumes that the number of neurons in the output layer is one."
   ]
  },
  {
   "cell_type": "markdown",
   "id": "509c607e",
   "metadata": {},
   "source": [
    "## Final technicalities III\n",
    "\n",
    "The procedure of weighting the output neuron $j$ in the hidden layer to the $i$-th neuron in the output layer is similar as for the hidden layer described previously."
   ]
  },
  {
   "cell_type": "markdown",
   "id": "383d04b2",
   "metadata": {},
   "source": [
    "$$\n",
    "\\begin{aligned}\n",
    "z_{1,j}^{\\text{output}} & =\n",
    "\\begin{pmatrix}\n",
    "b_1^{\\text{output}} & \\boldsymbol{w}_1^{\\text{output}}\n",
    "\\end{pmatrix}\n",
    "\\begin{pmatrix}\n",
    "1 \\\\\n",
    "\\boldsymbol{x}_j^{\\text{hidden}}\n",
    "\\end{pmatrix}\n",
    "\\end{aligned}\n",
    "$$"
   ]
  },
  {
   "cell_type": "markdown",
   "id": "62ee9500",
   "metadata": {},
   "source": [
    "## Final technicalities IV\n",
    "\n",
    "Expressing $z_{1,j}^{\\text{output}}$ as a vector gives the following way of weighting the inputs from the hidden layer:"
   ]
  },
  {
   "cell_type": "markdown",
   "id": "9266ab77",
   "metadata": {},
   "source": [
    "$$\n",
    "\\boldsymbol{z}_{1}^{\\text{output}} =\n",
    "\\begin{pmatrix}\n",
    "b_1^{\\text{output}} & \\boldsymbol{w}_1^{\\text{output}}\n",
    "\\end{pmatrix}\n",
    "\\begin{pmatrix}\n",
    "1  & 1 & \\dots & 1 \\\\\n",
    "\\boldsymbol{x}_1^{\\text{hidden}} & \\boldsymbol{x}_2^{\\text{hidden}} & \\dots & \\boldsymbol{x}_N^{\\text{hidden}}\n",
    "\\end{pmatrix}\n",
    "$$"
   ]
  },
  {
   "cell_type": "markdown",
   "id": "d8c1f093",
   "metadata": {},
   "source": [
    "In this case we seek a continuous range of values since we are approximating a function. This means that after computing $\\boldsymbol{z}_{1}^{\\text{output}}$ the neural network has finished its feed forward step, and $\\boldsymbol{z}_{1}^{\\text{output}}$ is the final output of the network."
   ]
  },
  {
   "cell_type": "markdown",
   "id": "e11a95d1",
   "metadata": {},
   "source": [
    "## Back propagation\n",
    "\n",
    "The next step is to decide how the parameters should be changed such that they minimize the cost function.\n",
    "\n",
    "The chosen cost function for this problem is"
   ]
  },
  {
   "cell_type": "markdown",
   "id": "8bd5eacc",
   "metadata": {},
   "source": [
    "$$\n",
    "C(\\boldsymbol{x}, P) = \\frac{1}{N} \\sum_i  \\big(g_t'(x_i, P) - ( -\\gamma g_t(x_i, P) \\big)^2\n",
    "$$"
   ]
  },
  {
   "cell_type": "markdown",
   "id": "a62f7e38",
   "metadata": {},
   "source": [
    "In order to minimize the cost function, an optimization method must be chosen.\n",
    "\n",
    "Here, gradient descent with a constant step size has been chosen."
   ]
  },
  {
   "cell_type": "markdown",
   "id": "85958038",
   "metadata": {},
   "source": [
    "## Gradient descent\n",
    "\n",
    "The idea of the gradient descent algorithm is to update parameters in\n",
    "a direction where the cost function decreases goes to a minimum.\n",
    "\n",
    "In general, the update of some parameters $\\boldsymbol{\\omega}$ given a cost\n",
    "function defined by some weights $\\boldsymbol{\\omega}$, $C(\\boldsymbol{x},\n",
    "\\boldsymbol{\\omega})$, goes as follows:"
   ]
  },
  {
   "cell_type": "markdown",
   "id": "8298cc96",
   "metadata": {},
   "source": [
    "$$\n",
    "\\boldsymbol{\\omega}_{\\text{new} } = \\boldsymbol{\\omega} - \\lambda \\nabla_{\\boldsymbol{\\omega}} C(\\boldsymbol{x}, \\boldsymbol{\\omega})\n",
    "$$"
   ]
  },
  {
   "cell_type": "markdown",
   "id": "5ca14cc6",
   "metadata": {},
   "source": [
    "for a number of iterations or until $ \\big|\\big| \\boldsymbol{\\omega}_{\\text{new} } - \\boldsymbol{\\omega} \\big|\\big|$ becomes smaller than some given tolerance.\n",
    "\n",
    "The value of $\\lambda$ decides how large steps the algorithm must take\n",
    "in the direction of $ \\nabla_{\\boldsymbol{\\omega}} C(\\boldsymbol{x}, \\boldsymbol{\\omega})$.\n",
    "The notation $\\nabla_{\\boldsymbol{\\omega}}$ express the gradient with respect\n",
    "to the elements in $\\boldsymbol{\\omega}$.\n",
    "\n",
    "In our case, we have to minimize the cost function $C(\\boldsymbol{x}, P)$ with\n",
    "respect to the two sets of weights and biases, that is for the hidden\n",
    "layer $P_{\\text{hidden} }$ and for the output layer $P_{\\text{output}\n",
    "}$ .\n",
    "\n",
    "This means that $P_{\\text{hidden} }$ and $P_{\\text{output} }$ is updated by"
   ]
  },
  {
   "cell_type": "markdown",
   "id": "845e5936",
   "metadata": {},
   "source": [
    "$$\n",
    "\\begin{aligned}\n",
    "P_{\\text{hidden},\\text{new}} &= P_{\\text{hidden}} - \\lambda \\nabla_{P_{\\text{hidden}}} C(\\boldsymbol{x}, P)  \\\\\n",
    "P_{\\text{output},\\text{new}} &= P_{\\text{output}} - \\lambda \\nabla_{P_{\\text{output}}} C(\\boldsymbol{x}, P)\n",
    "\\end{aligned}\n",
    "$$"
   ]
  },
  {
   "cell_type": "markdown",
   "id": "52ed929f",
   "metadata": {},
   "source": [
    "## The code for solving the ODE"
   ]
  },
  {
   "cell_type": "code",
   "execution_count": 1,
   "id": "55a81541",
   "metadata": {},
   "outputs": [
    {
     "name": "stdout",
     "output_type": "stream",
     "text": [
      "Initial cost: 367.01\n",
      "Final cost: 0.0666807\n",
      "Max absolute difference: 0.0437499\n"
     ]
    },
    {
     "data": {
      "image/png": "[encoded data removed]",
      "text/plain": [
       "<Figure size 720x720 with 1 Axes>"
      ]
     },
     "metadata": {
      "needs_background": "light"
     },
     "output_type": "display_data"
    }
   ],
   "source": [
    "%matplotlib inline\n",
    "\n",
    "import autograd.numpy as np\n",
    "from autograd import grad, elementwise_grad\n",
    "import autograd.numpy.random as npr\n",
    "from matplotlib import pyplot as plt\n",
    "\n",
    "def sigmoid(z):\n",
    "    return 1/(1 + np.exp(-z))\n",
    "\n",
    "# Assuming one input, hidden, and output layer\n",
    "def neural_network(params, x):\n",
    "\n",
    "    # Find the weights (including and biases) for the hidden and output layer.\n",
    "    # Assume that params is a list of parameters for each layer.\n",
    "    # The biases are the first element for each array in params,\n",
    "    # and the weights are the remaning elements in each array in params.\n",
    "\n",
    "    w_hidden = params[0]\n",
    "    w_output = params[1]\n",
    "\n",
    "    # Assumes input x being an one-dimensional array\n",
    "    num_values = np.size(x)\n",
    "    x = x.reshape(-1, num_values)\n",
    "\n",
    "    # Assume that the input layer does nothing to the input x\n",
    "    x_input = x\n",
    "\n",
    "    ## Hidden layer:\n",
    "\n",
    "    # Add a row of ones to include bias\n",
    "    x_input = np.concatenate((np.ones((1,num_values)), x_input ), axis = 0)\n",
    "\n",
    "    z_hidden = np.matmul(w_hidden, x_input)\n",
    "    x_hidden = sigmoid(z_hidden)\n",
    "\n",
    "    ## Output layer:\n",
    "\n",
    "    # Include bias:\n",
    "    x_hidden = np.concatenate((np.ones((1,num_values)), x_hidden ), axis = 0)\n",
    "\n",
    "    z_output = np.matmul(w_output, x_hidden)\n",
    "    x_output = z_output\n",
    "\n",
    "    return x_output\n",
    "\n",
    "# The trial solution using the deep neural network:\n",
    "def g_trial(x,params, g0 = 10):\n",
    "    return g0 + x*neural_network(params,x)\n",
    "\n",
    "# The right side of the ODE:\n",
    "def g(x, g_trial, gamma = 2):\n",
    "    return -gamma*g_trial\n",
    "\n",
    "# The cost function:\n",
    "def cost_function(P, x):\n",
    "\n",
    "    # Evaluate the trial function with the current parameters P\n",
    "    g_t = g_trial(x,P)\n",
    "\n",
    "    # Find the derivative w.r.t x of the neural network\n",
    "    d_net_out = elementwise_grad(neural_network,1)(P,x)\n",
    "\n",
    "    # Find the derivative w.r.t x of the trial function\n",
    "    d_g_t = elementwise_grad(g_trial,0)(x,P)\n",
    "\n",
    "    # The right side of the ODE\n",
    "    func = g(x, g_t)\n",
    "\n",
    "    err_sqr = (d_g_t - func)**2\n",
    "    cost_sum = np.sum(err_sqr)\n",
    "\n",
    "    return cost_sum / np.size(err_sqr)\n",
    "\n",
    "# Solve the exponential decay ODE using neural network with one input, hidden, and output layer\n",
    "def solve_ode_neural_network(x, num_neurons_hidden, num_iter, lmb):\n",
    "    ## Set up initial weights and biases\n",
    "\n",
    "    # For the hidden layer\n",
    "    p0 = npr.randn(num_neurons_hidden, 2 )\n",
    "\n",
    "    # For the output layer\n",
    "    p1 = npr.randn(1, num_neurons_hidden + 1 ) # +1 since bias is included\n",
    "\n",
    "    P = [p0, p1]\n",
    "\n",
    "    print('Initial cost: %g'%cost_function(P, x))\n",
    "\n",
    "    ## Start finding the optimal weights using gradient descent\n",
    "\n",
    "    # Find the Python function that represents the gradient of the cost function\n",
    "    # w.r.t the 0-th input argument -- that is the weights and biases in the hidden and output layer\n",
    "    cost_function_grad = grad(cost_function,0)\n",
    "\n",
    "    # Let the update be done num_iter times\n",
    "    for i in range(num_iter):\n",
    "        # Evaluate the gradient at the current weights and biases in P.\n",
    "        # The cost_grad consist now of two arrays;\n",
    "        # one for the gradient w.r.t P_hidden and\n",
    "        # one for the gradient w.r.t P_output\n",
    "        cost_grad =  cost_function_grad(P, x)\n",
    "\n",
    "        P[0] = P[0] - lmb * cost_grad[0]\n",
    "        P[1] = P[1] - lmb * cost_grad[1]\n",
    "\n",
    "    print('Final cost: %g'%cost_function(P, x))\n",
    "\n",
    "    return P\n",
    "\n",
    "def g_analytic(x, gamma = 2, g0 = 10):\n",
    "    return g0*np.exp(-gamma*x)\n",
    "\n",
    "# Solve the given problem\n",
    "if __name__ == '__main__':\n",
    "    # Set seed such that the weight are initialized\n",
    "    # with same weights and biases for every run.\n",
    "    npr.seed(15)\n",
    "\n",
    "    ## Decide the vales of arguments to the function to solve\n",
    "    N = 10\n",
    "    x = np.linspace(0, 1, N)\n",
    "\n",
    "    ## Set up the initial parameters\n",
    "    num_hidden_neurons = 10\n",
    "    num_iter = 10000\n",
    "    lmb = 0.001\n",
    "\n",
    "    # Use the network\n",
    "    P = solve_ode_neural_network(x, num_hidden_neurons, num_iter, lmb)\n",
    "\n",
    "    # Print the deviation from the trial solution and true solution\n",
    "    res = g_trial(x,P)\n",
    "    res_analytical = g_analytic(x)\n",
    "\n",
    "    print('Max absolute difference: %g'%np.max(np.abs(res - res_analytical)))\n",
    "\n",
    "    # Plot the results\n",
    "    plt.figure(figsize=(10,10))\n",
    "\n",
    "    plt.title('Performance of neural network solving an ODE compared to the analytical solution')\n",
    "    plt.plot(x, res_analytical)\n",
    "    plt.plot(x, res[0,:])\n",
    "    plt.legend(['analytical','nn'])\n",
    "    plt.xlabel('x')\n",
    "    plt.ylabel('g(x)')\n",
    "    plt.show()"
   ]
  },
  {
   "cell_type": "markdown",
   "id": "80e490d4",
   "metadata": {},
   "source": [
    "## The network with one input layer, specified number of hidden layers, and one output layer\n",
    "\n",
    "It is also possible to extend the construction of our network into a more general one, allowing the network to contain more than one hidden layers.\n",
    "\n",
    "The number of neurons within each hidden layer are given as a list of integers in the program below."
   ]
  },
  {
   "cell_type": "code",
   "execution_count": 2,
   "id": "4de45a26",
   "metadata": {},
   "outputs": [
    {
     "name": "stderr",
     "output_type": "stream",
     "text": [
      "/opt/homebrew/lib/python3.9/site-packages/numpy/core/_asarray.py:102: VisibleDeprecationWarning: Creating an ndarray from ragged nested sequences (which is a list-or-tuple of lists-or-tuples-or ndarrays with different lengths or shapes) is deprecated. If you meant to do this, you must specify 'dtype=object' when creating the ndarray.\n",
      "  return array(a, dtype, copy=False, order=order)\n"
     ]
    },
    {
     "name": "stdout",
     "output_type": "stream",
     "text": [
      "Initial cost: 324.246\n",
      "Final cost: 0.119936\n"
     ]
    },
    {
     "data": {
      "image/png": "[encoded data removed]",
      "text/plain": [
       "<Figure size 720x720 with 1 Axes>"
      ]
     },
     "metadata": {
      "needs_background": "light"
     },
     "output_type": "display_data"
    }
   ],
   "source": [
    "import autograd.numpy as np\n",
    "from autograd import grad, elementwise_grad\n",
    "import autograd.numpy.random as npr\n",
    "from matplotlib import pyplot as plt\n",
    "\n",
    "def sigmoid(z):\n",
    "    return 1/(1 + np.exp(-z))\n",
    "\n",
    "# The neural network with one input layer and one output layer,\n",
    "# but with number of hidden layers specified by the user.\n",
    "def deep_neural_network(deep_params, x):\n",
    "    # N_hidden is the number of hidden layers\n",
    "\n",
    "    N_hidden = np.size(deep_params) - 1 # -1 since params consists of\n",
    "                                        # parameters to all the hidden\n",
    "                                        # layers AND the output layer.\n",
    "\n",
    "    # Assumes input x being an one-dimensional array\n",
    "    num_values = np.size(x)\n",
    "    x = x.reshape(-1, num_values)\n",
    "\n",
    "    # Assume that the input layer does nothing to the input x\n",
    "    x_input = x\n",
    "\n",
    "    # Due to multiple hidden layers, define a variable referencing to the\n",
    "    # output of the previous layer:\n",
    "    x_prev = x_input\n",
    "\n",
    "    ## Hidden layers:\n",
    "\n",
    "    for l in range(N_hidden):\n",
    "        # From the list of parameters P; find the correct weigths and bias for this layer\n",
    "        w_hidden = deep_params[l]\n",
    "\n",
    "        # Add a row of ones to include bias\n",
    "        x_prev = np.concatenate((np.ones((1,num_values)), x_prev ), axis = 0)\n",
    "\n",
    "        z_hidden = np.matmul(w_hidden, x_prev)\n",
    "        x_hidden = sigmoid(z_hidden)\n",
    "\n",
    "        # Update x_prev such that next layer can use the output from this layer\n",
    "        x_prev = x_hidden\n",
    "\n",
    "    ## Output layer:\n",
    "\n",
    "    # Get the weights and bias for this layer\n",
    "    w_output = deep_params[-1]\n",
    "\n",
    "    # Include bias:\n",
    "    x_prev = np.concatenate((np.ones((1,num_values)), x_prev), axis = 0)\n",
    "\n",
    "    z_output = np.matmul(w_output, x_prev)\n",
    "    x_output = z_output\n",
    "\n",
    "    return x_output\n",
    "\n",
    "# The trial solution using the deep neural network:\n",
    "def g_trial_deep(x,params, g0 = 10):\n",
    "    return g0 + x*deep_neural_network(params, x)\n",
    "\n",
    "# The right side of the ODE:\n",
    "def g(x, g_trial, gamma = 2):\n",
    "    return -gamma*g_trial\n",
    "\n",
    "# The same cost function as before, but calls deep_neural_network instead.\n",
    "def cost_function_deep(P, x):\n",
    "\n",
    "    # Evaluate the trial function with the current parameters P\n",
    "    g_t = g_trial_deep(x,P)\n",
    "\n",
    "    # Find the derivative w.r.t x of the neural network\n",
    "    d_net_out = elementwise_grad(deep_neural_network,1)(P,x)\n",
    "\n",
    "    # Find the derivative w.r.t x of the trial function\n",
    "    d_g_t = elementwise_grad(g_trial_deep,0)(x,P)\n",
    "\n",
    "    # The right side of the ODE\n",
    "    func = g(x, g_t)\n",
    "\n",
    "    err_sqr = (d_g_t - func)**2\n",
    "    cost_sum = np.sum(err_sqr)\n",
    "\n",
    "    return cost_sum / np.size(err_sqr)\n",
    "\n",
    "# Solve the exponential decay ODE using neural network with one input and one output layer,\n",
    "# but with specified number of hidden layers from the user.\n",
    "def solve_ode_deep_neural_network(x, num_neurons, num_iter, lmb):\n",
    "    # num_hidden_neurons is now a list of number of neurons within each hidden layer\n",
    "\n",
    "    # The number of elements in the list num_hidden_neurons thus represents\n",
    "    # the number of hidden layers.\n",
    "\n",
    "    # Find the number of hidden layers:\n",
    "    N_hidden = np.size(num_neurons)\n",
    "\n",
    "    ## Set up initial weights and biases\n",
    "\n",
    "    # Initialize the list of parameters:\n",
    "    P = [None]*(N_hidden + 1) # + 1 to include the output layer\n",
    "\n",
    "    P[0] = npr.randn(num_neurons[0], 2 )\n",
    "    for l in range(1,N_hidden):\n",
    "        P[l] = npr.randn(num_neurons[l], num_neurons[l-1] + 1) # +1 to include bias\n",
    "\n",
    "    # For the output layer\n",
    "    P[-1] = npr.randn(1, num_neurons[-1] + 1 ) # +1 since bias is included\n",
    "\n",
    "    print('Initial cost: %g'%cost_function_deep(P, x))\n",
    "\n",
    "    ## Start finding the optimal weights using gradient descent\n",
    "\n",
    "    # Find the Python function that represents the gradient of the cost function\n",
    "    # w.r.t the 0-th input argument -- that is the weights and biases in the hidden and output layer\n",
    "    cost_function_deep_grad = grad(cost_function_deep,0)\n",
    "\n",
    "    # Let the update be done num_iter times\n",
    "    for i in range(num_iter):\n",
    "        # Evaluate the gradient at the current weights and biases in P.\n",
    "        # The cost_grad consist now of N_hidden + 1 arrays; the gradient w.r.t the weights and biases\n",
    "        # in the hidden layers and output layers evaluated at x.\n",
    "        cost_deep_grad =  cost_function_deep_grad(P, x)\n",
    "\n",
    "        for l in range(N_hidden+1):\n",
    "            P[l] = P[l] - lmb * cost_deep_grad[l]\n",
    "\n",
    "    print('Final cost: %g'%cost_function_deep(P, x))\n",
    "\n",
    "    return P\n",
    "\n",
    "def g_analytic(x, gamma = 2, g0 = 10):\n",
    "    return g0*np.exp(-gamma*x)\n",
    "\n",
    "# Solve the given problem\n",
    "if __name__ == '__main__':\n",
    "    npr.seed(15)\n",
    "\n",
    "    ## Decide the vales of arguments to the function to solve\n",
    "    N = 10\n",
    "    x = np.linspace(0, 1, N)\n",
    "\n",
    "    ## Set up the initial parameters\n",
    "    num_hidden_neurons = np.array([10,10])\n",
    "    num_iter = 10000\n",
    "    lmb = 0.001\n",
    "\n",
    "    P = solve_ode_deep_neural_network(x, num_hidden_neurons, num_iter, lmb)\n",
    "\n",
    "    res = g_trial_deep(x,P)\n",
    "    res_analytical = g_analytic(x)\n",
    "\n",
    "    plt.figure(figsize=(10,10))\n",
    "\n",
    "    plt.title('Performance of a deep neural network solving an ODE compared to the analytical solution')\n",
    "    plt.plot(x, res_analytical)\n",
    "    plt.plot(x, res[0,:])\n",
    "    plt.legend(['analytical','dnn'])\n",
    "    plt.ylabel('g(x)')\n",
    "    plt.show()"
   ]
  },
  {
   "cell_type": "markdown",
   "id": "73045f78",
   "metadata": {},
   "source": [
    "## Example: Population growth\n",
    "\n",
    "A logistic model of population growth assumes that a population converges toward an equilibrium.\n",
    "The population growth can be modeled by"
   ]
  },
  {
   "cell_type": "markdown",
   "id": "888162a4",
   "metadata": {},
   "source": [
    "<!-- Equation labels as ordinary links -->\n",
    "<div id=\"log\"></div>\n",
    "\n",
    "$$\n",
    "\\begin{equation} \\label{log} \\tag{10}\n",
    "\tg'(t) = \\alpha g(t)(A - g(t))\n",
    "\\end{equation}\n",
    "$$"
   ]
  },
  {
   "cell_type": "markdown",
   "id": "396e6ec5",
   "metadata": {},
   "source": [
    "where $g(t)$ is the population density at time $t$, $\\alpha > 0$ the growth rate and $A > 0$ is the maximum population number in the environment.\n",
    "Also, at $t = 0$ the population has the size $g(0) = g_0$, where $g_0$ is some chosen constant.\n",
    "\n",
    "In this example, similar network as for the exponential decay using Autograd has been used to solve the equation. However, as the implementation might suffer from e.g numerical instability\n",
    "and high execution time (this might be more apparent in the examples solving PDEs),\n",
    "using a library like  TensorFlow is recommended.\n",
    "Here, we stay with a more simple approach and implement for comparison, the simple forward Euler method."
   ]
  },
  {
   "cell_type": "markdown",
   "id": "821052b1",
   "metadata": {},
   "source": [
    "## Setting up the problem\n",
    "\n",
    "Here, we will model a population $g(t)$ in an environment having carrying capacity $A$.\n",
    "The population follows the model"
   ]
  },
  {
   "cell_type": "markdown",
   "id": "480c91e7",
   "metadata": {},
   "source": [
    "<!-- Equation labels as ordinary links -->\n",
    "<div id=\"solveode_population\"></div>\n",
    "\n",
    "$$\n",
    "\\begin{equation} \\label{solveode_population} \\tag{11}\n",
    "g'(t) = \\alpha g(t)(A - g(t))\n",
    "\\end{equation}\n",
    "$$"
   ]
  },
  {
   "cell_type": "markdown",
   "id": "a80b3828",
   "metadata": {},
   "source": [
    "where $g(0) = g_0$.\n",
    "\n",
    "In this example, we let $\\alpha = 2$, $A = 1$, and $g_0 = 1.2$."
   ]
  },
  {
   "cell_type": "markdown",
   "id": "d6c08ee7",
   "metadata": {},
   "source": [
    "## The trial solution\n",
    "\n",
    "We will get a slightly different trial solution, as the boundary conditions are different\n",
    "compared to the case for exponential decay.\n",
    "\n",
    "A possible trial solution satisfying the condition $g(0) = g_0$ could be\n",
    "\n",
    "$$\n",
    "h_1(t) = g_0 + t \\cdot N(t,P)\n",
    "$$\n",
    "\n",
    "with $N(t,P)$ being the output from the neural network with weights and biases for each layer collected in the set $P$.\n",
    "\n",
    "The analytical solution is\n",
    "\n",
    "$$\n",
    "g(t) = \\frac{Ag_0}{g_0 + (A - g_0)\\exp(-\\alpha A t)}\n",
    "$$"
   ]
  },
  {
   "cell_type": "markdown",
   "id": "f4f92fda",
   "metadata": {},
   "source": [
    "## The program using Autograd\n",
    "\n",
    "The network will be the similar as for the exponential decay example, but with some small modifications for our problem."
   ]
  },
  {
   "cell_type": "code",
   "execution_count": 3,
   "id": "c8ab8f7b",
   "metadata": {},
   "outputs": [
    {
     "name": "stderr",
     "output_type": "stream",
     "text": [
      "/opt/homebrew/lib/python3.9/site-packages/numpy/core/_asarray.py:102: VisibleDeprecationWarning: Creating an ndarray from ragged nested sequences (which is a list-or-tuple of lists-or-tuples-or ndarrays with different lengths or shapes) is deprecated. If you meant to do this, you must specify 'dtype=object' when creating the ndarray.\n",
      "  return array(a, dtype, copy=False, order=order)\n"
     ]
    },
    {
     "name": "stdout",
     "output_type": "stream",
     "text": [
      "Initial cost: 0.221805\n",
      "Final cost: 0.000417932\n",
      "The max absolute difference between the solutions is: 0.00424909\n"
     ]
    },
    {
     "data": {
      "image/png": "[encoded data removed]",
      "text/plain": [
       "<Figure size 720x720 with 1 Axes>"
      ]
     },
     "metadata": {
      "needs_background": "light"
     },
     "output_type": "display_data"
    }
   ],
   "source": [
    "import autograd.numpy as np\n",
    "from autograd import grad, elementwise_grad\n",
    "import autograd.numpy.random as npr\n",
    "from matplotlib import pyplot as plt\n",
    "\n",
    "def sigmoid(z):\n",
    "    return 1/(1 + np.exp(-z))\n",
    "\n",
    "# Function to get the parameters.\n",
    "# Done such that one can easily change the paramaters after one's liking.\n",
    "def get_parameters():\n",
    "    alpha = 2\n",
    "    A = 1\n",
    "    g0 = 1.2\n",
    "    return alpha, A, g0\n",
    "\n",
    "def deep_neural_network(P, x):\n",
    "    # N_hidden is the number of hidden layers\n",
    "    N_hidden = np.size(P) - 1 # -1 since params consist of parameters to all the hidden layers AND the output layer\n",
    "\n",
    "    # Assumes input x being an one-dimensional array\n",
    "    num_values = np.size(x)\n",
    "    x = x.reshape(-1, num_values)\n",
    "\n",
    "    # Assume that the input layer does nothing to the input x\n",
    "    x_input = x\n",
    "\n",
    "    # Due to multiple hidden layers, define a variable referencing to the\n",
    "    # output of the previous layer:\n",
    "    x_prev = x_input\n",
    "\n",
    "    ## Hidden layers:\n",
    "\n",
    "    for l in range(N_hidden):\n",
    "        # From the list of parameters P; find the correct weigths and bias for this layer\n",
    "        w_hidden = P[l]\n",
    "\n",
    "        # Add a row of ones to include bias\n",
    "        x_prev = np.concatenate((np.ones((1,num_values)), x_prev ), axis = 0)\n",
    "\n",
    "        z_hidden = np.matmul(w_hidden, x_prev)\n",
    "        x_hidden = sigmoid(z_hidden)\n",
    "\n",
    "        # Update x_prev such that next layer can use the output from this layer\n",
    "        x_prev = x_hidden\n",
    "\n",
    "    ## Output layer:\n",
    "\n",
    "    # Get the weights and bias for this layer\n",
    "    w_output = P[-1]\n",
    "\n",
    "    # Include bias:\n",
    "    x_prev = np.concatenate((np.ones((1,num_values)), x_prev), axis = 0)\n",
    "\n",
    "    z_output = np.matmul(w_output, x_prev)\n",
    "    x_output = z_output\n",
    "\n",
    "    return x_output\n",
    "\n",
    "\n",
    "def cost_function_deep(P, x):\n",
    "\n",
    "    # Evaluate the trial function with the current parameters P\n",
    "    g_t = g_trial_deep(x,P)\n",
    "\n",
    "    # Find the derivative w.r.t x of the trial function\n",
    "    d_g_t = elementwise_grad(g_trial_deep,0)(x,P)\n",
    "\n",
    "    # The right side of the ODE\n",
    "    func = f(x, g_t)\n",
    "\n",
    "    err_sqr = (d_g_t - func)**2\n",
    "    cost_sum = np.sum(err_sqr)\n",
    "\n",
    "    return cost_sum / np.size(err_sqr)\n",
    "\n",
    "# The right side of the ODE:\n",
    "def f(x, g_trial):\n",
    "    alpha,A, g0 = get_parameters()\n",
    "    return alpha*g_trial*(A - g_trial)\n",
    "\n",
    "# The trial solution using the deep neural network:\n",
    "def g_trial_deep(x, params):\n",
    "    alpha,A, g0 = get_parameters()\n",
    "    return g0 + x*deep_neural_network(params,x)\n",
    "\n",
    "# The analytical solution:\n",
    "def g_analytic(t):\n",
    "    alpha,A, g0 = get_parameters()\n",
    "    return A*g0/(g0 + (A - g0)*np.exp(-alpha*A*t))\n",
    "\n",
    "def solve_ode_deep_neural_network(x, num_neurons, num_iter, lmb):\n",
    "    # num_hidden_neurons is now a list of number of neurons within each hidden layer\n",
    "\n",
    "    # Find the number of hidden layers:\n",
    "    N_hidden = np.size(num_neurons)\n",
    "\n",
    "    ## Set up initial weigths and biases\n",
    "\n",
    "    # Initialize the list of parameters:\n",
    "    P = [None]*(N_hidden + 1) # + 1 to include the output layer\n",
    "\n",
    "    P[0] = npr.randn(num_neurons[0], 2 )\n",
    "    for l in range(1,N_hidden):\n",
    "        P[l] = npr.randn(num_neurons[l], num_neurons[l-1] + 1) # +1 to include bias\n",
    "\n",
    "    # For the output layer\n",
    "    P[-1] = npr.randn(1, num_neurons[-1] + 1 ) # +1 since bias is included\n",
    "\n",
    "    print('Initial cost: %g'%cost_function_deep(P, x))\n",
    "\n",
    "    ## Start finding the optimal weigths using gradient descent\n",
    "\n",
    "    # Find the Python function that represents the gradient of the cost function\n",
    "    # w.r.t the 0-th input argument -- that is the weights and biases in the hidden and output layer\n",
    "    cost_function_deep_grad = grad(cost_function_deep,0)\n",
    "\n",
    "    # Let the update be done num_iter times\n",
    "    for i in range(num_iter):\n",
    "        # Evaluate the gradient at the current weights and biases in P.\n",
    "        # The cost_grad consist now of N_hidden + 1 arrays; the gradient w.r.t the weights and biases\n",
    "        # in the hidden layers and output layers evaluated at x.\n",
    "        cost_deep_grad =  cost_function_deep_grad(P, x)\n",
    "\n",
    "        for l in range(N_hidden+1):\n",
    "            P[l] = P[l] - lmb * cost_deep_grad[l]\n",
    "\n",
    "    print('Final cost: %g'%cost_function_deep(P, x))\n",
    "\n",
    "    return P\n",
    "\n",
    "if __name__ == '__main__':\n",
    "    npr.seed(4155)\n",
    "\n",
    "    ## Decide the vales of arguments to the function to solve\n",
    "    Nt = 10\n",
    "    T = 1\n",
    "    t = np.linspace(0,T, Nt)\n",
    "\n",
    "    ## Set up the initial parameters\n",
    "    num_hidden_neurons = [100, 50, 25]\n",
    "    num_iter = 1000\n",
    "    lmb = 1e-3\n",
    "\n",
    "    P = solve_ode_deep_neural_network(t, num_hidden_neurons, num_iter, lmb)\n",
    "\n",
    "    g_dnn_ag = g_trial_deep(t,P)\n",
    "    g_analytical = g_analytic(t)\n",
    "\n",
    "    # Find the maximum absolute difference between the solutons:\n",
    "    diff_ag = np.max(np.abs(g_dnn_ag - g_analytical))\n",
    "    print(\"The max absolute difference between the solutions is: %g\"%diff_ag)\n",
    "\n",
    "    plt.figure(figsize=(10,10))\n",
    "\n",
    "    plt.title('Performance of neural network solving an ODE compared to the analytical solution')\n",
    "    plt.plot(t, g_analytical)\n",
    "    plt.plot(t, g_dnn_ag[0,:])\n",
    "    plt.legend(['analytical','nn'])\n",
    "    plt.xlabel('t')\n",
    "    plt.ylabel('g(t)')\n",
    "\n",
    "    plt.show()"
   ]
  },
  {
   "cell_type": "markdown",
   "id": "d23de8b8",
   "metadata": {},
   "source": [
    "## Using forward Euler to solve the ODE\n",
    "\n",
    "A straightforward way of solving an ODE numerically, is to use Euler's method.\n",
    "\n",
    "Euler's method uses Taylor series to approximate the value at a function $f$ at a step $\\Delta x$ from $x$:\n",
    "\n",
    "$$\n",
    "f(x + \\Delta x) \\approx f(x) + \\Delta x f'(x)\n",
    "$$\n",
    "\n",
    "In our case, using Euler's method to approximate the value of $g$ at a step $\\Delta t$ from $t$ yields"
   ]
  },
  {
   "cell_type": "markdown",
   "id": "fdcddf8a",
   "metadata": {},
   "source": [
    "$$\n",
    "\\begin{aligned}\n",
    "  g(t + \\Delta t) &\\approx g(t) + \\Delta t g'(t) \\\\\n",
    "  &= g(t) + \\Delta t \\big(\\alpha g(t)(A - g(t))\\big)\n",
    "\\end{aligned}\n",
    "$$"
   ]
  },
  {
   "cell_type": "markdown",
   "id": "844d5029",
   "metadata": {},
   "source": [
    "along with the condition that $g(0) = g_0$.\n",
    "\n",
    "Let $t_i = i \\cdot \\Delta t$ where $\\Delta t = \\frac{T}{N_t-1}$ where $T$ is the final time our solver must solve for and $N_t$ the number of values for $t \\in [0, T]$ for $i = 0, \\dots, N_t-1$.\n",
    "\n",
    "For $i \\geq 1$, we have that"
   ]
  },
  {
   "cell_type": "markdown",
   "id": "331dc94b",
   "metadata": {},
   "source": [
    "$$\n",
    "\\begin{aligned}\n",
    "t_i &= i\\Delta t \\\\\n",
    "&= (i - 1)\\Delta t + \\Delta t \\\\\n",
    "&= t_{i-1} + \\Delta t\n",
    "\\end{aligned}\n",
    "$$"
   ]
  },
  {
   "cell_type": "markdown",
   "id": "fc7d37e0",
   "metadata": {},
   "source": [
    "Now, if $g_i = g(t_i)$ then"
   ]
  },
  {
   "cell_type": "markdown",
   "id": "6df6a4f1",
   "metadata": {},
   "source": [
    "<!-- Equation labels as ordinary links -->\n",
    "<div id=\"odenum\"></div>\n",
    "\n",
    "$$\n",
    "\\begin{equation}\n",
    "  \\begin{aligned}\n",
    "  g_i &= g(t_i) \\\\\n",
    "  &= g(t_{i-1} + \\Delta t) \\\\\n",
    "  &\\approx g(t_{i-1}) + \\Delta t \\big(\\alpha g(t_{i-1})(A - g(t_{i-1}))\\big) \\\\\n",
    "  &= g_{i-1} + \\Delta t \\big(\\alpha g_{i-1}(A - g_{i-1})\\big)\n",
    "  \\end{aligned}\n",
    "\\end{equation} \\label{odenum} \\tag{12}\n",
    "$$"
   ]
  },
  {
   "cell_type": "markdown",
   "id": "8ba73100",
   "metadata": {},
   "source": [
    "for $i \\geq 1$ and $g_0 = g(t_0) = g(0) = g_0$.\n",
    "\n",
    "Equation ([12](#odenum)) could be implemented in the following way,\n",
    "extending the program that uses the network using Autograd:"
   ]
  },
  {
   "cell_type": "code",
   "execution_count": 4,
   "id": "e9e36273",
   "metadata": {},
   "outputs": [
    {
     "name": "stderr",
     "output_type": "stream",
     "text": [
      "/opt/homebrew/lib/python3.9/site-packages/numpy/core/_asarray.py:102: VisibleDeprecationWarning: Creating an ndarray from ragged nested sequences (which is a list-or-tuple of lists-or-tuples-or ndarrays with different lengths or shapes) is deprecated. If you meant to do this, you must specify 'dtype=object' when creating the ndarray.\n",
      "  return array(a, dtype, copy=False, order=order)\n"
     ]
    },
    {
     "name": "stdout",
     "output_type": "stream",
     "text": [
      "Initial cost: 0.221805\n",
      "Final cost: 0.000417932\n",
      "The max absolute difference between the solutions is: 0.00424909\n",
      "Max absolute difference between Euler method and analytical: 0.011225\n",
      "Max absolute difference between deep neural network and analytical: 0.00424909\n"
     ]
    },
    {
     "data": {
      "image/png": "[encoded data removed]",
      "text/plain": [
       "<Figure size 720x720 with 1 Axes>"
      ]
     },
     "metadata": {
      "needs_background": "light"
     },
     "output_type": "display_data"
    },
    {
     "data": {
      "image/png": "[encoded data removed]",
      "text/plain": [
       "<Figure size 720x720 with 1 Axes>"
      ]
     },
     "metadata": {
      "needs_background": "light"
     },
     "output_type": "display_data"
    }
   ],
   "source": [
    "# Assume that all function definitions from the example program using Autograd\n",
    "# are located here.\n",
    "\n",
    "if __name__ == '__main__':\n",
    "    npr.seed(4155)\n",
    "\n",
    "    ## Decide the vales of arguments to the function to solve\n",
    "    Nt = 10\n",
    "    T = 1\n",
    "    t = np.linspace(0,T, Nt)\n",
    "\n",
    "    ## Set up the initial parameters\n",
    "    num_hidden_neurons = [100,50,25]\n",
    "    num_iter = 1000\n",
    "    lmb = 1e-3\n",
    "\n",
    "    P = solve_ode_deep_neural_network(t, num_hidden_neurons, num_iter, lmb)\n",
    "\n",
    "    g_dnn_ag = g_trial_deep(t,P)\n",
    "    g_analytical = g_analytic(t)\n",
    "\n",
    "    # Find the maximum absolute difference between the solutons:\n",
    "    diff_ag = np.max(np.abs(g_dnn_ag - g_analytical))\n",
    "    print(\"The max absolute difference between the solutions is: %g\"%diff_ag)\n",
    "\n",
    "    plt.figure(figsize=(10,10))\n",
    "\n",
    "    plt.title('Performance of neural network solving an ODE compared to the analytical solution')\n",
    "    plt.plot(t, g_analytical)\n",
    "    plt.plot(t, g_dnn_ag[0,:])\n",
    "    plt.legend(['analytical','nn'])\n",
    "    plt.xlabel('t')\n",
    "    plt.ylabel('g(t)')\n",
    "\n",
    "    ## Find an approximation to the funtion using forward Euler\n",
    "\n",
    "    alpha, A, g0 = get_parameters()\n",
    "    dt = T/(Nt - 1)\n",
    "\n",
    "    # Perform forward Euler to solve the ODE\n",
    "    g_euler = np.zeros(Nt)\n",
    "    g_euler[0] = g0\n",
    "\n",
    "    for i in range(1,Nt):\n",
    "        g_euler[i] = g_euler[i-1] + dt*(alpha*g_euler[i-1]*(A - g_euler[i-1]))\n",
    "\n",
    "    # Print the errors done by each method\n",
    "    diff1 = np.max(np.abs(g_euler - g_analytical))\n",
    "    diff2 = np.max(np.abs(g_dnn_ag[0,:] - g_analytical))\n",
    "\n",
    "    print('Max absolute difference between Euler method and analytical: %g'%diff1)\n",
    "    print('Max absolute difference between deep neural network and analytical: %g'%diff2)\n",
    "\n",
    "    # Plot results\n",
    "    plt.figure(figsize=(10,10))\n",
    "\n",
    "    plt.plot(t,g_euler)\n",
    "    plt.plot(t,g_analytical)\n",
    "    plt.plot(t,g_dnn_ag[0,:])\n",
    "\n",
    "    plt.legend(['euler','analytical','dnn'])\n",
    "    plt.xlabel('Time t')\n",
    "    plt.ylabel('g(t)')\n",
    "\n",
    "    plt.show()"
   ]
  },
  {
   "cell_type": "markdown",
   "id": "1d5a093d",
   "metadata": {},
   "source": [
    "## Example: Solving the one dimensional Poisson equation\n",
    "\n",
    "The Poisson equation for $g(x)$ in one dimension is"
   ]
  },
  {
   "cell_type": "markdown",
   "id": "147d5bd6",
   "metadata": {},
   "source": [
    "<!-- Equation labels as ordinary links -->\n",
    "<div id=\"poisson\"></div>\n",
    "\n",
    "$$\n",
    "\\begin{equation} \\label{poisson} \\tag{13}\n",
    "  -g''(x) = f(x)\n",
    "\\end{equation}\n",
    "$$"
   ]
  },
  {
   "cell_type": "markdown",
   "id": "12606e2b",
   "metadata": {},
   "source": [
    "where $f(x)$ is a given function for $x \\in (0,1)$.\n",
    "\n",
    "The conditions that $g(x)$ is chosen to fulfill, are"
   ]
  },
  {
   "cell_type": "markdown",
   "id": "181df4b4",
   "metadata": {},
   "source": [
    "$$\n",
    "\\begin{align*}\n",
    "  g(0) &= 0 \\\\\n",
    "  g(1) &= 0\n",
    "\\end{align*}\n",
    "$$"
   ]
  },
  {
   "cell_type": "markdown",
   "id": "d051e3dc",
   "metadata": {},
   "source": [
    "This equation can be solved numerically using programs where e.g Autograd and TensorFlow are used.\n",
    "The results from the networks can then be compared to the analytical solution.\n",
    "In addition, it could be interesting to see how a typical method for numerically solving second order ODEs compares to the neural networks."
   ]
  },
  {
   "cell_type": "markdown",
   "id": "b04de0d8",
   "metadata": {},
   "source": [
    "## The specific equation to solve for\n",
    "\n",
    "Here, the function $g(x)$ to solve for follows the equation"
   ]
  },
  {
   "cell_type": "markdown",
   "id": "3002aead",
   "metadata": {},
   "source": [
    "$$\n",
    "-g''(x) = f(x),\\qquad x \\in (0,1)\n",
    "$$"
   ]
  },
  {
   "cell_type": "markdown",
   "id": "a4c8e011",
   "metadata": {},
   "source": [
    "where $f(x)$ is a given function, along with the chosen conditions"
   ]
  },
  {
   "cell_type": "markdown",
   "id": "d15ec26a",
   "metadata": {},
   "source": [
    "<!-- Equation labels as ordinary links -->\n",
    "<div id=\"cond\"></div>\n",
    "\n",
    "$$\n",
    "\\begin{aligned}\n",
    "g(0) = g(1) = 0\n",
    "\\end{aligned}\\label{cond} \\tag{14}\n",
    "$$"
   ]
  },
  {
   "cell_type": "markdown",
   "id": "d2829cb4",
   "metadata": {},
   "source": [
    "In this example, we consider the case when $f(x) = (3x + x^2)\\exp(x)$.\n",
    "\n",
    "For this case, a possible trial solution satisfying the conditions could be"
   ]
  },
  {
   "cell_type": "markdown",
   "id": "cb65731b",
   "metadata": {},
   "source": [
    "$$\n",
    "g_t(x) = x \\cdot (1-x) \\cdot N(P,x)\n",
    "$$"
   ]
  },
  {
   "cell_type": "markdown",
   "id": "2913212e",
   "metadata": {},
   "source": [
    "The analytical solution for this problem is"
   ]
  },
  {
   "cell_type": "markdown",
   "id": "d34d8952",
   "metadata": {},
   "source": [
    "$$\n",
    "g(x) = x(1 - x)\\exp(x)\n",
    "$$"
   ]
  },
  {
   "cell_type": "markdown",
   "id": "1bf1db3a",
   "metadata": {},
   "source": [
    "## Solving the equation using Autograd"
   ]
  },
  {
   "cell_type": "code",
   "execution_count": 5,
   "id": "e64627e8",
   "metadata": {},
   "outputs": [],
   "source": [
    "import autograd.numpy as np\n",
    "from autograd import grad, elementwise_grad\n",
    "import autograd.numpy.random as npr\n",
    "from matplotlib import pyplot as plt\n",
    "\n",
    "def sigmoid(z):\n",
    "    return 1/(1 + np.exp(-z))\n",
    "\n",
    "def deep_neural_network(deep_params, x):\n",
    "    # N_hidden is the number of hidden layers\n",
    "    N_hidden = np.size(deep_params) - 1 # -1 since params consist of parameters to all the hidden layers AND the output layer\n",
    "\n",
    "    # Assumes input x being an one-dimensional array\n",
    "    num_values = np.size(x)\n",
    "    x = x.reshape(-1, num_values)\n",
    "\n",
    "    # Assume that the input layer does nothing to the input x\n",
    "    x_input = x\n",
    "\n",
    "    # Due to multiple hidden layers, define a variable referencing to the\n",
    "    # output of the previous layer:\n",
    "    x_prev = x_input\n",
    "\n",
    "    ## Hidden layers:\n",
    "\n",
    "    for l in range(N_hidden):\n",
    "        # From the list of parameters P; find the correct weigths and bias for this layer\n",
    "        w_hidden = deep_params[l]\n",
    "\n",
    "        # Add a row of ones to include bias\n",
    "        x_prev = np.concatenate((np.ones((1,num_values)), x_prev ), axis = 0)\n",
    "\n",
    "        z_hidden = np.matmul(w_hidden, x_prev)\n",
    "        x_hidden = sigmoid(z_hidden)\n",
    "\n",
    "        # Update x_prev such that next layer can use the output from this layer\n",
    "        x_prev = x_hidden\n",
    "\n",
    "    ## Output layer:\n",
    "\n",
    "    # Get the weights and bias for this layer\n",
    "    w_output = deep_params[-1]\n",
    "\n",
    "    # Include bias:\n",
    "    x_prev = np.concatenate((np.ones((1,num_values)), x_prev), axis = 0)\n",
    "\n",
    "    z_output = np.matmul(w_output, x_prev)\n",
    "    x_output = z_output\n",
    "\n",
    "    return x_output\n",
    "\n",
    "def solve_ode_deep_neural_network(x, num_neurons, num_iter, lmb):\n",
    "    # num_hidden_neurons is now a list of number of neurons within each hidden layer\n",
    "\n",
    "    # Find the number of hidden layers:\n",
    "    N_hidden = np.size(num_neurons)\n",
    "\n",
    "    ## Set up initial weigths and biases\n",
    "\n",
    "    # Initialize the list of parameters:\n",
    "    P = [None]*(N_hidden + 1) # + 1 to include the output layer\n",
    "\n",
    "    P[0] = npr.randn(num_neurons[0], 2 )\n",
    "    for l in range(1,N_hidden):\n",
    "        P[l] = npr.randn(num_neurons[l], num_neurons[l-1] + 1) # +1 to include bias\n",
    "\n",
    "    # For the output layer\n",
    "    P[-1] = npr.randn(1, num_neurons[-1] + 1 ) # +1 since bias is included\n",
    "\n",
    "    print('Initial cost: %g'%cost_function_deep(P, x))\n",
    "\n",
    "    ## Start finding the optimal weigths using gradient descent\n",
    "\n",
    "    # Find the Python function that represents the gradient of the cost function\n",
    "    # w.r.t the 0-th input argument -- that is the weights and biases in the hidden and output layer\n",
    "    cost_function_deep_grad = grad(cost_function_deep,0)\n",
    "\n",
    "    # Let the update be done num_iter times\n",
    "    for i in range(num_iter):\n",
    "        # Evaluate the gradient at the current weights and biases in P.\n",
    "        # The cost_grad consist now of N_hidden + 1 arrays; the gradient w.r.t the weights and biases\n",
    "        # in the hidden layers and output layers evaluated at x.\n",
    "        cost_deep_grad =  cost_function_deep_grad(P, x)\n",
    "\n",
    "        for l in range(N_hidden+1):\n",
    "            P[l] = P[l] - lmb * cost_deep_grad[l]\n",
    "\n",
    "    print('Final cost: %g'%cost_function_deep(P, x))\n",
    "\n",
    "    return P\n",
    "\n",
    "## Set up the cost function specified for this Poisson equation:\n",
    "\n",
    "# The right side of the ODE\n",
    "def f(x):\n",
    "    return (3*x + x**2)*np.exp(x)\n",
    "\n",
    "def cost_function_deep(P, x):\n",
    "\n",
    "    # Evaluate the trial function with the current parameters P\n",
    "    g_t = g_trial_deep(x,P)\n",
    "\n",
    "    # Find the derivative w.r.t x of the trial function\n",
    "    d2_g_t = elementwise_grad(elementwise_grad(g_trial_deep,0))(x,P)\n",
    "\n",
    "    right_side = f(x)\n",
    "\n",
    "    err_sqr = (-d2_g_t - right_side)**2\n",
    "    cost_sum = np.sum(err_sqr)\n",
    "\n",
    "    return cost_sum/np.size(err_sqr)\n",
    "\n",
    "# The trial solution:\n",
    "def g_trial_deep(x,P):\n",
    "    return x*(1-x)*deep_neural_network(P,x)\n",
    "\n",
    "# The analytic solution;\n",
    "def g_analytic(x):\n",
    "    return x*(1-x)*np.exp(x)\n",
    "\n",
    "if __name__ == '__main__':\n",
    "    npr.seed(4155)\n",
    "\n",
    "    ## Decide the vales of arguments to the function to solve\n",
    "    Nx = 10\n",
    "    x = np.linspace(0,1, Nx)\n",
    "\n",
    "    ## Set up the initial parameters\n",
    "    num_hidden_neurons = [200,100]\n",
    "    num_iter = 1000\n",
    "    lmb = 1e-3\n",
    "\n",
    "    P = solve_ode_deep_neural_network(x, num_hidden_neurons, num_iter, lmb)\n",
    "\n",
    "    g_dnn_ag = g_trial_deep(x,P)\n",
    "    g_analytical = g_analytic(x)\n",
    "\n",
    "    # Find the maximum absolute difference between the solutons:\n",
    "    max_diff = np.max(np.abs(g_dnn_ag - g_analytical))\n",
    "    print(\"The max absolute difference between the solutions is: %g\"%max_diff)\n",
    "\n",
    "    plt.figure(figsize=(10,10))\n",
    "\n",
    "    plt.title('Performance of neural network solving an ODE compared to the analytical solution')\n",
    "    plt.plot(x, g_analytical)\n",
    "    plt.plot(x, g_dnn_ag[0,:])\n",
    "    plt.legend(['analytical','nn'])\n",
    "    plt.xlabel('x')\n",
    "    plt.ylabel('g(x)')\n",
    "    plt.show()"
   ]
  },
  {
   "cell_type": "markdown",
   "id": "f83e50df",
   "metadata": {},
   "source": [
    "## Comparing with a numerical scheme\n",
    "\n",
    "The Poisson equation is possible to solve using Taylor series to approximate the second derivative.\n",
    "\n",
    "Using Taylor series, the second derivative can be expressed as\n",
    "\n",
    "$$\n",
    "g''(x) = \\frac{g(x + \\Delta x) - 2g(x) + g(x-\\Delta x)}{\\Delta x^2} + E_{\\Delta x}(x)\n",
    "$$\n",
    "\n",
    "where $\\Delta x$ is a small step size and $E_{\\Delta x}(x)$ being the error term.\n",
    "\n",
    "Looking away from the error terms gives an approximation to the second derivative:"
   ]
  },
  {
   "cell_type": "markdown",
   "id": "a0a020da",
   "metadata": {},
   "source": [
    "<!-- Equation labels as ordinary links -->\n",
    "<div id=\"approx\"></div>\n",
    "\n",
    "$$\n",
    "\\begin{equation} \\label{approx} \\tag{15}\n",
    "g''(x) \\approx \\frac{g(x + \\Delta x) - 2g(x) + g(x-\\Delta x)}{\\Delta x^2}\n",
    "\\end{equation}\n",
    "$$"
   ]
  },
  {
   "cell_type": "markdown",
   "id": "5ae4f02f",
   "metadata": {},
   "source": [
    "If $x_i = i \\Delta x = x_{i-1} + \\Delta x$ and $g_i = g(x_i)$ for $i = 1,\\dots N_x - 2$ with $N_x$ being the number of values for $x$, ([15](#approx)) becomes"
   ]
  },
  {
   "cell_type": "markdown",
   "id": "6f2edb09",
   "metadata": {},
   "source": [
    "$$\n",
    "\\begin{aligned}\n",
    "g''(x_i) &\\approx \\frac{g(x_i + \\Delta x) - 2g(x_i) + g(x_i -\\Delta x)}{\\Delta x^2} \\\\\n",
    "&= \\frac{g_{i+1} - 2g_i + g_{i-1}}{\\Delta x^2}\n",
    "\\end{aligned}\n",
    "$$"
   ]
  },
  {
   "cell_type": "markdown",
   "id": "c7a87888",
   "metadata": {},
   "source": [
    "Since we know from our problem that"
   ]
  },
  {
   "cell_type": "markdown",
   "id": "77dff476",
   "metadata": {},
   "source": [
    "$$\n",
    "\\begin{aligned}\n",
    "-g''(x) &= f(x) \\\\\n",
    "&= (3x + x^2)\\exp(x)\n",
    "\\end{aligned}\n",
    "$$"
   ]
  },
  {
   "cell_type": "markdown",
   "id": "74edd0e0",
   "metadata": {},
   "source": [
    "along with the conditions $g(0) = g(1) = 0$,\n",
    "the following scheme can be used to find an approximate solution for $g(x)$ numerically:"
   ]
  },
  {
   "cell_type": "markdown",
   "id": "05db65d3",
   "metadata": {},
   "source": [
    "<!-- Equation labels as ordinary links -->\n",
    "<div id=\"odesys\"></div>\n",
    "\n",
    "$$\n",
    "\\begin{equation}\n",
    "  \\begin{aligned}\n",
    "  -\\Big( \\frac{g_{i+1} - 2g_i + g_{i-1}}{\\Delta x^2} \\Big) &= f(x_i) \\\\\n",
    "  -g_{i+1} + 2g_i - g_{i-1} &= \\Delta x^2 f(x_i)\n",
    "  \\end{aligned}\n",
    "\\end{equation} \\label{odesys} \\tag{16}\n",
    "$$"
   ]
  },
  {
   "cell_type": "markdown",
   "id": "ded19832",
   "metadata": {},
   "source": [
    "for $i = 1, \\dots, N_x - 2$ where $g_0 = g_{N_x - 1} = 0$ and $f(x_i) = (3x_i + x_i^2)\\exp(x_i)$, which is given for our specific problem.\n",
    "\n",
    "The equation can be rewritten into a matrix equation:"
   ]
  },
  {
   "cell_type": "markdown",
   "id": "ace4589e",
   "metadata": {},
   "source": [
    "$$\n",
    "\\begin{aligned}\n",
    "\\begin{pmatrix}\n",
    "2 & -1 & 0 & \\dots & 0 \\\\\n",
    "-1 & 2 & -1 & \\dots & 0 \\\\\n",
    "\\vdots & & \\ddots & & \\vdots \\\\\n",
    "0 & \\dots & -1 & 2 & -1  \\\\\n",
    "0 & \\dots & 0 & -1 & 2\\\\\n",
    "\\end{pmatrix}\n",
    "\\begin{pmatrix}\n",
    "g_1 \\\\\n",
    "g_2 \\\\\n",
    "\\vdots \\\\\n",
    "g_{N_x - 3} \\\\\n",
    "g_{N_x - 2}\n",
    "\\end{pmatrix}\n",
    "&=\n",
    "\\Delta x^2\n",
    "\\begin{pmatrix}\n",
    "f(x_1) \\\\\n",
    "f(x_2) \\\\\n",
    "\\vdots \\\\\n",
    "f(x_{N_x - 3}) \\\\\n",
    "f(x_{N_x - 2})\n",
    "\\end{pmatrix} \\\\\n",
    "\\boldsymbol{A}\\boldsymbol{g} &= \\boldsymbol{f},\n",
    "\\end{aligned}\n",
    "$$"
   ]
  },
  {
   "cell_type": "markdown",
   "id": "3b17b116",
   "metadata": {},
   "source": [
    "which makes it possible to solve for the vector $\\boldsymbol{g}$."
   ]
  },
  {
   "cell_type": "markdown",
   "id": "813805d1",
   "metadata": {},
   "source": [
    "## Setting up the code\n",
    "\n",
    "We can then compare the result from this numerical scheme with the output from our network using Autograd:"
   ]
  },
  {
   "cell_type": "code",
   "execution_count": 6,
   "id": "df30e6c3",
   "metadata": {},
   "outputs": [],
   "source": [
    "import autograd.numpy as np\n",
    "from autograd import grad, elementwise_grad\n",
    "import autograd.numpy.random as npr\n",
    "from matplotlib import pyplot as plt\n",
    "\n",
    "def sigmoid(z):\n",
    "    return 1/(1 + np.exp(-z))\n",
    "\n",
    "def deep_neural_network(deep_params, x):\n",
    "    # N_hidden is the number of hidden layers\n",
    "    N_hidden = np.size(deep_params) - 1 # -1 since params consist of parameters to all the hidden layers AND the output layer\n",
    "\n",
    "    # Assumes input x being an one-dimensional array\n",
    "    num_values = np.size(x)\n",
    "    x = x.reshape(-1, num_values)\n",
    "\n",
    "    # Assume that the input layer does nothing to the input x\n",
    "    x_input = x\n",
    "\n",
    "    # Due to multiple hidden layers, define a variable referencing to the\n",
    "    # output of the previous layer:\n",
    "    x_prev = x_input\n",
    "\n",
    "    ## Hidden layers:\n",
    "\n",
    "    for l in range(N_hidden):\n",
    "        # From the list of parameters P; find the correct weigths and bias for this layer\n",
    "        w_hidden = deep_params[l]\n",
    "\n",
    "        # Add a row of ones to include bias\n",
    "        x_prev = np.concatenate((np.ones((1,num_values)), x_prev ), axis = 0)\n",
    "\n",
    "        z_hidden = np.matmul(w_hidden, x_prev)\n",
    "        x_hidden = sigmoid(z_hidden)\n",
    "\n",
    "        # Update x_prev such that next layer can use the output from this layer\n",
    "        x_prev = x_hidden\n",
    "\n",
    "    ## Output layer:\n",
    "\n",
    "    # Get the weights and bias for this layer\n",
    "    w_output = deep_params[-1]\n",
    "\n",
    "    # Include bias:\n",
    "    x_prev = np.concatenate((np.ones((1,num_values)), x_prev), axis = 0)\n",
    "\n",
    "    z_output = np.matmul(w_output, x_prev)\n",
    "    x_output = z_output\n",
    "\n",
    "    return x_output\n",
    "\n",
    "def solve_ode_deep_neural_network(x, num_neurons, num_iter, lmb):\n",
    "    # num_hidden_neurons is now a list of number of neurons within each hidden layer\n",
    "\n",
    "    # Find the number of hidden layers:\n",
    "    N_hidden = np.size(num_neurons)\n",
    "\n",
    "    ## Set up initial weigths and biases\n",
    "\n",
    "    # Initialize the list of parameters:\n",
    "    P = [None]*(N_hidden + 1) # + 1 to include the output layer\n",
    "\n",
    "    P[0] = npr.randn(num_neurons[0], 2 )\n",
    "    for l in range(1,N_hidden):\n",
    "        P[l] = npr.randn(num_neurons[l], num_neurons[l-1] + 1) # +1 to include bias\n",
    "\n",
    "    # For the output layer\n",
    "    P[-1] = npr.randn(1, num_neurons[-1] + 1 ) # +1 since bias is included\n",
    "\n",
    "    print('Initial cost: %g'%cost_function_deep(P, x))\n",
    "\n",
    "    ## Start finding the optimal weigths using gradient descent\n",
    "\n",
    "    # Find the Python function that represents the gradient of the cost function\n",
    "    # w.r.t the 0-th input argument -- that is the weights and biases in the hidden and output layer\n",
    "    cost_function_deep_grad = grad(cost_function_deep,0)\n",
    "\n",
    "    # Let the update be done num_iter times\n",
    "    for i in range(num_iter):\n",
    "        # Evaluate the gradient at the current weights and biases in P.\n",
    "        # The cost_grad consist now of N_hidden + 1 arrays; the gradient w.r.t the weights and biases\n",
    "        # in the hidden layers and output layers evaluated at x.\n",
    "        cost_deep_grad =  cost_function_deep_grad(P, x)\n",
    "\n",
    "        for l in range(N_hidden+1):\n",
    "            P[l] = P[l] - lmb * cost_deep_grad[l]\n",
    "\n",
    "    print('Final cost: %g'%cost_function_deep(P, x))\n",
    "\n",
    "    return P\n",
    "\n",
    "## Set up the cost function specified for this Poisson equation:\n",
    "\n",
    "# The right side of the ODE\n",
    "def f(x):\n",
    "    return (3*x + x**2)*np.exp(x)\n",
    "\n",
    "def cost_function_deep(P, x):\n",
    "\n",
    "    # Evaluate the trial function with the current parameters P\n",
    "    g_t = g_trial_deep(x,P)\n",
    "\n",
    "    # Find the derivative w.r.t x of the trial function\n",
    "    d2_g_t = elementwise_grad(elementwise_grad(g_trial_deep,0))(x,P)\n",
    "\n",
    "    right_side = f(x)\n",
    "\n",
    "    err_sqr = (-d2_g_t - right_side)**2\n",
    "    cost_sum = np.sum(err_sqr)\n",
    "\n",
    "    return cost_sum/np.size(err_sqr)\n",
    "\n",
    "# The trial solution:\n",
    "def g_trial_deep(x,P):\n",
    "    return x*(1-x)*deep_neural_network(P,x)\n",
    "\n",
    "# The analytic solution;\n",
    "def g_analytic(x):\n",
    "    return x*(1-x)*np.exp(x)\n",
    "\n",
    "if __name__ == '__main__':\n",
    "    npr.seed(4155)\n",
    "\n",
    "    ## Decide the vales of arguments to the function to solve\n",
    "    Nx = 10\n",
    "    x = np.linspace(0,1, Nx)\n",
    "\n",
    "    ## Set up the initial parameters\n",
    "    num_hidden_neurons = [200,100]\n",
    "    num_iter = 1000\n",
    "    lmb = 1e-3\n",
    "\n",
    "    P = solve_ode_deep_neural_network(x, num_hidden_neurons, num_iter, lmb)\n",
    "\n",
    "    g_dnn_ag = g_trial_deep(x,P)\n",
    "    g_analytical = g_analytic(x)\n",
    "\n",
    "    # Find the maximum absolute difference between the solutons:\n",
    "\n",
    "    plt.figure(figsize=(10,10))\n",
    "\n",
    "    plt.title('Performance of neural network solving an ODE compared to the analytical solution')\n",
    "    plt.plot(x, g_analytical)\n",
    "    plt.plot(x, g_dnn_ag[0,:])\n",
    "    plt.legend(['analytical','nn'])\n",
    "    plt.xlabel('x')\n",
    "    plt.ylabel('g(x)')\n",
    "\n",
    "    ## Perform the computation using the numerical scheme\n",
    "\n",
    "    dx = 1/(Nx - 1)\n",
    "\n",
    "    # Set up the matrix A\n",
    "    A = np.zeros((Nx-2,Nx-2))\n",
    "\n",
    "    A[0,0] = 2\n",
    "    A[0,1] = -1\n",
    "\n",
    "    for i in range(1,Nx-3):\n",
    "        A[i,i-1] = -1\n",
    "        A[i,i] = 2\n",
    "        A[i,i+1] = -1\n",
    "\n",
    "    A[Nx - 3, Nx - 4] = -1\n",
    "    A[Nx - 3, Nx - 3] = 2\n",
    "\n",
    "    # Set up the vector f\n",
    "    f_vec = dx**2 * f(x[1:-1])\n",
    "\n",
    "    # Solve the equation\n",
    "    g_res = np.linalg.solve(A,f_vec)\n",
    "\n",
    "    g_vec = np.zeros(Nx)\n",
    "    g_vec[1:-1] = g_res\n",
    "\n",
    "    # Print the differences between each method\n",
    "    max_diff1 = np.max(np.abs(g_dnn_ag - g_analytical))\n",
    "    max_diff2 = np.max(np.abs(g_vec - g_analytical))\n",
    "    print(\"The max absolute difference between the analytical solution and DNN Autograd: %g\"%max_diff1)\n",
    "    print(\"The max absolute difference between the analytical solution and numerical scheme: %g\"%max_diff2)\n",
    "\n",
    "    # Plot the results\n",
    "    plt.figure(figsize=(10,10))\n",
    "\n",
    "    plt.plot(x,g_vec)\n",
    "    plt.plot(x,g_analytical)\n",
    "    plt.plot(x,g_dnn_ag[0,:])\n",
    "\n",
    "    plt.legend(['numerical scheme','analytical','dnn'])\n",
    "    plt.show()"
   ]
  },
  {
   "cell_type": "markdown",
   "id": "f5843514",
   "metadata": {},
   "source": [
    "## Partial Differential Equations\n",
    "\n",
    "A partial differential equation (PDE) has a solution here the function\n",
    "is defined by multiple variables.  The equation may involve all kinds\n",
    "of combinations of which variables the function is differentiated with\n",
    "respect to.\n",
    "\n",
    "In general, a partial differential equation for a function $g(x_1,\\dots,x_N)$ with $N$ variables may be expressed as"
   ]
  },
  {
   "cell_type": "markdown",
   "id": "a286a896",
   "metadata": {},
   "source": [
    "<!-- Equation labels as ordinary links -->\n",
    "<div id=\"PDE\"></div>\n",
    "\n",
    "$$\n",
    "\\begin{equation} \\label{PDE} \\tag{17}\n",
    "  f\\left(x_1, \\, \\dots \\, , x_N, \\frac{\\partial g(x_1,\\dots,x_N) }{\\partial x_1}, \\dots , \\frac{\\partial g(x_1,\\dots,x_N) }{\\partial x_N}, \\frac{\\partial g(x_1,\\dots,x_N) }{\\partial x_1\\partial x_2}, \\, \\dots \\, , \\frac{\\partial^n g(x_1,\\dots,x_N) }{\\partial x_N^n} \\right) = 0\n",
    "\\end{equation}\n",
    "$$"
   ]
  },
  {
   "cell_type": "markdown",
   "id": "26debfb7",
   "metadata": {},
   "source": [
    "where $f$ is an expression involving all kinds of possible mixed derivatives of $g(x_1,\\dots,x_N)$ up to an order $n$. In order for the solution to be unique, some additional conditions must also be given."
   ]
  },
  {
   "cell_type": "markdown",
   "id": "9cfb59c8",
   "metadata": {},
   "source": [
    "## Famous PDEs\n",
    "In the Natural Sciences we often encounter problems with many variables\n",
    "constrained by boundary conditions and initial values. Many of these problems\n",
    "can be modelled as partial differential equations. One case which arises \n",
    "in many situations is the so-called wave equation whose one-dimensional form\n",
    "reads"
   ]
  },
  {
   "cell_type": "markdown",
   "id": "d75baf36",
   "metadata": {},
   "source": [
    "<!-- Equation labels as ordinary links -->\n",
    "<div id=\"eq:waveeqpde\"></div>\n",
    "\n",
    "$$\n",
    "\\begin{equation}\n",
    "\\label{eq:waveeqpde} \\tag{18}\n",
    " \\frac{\\partial^2 u}{\\partial x^2}=A\\frac{\\partial^2 u}{\\partial t^2},\n",
    "\\end{equation}\n",
    "$$"
   ]
  },
  {
   "cell_type": "markdown",
   "id": "06a377af",
   "metadata": {},
   "source": [
    "where $A$ is a constant. The solution $u$ depends on both spatial and temporal variables, viz. $u=u(x,t)$."
   ]
  },
  {
   "cell_type": "markdown",
   "id": "13f05309",
   "metadata": {},
   "source": [
    "## Famous PDEs, two dimension\n",
    "In two dimension we have $u=u(x,y,t)$.  We will, unless otherwise stated, simply use $u$ in our discussion below.\n",
    "Familiar situations which this equation can model\n",
    "are waves on a string, pressure waves, waves on the surface of a fjord or a \n",
    "lake, electromagnetic waves and sound waves to mention a few. For e.g., electromagnetic\n",
    "waves we have the constant $A=c^2$, with $c$ the speed of light. It is rather\n",
    "straightforward to extend this equation to two or three dimension. In two dimensions\n",
    "we have"
   ]
  },
  {
   "cell_type": "markdown",
   "id": "e1dd7ba2",
   "metadata": {},
   "source": [
    "$$\n",
    "\\frac{\\partial^2 u}{\\partial x^2}+\\frac{\\partial^2 u}{\\partial y^2}=A\\frac{\\partial^2 u}{\\partial t^2},\n",
    "$$"
   ]
  },
  {
   "cell_type": "markdown",
   "id": "5bb45e66",
   "metadata": {},
   "source": [
    "## Famous PDEs, diffusion equation\n",
    "The diffusion equation whose one-dimensional version   reads"
   ]
  },
  {
   "cell_type": "markdown",
   "id": "538e566c",
   "metadata": {},
   "source": [
    "<!-- Equation labels as ordinary links -->\n",
    "<div id=\"eq:diffusionpde\"></div>\n",
    "\n",
    "$$\n",
    "\\begin{equation}\n",
    "\\label{eq:diffusionpde} \\tag{19}\n",
    " \\frac{\\partial^2 u}{\\partial x^2}=A\\frac{\\partial u}{\\partial t},\n",
    "\\end{equation}\n",
    "$$"
   ]
  },
  {
   "cell_type": "markdown",
   "id": "c7864c1a",
   "metadata": {},
   "source": [
    "and  $A$ is in this case called the diffusion constant. It can be used to model\n",
    "a wide selection of diffusion processes, from molecules to the diffusion of heat\n",
    "in a given material."
   ]
  },
  {
   "cell_type": "markdown",
   "id": "9b89c257",
   "metadata": {},
   "source": [
    "## Famous PDEs, Laplace's equation\n",
    "Another familiar equation from electrostatics is Laplace's equation, which looks similar\n",
    "to the wave equation in Eq. ([18](#eq:waveeqpde)) except that we have set $A=0$"
   ]
  },
  {
   "cell_type": "markdown",
   "id": "3f80fe00",
   "metadata": {},
   "source": [
    "<!-- Equation labels as ordinary links -->\n",
    "<div id=\"eq:laplacepde\"></div>\n",
    "\n",
    "$$\n",
    "\\begin{equation}\n",
    "\\label{eq:laplacepde} \\tag{20}\n",
    " \\frac{\\partial^2 u}{\\partial x^2}+\\frac{\\partial^2 u}{\\partial y^2}=0,\n",
    "\\end{equation}\n",
    "$$"
   ]
  },
  {
   "cell_type": "markdown",
   "id": "41e299d3",
   "metadata": {},
   "source": [
    "or if we have a finite electric charge represented by a charge density \n",
    "$\\rho(\\mathbf{x})$ we have the familiar Poisson equation"
   ]
  },
  {
   "cell_type": "markdown",
   "id": "815d082d",
   "metadata": {},
   "source": [
    "<!-- Equation labels as ordinary links -->\n",
    "<div id=\"eq:poissonpde\"></div>\n",
    "\n",
    "$$\n",
    "\\begin{equation}\n",
    "\\label{eq:poissonpde} \\tag{21}\n",
    " \\frac{\\partial^2 u}{\\partial x^2}+\\frac{\\partial^2 u}{\\partial y^2}=-4\\pi \\rho(\\mathbf{x}).\n",
    "\\end{equation}\n",
    "$$"
   ]
  },
  {
   "cell_type": "markdown",
   "id": "d473e5db",
   "metadata": {},
   "source": [
    "## Famous PDEs, Helmholtz' equation\n",
    "Other famous partial differential equations  are the Helmholtz (or eigenvalue) equation, here specialized to two \n",
    "dimensions only"
   ]
  },
  {
   "cell_type": "markdown",
   "id": "e600a931",
   "metadata": {},
   "source": [
    "<!-- Equation labels as ordinary links -->\n",
    "<div id=\"eq:helmholtz\"></div>\n",
    "\n",
    "$$\n",
    "\\begin{equation}\n",
    "\\label{eq:helmholtz} \\tag{22}\n",
    " -\\frac{\\partial^2 u}{\\partial x^2}-\\frac{\\partial^2 u}{\\partial y^2}=\\lambda u,\n",
    "\\end{equation}\n",
    "$$"
   ]
  },
  {
   "cell_type": "markdown",
   "id": "5dbd8abe",
   "metadata": {},
   "source": [
    "the linear transport equation  (in $2+1$ dimensions) familiar from Brownian motion as well"
   ]
  },
  {
   "cell_type": "markdown",
   "id": "8da9ed45",
   "metadata": {},
   "source": [
    "<!-- Equation labels as ordinary links -->\n",
    "<div id=\"eq:transport\"></div>\n",
    "\n",
    "$$\n",
    "\\begin{equation}\n",
    "\\label{eq:transport} \\tag{23}\n",
    "\\frac{\\partial u}{\\partial t} +\\frac{\\partial u}{\\partial x}+\\frac{\\partial u}{\\partial y }=0,\n",
    "\\end{equation}\n",
    "$$"
   ]
  },
  {
   "cell_type": "markdown",
   "id": "ae85e5dc",
   "metadata": {},
   "source": [
    "## Famous PDEs, Schroedinger's equation in two dimensions\n",
    "Schroedinger's equation"
   ]
  },
  {
   "cell_type": "markdown",
   "id": "71c29bb9",
   "metadata": {},
   "source": [
    "$$\n",
    "-\\frac{\\partial^2 u}{\\partial x^2}-\\frac{\\partial^2 u}{\\partial y^2}+f(x,y)u = \\imath\\frac{\\partial u}{\\partial t}.\n",
    "$$"
   ]
  },
  {
   "cell_type": "markdown",
   "id": "1d3fb549",
   "metadata": {},
   "source": [
    "## Famous PDEs, Maxwell's equations\n",
    "Important systems of linear partial differential equations are the famous Maxwell equations"
   ]
  },
  {
   "cell_type": "markdown",
   "id": "0f3c1158",
   "metadata": {},
   "source": [
    "$$\n",
    "\\frac{\\partial \\mathbf{E}}{\\partial t} =  \\mathrm{curl}\\mathbf{B},\n",
    "$$"
   ]
  },
  {
   "cell_type": "markdown",
   "id": "b4ed77f1",
   "metadata": {},
   "source": [
    "and"
   ]
  },
  {
   "cell_type": "markdown",
   "id": "caaee291",
   "metadata": {},
   "source": [
    "$$\n",
    "-\\mathrm{curl} \\mathbf{E} =  \\mathbf{B}\n",
    "$$"
   ]
  },
  {
   "cell_type": "markdown",
   "id": "32de1b96",
   "metadata": {},
   "source": [
    "and"
   ]
  },
  {
   "cell_type": "markdown",
   "id": "33b2ad69",
   "metadata": {},
   "source": [
    "$$\n",
    "\\mathrm{div} \\mathbf{E} =   \\mathrm{div}\\mathbf{B}  = 0.\n",
    "$$"
   ]
  },
  {
   "cell_type": "markdown",
   "id": "7ac0f011",
   "metadata": {},
   "source": [
    "## Famous PDEs, Euler's equations\n",
    "Similarly, famous systems of non-linear partial differential equations are for example Euler's equations for \n",
    "incompressible, inviscid flow"
   ]
  },
  {
   "cell_type": "markdown",
   "id": "1a57a0cf",
   "metadata": {},
   "source": [
    "$$\n",
    "\\frac{\\partial \\mathbf{u}}{\\partial t} +\\mathbf{u}\\nabla\\mathbf{u}=  -Dp; \\hspace{1cm} \\mathrm{div} \\mathbf{u} =  0,\n",
    "$$"
   ]
  },
  {
   "cell_type": "markdown",
   "id": "4c79a728",
   "metadata": {},
   "source": [
    "with $p$ being the pressure and"
   ]
  },
  {
   "cell_type": "markdown",
   "id": "2d5f435d",
   "metadata": {},
   "source": [
    "$$\n",
    "\\nabla = \\frac{\\partial}{\\partial x}e_x+\\frac{\\partial}{\\partial y}e_y,\n",
    "$$"
   ]
  },
  {
   "cell_type": "markdown",
   "id": "2db853d2",
   "metadata": {},
   "source": [
    "in the two dimensions. The unit vectors are $e_x$ and $e_y$."
   ]
  },
  {
   "cell_type": "markdown",
   "id": "3e24cd84",
   "metadata": {},
   "source": [
    "## Famous PDEs, the Navier-Stokes' equations\n",
    "Another example is the set of   \n",
    "Navier-Stokes equations for incompressible, viscous flow"
   ]
  },
  {
   "cell_type": "markdown",
   "id": "d3b65906",
   "metadata": {},
   "source": [
    "$$\n",
    "\\frac{\\partial \\mathbf{u}}{\\partial t} +\\mathbf{u}\\nabla\\mathbf{u}-\\Delta \\mathbf{u}=  -Dp; \\hspace{1cm} \\mathrm{div} \\mathbf{u} =  0.\n",
    "$$"
   ]
  },
  {
   "cell_type": "markdown",
   "id": "5d56f5d8",
   "metadata": {},
   "source": [
    "## Famous PDEs, general equation in two dimensions\n",
    "A general partial differential equation with two given dimensions\n",
    "reads"
   ]
  },
  {
   "cell_type": "markdown",
   "id": "5eec66cd",
   "metadata": {},
   "source": [
    "$$\n",
    "A(x,y)\\frac{\\partial^2 u}{\\partial x^2}+B(x,y)\\frac{\\partial^2 u}{\\partial x\\partial y}\n",
    "+C(x,y)\\frac{\\partial^2 u}{\\partial y^2}=F(x,y,u,\\frac{\\partial u}{\\partial x}, \\frac{\\partial u}{\\partial y}),\n",
    "$$"
   ]
  },
  {
   "cell_type": "markdown",
   "id": "9c814703",
   "metadata": {},
   "source": [
    "and if we set"
   ]
  },
  {
   "cell_type": "markdown",
   "id": "9b5f7df8",
   "metadata": {},
   "source": [
    "$$\n",
    "B=C=0,\n",
    "$$"
   ]
  },
  {
   "cell_type": "markdown",
   "id": "4c2ee119",
   "metadata": {},
   "source": [
    "we recover the $1+1$-dimensional diffusion equation which is an example\n",
    "of a so-called parabolic partial differential equation.\n",
    "With"
   ]
  },
  {
   "cell_type": "markdown",
   "id": "4bfaeaa1",
   "metadata": {},
   "source": [
    "$$\n",
    "B=0, \\hspace{1cm} AC < 0\n",
    "$$"
   ]
  },
  {
   "cell_type": "markdown",
   "id": "68b4baea",
   "metadata": {},
   "source": [
    "we get the $2+1$-dim wave equation which is an example of a so-called \n",
    "elliptic PDE, where more generally we have\n",
    "$B^2 > AC$.\n",
    "For $B^2 <  AC$ \n",
    "we obtain a so-called hyperbolic PDE, with the Laplace equation in \n",
    "Eq. ([20](#eq:laplacepde)) as one of the \n",
    "classical examples.\n",
    "These equations can all be easily extended to non-linear partial differential\n",
    "equations and $3+1$ dimensional cases."
   ]
  },
  {
   "cell_type": "markdown",
   "id": "019bbb6b",
   "metadata": {},
   "source": [
    "## Diffusion equation\n",
    "The diffusion equation describes in typical applications the evolution in time of the density $u$ of a quantity like\n",
    "the particle density, energy density, temperature gradient, chemical concentrations etc.\n",
    "\n",
    "The basis is the assumption that the flux density $\\mathbf{\\rho}$ obeys the Gauss-Green theorem"
   ]
  },
  {
   "cell_type": "markdown",
   "id": "025df5e4",
   "metadata": {},
   "source": [
    "$$\n",
    "\\int_V \\mathrm{div}\\mathbf{\\rho} dx = \\int_{\\partial V} \\mathbf{\\rho}\\mathbf{n}dS,\n",
    "$$"
   ]
  },
  {
   "cell_type": "markdown",
   "id": "cd06bb20",
   "metadata": {},
   "source": [
    "where $n$ is the unit outer normal field and $V$ is a smooth region with the space where\n",
    "we seek a solution.  \n",
    "The Gauss-Green theorem leads to"
   ]
  },
  {
   "cell_type": "markdown",
   "id": "a6b3cf90",
   "metadata": {},
   "source": [
    "$$\n",
    "\\mathrm{div} \\mathbf{\\rho} = 0.\n",
    "$$"
   ]
  },
  {
   "cell_type": "markdown",
   "id": "b75011c8",
   "metadata": {},
   "source": [
    "## Diffusion equation\n",
    "Assuming that the flux is proportional to the gradient $\\mathbf{\\nabla} u$ but pointing in the opposite direction\n",
    "since the flow is from regions  of high concetration to lower concentrations, we obtain"
   ]
  },
  {
   "cell_type": "markdown",
   "id": "ee46aafb",
   "metadata": {},
   "source": [
    "$$\n",
    "\\mathbf{\\rho} = -D\\mathbf{\\nabla} u,\n",
    "$$"
   ]
  },
  {
   "cell_type": "markdown",
   "id": "769158c5",
   "metadata": {},
   "source": [
    "resulting in"
   ]
  },
  {
   "cell_type": "markdown",
   "id": "6f2c3b9b",
   "metadata": {},
   "source": [
    "$$\n",
    "\\mathrm{div} \\mathbf{\\nabla} u  = D\\Delta u = 0,\n",
    "$$"
   ]
  },
  {
   "cell_type": "markdown",
   "id": "7d5e8dc9",
   "metadata": {},
   "source": [
    "which is Laplace's equation. The constant $D$ can be coupled with various physical \n",
    "constants, such as the diffusion constant or the specific heat and thermal conductivity discussed below."
   ]
  },
  {
   "cell_type": "markdown",
   "id": "bd65982c",
   "metadata": {},
   "source": [
    "## Diffusion equation, famous laws\n",
    "If we let $u$ denote the concetration of a particle species, this results in Fick's law of diffusion. \n",
    "If it denotes the temperature gradient, we have Fourier'slaw of heat conduction and if it refers to the \n",
    "electrostatic potential we have Ohm's law of electrical conduction.\n",
    "\n",
    "Coupling the rate of change (temporal dependence) of $u$ with the flux density we have"
   ]
  },
  {
   "cell_type": "markdown",
   "id": "36144e70",
   "metadata": {},
   "source": [
    "$$\n",
    "\\frac{\\partial u}{\\partial t} = -\\mathrm{div}\\mathbf{\\rho},\n",
    "$$"
   ]
  },
  {
   "cell_type": "markdown",
   "id": "5c1e3e7c",
   "metadata": {},
   "source": [
    "which results in"
   ]
  },
  {
   "cell_type": "markdown",
   "id": "925b59d9",
   "metadata": {},
   "source": [
    "$$\n",
    "\\frac{\\partial u}{\\partial t}= D \\mathrm{div} \\mathbf{\\nabla} u  = D \\Delta u,\n",
    "$$"
   ]
  },
  {
   "cell_type": "markdown",
   "id": "59aff3da",
   "metadata": {},
   "source": [
    "the diffusion equation, or heat equation."
   ]
  },
  {
   "cell_type": "markdown",
   "id": "02af0261",
   "metadata": {},
   "source": [
    "## Diffusion equation, heat equation\n",
    "If we specialize to the heat equation, \n",
    "we assume that the diffusion of heat through some \n",
    "material is proportional with the temperature gradient $T(\\mathbf{x},t)$\n",
    "and using \n",
    "conservation of energy we arrive at the diffusion equation"
   ]
  },
  {
   "cell_type": "markdown",
   "id": "7615f47b",
   "metadata": {},
   "source": [
    "$$\n",
    "\\frac{\\kappa}{C\\rho}\\nabla^2 T(\\mathbf{x},t) =\\frac{\\partial T(\\mathbf{x},t)}{\\partial t}\n",
    "$$"
   ]
  },
  {
   "cell_type": "markdown",
   "id": "feb60310",
   "metadata": {},
   "source": [
    "where $C$ is the specific heat and  $\\rho$ \n",
    "the density of the material. \n",
    "Here we let the density be represented by a \n",
    "constant, but there is no problem introducing  an explicit spatial dependence, viz.,"
   ]
  },
  {
   "cell_type": "markdown",
   "id": "a41fe3db",
   "metadata": {},
   "source": [
    "$$\n",
    "\\frac{\\kappa}{C\\rho(\\mathbf{x},t)}\\nabla^2 T(\\mathbf{x},t) =\n",
    "\\frac{\\partial T(\\mathbf{x},t)}{\\partial t}.\n",
    "$$"
   ]
  },
  {
   "cell_type": "markdown",
   "id": "e0a1895e",
   "metadata": {},
   "source": [
    "## Diffusion equation, heat equation in one dimension\n",
    "Setting all constants equal to the diffusion constant $D$, i.e.,"
   ]
  },
  {
   "cell_type": "markdown",
   "id": "2e1f383d",
   "metadata": {},
   "source": [
    "$$\n",
    "D=\\frac{C\\rho}{\\kappa},\n",
    "$$"
   ]
  },
  {
   "cell_type": "markdown",
   "id": "a86b5993",
   "metadata": {},
   "source": [
    "we arrive at"
   ]
  },
  {
   "cell_type": "markdown",
   "id": "15228e91",
   "metadata": {},
   "source": [
    "$$\n",
    "\\nabla^2 T(\\mathbf{x},t) =\n",
    "D\\frac{\\partial T(\\mathbf{x},t)}{\\partial t}.\n",
    "$$"
   ]
  },
  {
   "cell_type": "markdown",
   "id": "2f0b1eeb",
   "metadata": {},
   "source": [
    "Specializing to the $1+1$-dimensional case we have"
   ]
  },
  {
   "cell_type": "markdown",
   "id": "9260e83f",
   "metadata": {},
   "source": [
    "$$\n",
    "\\frac{\\partial^2 T(x,t)}{\\partial x^2}=D\\frac{\\partial T(x,t)}{\\partial t}.\n",
    "$$"
   ]
  },
  {
   "cell_type": "markdown",
   "id": "9b2e3ba4",
   "metadata": {},
   "source": [
    "## Diffusion equation, dimensionless form\n",
    "We note that the dimension of $D$ is time/length$^2$.\n",
    "Introducing the dimensionless variables $\\alpha\\hat{x}=x$\n",
    "we get"
   ]
  },
  {
   "cell_type": "markdown",
   "id": "eb452018",
   "metadata": {},
   "source": [
    "$$\n",
    "\\frac{\\partial^2 T(x,t)}{\\alpha^2\\partial \\hat{x}^2}=\n",
    "D\\frac{\\partial T(x,t)}{\\partial t},\n",
    "$$"
   ]
  },
  {
   "cell_type": "markdown",
   "id": "264d8530",
   "metadata": {},
   "source": [
    "and since $\\alpha$ is just a constant we could define\n",
    "$\\alpha^2D= 1$ or use the last expression to define a dimensionless time-variable \n",
    "$\\hat{t}$. This yields a simplified diffusion equation"
   ]
  },
  {
   "cell_type": "markdown",
   "id": "a1256c87",
   "metadata": {},
   "source": [
    "$$\n",
    "\\frac{\\partial^2 T(\\hat{x},\\hat{t})}{\\partial \\hat{x}^2}=\n",
    "\\frac{\\partial T(\\hat{x},\\hat{t})}{\\partial \\hat{t}}.\n",
    "$$"
   ]
  },
  {
   "cell_type": "markdown",
   "id": "67cbeb45",
   "metadata": {},
   "source": [
    "It is now a partial differential equation in terms of dimensionless\n",
    "variables. In the discussion below, we will however, for the sake\n",
    "of notational simplicity replace $\\hat{x}\\rightarrow x$ and \n",
    "$\\hat{t}\\rightarrow t$. Moreover, the solution to the $1+1$-dimensional\n",
    "partial differential equation is replaced by $T(\\hat{x},\\hat{t})\\rightarrow u(x,t)$."
   ]
  },
  {
   "cell_type": "markdown",
   "id": "74f2eb1f",
   "metadata": {},
   "source": [
    "## Explicit Scheme\n",
    "In one dimension we have the following equation"
   ]
  },
  {
   "cell_type": "markdown",
   "id": "a1024054",
   "metadata": {},
   "source": [
    "$$\n",
    "\\nabla^2 u(x,t) =\\frac{\\partial u(x,t)}{\\partial t},\n",
    "$$"
   ]
  },
  {
   "cell_type": "markdown",
   "id": "04b4c9ab",
   "metadata": {},
   "source": [
    "or"
   ]
  },
  {
   "cell_type": "markdown",
   "id": "f7c13a77",
   "metadata": {},
   "source": [
    "$$\n",
    "u_{xx} = u_t,\n",
    "$$"
   ]
  },
  {
   "cell_type": "markdown",
   "id": "6a801126",
   "metadata": {},
   "source": [
    "with initial conditions, i.e., the conditions at $t=0$,"
   ]
  },
  {
   "cell_type": "markdown",
   "id": "a3e0b98c",
   "metadata": {},
   "source": [
    "$$\n",
    "u(x,0)= g(x) \\hspace{0.5cm} 0 < x < L\n",
    "$$"
   ]
  },
  {
   "cell_type": "markdown",
   "id": "83adb810",
   "metadata": {},
   "source": [
    "with $L=1$ the length of the $x$-region of interest."
   ]
  },
  {
   "cell_type": "markdown",
   "id": "cce2e3e4",
   "metadata": {},
   "source": [
    "## Explicit Scheme, boundary conditions\n",
    "The  boundary conditions are"
   ]
  },
  {
   "cell_type": "markdown",
   "id": "28c74f60",
   "metadata": {},
   "source": [
    "$$\n",
    "u(0,t)= a(t) \\hspace{0.5cm} t \\ge 0,\n",
    "$$"
   ]
  },
  {
   "cell_type": "markdown",
   "id": "f985c43e",
   "metadata": {},
   "source": [
    "and"
   ]
  },
  {
   "cell_type": "markdown",
   "id": "a66adc25",
   "metadata": {},
   "source": [
    "$$\n",
    "u(L,t)= b(t) \\hspace{0.5cm} t \\ge 0,\n",
    "$$"
   ]
  },
  {
   "cell_type": "markdown",
   "id": "813218c3",
   "metadata": {},
   "source": [
    "where $a(t)$ and $b(t)$ are two functions which depend on time only, while\n",
    "$g(x)$ depends only on the position $x$.\n",
    "Our next step is to find a numerical algorithm for solving this equation. Here we recur\n",
    "to our familiar equal-step methods\n",
    "and introduce different step lengths for the space-variable $x$ and time $t$ through\n",
    "the  step length for $x$"
   ]
  },
  {
   "cell_type": "markdown",
   "id": "c97bae85",
   "metadata": {},
   "source": [
    "$$\n",
    "\\Delta x=\\frac{1}{n+1}\n",
    "$$"
   ]
  },
  {
   "cell_type": "markdown",
   "id": "c11fc7d3",
   "metadata": {},
   "source": [
    "and the time step length $\\Delta t$. The position after $i$ steps and\n",
    "time at time-step $j$ are now given by"
   ]
  },
  {
   "cell_type": "markdown",
   "id": "785e89e8",
   "metadata": {},
   "source": [
    "$$\n",
    "\\begin{array}{cc} t_j=j\\Delta t & j \\ge 0 \\\\\n",
    "                  x_i=i\\Delta x & 0 \\le i \\le n+1\\end{array}\n",
    "$$"
   ]
  },
  {
   "cell_type": "markdown",
   "id": "4db514cd",
   "metadata": {},
   "source": [
    "## Explicit Scheme, algorithm\n",
    "If we use standard approximations for the derivatives we obtain"
   ]
  },
  {
   "cell_type": "markdown",
   "id": "63217852",
   "metadata": {},
   "source": [
    "$$\n",
    "u_t\\approx \\frac{u(x,t+\\Delta t)-u(x,t)}{\\Delta t}=\\frac{u(x_i,t_j+\\Delta t)-u(x_i,t_j)}{\\Delta t}\n",
    "$$"
   ]
  },
  {
   "cell_type": "markdown",
   "id": "9b701f1a",
   "metadata": {},
   "source": [
    "with a local approximation error $O(\\Delta t)$  \n",
    "and"
   ]
  },
  {
   "cell_type": "markdown",
   "id": "8c914074",
   "metadata": {},
   "source": [
    "$$\n",
    "u_{xx}\\approx \\frac{u(x+\\Delta x,t)-2u(x,t)+u(x-\\Delta x,t)}{\\Delta x^2},\n",
    "$$"
   ]
  },
  {
   "cell_type": "markdown",
   "id": "585b850e",
   "metadata": {},
   "source": [
    "or"
   ]
  },
  {
   "cell_type": "markdown",
   "id": "6c816f41",
   "metadata": {},
   "source": [
    "$$\n",
    "u_{xx}\\approx \\frac{u(x_i+\\Delta x,t_j)-2u(x_i,t_j)+u(x_i-\\Delta x,t_j)}{\\Delta x^2},\n",
    "$$"
   ]
  },
  {
   "cell_type": "markdown",
   "id": "ae578acd",
   "metadata": {},
   "source": [
    "with a local approximation error $O(\\Delta x^2)$. Our approximation is to higher order\n",
    "in coordinate space. This can be justified since in most cases it is the spatial\n",
    "dependence which causes numerical problems."
   ]
  },
  {
   "cell_type": "markdown",
   "id": "96b0bc39",
   "metadata": {},
   "source": [
    "## Explicit Scheme, simplifications\n",
    "These equations can be further simplified as"
   ]
  },
  {
   "cell_type": "markdown",
   "id": "136f7305",
   "metadata": {},
   "source": [
    "$$\n",
    "u_t\\approx \\frac{u_{i,j+1}-u_{i,j}}{\\Delta t},\n",
    "$$"
   ]
  },
  {
   "cell_type": "markdown",
   "id": "775a824f",
   "metadata": {},
   "source": [
    "and"
   ]
  },
  {
   "cell_type": "markdown",
   "id": "8043a2ef",
   "metadata": {},
   "source": [
    "$$\n",
    "u_{xx}\\approx \\frac{u_{i+1,j}-2u_{i,j}+u_{i-1,j}}{\\Delta x^2}.\n",
    "$$"
   ]
  },
  {
   "cell_type": "markdown",
   "id": "782fad48",
   "metadata": {},
   "source": [
    "The one-dimensional diffusion equation can then be rewritten in its\n",
    "discretized version as"
   ]
  },
  {
   "cell_type": "markdown",
   "id": "693f74f9",
   "metadata": {},
   "source": [
    "$$\n",
    "\\frac{u_{i,j+1}-u_{i,j}}{\\Delta t}=\\frac{u_{i+1,j}-2u_{i,j}+u_{i-1,j}}{\\Delta x^2}.\n",
    "$$"
   ]
  },
  {
   "cell_type": "markdown",
   "id": "e84355a8",
   "metadata": {},
   "source": [
    "Defining $\\alpha = \\Delta t/\\Delta x^2$ results in the explicit scheme"
   ]
  },
  {
   "cell_type": "markdown",
   "id": "739865b0",
   "metadata": {},
   "source": [
    "<!-- Equation labels as ordinary links -->\n",
    "<div id=\"eq:explicitpde\"></div>\n",
    "\n",
    "$$\n",
    "\\begin{equation}\n",
    "\\label{eq:explicitpde} \\tag{24}\n",
    " u_{i,j+1}= \\alpha u_{i-1,j}+(1-2\\alpha)u_{i,j}+\\alpha u_{i+1,j}.\n",
    "\\end{equation}\n",
    "$$"
   ]
  },
  {
   "cell_type": "markdown",
   "id": "c5552211",
   "metadata": {},
   "source": [
    "## Explicit Scheme, solving the equations\n",
    "Since all the discretized initial values"
   ]
  },
  {
   "cell_type": "markdown",
   "id": "0bcd2048",
   "metadata": {},
   "source": [
    "$$\n",
    "u_{i,0} = g(x_i),\n",
    "$$"
   ]
  },
  {
   "cell_type": "markdown",
   "id": "09c907a8",
   "metadata": {},
   "source": [
    "are known, then after one time-step the only unknown quantity is\n",
    "$u_{i,1}$ which is given by"
   ]
  },
  {
   "cell_type": "markdown",
   "id": "36b4a245",
   "metadata": {},
   "source": [
    "$$\n",
    "u_{i,1}= \\alpha u_{i-1,0}+(1-2\\alpha)u_{i,0}+\\alpha u_{i+1,0}=\n",
    "\\alpha g(x_{i-1})+(1-2\\alpha)g(x_{i})+\\alpha g(x_{i+1}).\n",
    "$$"
   ]
  },
  {
   "cell_type": "markdown",
   "id": "0b27826b",
   "metadata": {},
   "source": [
    "We can then obtain $u_{i,2}$ using the previously calculated values $u_{i,1}$\n",
    "and the boundary conditions $a(t)$ and $b(t)$. \n",
    "This algorithm results in a so-called explicit scheme, since the next functions\n",
    "$u_{i,j+1}$ are explicitely given by Eq. ([24](#eq:explicitpde))."
   ]
  },
  {
   "cell_type": "markdown",
   "id": "844d5c33",
   "metadata": {},
   "source": [
    "## Explicit Scheme, simple case\n",
    "We specialize to the case\n",
    "$a(t)=b(t)=0$ which results in  $u_{0,j}=u_{n+1,j}=0$.\n",
    "We can then reformulate our partial differential equation through the vector \n",
    "$V_j$ at the time  $t_j=j\\Delta t$"
   ]
  },
  {
   "cell_type": "markdown",
   "id": "543cf631",
   "metadata": {},
   "source": [
    "$$\n",
    "V_j=\\begin{bmatrix}u_{1,j}\\\\ u_{2,j} \\\\ \\dots \\\\ u_{n,j}\\end{bmatrix}.\n",
    "$$"
   ]
  },
  {
   "cell_type": "markdown",
   "id": "90ae1883",
   "metadata": {},
   "source": [
    "## Explicit Scheme, matrix-vector formulation\n",
    "This results in a matrix-vector multiplication"
   ]
  },
  {
   "cell_type": "markdown",
   "id": "b0212c61",
   "metadata": {},
   "source": [
    "$$\n",
    "V_{j+1} = \\mathbf{A}V_{j}\n",
    "$$"
   ]
  },
  {
   "cell_type": "markdown",
   "id": "c1f51bc8",
   "metadata": {},
   "source": [
    "with the matrix $\\mathbf{A}$ given by"
   ]
  },
  {
   "cell_type": "markdown",
   "id": "5e34a754",
   "metadata": {},
   "source": [
    "$$\n",
    "\\mathbf{A}=\\begin{bmatrix}1-2\\alpha&\\alpha&0& 0\\dots\\\\ \n",
    "                            \\alpha&1-2\\alpha&\\alpha & 0\\dots \\\\ \n",
    "                            \\dots & \\dots & \\dots & \\dots \\\\\n",
    "                      0\\dots & 0\\dots &\\alpha& 1-2\\alpha\\end{bmatrix}\n",
    "$$"
   ]
  },
  {
   "cell_type": "markdown",
   "id": "73621884",
   "metadata": {},
   "source": [
    "which means we can rewrite the original partial differential equation as\n",
    "a set of matrix-vector multiplications"
   ]
  },
  {
   "cell_type": "markdown",
   "id": "7a07bd2f",
   "metadata": {},
   "source": [
    "$$\n",
    "V_{j+1} = \\mathbf{A}V_{j}=\\dots = \\mathbf{A}^{j+1}V_0,\n",
    "$$"
   ]
  },
  {
   "cell_type": "markdown",
   "id": "437a5089",
   "metadata": {},
   "source": [
    "where $V_0$ is the initial vector at time $t=0$ defined by the initial value\n",
    "$g(x)$. \n",
    "In the numerical implementation \n",
    "one should avoid to treat this problem as a matrix vector multiplication\n",
    "since the matrix is triangular and at most three elements in each row are different from zero."
   ]
  },
  {
   "cell_type": "markdown",
   "id": "6d22226b",
   "metadata": {},
   "source": [
    "## Explicit Scheme, sketch of code\n",
    "It is rather easy to implement this matrix-vector multiplication as seen in the following piece of code"
   ]
  },
  {
   "cell_type": "markdown",
   "id": "5081c5d0",
   "metadata": {},
   "source": [
    "        //  First we set initialise the new and old vectors\n",
    "        //  Here we have chosen the boundary conditions to be zero.\n",
    "        //  n+1 is the number of mesh points in x\n",
    "        //  Armadillo notation for vectors\n",
    "            u(0) = unew(0) = u(n) = unew(n) = 0.0;\n",
    "            for (int i = 1; i < n; i++) {\n",
    "              x =  i*step;\n",
    "              //  initial condition\n",
    "              u(i) =  func(x);\n",
    "              //  intitialise the new vector \n",
    "              unew(i) = 0;\n",
    "            }\n",
    "           // Time integration\n",
    "           for (int t = 1; t <= tsteps; t++) {\n",
    "              for (int i = 1; i < n; i++) {\n",
    "                 // Discretized diff eq\n",
    "                 unew(i) = alpha * u(i-1) + (1 - 2*alpha) * u(i) + alpha * u(i+1);\n",
    "              }\n",
    "           //  note that the boundaries are not changed.\n"
   ]
  },
  {
   "cell_type": "markdown",
   "id": "9b403118",
   "metadata": {},
   "source": [
    "## Explicit Scheme, stability condition\n",
    "However, although the explicit scheme is easy to implement, it has a very weak \n",
    "stability condition,  given by"
   ]
  },
  {
   "cell_type": "markdown",
   "id": "69e3501d",
   "metadata": {},
   "source": [
    "$$\n",
    "\\Delta t/\\Delta x^2 \\le 1/2.\n",
    "$$"
   ]
  },
  {
   "cell_type": "markdown",
   "id": "6b0c0f47",
   "metadata": {},
   "source": [
    "This means that if $\\Delta x = 0.01$ (a rather frequent choice), then $\\Delta t= 5\\times 10^{-5}$. This has obviously \n",
    "bad consequences if our time interval is large.\n",
    "In order to derive this relation we need some results from studies of iterative schemes. \n",
    "If we require that our solution approaches a definite value after \n",
    "a certain amount of time steps we need to require that the so-called\n",
    "spectral radius $\\rho(\\mathbf{A})$ of our matrix $\\mathbf{A}$ satisfies the condition"
   ]
  },
  {
   "cell_type": "markdown",
   "id": "6cc846ea",
   "metadata": {},
   "source": [
    "<!-- Equation labels as ordinary links -->\n",
    "<div id=\"eq:rhoconverge\"></div>\n",
    "\n",
    "$$\n",
    "\\begin{equation}\n",
    "\\label{eq:rhoconverge} \\tag{25}\n",
    "   \\rho(\\mathbf{A}) < 1.\n",
    "\\end{equation}\n",
    "$$"
   ]
  },
  {
   "cell_type": "markdown",
   "id": "74a420a9",
   "metadata": {},
   "source": [
    "## Explicit Scheme, spectral radius and stability\n",
    "The spectral radius is defined \n",
    "as"
   ]
  },
  {
   "cell_type": "markdown",
   "id": "c5b5dfd4",
   "metadata": {},
   "source": [
    "$$\n",
    "\\rho(\\mathbf{A}) = \\hspace{0.1cm}\\mathrm{max}\\left\\{|\\lambda|:\\mathrm{det}(\\mathbf{A}-\\lambda\\hat{I})=0\\right\\},\n",
    "$$"
   ]
  },
  {
   "cell_type": "markdown",
   "id": "28874e0c",
   "metadata": {},
   "source": [
    "which is interpreted as the smallest number such that a circle  with radius centered at zero in the complex plane\n",
    "contains all eigenvalues of $\\mathbf{A}$. If the matrix is positive definite, the condition in \n",
    "Eq. ([25](#eq:rhoconverge)) is always satisfied."
   ]
  },
  {
   "cell_type": "markdown",
   "id": "225d2b2b",
   "metadata": {},
   "source": [
    "## Explicit Scheme, eigenvalues and stability\n",
    "We can obtain closed-form expressions for the  eigenvalues of $\\mathbf{A}$. To achieve this it is convenient\n",
    "to rewrite the matrix as"
   ]
  },
  {
   "cell_type": "markdown",
   "id": "043c596f",
   "metadata": {},
   "source": [
    "$$\n",
    "\\mathbf{A}=\\hat{I}-\\alpha\\hat{B},\n",
    "$$"
   ]
  },
  {
   "cell_type": "markdown",
   "id": "3857cc2f",
   "metadata": {},
   "source": [
    "with"
   ]
  },
  {
   "cell_type": "markdown",
   "id": "ef6b6217",
   "metadata": {},
   "source": [
    "$$\n",
    "\\hat{B} =\\begin{bmatrix}2&-1&0& 0 &\\dots\\\\ \n",
    "                           -1&2&-1& 0&\\dots \\\\ \n",
    "                            \\dots & \\dots & \\dots & \\dots & -1 \\\\\n",
    "                      0 & 0 &\\dots &-1&2\\end{bmatrix}.\n",
    "$$"
   ]
  },
  {
   "cell_type": "markdown",
   "id": "145e034b",
   "metadata": {},
   "source": [
    "## Explicit Scheme, final stability analysis\n",
    "The eigenvalues of $\\mathbf{A}$ are $\\lambda_i=1-\\alpha\\mu_i$, with $\\mu_i$ being the\n",
    "eigenvalues of $\\hat{B}$. To find $\\mu_i$ we note that the matrix elements of $\\hat{B}$ are"
   ]
  },
  {
   "cell_type": "markdown",
   "id": "7b679fe0",
   "metadata": {},
   "source": [
    "$$\n",
    "b_{ij} = 2\\delta_{ij}-\\delta_{i+1j}-\\delta_{i-1j},\n",
    "$$"
   ]
  },
  {
   "cell_type": "markdown",
   "id": "7081dccf",
   "metadata": {},
   "source": [
    "meaning that we \n",
    "have the following set of eigenequations for component $i$"
   ]
  },
  {
   "cell_type": "markdown",
   "id": "ae32f3cd",
   "metadata": {},
   "source": [
    "$$\n",
    "(\\hat{B}\\hat{x})_i = \\mu_ix_i,\n",
    "$$"
   ]
  },
  {
   "cell_type": "markdown",
   "id": "f292e949",
   "metadata": {},
   "source": [
    "resulting in"
   ]
  },
  {
   "cell_type": "markdown",
   "id": "a6ee258a",
   "metadata": {},
   "source": [
    "$$\n",
    "(\\hat{B}\\hat{x})_i=\\sum_{j=1}^n\\left(2\\delta_{ij}-\\delta_{i+1j}-\\delta_{i-1j}\\right)x_j =\n",
    "2x_i-x_{i+1}-x_{i-1}=\\mu_ix_i.\n",
    "$$"
   ]
  },
  {
   "cell_type": "markdown",
   "id": "9726b7cf",
   "metadata": {},
   "source": [
    "## Explicit Scheme, stability condition\n",
    "If we assume that $x$ can be expanded in a basis of $x=(\\sin{(\\theta)}, \\sin{(2\\theta)},\\dots, \\sin{(n\\theta)})$\n",
    "with $\\theta = l\\pi/n+1$, where we have the endpoints given by $x_0 = 0$ and $x_{n+1}=0$, we can rewrite the \n",
    "last equation as"
   ]
  },
  {
   "cell_type": "markdown",
   "id": "ebdc231d",
   "metadata": {},
   "source": [
    "$$\n",
    "2\\sin{(i\\theta)}-\\sin{((i+1)\\theta)}-\\sin{((i-1)\\theta)}=\\mu_i\\sin{(i\\theta)},\n",
    "$$"
   ]
  },
  {
   "cell_type": "markdown",
   "id": "18ca1900",
   "metadata": {},
   "source": [
    "or"
   ]
  },
  {
   "cell_type": "markdown",
   "id": "375a87c3",
   "metadata": {},
   "source": [
    "$$\n",
    "2\\left(1-\\cos{(\\theta)}\\right)\\sin{(i\\theta)}=\\mu_i\\sin{(i\\theta)},\n",
    "$$"
   ]
  },
  {
   "cell_type": "markdown",
   "id": "bc838b33",
   "metadata": {},
   "source": [
    "which is nothing but"
   ]
  },
  {
   "cell_type": "markdown",
   "id": "24dcd1d8",
   "metadata": {},
   "source": [
    "$$\n",
    "2\\left(1-\\cos{(\\theta)}\\right)x_i=\\mu_ix_i,\n",
    "$$"
   ]
  },
  {
   "cell_type": "markdown",
   "id": "dea3cd79",
   "metadata": {},
   "source": [
    "with eigenvalues $\\mu_i = 2-2\\cos{(\\theta)}$. \n",
    "\n",
    "Our requirement in \n",
    "Eq. ([25](#eq:rhoconverge)) results in"
   ]
  },
  {
   "cell_type": "markdown",
   "id": "d0ba3438",
   "metadata": {},
   "source": [
    "$$\n",
    "-1 < 1-\\alpha2\\left(1-\\cos{(\\theta)}\\right) < 1,\n",
    "$$"
   ]
  },
  {
   "cell_type": "markdown",
   "id": "21abd684",
   "metadata": {},
   "source": [
    "which is satisfied only if $\\alpha < \\left(1-\\cos{(\\theta)}\\right)^{-1}$ resulting in\n",
    "$\\alpha \\le 1/2$ or $\\Delta t/\\Delta x^2 \\le 1/2$."
   ]
  },
  {
   "cell_type": "markdown",
   "id": "920c371c",
   "metadata": {},
   "source": [
    "## Explicit Scheme, general tridiagonal matrix\n",
    "A more general tridiagonal matrix"
   ]
  },
  {
   "cell_type": "markdown",
   "id": "1fb8e36f",
   "metadata": {},
   "source": [
    "$$\n",
    "\\mathbf{A} =\\begin{bmatrix}a&b&0& 0 &\\dots\\\\ \n",
    "                           c&a&b& 0&\\dots \\\\ \n",
    "                            \\dots & \\dots & \\dots & \\dots & b \\\\\n",
    "                      0 & 0 &\\dots &c&a\\end{bmatrix},\n",
    "$$"
   ]
  },
  {
   "cell_type": "markdown",
   "id": "f62ddd08",
   "metadata": {},
   "source": [
    "has eigenvalues $\\mu_i=a+s\\sqrt{bc}\\cos{(i\\pi/n+1)}$ with $i=1:n$."
   ]
  },
  {
   "cell_type": "markdown",
   "id": "ee62a63c",
   "metadata": {},
   "source": [
    "## Implicit Scheme\n",
    "In deriving the equations for the explicit scheme we started with the so-called \n",
    "forward formula for the first derivative, i.e., we used the discrete approximation"
   ]
  },
  {
   "cell_type": "markdown",
   "id": "e63910c5",
   "metadata": {},
   "source": [
    "$$\n",
    "u_t\\approx \\frac{u(x_i,t_j+\\Delta t)-u(x_i,t_j)}{\\Delta t}.\n",
    "$$"
   ]
  },
  {
   "cell_type": "markdown",
   "id": "3e0f8b66",
   "metadata": {},
   "source": [
    "However, there is nothing which hinders us from using the backward formula"
   ]
  },
  {
   "cell_type": "markdown",
   "id": "cfb58e07",
   "metadata": {},
   "source": [
    "$$\n",
    "u_t\\approx \\frac{u(x_i,t_j)-u(x_i,t_j-\\Delta t)}{\\Delta t},\n",
    "$$"
   ]
  },
  {
   "cell_type": "markdown",
   "id": "94bfd733",
   "metadata": {},
   "source": [
    "still with a truncation error which goes like $O(\\Delta t)$."
   ]
  },
  {
   "cell_type": "markdown",
   "id": "8746c005",
   "metadata": {},
   "source": [
    "## Implicit Scheme\n",
    "We could also have used a midpoint approximation for the first derivative, resulting in"
   ]
  },
  {
   "cell_type": "markdown",
   "id": "26387ced",
   "metadata": {},
   "source": [
    "$$\n",
    "u_t\\approx \\frac{u(x_i,t_j+\\Delta t)-u(x_i,t_j-\\Delta t)}{2\\Delta t},\n",
    "$$"
   ]
  },
  {
   "cell_type": "markdown",
   "id": "ade313c5",
   "metadata": {},
   "source": [
    "with a truncation error $O(\\Delta t^2)$. \n",
    "Here we will stick to the backward formula and come back to the latter below. \n",
    "For the second derivative we use however"
   ]
  },
  {
   "cell_type": "markdown",
   "id": "a8c955eb",
   "metadata": {},
   "source": [
    "$$\n",
    "u_{xx}\\approx \\frac{u(x_i+\\Delta x,t_j)-2u(x_i,t_j)+u(x_i-\\Delta x,t_j)}{\\Delta x^2},\n",
    "$$"
   ]
  },
  {
   "cell_type": "markdown",
   "id": "3c66243c",
   "metadata": {},
   "source": [
    "and define again $\\alpha = \\Delta t/\\Delta x^2$."
   ]
  },
  {
   "cell_type": "markdown",
   "id": "46d7fd84",
   "metadata": {},
   "source": [
    "## Implicit Scheme\n",
    "We obtain now"
   ]
  },
  {
   "cell_type": "markdown",
   "id": "72c86859",
   "metadata": {},
   "source": [
    "$$\n",
    "u_{i,j-1}= -\\alpha u_{i-1,j}+(1-2\\alpha)u_{i,j}-\\alpha u_{i+1,j}.\n",
    "$$"
   ]
  },
  {
   "cell_type": "markdown",
   "id": "a0d881a6",
   "metadata": {},
   "source": [
    "Here $u_{i,j-1}$ is the only unknown quantity. \n",
    "Defining the matrix \n",
    "$\\mathbf{A}$"
   ]
  },
  {
   "cell_type": "markdown",
   "id": "c1759612",
   "metadata": {},
   "source": [
    "$$\n",
    "\\mathbf{A}=\\begin{bmatrix}1+2\\alpha&-\\alpha&0& 0 &\\dots\\\\ \n",
    "                            -\\alpha&1+2\\alpha&-\\alpha & 0 & \\dots \\\\ \n",
    "                            \\dots & \\dots & \\dots & \\dots &\\dots  \\\\\n",
    "                            \\dots & \\dots & \\dots & \\dots & -\\alpha \\\\\n",
    "                      0 & 0 &\\dots &-\\alpha& 1+2\\alpha\\end{bmatrix},\n",
    "$$"
   ]
  },
  {
   "cell_type": "markdown",
   "id": "b21973b0",
   "metadata": {},
   "source": [
    "we can reformulate again the problem as a matrix-vector multiplication"
   ]
  },
  {
   "cell_type": "markdown",
   "id": "02930dd1",
   "metadata": {},
   "source": [
    "$$\n",
    "\\mathbf{A}V_{j} = V_{j-1}\n",
    "$$"
   ]
  },
  {
   "cell_type": "markdown",
   "id": "c1fcb470",
   "metadata": {},
   "source": [
    "## Implicit Scheme\n",
    "It means that we can rewrite the problem as"
   ]
  },
  {
   "cell_type": "markdown",
   "id": "a9e221dd",
   "metadata": {},
   "source": [
    "$$\n",
    "V_{j} = \\mathbf{A}^{-1}V_{j-1}=\\mathbf{A}^{-1}\\left(\\mathbf{A}^{-1}V_{j-2}\\right)=\\dots = \\mathbf{A}^{-j}V_0.\n",
    "$$"
   ]
  },
  {
   "cell_type": "markdown",
   "id": "8701db0d",
   "metadata": {},
   "source": [
    "This is an implicit scheme since it relies on determining the vector\n",
    "$u_{i,j-1}$ instead of $u_{i,j+1}$.\n",
    "If $\\alpha$ does not depend on time $t$, we need \n",
    "to invert a matrix only once. Alternatively we can solve this system of equations using our methods\n",
    "from linear algebra.\n",
    "These are however very cumbersome ways of solving since they involve $\\sim O(N^3)$ operations \n",
    "for  a $N\\times N$ matrix. \n",
    "It is much faster to solve these linear equations using methods for tridiagonal matrices,\n",
    "since these involve only $\\sim O(N)$ operations."
   ]
  },
  {
   "cell_type": "markdown",
   "id": "b6259153",
   "metadata": {},
   "source": [
    "## Implicit Scheme\n",
    "The implicit scheme is always stable since the spectral radius satisfies $\\rho(\\mathbf{A}) < 1 $. We could have inferred this by noting that \n",
    "the matrix is positive definite, viz. all eigenvalues are larger than zero. We see this from\n",
    "the fact that $\\mathbf{A}=\\hat{I}+\\alpha\\hat{B}$ has eigenvalues\n",
    "$\\lambda_i = 1+\\alpha(2-2cos(\\theta))$ which satisfy $\\lambda_i > 1$. Since it is the inverse which stands\n",
    "to the right of our iterative equation, we have $\\rho(\\mathbf{A}^{-1}) < 1 $ \n",
    "and the method is stable for all combinations\n",
    "of $\\Delta t$ and $\\Delta x$."
   ]
  },
  {
   "cell_type": "markdown",
   "id": "edae79fe",
   "metadata": {},
   "source": [
    "### Program Example for Implicit Equation\n",
    "\n",
    "We show here parts of a  simple example of how to solve the one-dimensional diffusion equation using the implicit\n",
    "scheme discussed above. The program uses the function to solve linear equations with a tridiagonal \n",
    "matrix."
   ]
  },
  {
   "cell_type": "markdown",
   "id": "ad4fe0e5",
   "metadata": {},
   "source": [
    "        //  parts of the function for backward Euler\n",
    "        void backward_euler(int n, int tsteps, double delta_x, double alpha)\n",
    "        {\n",
    "           double a, b, c;\n",
    "           vec u(n+1); // This is u  of Au = y\n",
    "           vec y(n+1); // Right side of matrix equation Au=y, the solution at a previous step\n",
    "           \n",
    "           // Initial conditions\n",
    "           for (int i = 1; i < n; i++) {\n",
    "              y(i) = u(i) = func(delta_x*i);\n",
    "           }\n",
    "           // Boundary conditions (zero here)\n",
    "           y(n) = u(n) = u(0) = y(0);\n",
    "           // Matrix A, only constants\n",
    "           a = c = - alpha;\n",
    "           b = 1 + 2*alpha;\n",
    "           // Time iteration\n",
    "           for (int t = 1; t <= tsteps; t++) {\n",
    "              //  here we solve the tridiagonal linear set of equations, \n",
    "              tridag(a, b, c, y, u, n+1);\n",
    "              // boundary conditions\n",
    "              u(0) = 0;\n",
    "              u(n) = 0;\n",
    "              // replace previous time solution with new\n",
    "              for (int i = 0; i <= n; i++) {\n",
    "        \t y(i) = u(i);\n",
    "              }\n",
    "              //  You may consider printing the solution at regular time intervals\n",
    "              ....   // print statements\n",
    "           }  // end time iteration\n",
    "           ...\n",
    "        }\n"
   ]
  },
  {
   "cell_type": "markdown",
   "id": "3fd2beec",
   "metadata": {},
   "source": [
    "## Crank-Nicolson scheme\n",
    "It is possible to combine the implicit and explicit methods in a slightly more general\n",
    "approach. Introducing a parameter $\\theta$ (the so-called $\\theta$-rule) we can set up \n",
    "an equation"
   ]
  },
  {
   "cell_type": "markdown",
   "id": "36e0adae",
   "metadata": {},
   "source": [
    "<!-- Equation labels as ordinary links -->\n",
    "<div id=\"eq:cranknicolson\"></div>\n",
    "\n",
    "$$\n",
    "\\begin{equation}\n",
    "\\label{eq:cranknicolson} \\tag{26}\n",
    "  \\frac{\\theta}{\\Delta x^2}\\left(u_{i-1,j}-2u_{i,j}+u_{i+1,j}\\right)+\n",
    "  \\frac{1-\\theta}{\\Delta x^2}\\left(u_{i+1,j-1}-2u_{i,j-1}+u_{i-1,j-1}\\right)=\n",
    "  \\frac{1}{\\Delta t}\\left(u_{i,j}-u_{i,j-1}\\right),\n",
    "\\end{equation}\n",
    "$$"
   ]
  },
  {
   "cell_type": "markdown",
   "id": "eeb63052",
   "metadata": {},
   "source": [
    "which for $\\theta=0$ yields the forward formula for the first derivative and\n",
    "the explicit scheme, while $\\theta=1$ yields the backward formula and the implicit\n",
    "scheme. These two schemes are called the backward and forward Euler schemes, respectively.\n",
    "For $\\theta = 1/2$ we obtain a new scheme after its inventors, Crank and Nicolson.\n",
    "This scheme yields a truncation in time which goes like $O(\\Delta t^2)$ and it is stable \n",
    "for all possible combinations of $\\Delta t$ and $\\Delta x$."
   ]
  },
  {
   "cell_type": "markdown",
   "id": "c3e646b1",
   "metadata": {},
   "source": [
    "## Derivation of CN scheme\n",
    "To derive the Crank-Nicolson equation, \n",
    "we start with the forward Euler scheme and Taylor expand $u(x,t+\\Delta t)$,\n",
    "$u(x+\\Delta x, t)$ and $u(x-\\Delta x,t)$"
   ]
  },
  {
   "cell_type": "markdown",
   "id": "f82e9bc9",
   "metadata": {},
   "source": [
    "<!-- Equation labels as ordinary links -->\n",
    "<div id=\"_auto3\"></div>\n",
    "\n",
    "$$\n",
    "\\begin{equation}\n",
    "u(x+\\Delta x,t)=u(x,t)+\\frac{\\partial u(x,t)}{\\partial x} \\Delta x+\\frac{\\partial^2 u(x,t)}{2\\partial x^2}\\Delta x^2+\\mathcal{O}(\\Delta x^3),\n",
    "\\label{_auto3} \\tag{27}\n",
    "\\end{equation}\n",
    "$$"
   ]
  },
  {
   "cell_type": "markdown",
   "id": "dccd5878",
   "metadata": {},
   "source": [
    "$$\n",
    "\\nonumber\n",
    "u(x-\\Delta x,t)=u(x,t)-\\frac{\\partial u(x,t)}{\\partial x}\\Delta x+\\frac{\\partial^2 u(x,t)}{2\\partial x^2} \\Delta x^2+\\mathcal{O}(\\Delta x^3),\n",
    "$$"
   ]
  },
  {
   "cell_type": "markdown",
   "id": "62b7ad68",
   "metadata": {},
   "source": [
    "<!-- Equation labels as ordinary links -->\n",
    "<div id=\"eq:deltat0\"></div>\n",
    "\n",
    "$$\n",
    "\\nonumber\n",
    "u(x,t+\\Delta t)=u(x,t)+\\frac{\\partial u(x,t)}{\\partial t}\\Delta t+  \\mathcal{O}(\\Delta t^2).\n",
    "\\label{eq:deltat0} \\tag{28}\n",
    "$$"
   ]
  },
  {
   "cell_type": "markdown",
   "id": "c02e0b77",
   "metadata": {},
   "source": [
    "## Taylor expansions\n",
    "With these Taylor expansions the approximations for the derivatives takes the form"
   ]
  },
  {
   "cell_type": "markdown",
   "id": "9c4552ff",
   "metadata": {},
   "source": [
    "<!-- Equation labels as ordinary links -->\n",
    "<div id=\"_auto4\"></div>\n",
    "\n",
    "$$\n",
    "\\begin{equation}\n",
    "\\left[\\frac{\\partial u(x,t)}{\\partial t}\\right]_{\\text{approx}} =\\frac{\\partial u(x,t)}{\\partial t}+\\mathcal{O}(\\Delta t) , \n",
    "\\label{_auto4} \\tag{29}\n",
    "\\end{equation}\n",
    "$$"
   ]
  },
  {
   "cell_type": "markdown",
   "id": "56ff9218",
   "metadata": {},
   "source": [
    "$$\n",
    "\\nonumber\n",
    "\\left[\\frac{\\partial^2 u(x,t)}{\\partial x^2}\\right]_{\\text{approx}}=\\frac{\\partial^2 u(x,t)}{\\partial x^2}+\\mathcal{O}(\\Delta x^2).\n",
    "$$"
   ]
  },
  {
   "cell_type": "markdown",
   "id": "2e02cea5",
   "metadata": {},
   "source": [
    "It is easy to convince oneself that the backward Euler method must have the same truncation errors as the forward Euler scheme."
   ]
  },
  {
   "cell_type": "markdown",
   "id": "ef94f75e",
   "metadata": {},
   "source": [
    "## Error in CN scheme\n",
    "For the Crank-Nicolson scheme we also need to Taylor expand $u(x+\\Delta x, t+\\Delta t)$ and $u(x-\\Delta x, t+\\Delta t)$ around $t'=t+\\Delta t/2$."
   ]
  },
  {
   "cell_type": "markdown",
   "id": "7c5071b5",
   "metadata": {},
   "source": [
    "<!-- Equation labels as ordinary links -->\n",
    "<div id=\"_auto5\"></div>\n",
    "\n",
    "$$\n",
    "\\begin{equation}\n",
    "u(x+\\Delta x, t+\\Delta t)=u(x,t')+\\frac{\\partial u(x,t')}{\\partial x}\\Delta x+\\frac{\\partial u(x,t')}{\\partial t} \\frac{\\Delta t}{2} +\\frac{\\partial^2 u(x,t')}{2\\partial x^2}\\Delta x^2+\\frac{\\partial^2 u(x,t')}{2\\partial t^2}\\frac{\\Delta t^2}{4} +\\notag \n",
    "\\label{_auto5} \\tag{30}\n",
    "\\end{equation}\n",
    "$$"
   ]
  },
  {
   "cell_type": "markdown",
   "id": "02d518fc",
   "metadata": {},
   "source": [
    "$$\n",
    "\\nonumber\n",
    "\\frac{\\partial^2 u(x,t')}{\\partial x\\partial t}\\frac{\\Delta t}{2} \\Delta x+ \\mathcal{O}(\\Delta t^3)\n",
    "$$"
   ]
  },
  {
   "cell_type": "markdown",
   "id": "34b80b32",
   "metadata": {},
   "source": [
    "$$\n",
    "\\nonumber\n",
    "u(x-\\Delta x, t+\\Delta t)=u(x,t')-\\frac{\\partial u(x,t')}{\\partial x}\\Delta x+\\frac{\\partial u(x,t')}{\\partial t} \\frac{\\Delta t}{2} +\\frac{\\partial^2 u(x,t')}{2\\partial x^2}\\Delta x^2+\\frac{\\partial^2 u(x,t')}{2\\partial t^2}\\frac{\\Delta t^2}{4} - \\notag\n",
    "$$"
   ]
  },
  {
   "cell_type": "markdown",
   "id": "382e6f16",
   "metadata": {},
   "source": [
    "$$\n",
    "\\nonumber\n",
    "\\frac{\\partial^2 u(x,t')}{\\partial x\\partial t}\\frac{\\Delta t}{2} \\Delta x+ \\mathcal{O}(\\Delta t^3)\n",
    "$$"
   ]
  },
  {
   "cell_type": "markdown",
   "id": "0fa8fb31",
   "metadata": {},
   "source": [
    "<!-- Equation labels as ordinary links -->\n",
    "<div id=\"_auto6\"></div>\n",
    "\n",
    "$$\n",
    "\\begin{equation} \n",
    "u(x+\\Delta x,t)=u(x,t')+\\frac{\\partial u(x,t')}{\\partial x}\\Delta x-\\frac{\\partial u(x,t')}{\\partial t} \\frac{\\Delta t}{2} +\\frac{\\partial^2 u(x,t')}{2\\partial x^2}\\Delta x^2+\\frac{\\partial^2 u(x,t')}{2\\partial t^2}\\frac{\\Delta t^2}{4} -\\notag \n",
    "\\label{_auto6} \\tag{31}\n",
    "\\end{equation}\n",
    "$$"
   ]
  },
  {
   "cell_type": "markdown",
   "id": "e3aa85dd",
   "metadata": {},
   "source": [
    "$$\n",
    "\\nonumber\n",
    "\\frac{\\partial^2 u(x,t')}{\\partial x\\partial t}\\frac{\\Delta t}{2} \\Delta x+ \\mathcal{O}(\\Delta t^3)\n",
    "$$"
   ]
  },
  {
   "cell_type": "markdown",
   "id": "ecd4ed9b",
   "metadata": {},
   "source": [
    "$$\n",
    "\\nonumber\n",
    "u(x-\\Delta x,t)=u(x,t')-\\frac{\\partial u(x,t')}{\\partial x}\\Delta x-\\frac{\\partial u(x,t')}{\\partial t} \\frac{\\Delta t}{2} +\\frac{\\partial^2 u(x,t')}{2\\partial x^2}\\Delta x^2+\\frac{\\partial^2 u(x,t')}{2\\partial t^2}\\frac{\\Delta t^2}{4} +\\notag\n",
    "$$"
   ]
  },
  {
   "cell_type": "markdown",
   "id": "6eab605f",
   "metadata": {},
   "source": [
    "$$\n",
    "\\nonumber\n",
    "\\frac{\\partial^2 u(x,t')}{\\partial x\\partial t}\\frac{\\Delta t}{2} \\Delta x+ \\mathcal{O}(\\Delta t^3)\n",
    "$$"
   ]
  },
  {
   "cell_type": "markdown",
   "id": "407ca397",
   "metadata": {},
   "source": [
    "$$\n",
    "\\nonumber\n",
    "u(x,t+\\Delta t)=u(x,t')+\\frac{\\partial u(x,t')}{\\partial t}\\frac{\\Delta_t}{2} +\\frac{\\partial ^2 u(x,t')}{2\\partial t^2}\\Delta t^2 + \\mathcal{O}(\\Delta t^3)\n",
    "$$"
   ]
  },
  {
   "cell_type": "markdown",
   "id": "dd69a7c7",
   "metadata": {},
   "source": [
    "<!-- Equation labels as ordinary links -->\n",
    "<div id=\"eq:deltat\"></div>\n",
    "\n",
    "$$\n",
    "\\nonumber\n",
    "u(x,t)=u(x,t')-\\frac{\\partial u(x,t')}{\\partial t}\\frac{\\Delta t}{2}+\\frac{\\partial ^2 u(x,t')}{2\\partial t^2}\\Delta t^2 + \\mathcal{O}(\\Delta t^3)\n",
    "\\label{eq:deltat} \\tag{32}\n",
    "$$"
   ]
  },
  {
   "cell_type": "markdown",
   "id": "b3d86edc",
   "metadata": {},
   "source": [
    "We now insert these expansions in the approximations for the derivatives to find"
   ]
  },
  {
   "cell_type": "markdown",
   "id": "a2c3114c",
   "metadata": {},
   "source": [
    "<!-- Equation labels as ordinary links -->\n",
    "<div id=\"_auto7\"></div>\n",
    "\n",
    "$$\n",
    "\\begin{equation}\n",
    "\\left[\\frac{\\partial u(x,t')}{\\partial t}\\right]_{\\text{approx}} =\\frac{\\partial u(x,t')}{\\partial t}+\\mathcal{O}(\\Delta t^2) , \n",
    "\\label{_auto7} \\tag{33}\n",
    "\\end{equation}\n",
    "$$"
   ]
  },
  {
   "cell_type": "markdown",
   "id": "4f1ae0ad",
   "metadata": {},
   "source": [
    "$$\n",
    "\\nonumber\n",
    "\\left[\\frac{\\partial^2 u(x,t')}{\\partial x^2}\\right]_{\\text{approx}}=\\frac{\\partial^2 u(x,t')}{\\partial x^2}+\\mathcal{O}(\\Delta x^2).\n",
    "$$"
   ]
  },
  {
   "cell_type": "markdown",
   "id": "d7f0b2db",
   "metadata": {},
   "source": [
    "## Type of problem\n",
    "\n",
    "The problem our network must solve for, is similar to the ODE case.\n",
    "We must have a trial solution $g_t$ at hand.\n",
    "\n",
    "For instance, the trial solution could be expressed as"
   ]
  },
  {
   "cell_type": "markdown",
   "id": "1b8d4070",
   "metadata": {},
   "source": [
    "$$\n",
    "\\begin{align*}\n",
    "  g_t(x_1,\\dots,x_N) = h_1(x_1,\\dots,x_N) + h_2(x_1,\\dots,x_N,N(x_1,\\dots,x_N,P))\n",
    "\\end{align*}\n",
    "$$"
   ]
  },
  {
   "cell_type": "markdown",
   "id": "5a804b7a",
   "metadata": {},
   "source": [
    "where $h_1(x_1,\\dots,x_N)$ is a function that ensures $g_t(x_1,\\dots,x_N)$ satisfies some given conditions.\n",
    "The neural network $N(x_1,\\dots,x_N,P)$ has weights and biases described by $P$ and $h_2(x_1,\\dots,x_N,N(x_1,\\dots,x_N,P))$ is an expression using the output from the neural network in some way.\n",
    "\n",
    "The role of the function $h_2(x_1,\\dots,x_N,N(x_1,\\dots,x_N,P))$, is to ensure that the output of $N(x_1,\\dots,x_N,P)$ is zero when $g_t(x_1,\\dots,x_N)$ is evaluated at the values of $x_1,\\dots,x_N$ where the given conditions must be satisfied. The function $h_1(x_1,\\dots,x_N)$ should alone make $g_t(x_1,\\dots,x_N)$ satisfy the conditions."
   ]
  },
  {
   "cell_type": "markdown",
   "id": "789f8240",
   "metadata": {},
   "source": [
    "## Network requirements\n",
    "\n",
    "The network tries then to minimize the cost function following the\n",
    "same ideas as described for the ODE case, but now with more than one\n",
    "variables to consider.  The concept still remains the same; find a set\n",
    "of parameters $P$ such that the expression $f$ in ([17](#PDE)) is as\n",
    "close to zero as possible.\n",
    "\n",
    "As for the ODE case, the cost function is the mean squared error that\n",
    "the network must try to minimize. The cost function for the network to\n",
    "minimize is"
   ]
  },
  {
   "cell_type": "markdown",
   "id": "295dbb2c",
   "metadata": {},
   "source": [
    "$$\n",
    "C\\left(x_1, \\dots, x_N, P\\right) = \\left(  f\\left(x_1, \\, \\dots \\, , x_N, \\frac{\\partial g(x_1,\\dots,x_N) }{\\partial x_1}, \\dots , \\frac{\\partial g(x_1,\\dots,x_N) }{\\partial x_N}, \\frac{\\partial g(x_1,\\dots,x_N) }{\\partial x_1\\partial x_2}, \\, \\dots \\, , \\frac{\\partial^n g(x_1,\\dots,x_N) }{\\partial x_N^n} \\right) \\right)^2\n",
    "$$"
   ]
  },
  {
   "cell_type": "markdown",
   "id": "9a687d24",
   "metadata": {},
   "source": [
    "## More details\n",
    "\n",
    "If we let $\\boldsymbol{x} = \\big( x_1, \\dots, x_N \\big)$ be an array containing the values for $x_1, \\dots, x_N$ respectively, the cost function can be reformulated into the following:"
   ]
  },
  {
   "cell_type": "markdown",
   "id": "21b68f6d",
   "metadata": {},
   "source": [
    "$$\n",
    "C\\left(\\boldsymbol{x}, P\\right) = f\\left( \\left( \\boldsymbol{x}, \\frac{\\partial g(\\boldsymbol{x}) }{\\partial x_1}, \\dots , \\frac{\\partial g(\\boldsymbol{x}) }{\\partial x_N}, \\frac{\\partial g(\\boldsymbol{x}) }{\\partial x_1\\partial x_2}, \\, \\dots \\, , \\frac{\\partial^n g(\\boldsymbol{x}) }{\\partial x_N^n} \\right) \\right)^2\n",
    "$$"
   ]
  },
  {
   "cell_type": "markdown",
   "id": "b5aa51b8",
   "metadata": {},
   "source": [
    "If we also have $M$ different sets of values for $x_1, \\dots, x_N$, that is $\\boldsymbol{x}_i = \\big(x_1^{(i)}, \\dots, x_N^{(i)}\\big)$ for $i = 1,\\dots,M$ being the rows in matrix $X$, the cost function can be generalized into"
   ]
  },
  {
   "cell_type": "markdown",
   "id": "bf656b76",
   "metadata": {},
   "source": [
    "$$\n",
    "C\\left(X, P \\right) = \\sum_{i=1}^M f\\left( \\left( \\boldsymbol{x}_i, \\frac{\\partial g(\\boldsymbol{x}_i) }{\\partial x_1}, \\dots , \\frac{\\partial g(\\boldsymbol{x}_i) }{\\partial x_N}, \\frac{\\partial g(\\boldsymbol{x}_i) }{\\partial x_1\\partial x_2}, \\, \\dots \\, , \\frac{\\partial^n g(\\boldsymbol{x}_i) }{\\partial x_N^n} \\right) \\right)^2.\n",
    "$$"
   ]
  },
  {
   "cell_type": "markdown",
   "id": "cc3c7d76",
   "metadata": {},
   "source": [
    "## Example: The diffusion equation\n",
    "\n",
    "In one spatial dimension, the equation reads"
   ]
  },
  {
   "cell_type": "markdown",
   "id": "8feb5e8a",
   "metadata": {},
   "source": [
    "$$\n",
    "\\frac{\\partial g(x,t)}{\\partial t} = \\frac{\\partial^2 g(x,t)}{\\partial x^2}\n",
    "$$"
   ]
  },
  {
   "cell_type": "markdown",
   "id": "1dba7652",
   "metadata": {},
   "source": [
    "where a possible choice of conditions are"
   ]
  },
  {
   "cell_type": "markdown",
   "id": "1d597c4a",
   "metadata": {},
   "source": [
    "$$\n",
    "\\begin{align*}\n",
    "g(0,t) &= 0 ,\\qquad t \\geq 0 \\\\\n",
    "g(1,t) &= 0, \\qquad t \\geq 0 \\\\\n",
    "g(x,0) &= u(x),\\qquad x\\in [0,1]\n",
    "\\end{align*}\n",
    "$$"
   ]
  },
  {
   "cell_type": "markdown",
   "id": "d2ca1534",
   "metadata": {},
   "source": [
    "with $u(x)$ being some given function."
   ]
  },
  {
   "cell_type": "markdown",
   "id": "793b1beb",
   "metadata": {},
   "source": [
    "## Defining the problem\n",
    "\n",
    "For this case, we want to find $g(x,t)$ such that"
   ]
  },
  {
   "cell_type": "markdown",
   "id": "66e3199f",
   "metadata": {},
   "source": [
    "<!-- Equation labels as ordinary links -->\n",
    "<div id=\"diffonedim\"></div>\n",
    "\n",
    "$$\n",
    "\\begin{equation}\n",
    "  \\frac{\\partial g(x,t)}{\\partial t} = \\frac{\\partial^2 g(x,t)}{\\partial x^2}\n",
    "\\end{equation} \\label{diffonedim} \\tag{34}\n",
    "$$"
   ]
  },
  {
   "cell_type": "markdown",
   "id": "ca6a44f5",
   "metadata": {},
   "source": [
    "and"
   ]
  },
  {
   "cell_type": "markdown",
   "id": "e75b17ac",
   "metadata": {},
   "source": [
    "$$\n",
    "\\begin{align*}\n",
    "g(0,t) &= 0 ,\\qquad t \\geq 0 \\\\\n",
    "g(1,t) &= 0, \\qquad t \\geq 0 \\\\\n",
    "g(x,0) &= u(x),\\qquad x\\in [0,1]\n",
    "\\end{align*}\n",
    "$$"
   ]
  },
  {
   "cell_type": "markdown",
   "id": "a49153b2",
   "metadata": {},
   "source": [
    "with $u(x) = \\sin(\\pi x)$.\n",
    "\n",
    "First, let us set up the deep neural network.\n",
    "The deep neural network will follow the same structure as discussed in the examples solving the ODEs.\n",
    "First, we will look into how Autograd could be used in a network tailored to solve for bivariate functions."
   ]
  },
  {
   "cell_type": "markdown",
   "id": "94909d68",
   "metadata": {},
   "source": [
    "## Setting up the network using Autograd\n",
    "\n",
    "The only change to do here, is to extend our network such that\n",
    "functions of multiple parameters are correctly handled.  In this case\n",
    "we have two variables in our function to solve for, that is time $t$\n",
    "and position $x$.  The variables will be represented by a\n",
    "one-dimensional array in the program.  The program will evaluate the\n",
    "network at each possible pair $(x,t)$, given an array for the desired\n",
    "$x$-values and $t$-values to approximate the solution at."
   ]
  },
  {
   "cell_type": "code",
   "execution_count": 7,
   "id": "2f9e0157",
   "metadata": {},
   "outputs": [],
   "source": [
    "def sigmoid(z):\n",
    "    return 1/(1 + np.exp(-z))\n",
    "\n",
    "def deep_neural_network(deep_params, x):\n",
    "    # x is now a point and a 1D numpy array; make it a column vector\n",
    "    num_coordinates = np.size(x,0)\n",
    "    x = x.reshape(num_coordinates,-1)\n",
    "\n",
    "    num_points = np.size(x,1)\n",
    "\n",
    "    # N_hidden is the number of hidden layers\n",
    "    N_hidden = np.size(deep_params) - 1 # -1 since params consist of parameters to all the hidden layers AND the output layer\n",
    "\n",
    "    # Assume that the input layer does nothing to the input x\n",
    "    x_input = x\n",
    "    x_prev = x_input\n",
    "\n",
    "    ## Hidden layers:\n",
    "\n",
    "    for l in range(N_hidden):\n",
    "        # From the list of parameters P; find the correct weigths and bias for this layer\n",
    "        w_hidden = deep_params[l]\n",
    "\n",
    "        # Add a row of ones to include bias\n",
    "        x_prev = np.concatenate((np.ones((1,num_points)), x_prev ), axis = 0)\n",
    "\n",
    "        z_hidden = np.matmul(w_hidden, x_prev)\n",
    "        x_hidden = sigmoid(z_hidden)\n",
    "\n",
    "        # Update x_prev such that next layer can use the output from this layer\n",
    "        x_prev = x_hidden\n",
    "\n",
    "    ## Output layer:\n",
    "\n",
    "    # Get the weights and bias for this layer\n",
    "    w_output = deep_params[-1]\n",
    "\n",
    "    # Include bias:\n",
    "    x_prev = np.concatenate((np.ones((1,num_points)), x_prev), axis = 0)\n",
    "\n",
    "    z_output = np.matmul(w_output, x_prev)\n",
    "    x_output = z_output\n",
    "\n",
    "    return x_output[0][0]"
   ]
  },
  {
   "cell_type": "markdown",
   "id": "55d7932d",
   "metadata": {},
   "source": [
    "## Setting up the network using Autograd; The trial solution\n",
    "\n",
    "The cost function must then iterate through the given arrays\n",
    "containing values for $x$ and $t$, defines a point $(x,t)$ the deep\n",
    "neural network and the trial solution is evaluated at, and then finds\n",
    "the Jacobian of the trial solution.\n",
    "\n",
    "A possible trial solution for this PDE is\n",
    "\n",
    "$$\n",
    "g_t(x,t) = h_1(x,t) + x(1-x)tN(x,t,P)\n",
    "$$\n",
    "\n",
    "with $A(x,t)$ being a function ensuring that $g_t(x,t)$ satisfies our given conditions, and $N(x,t,P)$ being the output from the deep neural network using weights and biases for each layer from $P$.\n",
    "\n",
    "To fulfill the conditions, $A(x,t)$ could be:\n",
    "\n",
    "$$\n",
    "h_1(x,t) = (1-t)\\Big(u(x) - \\big((1-x)u(0) + x u(1)\\big)\\Big) = (1-t)u(x) = (1-t)\\sin(\\pi x)\n",
    "$$\n",
    "since $(0) = u(1) = 0$ and $u(x) = \\sin(\\pi x)$."
   ]
  },
  {
   "cell_type": "markdown",
   "id": "00b045b2",
   "metadata": {},
   "source": [
    "## Why the jacobian?\n",
    "\n",
    "The Jacobian is used because the program must find the derivative of\n",
    "the trial solution with respect to $x$ and $t$.\n",
    "\n",
    "This gives the necessity of computing the Jacobian matrix, as we want\n",
    "to evaluate the gradient with respect to $x$ and $t$ (note that the\n",
    "Jacobian of a scalar-valued multivariate function is simply its\n",
    "gradient).\n",
    "\n",
    "In Autograd, the differentiation is by default done with respect to\n",
    "the first input argument of your Python function. Since the points is\n",
    "an array representing $x$ and $t$, the Jacobian is calculated using\n",
    "the values of $x$ and $t$.\n",
    "\n",
    "To find the second derivative with respect to $x$ and $t$, the\n",
    "Jacobian can be found for the second time. The result is a Hessian\n",
    "matrix, which is the matrix containing all the possible second order\n",
    "mixed derivatives of $g(x,t)$."
   ]
  },
  {
   "cell_type": "code",
   "execution_count": 8,
   "id": "2b01d278",
   "metadata": {},
   "outputs": [],
   "source": [
    "# Set up the trial function:\n",
    "def u(x):\n",
    "    return np.sin(np.pi*x)\n",
    "\n",
    "def g_trial(point,P):\n",
    "    x,t = point\n",
    "    return (1-t)*u(x) + x*(1-x)*t*deep_neural_network(P,point)\n",
    "\n",
    "# The right side of the ODE:\n",
    "def f(point):\n",
    "    return 0.\n",
    "\n",
    "# The cost function:\n",
    "def cost_function(P, x, t):\n",
    "    cost_sum = 0\n",
    "\n",
    "    g_t_jacobian_func = jacobian(g_trial)\n",
    "    g_t_hessian_func = hessian(g_trial)\n",
    "\n",
    "    for x_ in x:\n",
    "        for t_ in t:\n",
    "            point = np.array([x_,t_])\n",
    "\n",
    "            g_t = g_trial(point,P)\n",
    "            g_t_jacobian = g_t_jacobian_func(point,P)\n",
    "            g_t_hessian = g_t_hessian_func(point,P)\n",
    "\n",
    "            g_t_dt = g_t_jacobian[1]\n",
    "            g_t_d2x = g_t_hessian[0][0]\n",
    "\n",
    "            func = f(point)\n",
    "\n",
    "            err_sqr = ( (g_t_dt - g_t_d2x) - func)**2\n",
    "            cost_sum += err_sqr\n",
    "\n",
    "    return cost_sum"
   ]
  },
  {
   "cell_type": "markdown",
   "id": "823e1ad2",
   "metadata": {},
   "source": [
    "## Setting up the network using Autograd; The full program\n",
    "\n",
    "Having set up the network, along with the trial solution and cost function, we can now see how the deep neural network performs by comparing the results to the analytical solution.\n",
    "\n",
    "The analytical solution of our problem is\n",
    "\n",
    "$$\n",
    "g(x,t) = \\exp(-\\pi^2 t)\\sin(\\pi x)\n",
    "$$\n",
    "\n",
    "A possible way to implement a neural network solving the PDE, is given below.\n",
    "Be aware, though, that it is fairly slow for the parameters used.\n",
    "A better result is possible, but requires more iterations, and thus longer time to complete.\n",
    "\n",
    "Indeed, the program below is not optimal in its implementation, but rather serves as an example on how to implement and use a neural network to solve a PDE.\n",
    "Using TensorFlow results in a much better execution time. Try it!"
   ]
  },
  {
   "cell_type": "code",
   "execution_count": 9,
   "id": "28670bfd",
   "metadata": {},
   "outputs": [],
   "source": [
    "import autograd.numpy as np\n",
    "from autograd import jacobian,hessian,grad\n",
    "import autograd.numpy.random as npr\n",
    "from matplotlib import cm\n",
    "from matplotlib import pyplot as plt\n",
    "from mpl_toolkits.mplot3d import axes3d\n",
    "\n",
    "## Set up the network\n",
    "\n",
    "def sigmoid(z):\n",
    "    return 1/(1 + np.exp(-z))\n",
    "\n",
    "def deep_neural_network(deep_params, x):\n",
    "    # x is now a point and a 1D numpy array; make it a column vector\n",
    "    num_coordinates = np.size(x,0)\n",
    "    x = x.reshape(num_coordinates,-1)\n",
    "\n",
    "    num_points = np.size(x,1)\n",
    "\n",
    "    # N_hidden is the number of hidden layers\n",
    "    N_hidden = np.size(deep_params) - 1 # -1 since params consist of parameters to all the hidden layers AND the output layer\n",
    "\n",
    "    # Assume that the input layer does nothing to the input x\n",
    "    x_input = x\n",
    "    x_prev = x_input\n",
    "\n",
    "    ## Hidden layers:\n",
    "\n",
    "    for l in range(N_hidden):\n",
    "        # From the list of parameters P; find the correct weigths and bias for this layer\n",
    "        w_hidden = deep_params[l]\n",
    "\n",
    "        # Add a row of ones to include bias\n",
    "        x_prev = np.concatenate((np.ones((1,num_points)), x_prev ), axis = 0)\n",
    "\n",
    "        z_hidden = np.matmul(w_hidden, x_prev)\n",
    "        x_hidden = sigmoid(z_hidden)\n",
    "\n",
    "        # Update x_prev such that next layer can use the output from this layer\n",
    "        x_prev = x_hidden\n",
    "\n",
    "    ## Output layer:\n",
    "\n",
    "    # Get the weights and bias for this layer\n",
    "    w_output = deep_params[-1]\n",
    "\n",
    "    # Include bias:\n",
    "    x_prev = np.concatenate((np.ones((1,num_points)), x_prev), axis = 0)\n",
    "\n",
    "    z_output = np.matmul(w_output, x_prev)\n",
    "    x_output = z_output\n",
    "\n",
    "    return x_output[0][0]\n",
    "\n",
    "## Define the trial solution and cost function\n",
    "def u(x):\n",
    "    return np.sin(np.pi*x)\n",
    "\n",
    "def g_trial(point,P):\n",
    "    x,t = point\n",
    "    return (1-t)*u(x) + x*(1-x)*t*deep_neural_network(P,point)\n",
    "\n",
    "# The right side of the ODE:\n",
    "def f(point):\n",
    "    return 0.\n",
    "\n",
    "# The cost function:\n",
    "def cost_function(P, x, t):\n",
    "    cost_sum = 0\n",
    "\n",
    "    g_t_jacobian_func = jacobian(g_trial)\n",
    "    g_t_hessian_func = hessian(g_trial)\n",
    "\n",
    "    for x_ in x:\n",
    "        for t_ in t:\n",
    "            point = np.array([x_,t_])\n",
    "\n",
    "            g_t = g_trial(point,P)\n",
    "            g_t_jacobian = g_t_jacobian_func(point,P)\n",
    "            g_t_hessian = g_t_hessian_func(point,P)\n",
    "\n",
    "            g_t_dt = g_t_jacobian[1]\n",
    "            g_t_d2x = g_t_hessian[0][0]\n",
    "\n",
    "            func = f(point)\n",
    "\n",
    "            err_sqr = ( (g_t_dt - g_t_d2x) - func)**2\n",
    "            cost_sum += err_sqr\n",
    "\n",
    "    return cost_sum /( np.size(x)*np.size(t) )\n",
    "\n",
    "## For comparison, define the analytical solution\n",
    "def g_analytic(point):\n",
    "    x,t = point\n",
    "    return np.exp(-np.pi**2*t)*np.sin(np.pi*x)\n",
    "\n",
    "## Set up a function for training the network to solve for the equation\n",
    "def solve_pde_deep_neural_network(x,t, num_neurons, num_iter, lmb):\n",
    "    ## Set up initial weigths and biases\n",
    "    N_hidden = np.size(num_neurons)\n",
    "\n",
    "    ## Set up initial weigths and biases\n",
    "\n",
    "    # Initialize the list of parameters:\n",
    "    P = [None]*(N_hidden + 1) # + 1 to include the output layer\n",
    "\n",
    "    P[0] = npr.randn(num_neurons[0], 2 + 1 ) # 2 since we have two points, +1 to include bias\n",
    "    for l in range(1,N_hidden):\n",
    "        P[l] = npr.randn(num_neurons[l], num_neurons[l-1] + 1) # +1 to include bias\n",
    "\n",
    "    # For the output layer\n",
    "    P[-1] = npr.randn(1, num_neurons[-1] + 1 ) # +1 since bias is included\n",
    "\n",
    "    print('Initial cost: ',cost_function(P, x, t))\n",
    "\n",
    "    cost_function_grad = grad(cost_function,0)\n",
    "\n",
    "    # Let the update be done num_iter times\n",
    "    for i in range(num_iter):\n",
    "        cost_grad =  cost_function_grad(P, x , t)\n",
    "\n",
    "        for l in range(N_hidden+1):\n",
    "            P[l] = P[l] - lmb * cost_grad[l]\n",
    "\n",
    "    print('Final cost: ',cost_function(P, x, t))\n",
    "\n",
    "    return P\n",
    "\n",
    "if __name__ == '__main__':\n",
    "    ### Use the neural network:\n",
    "    npr.seed(15)\n",
    "\n",
    "    ## Decide the vales of arguments to the function to solve\n",
    "    Nx = 10; Nt = 10\n",
    "    x = np.linspace(0, 1, Nx)\n",
    "    t = np.linspace(0,1,Nt)\n",
    "\n",
    "    ## Set up the parameters for the network\n",
    "    num_hidden_neurons = [100, 25]\n",
    "    num_iter = 250\n",
    "    lmb = 0.01\n",
    "\n",
    "    P = solve_pde_deep_neural_network(x,t, num_hidden_neurons, num_iter, lmb)\n",
    "\n",
    "    ## Store the results\n",
    "    g_dnn_ag = np.zeros((Nx, Nt))\n",
    "    G_analytical = np.zeros((Nx, Nt))\n",
    "    for i,x_ in enumerate(x):\n",
    "        for j, t_ in enumerate(t):\n",
    "            point = np.array([x_, t_])\n",
    "            g_dnn_ag[i,j] = g_trial(point,P)\n",
    "\n",
    "            G_analytical[i,j] = g_analytic(point)\n",
    "\n",
    "    # Find the map difference between the analytical and the computed solution\n",
    "    diff_ag = np.abs(g_dnn_ag - G_analytical)\n",
    "    print('Max absolute difference between the analytical solution and the network: %g'%np.max(diff_ag))\n",
    "\n",
    "    ## Plot the solutions in two dimensions, that being in position and time\n",
    "\n",
    "    T,X = np.meshgrid(t,x)\n",
    "\n",
    "    fig = plt.figure(figsize=(10,10))\n",
    "    ax = fig.gca(projection='3d')\n",
    "    ax.set_title('Solution from the deep neural network w/ %d layer'%len(num_hidden_neurons))\n",
    "    s = ax.plot_surface(T,X,g_dnn_ag,linewidth=0,antialiased=False,cmap=cm.viridis)\n",
    "    ax.set_xlabel('Time $t$')\n",
    "    ax.set_ylabel('Position $x$');\n",
    "\n",
    "\n",
    "    fig = plt.figure(figsize=(10,10))\n",
    "    ax = fig.gca(projection='3d')\n",
    "    ax.set_title('Analytical solution')\n",
    "    s = ax.plot_surface(T,X,G_analytical,linewidth=0,antialiased=False,cmap=cm.viridis)\n",
    "    ax.set_xlabel('Time $t$')\n",
    "    ax.set_ylabel('Position $x$');\n",
    "\n",
    "    fig = plt.figure(figsize=(10,10))\n",
    "    ax = fig.gca(projection='3d')\n",
    "    ax.set_title('Difference')\n",
    "    s = ax.plot_surface(T,X,diff_ag,linewidth=0,antialiased=False,cmap=cm.viridis)\n",
    "    ax.set_xlabel('Time $t$')\n",
    "    ax.set_ylabel('Position $x$');\n",
    "\n",
    "    ## Take some slices of the 3D plots just to see the solutions at particular times\n",
    "    indx1 = 0\n",
    "    indx2 = int(Nt/2)\n",
    "    indx3 = Nt-1\n",
    "\n",
    "    t1 = t[indx1]\n",
    "    t2 = t[indx2]\n",
    "    t3 = t[indx3]\n",
    "\n",
    "    # Slice the results from the DNN\n",
    "    res1 = g_dnn_ag[:,indx1]\n",
    "    res2 = g_dnn_ag[:,indx2]\n",
    "    res3 = g_dnn_ag[:,indx3]\n",
    "\n",
    "    # Slice the analytical results\n",
    "    res_analytical1 = G_analytical[:,indx1]\n",
    "    res_analytical2 = G_analytical[:,indx2]\n",
    "    res_analytical3 = G_analytical[:,indx3]\n",
    "\n",
    "    # Plot the slices\n",
    "    plt.figure(figsize=(10,10))\n",
    "    plt.title(\"Computed solutions at time = %g\"%t1)\n",
    "    plt.plot(x, res1)\n",
    "    plt.plot(x,res_analytical1)\n",
    "    plt.legend(['dnn','analytical'])\n",
    "\n",
    "    plt.figure(figsize=(10,10))\n",
    "    plt.title(\"Computed solutions at time = %g\"%t2)\n",
    "    plt.plot(x, res2)\n",
    "    plt.plot(x,res_analytical2)\n",
    "    plt.legend(['dnn','analytical'])\n",
    "\n",
    "    plt.figure(figsize=(10,10))\n",
    "    plt.title(\"Computed solutions at time = %g\"%t3)\n",
    "    plt.plot(x, res3)\n",
    "    plt.plot(x,res_analytical3)\n",
    "    plt.legend(['dnn','analytical'])\n",
    "\n",
    "    plt.show()"
   ]
  },
  {
   "cell_type": "markdown",
   "id": "4d913507",
   "metadata": {},
   "source": [
    "## Example: Solving the wave equation with Neural Networks\n",
    "\n",
    "The wave equation is"
   ]
  },
  {
   "cell_type": "markdown",
   "id": "be66f1f0",
   "metadata": {},
   "source": [
    "$$\n",
    "\\frac{\\partial^2 g(x,t)}{\\partial t^2} = c^2\\frac{\\partial^2 g(x,t)}{\\partial x^2}\n",
    "$$"
   ]
  },
  {
   "cell_type": "markdown",
   "id": "4281468a",
   "metadata": {},
   "source": [
    "with $c$ being the specified wave speed.\n",
    "\n",
    "Here, the chosen conditions are"
   ]
  },
  {
   "cell_type": "markdown",
   "id": "838ea197",
   "metadata": {},
   "source": [
    "$$\n",
    "\\begin{align*}\n",
    "\tg(0,t) &= 0 \\\\\n",
    "\tg(1,t) &= 0 \\\\\n",
    "\tg(x,0) &= u(x) \\\\\n",
    "\t\\frac{\\partial g(x,t)}{\\partial t} \\Big |_{t = 0} &= v(x)\n",
    "\\end{align*}\n",
    "$$"
   ]
  },
  {
   "cell_type": "markdown",
   "id": "819ecb71",
   "metadata": {},
   "source": [
    "where $\\frac{\\partial g(x,t)}{\\partial t} \\Big |_{t = 0}$ means the derivative of $g(x,t)$ with respect to $t$ is evaluated at $t = 0$, and $u(x)$ and $v(x)$ being given functions."
   ]
  },
  {
   "cell_type": "markdown",
   "id": "2f097ba9",
   "metadata": {},
   "source": [
    "## The problem to solve for\n",
    "\n",
    "The wave equation to solve for, is"
   ]
  },
  {
   "cell_type": "markdown",
   "id": "25576227",
   "metadata": {},
   "source": [
    "<!-- Equation labels as ordinary links -->\n",
    "<div id=\"wave\"></div>\n",
    "\n",
    "$$\n",
    "\\begin{equation} \\label{wave} \\tag{35}\n",
    "\\frac{\\partial^2 g(x,t)}{\\partial t^2} = c^2 \\frac{\\partial^2 g(x,t)}{\\partial x^2}\n",
    "\\end{equation}\n",
    "$$"
   ]
  },
  {
   "cell_type": "markdown",
   "id": "e6451395",
   "metadata": {},
   "source": [
    "where $c$ is the given wave speed.\n",
    "The chosen conditions for this equation are"
   ]
  },
  {
   "cell_type": "markdown",
   "id": "42a5f8e5",
   "metadata": {},
   "source": [
    "<!-- Equation labels as ordinary links -->\n",
    "<div id=\"condwave\"></div>\n",
    "\n",
    "$$\n",
    "\\begin{aligned}\n",
    "g(0,t) &= 0, &t \\geq 0 \\\\\n",
    "g(1,t) &= 0, &t \\geq 0 \\\\\n",
    "g(x,0) &= u(x), &x\\in[0,1] \\\\\n",
    "\\frac{\\partial g(x,t)}{\\partial t}\\Big |_{t = 0} &= v(x), &x \\in [0,1]\n",
    "\\end{aligned} \\label{condwave} \\tag{36}\n",
    "$$"
   ]
  },
  {
   "cell_type": "markdown",
   "id": "cab6d7b9",
   "metadata": {},
   "source": [
    "In this example, let $c = 1$ and $u(x) = \\sin(\\pi x)$ and $v(x) = -\\pi\\sin(\\pi x)$."
   ]
  },
  {
   "cell_type": "markdown",
   "id": "dc1b3587",
   "metadata": {},
   "source": [
    "## The trial solution\n",
    "Setting up the network is done in similar matter as for the example of solving the diffusion equation.\n",
    "The only things we have to change, is the trial solution such that it satisfies the conditions from ([36](#condwave)) and the cost function.\n",
    "\n",
    "The trial solution becomes slightly different since we have other conditions than in the example of solving the diffusion equation. Here, a possible trial solution $g_t(x,t)$ is\n",
    "\n",
    "$$\n",
    "g_t(x,t) = h_1(x,t) + x(1-x)t^2N(x,t,P)\n",
    "$$\n",
    "\n",
    "where\n",
    "\n",
    "$$\n",
    "h_1(x,t) = (1-t^2)u(x) + tv(x)\n",
    "$$\n",
    "\n",
    "Note that this trial solution satisfies the conditions only if $u(0) = v(0) = u(1) = v(1) = 0$, which is the case in this example."
   ]
  },
  {
   "cell_type": "markdown",
   "id": "b90fddb2",
   "metadata": {},
   "source": [
    "## The analytical solution\n",
    "\n",
    "The analytical solution for our specific problem, is\n",
    "\n",
    "$$\n",
    "g(x,t) = \\sin(\\pi x)\\cos(\\pi t) - \\sin(\\pi x)\\sin(\\pi t)\n",
    "$$"
   ]
  },
  {
   "cell_type": "markdown",
   "id": "5c9a9e9b",
   "metadata": {},
   "source": [
    "## Solving the wave equation - the full program using Autograd"
   ]
  },
  {
   "cell_type": "code",
   "execution_count": 10,
   "id": "5c52c446",
   "metadata": {},
   "outputs": [],
   "source": [
    "import autograd.numpy as np\n",
    "from autograd import hessian,grad\n",
    "import autograd.numpy.random as npr\n",
    "from matplotlib import cm\n",
    "from matplotlib import pyplot as plt\n",
    "from mpl_toolkits.mplot3d import axes3d\n",
    "\n",
    "## Set up the trial function:\n",
    "def u(x):\n",
    "    return np.sin(np.pi*x)\n",
    "\n",
    "def v(x):\n",
    "    return -np.pi*np.sin(np.pi*x)\n",
    "\n",
    "def h1(point):\n",
    "    x,t = point\n",
    "    return (1 - t**2)*u(x) + t*v(x)\n",
    "\n",
    "def g_trial(point,P):\n",
    "    x,t = point\n",
    "    return h1(point) + x*(1-x)*t**2*deep_neural_network(P,point)\n",
    "\n",
    "## Define the cost function\n",
    "def cost_function(P, x, t):\n",
    "    cost_sum = 0\n",
    "\n",
    "    g_t_hessian_func = hessian(g_trial)\n",
    "\n",
    "    for x_ in x:\n",
    "        for t_ in t:\n",
    "            point = np.array([x_,t_])\n",
    "\n",
    "            g_t_hessian = g_t_hessian_func(point,P)\n",
    "\n",
    "            g_t_d2x = g_t_hessian[0][0]\n",
    "            g_t_d2t = g_t_hessian[1][1]\n",
    "\n",
    "            err_sqr = ( (g_t_d2t - g_t_d2x) )**2\n",
    "            cost_sum += err_sqr\n",
    "\n",
    "    return cost_sum / (np.size(t) * np.size(x))\n",
    "\n",
    "## The neural network\n",
    "def sigmoid(z):\n",
    "    return 1/(1 + np.exp(-z))\n",
    "\n",
    "def deep_neural_network(deep_params, x):\n",
    "    # x is now a point and a 1D numpy array; make it a column vector\n",
    "    num_coordinates = np.size(x,0)\n",
    "    x = x.reshape(num_coordinates,-1)\n",
    "\n",
    "    num_points = np.size(x,1)\n",
    "\n",
    "    # N_hidden is the number of hidden layers\n",
    "    N_hidden = np.size(deep_params) - 1 # -1 since params consist of parameters to all the hidden layers AND the output layer\n",
    "\n",
    "    # Assume that the input layer does nothing to the input x\n",
    "    x_input = x\n",
    "    x_prev = x_input\n",
    "\n",
    "    ## Hidden layers:\n",
    "\n",
    "    for l in range(N_hidden):\n",
    "        # From the list of parameters P; find the correct weigths and bias for this layer\n",
    "        w_hidden = deep_params[l]\n",
    "\n",
    "        # Add a row of ones to include bias\n",
    "        x_prev = np.concatenate((np.ones((1,num_points)), x_prev ), axis = 0)\n",
    "\n",
    "        z_hidden = np.matmul(w_hidden, x_prev)\n",
    "        x_hidden = sigmoid(z_hidden)\n",
    "\n",
    "        # Update x_prev such that next layer can use the output from this layer\n",
    "        x_prev = x_hidden\n",
    "\n",
    "    ## Output layer:\n",
    "\n",
    "    # Get the weights and bias for this layer\n",
    "    w_output = deep_params[-1]\n",
    "\n",
    "    # Include bias:\n",
    "    x_prev = np.concatenate((np.ones((1,num_points)), x_prev), axis = 0)\n",
    "\n",
    "    z_output = np.matmul(w_output, x_prev)\n",
    "    x_output = z_output\n",
    "\n",
    "    return x_output[0][0]\n",
    "\n",
    "## The analytical solution\n",
    "def g_analytic(point):\n",
    "    x,t = point\n",
    "    return np.sin(np.pi*x)*np.cos(np.pi*t) - np.sin(np.pi*x)*np.sin(np.pi*t)\n",
    "\n",
    "def solve_pde_deep_neural_network(x,t, num_neurons, num_iter, lmb):\n",
    "    ## Set up initial weigths and biases\n",
    "    N_hidden = np.size(num_neurons)\n",
    "\n",
    "    ## Set up initial weigths and biases\n",
    "\n",
    "    # Initialize the list of parameters:\n",
    "    P = [None]*(N_hidden + 1) # + 1 to include the output layer\n",
    "\n",
    "    P[0] = npr.randn(num_neurons[0], 2 + 1 ) # 2 since we have two points, +1 to include bias\n",
    "    for l in range(1,N_hidden):\n",
    "        P[l] = npr.randn(num_neurons[l], num_neurons[l-1] + 1) # +1 to include bias\n",
    "\n",
    "    # For the output layer\n",
    "    P[-1] = npr.randn(1, num_neurons[-1] + 1 ) # +1 since bias is included\n",
    "\n",
    "    print('Initial cost: ',cost_function(P, x, t))\n",
    "\n",
    "    cost_function_grad = grad(cost_function,0)\n",
    "\n",
    "    # Let the update be done num_iter times\n",
    "    for i in range(num_iter):\n",
    "        cost_grad =  cost_function_grad(P, x , t)\n",
    "\n",
    "        for l in range(N_hidden+1):\n",
    "            P[l] = P[l] - lmb * cost_grad[l]\n",
    "\n",
    "\n",
    "    print('Final cost: ',cost_function(P, x, t))\n",
    "\n",
    "    return P\n",
    "\n",
    "if __name__ == '__main__':\n",
    "    ### Use the neural network:\n",
    "    npr.seed(15)\n",
    "\n",
    "    ## Decide the vales of arguments to the function to solve\n",
    "    Nx = 10; Nt = 10\n",
    "    x = np.linspace(0, 1, Nx)\n",
    "    t = np.linspace(0,1,Nt)\n",
    "\n",
    "    ## Set up the parameters for the network\n",
    "    num_hidden_neurons = [50,20]\n",
    "    num_iter = 1000\n",
    "    lmb = 0.01\n",
    "\n",
    "    P = solve_pde_deep_neural_network(x,t, num_hidden_neurons, num_iter, lmb)\n",
    "\n",
    "    ## Store the results\n",
    "    res = np.zeros((Nx, Nt))\n",
    "    res_analytical = np.zeros((Nx, Nt))\n",
    "    for i,x_ in enumerate(x):\n",
    "        for j, t_ in enumerate(t):\n",
    "            point = np.array([x_, t_])\n",
    "            res[i,j] = g_trial(point,P)\n",
    "\n",
    "            res_analytical[i,j] = g_analytic(point)\n",
    "\n",
    "    diff = np.abs(res - res_analytical)\n",
    "    print(\"Max difference between analytical and solution from nn: %g\"%np.max(diff))\n",
    "\n",
    "    ## Plot the solutions in two dimensions, that being in position and time\n",
    "\n",
    "    T,X = np.meshgrid(t,x)\n",
    "\n",
    "    fig = plt.figure(figsize=(10,10))\n",
    "    ax = fig.gca(projection='3d')\n",
    "    ax.set_title('Solution from the deep neural network w/ %d layer'%len(num_hidden_neurons))\n",
    "    s = ax.plot_surface(T,X,res,linewidth=0,antialiased=False,cmap=cm.viridis)\n",
    "    ax.set_xlabel('Time $t$')\n",
    "    ax.set_ylabel('Position $x$');\n",
    "\n",
    "\n",
    "    fig = plt.figure(figsize=(10,10))\n",
    "    ax = fig.gca(projection='3d')\n",
    "    ax.set_title('Analytical solution')\n",
    "    s = ax.plot_surface(T,X,res_analytical,linewidth=0,antialiased=False,cmap=cm.viridis)\n",
    "    ax.set_xlabel('Time $t$')\n",
    "    ax.set_ylabel('Position $x$');\n",
    "\n",
    "\n",
    "    fig = plt.figure(figsize=(10,10))\n",
    "    ax = fig.gca(projection='3d')\n",
    "    ax.set_title('Difference')\n",
    "    s = ax.plot_surface(T,X,diff,linewidth=0,antialiased=False,cmap=cm.viridis)\n",
    "    ax.set_xlabel('Time $t$')\n",
    "    ax.set_ylabel('Position $x$');\n",
    "\n",
    "    ## Take some slices of the 3D plots just to see the solutions at particular times\n",
    "    indx1 = 0\n",
    "    indx2 = int(Nt/2)\n",
    "    indx3 = Nt-1\n",
    "\n",
    "    t1 = t[indx1]\n",
    "    t2 = t[indx2]\n",
    "    t3 = t[indx3]\n",
    "\n",
    "    # Slice the results from the DNN\n",
    "    res1 = res[:,indx1]\n",
    "    res2 = res[:,indx2]\n",
    "    res3 = res[:,indx3]\n",
    "\n",
    "    # Slice the analytical results\n",
    "    res_analytical1 = res_analytical[:,indx1]\n",
    "    res_analytical2 = res_analytical[:,indx2]\n",
    "    res_analytical3 = res_analytical[:,indx3]\n",
    "\n",
    "    # Plot the slices\n",
    "    plt.figure(figsize=(10,10))\n",
    "    plt.title(\"Computed solutions at time = %g\"%t1)\n",
    "    plt.plot(x, res1)\n",
    "    plt.plot(x,res_analytical1)\n",
    "    plt.legend(['dnn','analytical'])\n",
    "\n",
    "    plt.figure(figsize=(10,10))\n",
    "    plt.title(\"Computed solutions at time = %g\"%t2)\n",
    "    plt.plot(x, res2)\n",
    "    plt.plot(x,res_analytical2)\n",
    "    plt.legend(['dnn','analytical'])\n",
    "\n",
    "    plt.figure(figsize=(10,10))\n",
    "    plt.title(\"Computed solutions at time = %g\"%t3)\n",
    "    plt.plot(x, res3)\n",
    "    plt.plot(x,res_analytical3)\n",
    "    plt.legend(['dnn','analytical'])\n",
    "\n",
    "    plt.show()"
   ]
  },
  {
   "cell_type": "markdown",
   "id": "043dd7ad",
   "metadata": {},
   "source": [
    "## Convolutional Neural Networks (recognizing images)\n",
    "\n",
    "Convolutional neural networks (CNNs) were developed during the last\n",
    "decade of the previous century, with a focus on character recognition\n",
    "tasks. Nowadays, CNNs are a central element in the spectacular success\n",
    "of deep learning methods. The success in for example image\n",
    "classifications have made them a central tool for most machine\n",
    "learning practitioners.\n",
    "\n",
    "CNNs are very similar to ordinary Neural Networks.\n",
    "They are made up of neurons that have learnable weights and\n",
    "biases. Each neuron receives some inputs, performs a dot product and\n",
    "optionally follows it with a non-linearity. The whole network still\n",
    "expresses a single differentiable score function: from the raw image\n",
    "pixels on one end to class scores at the other. And they still have a\n",
    "loss function (for example Softmax) on the last (fully-connected) layer\n",
    "and all the tips/tricks we developed for learning regular Neural\n",
    "Networks still apply (back propagation, gradient descent etc etc)."
   ]
  },
  {
   "cell_type": "markdown",
   "id": "97dacce2",
   "metadata": {},
   "source": [
    "## What is the Difference\n",
    "\n",
    "**CNN architectures make the explicit assumption that\n",
    "the inputs are images, which allows us to encode certain properties\n",
    "into the architecture. These then make the forward function more\n",
    "efficient to implement and vastly reduce the amount of parameters in\n",
    "the network.**\n",
    "\n",
    "Here we provide only a superficial overview, for the more interested, we recommend highly the course\n",
    "[IN5400 – Machine Learning for Image Analysis](https://www.uio.no/studier/emner/matnat/ifi/IN5400/index-eng.html)\n",
    "and the slides of [CS231](http://cs231n.github.io/convolutional-networks/).\n",
    "\n",
    "Another good read is the article here <https://arxiv.org/pdf/1603.07285.pdf>."
   ]
  },
  {
   "cell_type": "markdown",
   "id": "b65c2913",
   "metadata": {},
   "source": [
    "## Neural Networks vs CNNs\n",
    "\n",
    "Neural networks are defined as **affine transformations**, that is \n",
    "a vector is received as input and is multiplied with a matrix of so-called weights (our unknown paramters) to produce an\n",
    "output (to which a bias vector is usually added before passing the result\n",
    "through a nonlinear activation function). This is applicable to any type of input, be it an\n",
    "image, a sound clip or an unordered collection of features: whatever their\n",
    "dimensionality, their representation can always be flattened into a vector\n",
    "before the transformation."
   ]
  },
  {
   "cell_type": "markdown",
   "id": "fe89b07b",
   "metadata": {},
   "source": [
    "## Why CNNS for images, sound files, medical images from CT scans etc?\n",
    "\n",
    "However, when we consider images, sound clips and many other similar kinds of data, these data  have an intrinsic\n",
    "structure. More formally, they share these important properties:\n",
    "* They are stored as multi-dimensional arrays (think of the pixels of a figure) .\n",
    "\n",
    "* They feature one or more axes for which ordering matters (e.g., width and height axes for an image, time axis for a sound clip).\n",
    "\n",
    "* One axis, called the channel axis, is used to access different views of the data (e.g., the red, green and blue channels of a color image, or the left and right channels of a stereo audio track).\n",
    "\n",
    "These properties are not exploited when an affine transformation is applied; in\n",
    "fact, all the axes are treated in the same way and the topological information\n",
    "is not taken into account. Still, taking advantage of the implicit structure of\n",
    "the data may prove very handy in solving some tasks, like computer vision and\n",
    "speech recognition, and in these cases it would be best to preserve it. This is\n",
    "where discrete convolutions come into play.\n",
    "\n",
    "A discrete convolution is a linear transformation that preserves this notion of\n",
    "ordering. It is sparse (only a few input units contribute to a given output\n",
    "unit) and reuses parameters (the same weights are applied to multiple locations\n",
    "in the input)."
   ]
  },
  {
   "cell_type": "markdown",
   "id": "7c2d3fac",
   "metadata": {},
   "source": [
    "## Regular NNs don’t scale well to full images\n",
    "\n",
    "As an example, consider\n",
    "an image of size $32\\times 32\\times 3$ (32 wide, 32 high, 3 color channels), so a\n",
    "single fully-connected neuron in a first hidden layer of a regular\n",
    "Neural Network would have $32\\times 32\\times 3 = 3072$ weights. This amount still\n",
    "seems manageable, but clearly this fully-connected structure does not\n",
    "scale to larger images. For example, an image of more respectable\n",
    "size, say $200\\times 200\\times 3$, would lead to neurons that have \n",
    "$200\\times 200\\times 3 = 120,000$ weights. \n",
    "\n",
    "We could have\n",
    "several such neurons, and the parameters would add up quickly! Clearly,\n",
    "this full connectivity is wasteful and the huge number of parameters\n",
    "would quickly lead to possible overfitting.\n",
    "\n",
    "<!-- dom:FIGURE: [figslides/nn.jpeg, width=500 frac=0.6]  A regular 3-layer Neural Network. -->\n",
    "<!-- begin figure -->\n",
    "\n",
    "<img src=\"figslides/nn.jpeg\" width=\"500\"><p style=\"font-size: 0.9em\"><i>Figure 1: A regular 3-layer Neural Network.</i></p>\n",
    "<!-- end figure -->"
   ]
  },
  {
   "cell_type": "markdown",
   "id": "ca474266",
   "metadata": {},
   "source": [
    "## 3D volumes of neurons\n",
    "\n",
    "Convolutional Neural Networks take advantage of the fact that the\n",
    "input consists of images and they constrain the architecture in a more\n",
    "sensible way. \n",
    "\n",
    "In particular, unlike a regular Neural Network, the\n",
    "layers of a CNN have neurons arranged in 3 dimensions: width,\n",
    "height, depth. (Note that the word depth here refers to the third\n",
    "dimension of an activation volume, not to the depth of a full Neural\n",
    "Network, which can refer to the total number of layers in a network.)\n",
    "\n",
    "To understand it better, the above example of an image \n",
    "with an input volume of\n",
    "activations has dimensions $32\\times 32\\times 3$ (width, height,\n",
    "depth respectively). \n",
    "\n",
    "The neurons in a layer will\n",
    "only be connected to a small region of the layer before it, instead of\n",
    "all of the neurons in a fully-connected manner. Moreover, the final\n",
    "output layer could  for this specific image have dimensions $1\\times 1 \\times 10$, \n",
    "because by the\n",
    "end of the CNN architecture we will reduce the full image into a\n",
    "single vector of class scores, arranged along the depth\n",
    "dimension. \n",
    "\n",
    "<!-- dom:FIGURE: [figslides/cnn.jpeg, width=500 frac=0.6]  A CNN arranges its neurons in three dimensions (width, height, depth), as visualized in one of the layers. Every layer of a CNN transforms the 3D input volume to a 3D output volume of neuron activations. In this example, the red input layer holds the image, so its width and height would be the dimensions of the image, and the depth would be 3 (Red, Green, Blue channels). -->\n",
    "<!-- begin figure -->\n",
    "\n",
    "<img src=\"figslides/cnn.jpeg\" width=\"500\"><p style=\"font-size: 0.9em\"><i>Figure 1: A CNN arranges its neurons in three dimensions (width, height, depth), as visualized in one of the layers. Every layer of a CNN transforms the 3D input volume to a 3D output volume of neuron activations. In this example, the red input layer holds the image, so its width and height would be the dimensions of the image, and the depth would be 3 (Red, Green, Blue channels).</i></p>\n",
    "<!-- end figure -->"
   ]
  },
  {
   "cell_type": "markdown",
   "id": "2b2a45f3",
   "metadata": {},
   "source": [
    "## Layers used to build CNNs\n",
    "\n",
    "A simple CNN is a sequence of layers, and every layer of a CNN\n",
    "transforms one volume of activations to another through a\n",
    "differentiable function. We use three main types of layers to build\n",
    "CNN architectures: Convolutional Layer, Pooling Layer, and\n",
    "Fully-Connected Layer (exactly as seen in regular Neural Networks). We\n",
    "will stack these layers to form a full CNN architecture.\n",
    "\n",
    "A simple CNN for image classification could have the architecture:\n",
    "\n",
    "* **INPUT** ($32\\times 32 \\times 3$) will hold the raw pixel values of the image, in this case an image of width 32, height 32, and with three color channels R,G,B.\n",
    "\n",
    "* **CONV** (convolutional )layer will compute the output of neurons that are connected to local regions in the input, each computing a dot product between their weights and a small region they are connected to in the input volume. This may result in volume such as $[32\\times 32\\times 12]$ if we decided to use 12 filters.\n",
    "\n",
    "* **RELU** layer will apply an elementwise activation function, such as the $max(0,x)$ thresholding at zero. This leaves the size of the volume unchanged ($[32\\times 32\\times 12]$).\n",
    "\n",
    "* **POOL** (pooling) layer will perform a downsampling operation along the spatial dimensions (width, height), resulting in volume such as $[16\\times 16\\times 12]$.\n",
    "\n",
    "* **FC** (i.e. fully-connected) layer will compute the class scores, resulting in volume of size $[1\\times 1\\times 10]$, where each of the 10 numbers correspond to a class score, such as among the 10 categories of the MNIST images we considered above . As with ordinary Neural Networks and as the name implies, each neuron in this layer will be connected to all the numbers in the previous volume."
   ]
  },
  {
   "cell_type": "markdown",
   "id": "bdea309a",
   "metadata": {},
   "source": [
    "## Transforming images\n",
    "\n",
    "CNNs transform the original image layer by layer from the original\n",
    "pixel values to the final class scores. \n",
    "\n",
    "Observe that some layers contain\n",
    "parameters and other don’t. In particular, the CNN layers perform\n",
    "transformations that are a function of not only the activations in the\n",
    "input volume, but also of the parameters (the weights and biases of\n",
    "the neurons). On the other hand, the RELU/POOL layers will implement a\n",
    "fixed function. The parameters in the CONV/FC layers will be trained\n",
    "with gradient descent so that the class scores that the CNN computes\n",
    "are consistent with the labels in the training set for each image."
   ]
  },
  {
   "cell_type": "markdown",
   "id": "6b8c2355",
   "metadata": {},
   "source": [
    "## CNNs in brief\n",
    "\n",
    "In summary:\n",
    "\n",
    "* A CNN architecture is in the simplest case a list of Layers that transform the image volume into an output volume (e.g. holding the class scores)\n",
    "\n",
    "* There are a few distinct types of Layers (e.g. CONV/FC/RELU/POOL are by far the most popular)\n",
    "\n",
    "* Each Layer accepts an input 3D volume and transforms it to an output 3D volume through a differentiable function\n",
    "\n",
    "* Each Layer may or may not have parameters (e.g. CONV/FC do, RELU/POOL don’t)\n",
    "\n",
    "* Each Layer may or may not have additional hyperparameters (e.g. CONV/FC/POOL do, RELU doesn’t)\n",
    "\n",
    "For more material on convolutional networks, we strongly recommend\n",
    "the course\n",
    "[IN5400 – Machine Learning for Image Analysis](https://www.uio.no/studier/emner/matnat/ifi/IN5400/index-eng.html)\n",
    "and the slides of [CS231](http://cs231n.github.io/convolutional-networks/) which is taught at Stanford University (consistently ranked as one of the top computer science programs in the world). [Michael Nielsen's book is a must read, in particular chapter 6 which deals with CNNs](http://neuralnetworksanddeeplearning.com/chap6.html).\n",
    "\n",
    "The textbook by Goodfellow et al, see chapter 9 contains an in depth discussion as well."
   ]
  },
  {
   "cell_type": "markdown",
   "id": "89f1c659",
   "metadata": {},
   "source": [
    "## Key Idea\n",
    "\n",
    "A dense neural network is representd by an affine operation (like matrix-matrix multiplication) where all parameters are included.\n",
    "\n",
    "The key idea in CNNs for say imaging is that in images neighbor pixels tend to be related! So we connect\n",
    "only neighboring neurons in the input instead of connecting all with the first hidden layer.\n",
    "\n",
    "We say we perform a filtering (convolution is the mathematical operation)."
   ]
  },
  {
   "cell_type": "markdown",
   "id": "f8da3042",
   "metadata": {},
   "source": [
    "## Mathematics of CNNs\n",
    "\n",
    "The mathematics of CNNs is based on the mathematical operation of\n",
    "**convolution**.  In mathematics (in particular in functional analysis),\n",
    "convolution is represented by matheematical operation (integration,\n",
    "summation etc) on two function in order to produce a third function\n",
    "that expresses how the shape of one gets modified by the other.\n",
    "Convolution has a plethora of applications in a variety of disciplines, spanning from statistics to signal processing, computer vision, solutions of differential equations,linear algebra, engineering,  and yes, machine learning.\n",
    "\n",
    "Mathematically, convolution is defined as follows (one-dimensional example):\n",
    "Let us define a continuous function $y(t)$ given by"
   ]
  },
  {
   "cell_type": "markdown",
   "id": "d25ed6a5",
   "metadata": {},
   "source": [
    "$$\n",
    "y(t) = \\int x(a) w(t-a) da,\n",
    "$$"
   ]
  },
  {
   "cell_type": "markdown",
   "id": "cfcc8be0",
   "metadata": {},
   "source": [
    "where $x(a)$ represents a so-called input and $w(t-a)$ is normally called the weight function or kernel.\n",
    "\n",
    "The above integral is written in  a more compact form as"
   ]
  },
  {
   "cell_type": "markdown",
   "id": "9f06f290",
   "metadata": {},
   "source": [
    "$$\n",
    "y(t) = \\left(x * w\\right)(t).\n",
    "$$"
   ]
  },
  {
   "cell_type": "markdown",
   "id": "a5cbf4ec",
   "metadata": {},
   "source": [
    "The discretized version reads"
   ]
  },
  {
   "cell_type": "markdown",
   "id": "2929d990",
   "metadata": {},
   "source": [
    "$$\n",
    "y(t) = \\sum_{a=-\\infty}^{a=\\infty}x(a)w(t-a).\n",
    "$$"
   ]
  },
  {
   "cell_type": "markdown",
   "id": "8c8d709f",
   "metadata": {},
   "source": [
    "Computing the inverse of the above convolution operations is known as deconvolution.\n",
    "\n",
    "How can we use this? And what does it mean? Let us study some familiar examples first."
   ]
  },
  {
   "cell_type": "markdown",
   "id": "d1a93322",
   "metadata": {},
   "source": [
    "## Convolution Examples: Polynomial multiplication\n",
    "\n",
    "We have already met such an example in project 1 when we tried to set\n",
    "up the design matrix for a two-dimensional function. This was an\n",
    "example of polynomial multiplication.  Let us recast such a problem in terms of the convolution operation.\n",
    "Let us look a the following polynomials to second and third order, respectively:"
   ]
  },
  {
   "cell_type": "markdown",
   "id": "92e814d9",
   "metadata": {},
   "source": [
    "$$\n",
    "p(t) = \\alpha_0+\\alpha_1 t+\\alpha_2 t^2,\n",
    "$$"
   ]
  },
  {
   "cell_type": "markdown",
   "id": "8694bd86",
   "metadata": {},
   "source": [
    "and"
   ]
  },
  {
   "cell_type": "markdown",
   "id": "c1d0c667",
   "metadata": {},
   "source": [
    "$$\n",
    "s(t) = \\beta_0+\\beta_1 t+\\beta_2 t^2+\\beta_3 t^3.\n",
    "$$"
   ]
  },
  {
   "cell_type": "markdown",
   "id": "0868233d",
   "metadata": {},
   "source": [
    "The polynomial multiplication gives us a new polynomial of degree $5$"
   ]
  },
  {
   "cell_type": "markdown",
   "id": "6dc821fb",
   "metadata": {},
   "source": [
    "$$\n",
    "z(t) = \\delta_0+\\delta_1 t+\\delta_2 t^2+\\delta_3 t^3+\\delta_4 t^4+\\delta_5 t^5.\n",
    "$$"
   ]
  },
  {
   "cell_type": "markdown",
   "id": "ae5fb4e8",
   "metadata": {},
   "source": [
    "## Efficient Polynomial Multiplication\n",
    "\n",
    "Computing polynomial products can be implemented efficiently if we rewrite the more brute force multiplications using convolution.\n",
    "We note first that the new coefficients are given as"
   ]
  },
  {
   "cell_type": "markdown",
   "id": "e7098bc8",
   "metadata": {},
   "source": [
    "$$\n",
    "\\begin{split}\n",
    "\\delta_0=&\\alpha_0\\beta_0\\\\\n",
    "\\delta_1=&\\alpha_1\\beta_0+\\alpha_1\\beta_0\\\\\n",
    "\\delta_2=&\\alpha_0\\beta_2+\\alpha_1\\beta_1+\\alpha_2\\beta_0\\\\\n",
    "\\delta_3=&\\alpha_1\\beta_2+\\alpha_2\\beta_1+\\alpha_0\\beta_3\\\\\n",
    "\\delta_4=&\\alpha_2\\beta_2+\\alpha_1\\beta_3\\\\\n",
    "\\delta_5=&\\alpha_2\\beta_3.\\\\\n",
    "\\end{split}\n",
    "$$"
   ]
  },
  {
   "cell_type": "markdown",
   "id": "cd9a51ec",
   "metadata": {},
   "source": [
    "We note that $\\alpha_i=0$ except for $i\\in \\left\\{0,1,2\\right\\}$ and $\\beta_i=0$ except for $i\\in\\left\\{0,1,2,3\\right\\}$.\n",
    "\n",
    "We can then rewrite the coefficients $\\delta_j$ using a discrete convolution as"
   ]
  },
  {
   "cell_type": "markdown",
   "id": "cd9c5099",
   "metadata": {},
   "source": [
    "$$\n",
    "\\delta_j = \\sum_{i=-\\infty}^{i=\\infty}\\alpha_i\\beta_{j-i}=(\\alpha * \\beta)_j,\n",
    "$$"
   ]
  },
  {
   "cell_type": "markdown",
   "id": "9388251f",
   "metadata": {},
   "source": [
    "or as a double sum with restriction $l=i+j$"
   ]
  },
  {
   "cell_type": "markdown",
   "id": "174537ac",
   "metadata": {},
   "source": [
    "$$\n",
    "\\delta_l = \\sum_{ij}\\alpha_i\\beta_{j}.\n",
    "$$"
   ]
  },
  {
   "cell_type": "markdown",
   "id": "05067ee8",
   "metadata": {},
   "source": [
    "Do you see a potential drawback with these equations?"
   ]
  },
  {
   "cell_type": "markdown",
   "id": "fbdb2ce1",
   "metadata": {},
   "source": [
    "## A more efficient way of coding the above Convolution\n",
    "\n",
    "Since we only have a finite number of $\\alpha$ and $\\beta$ values\n",
    "which are non-zero, we can rewrite the above convolution expressions\n",
    "as a matrix-vector multiplication"
   ]
  },
  {
   "cell_type": "markdown",
   "id": "e549fe79",
   "metadata": {},
   "source": [
    "$$\n",
    "\\boldsymbol{\\delta}=\\begin{bmatrix}\\alpha_0 & 0 & 0 & 0 \\\\\n",
    "                            \\alpha_1 & \\alpha_0 & 0 & 0 \\\\\n",
    "\t\t\t    \\alpha_2 & \\alpha_1 & \\alpha_0 & 0 \\\\\n",
    "\t\t\t    0 & \\alpha_2 & \\alpha_1 & \\alpha_0 \\\\\n",
    "\t\t\t    0 & 0 & \\alpha_2 & \\alpha_1 \\\\\n",
    "\t\t\t    0 & 0 & 0 & \\alpha_2\n",
    "\t\t\t    \\end{bmatrix}\\begin{bmatrix} \\beta_0 \\\\ \\beta_1 \\\\ \\beta_2 \\\\ \\beta_3\\end{bmatrix}.\n",
    "$$"
   ]
  },
  {
   "cell_type": "markdown",
   "id": "df6b50f6",
   "metadata": {},
   "source": [
    "The process is commutative and we can easily see that we can rewrite the multiplication in terms of  a matrix holding $\\beta$ and a vector holding $\\alpha$.\n",
    "In this case we have"
   ]
  },
  {
   "cell_type": "markdown",
   "id": "d5ba950b",
   "metadata": {},
   "source": [
    "$$\n",
    "\\boldsymbol{\\delta}=\\begin{bmatrix}\\beta_0 & 0 & 0  \\\\\n",
    "                            \\beta_1 & \\beta_0 & 0  \\\\\n",
    "\t\t\t    \\beta_2 & \\beta_1 & \\beta_0  \\\\\n",
    "\t\t\t    \\beta_3 & \\beta_2 & \\beta_1 \\\\\n",
    "\t\t\t    0 & \\beta_3 & \\beta_2 \\\\\n",
    "\t\t\t    0 & 0 & \\beta_3\n",
    "\t\t\t    \\end{bmatrix}\\begin{bmatrix} \\alpha_0 \\\\ \\alpha_1 \\\\ \\alpha_2\\end{bmatrix}.\n",
    "$$"
   ]
  },
  {
   "cell_type": "markdown",
   "id": "7222cd72",
   "metadata": {},
   "source": [
    "Note that the use of these  matrices is for mathematical purposes only  and not implementation purposes.\n",
    "When implementing the above equation we do not encode (and allocate memory) the matrices explicitely.\n",
    "We rather code the convolutions in the minimal memory footprint that they require.\n",
    "\n",
    "Does the number of floating point operations change here when we use the commutative property?"
   ]
  },
  {
   "cell_type": "markdown",
   "id": "0d004102",
   "metadata": {},
   "source": [
    "## Convolution Examples: Principle of Superposition and Periodic Forces (Fourier Transforms)\n",
    "\n",
    "For problems with so-called harmonic oscillations, given by for example the following differential equation"
   ]
  },
  {
   "cell_type": "markdown",
   "id": "d1b19ea1",
   "metadata": {},
   "source": [
    "$$\n",
    "m\\frac{d^2x}{dt^2}+\\eta\\frac{dx}{dt}+x(t)=F(t),\n",
    "$$"
   ]
  },
  {
   "cell_type": "markdown",
   "id": "af5d70ff",
   "metadata": {},
   "source": [
    "where $F(t)$ is an applied external force acting on the system (often called a driving force), one can use the theory of Fourier transformations to find the solutions of this type of equations.\n",
    "\n",
    "If one has several driving forces, $F(t)=\\sum_n F_n(t)$, one can find\n",
    "the particular solution to each $F_n$, $x_{pn}(t)$, and the particular\n",
    "solution for the entire driving force is then given by a series like"
   ]
  },
  {
   "cell_type": "markdown",
   "id": "2f591e4a",
   "metadata": {},
   "source": [
    "<!-- Equation labels as ordinary links -->\n",
    "<div id=\"_auto8\"></div>\n",
    "\n",
    "$$\n",
    "\\begin{equation}\n",
    "x_p(t)=\\sum_nx_{pn}(t).\n",
    "\\label{_auto8} \\tag{37}\n",
    "\\end{equation}\n",
    "$$"
   ]
  },
  {
   "cell_type": "markdown",
   "id": "1ef15723",
   "metadata": {},
   "source": [
    "## Principle of Superposition\n",
    "\n",
    "This is known as the principle of superposition. It only applies when\n",
    "the homogenous equation is linear. If there were an anharmonic term\n",
    "such as $x^3$ in the homogenous equation, then when one summed various\n",
    "solutions, $x=(\\sum_n x_n)^2$, one would get cross\n",
    "terms. Superposition is especially useful when $F(t)$ can be written\n",
    "as a sum of sinusoidal terms, because the solutions for each\n",
    "sinusoidal (sine or cosine)  term is analytic. \n",
    "\n",
    "Driving forces are often periodic, even when they are not\n",
    "sinusoidal. Periodicity implies that for some time $\\tau$"
   ]
  },
  {
   "cell_type": "markdown",
   "id": "4c554280",
   "metadata": {},
   "source": [
    "$$\n",
    "\\begin{eqnarray}\n",
    "F(t+\\tau)=F(t). \n",
    "\\end{eqnarray}\n",
    "$$"
   ]
  },
  {
   "cell_type": "markdown",
   "id": "f57e59d1",
   "metadata": {},
   "source": [
    "One example of a non-sinusoidal periodic force is a square wave. Many\n",
    "components in electric circuits are non-linear, e.g. diodes, which\n",
    "makes many wave forms non-sinusoidal even when the circuits are being\n",
    "driven by purely sinusoidal sources."
   ]
  },
  {
   "cell_type": "markdown",
   "id": "13392f54",
   "metadata": {},
   "source": [
    "## Simple Code Example\n",
    "\n",
    "The code here shows a typical example of such a square wave generated using the functionality included in the **scipy** Python package. We have used a period of $\\tau=0.2$."
   ]
  },
  {
   "cell_type": "code",
   "execution_count": 11,
   "id": "c0b94316",
   "metadata": {},
   "outputs": [],
   "source": [
    "import numpy as np\n",
    "import math\n",
    "from scipy import signal\n",
    "import matplotlib.pyplot as plt\n",
    "\n",
    "# number of points                                                                                       \n",
    "n = 500\n",
    "# start and final times                                                                                  \n",
    "t0 = 0.0\n",
    "tn = 1.0\n",
    "# Period                                                                                                 \n",
    "t = np.linspace(t0, tn, n, endpoint=False)\n",
    "SqrSignal = np.zeros(n)\n",
    "SqrSignal = 1.0+signal.square(2*np.pi*5*t)\n",
    "plt.plot(t, SqrSignal)\n",
    "plt.ylim(-0.5, 2.5)\n",
    "plt.show()"
   ]
  },
  {
   "cell_type": "markdown",
   "id": "fedb6902",
   "metadata": {},
   "source": [
    "For the sinusoidal example the\n",
    "period is $\\tau=2\\pi/\\omega$. However, higher harmonics can also\n",
    "satisfy the periodicity requirement. In general, any force that\n",
    "satisfies the periodicity requirement can be expressed as a sum over\n",
    "harmonics,"
   ]
  },
  {
   "cell_type": "markdown",
   "id": "c97eba88",
   "metadata": {},
   "source": [
    "<!-- Equation labels as ordinary links -->\n",
    "<div id=\"_auto9\"></div>\n",
    "\n",
    "$$\n",
    "\\begin{equation}\n",
    "F(t)=\\frac{f_0}{2}+\\sum_{n>0} f_n\\cos(2n\\pi t/\\tau)+g_n\\sin(2n\\pi t/\\tau).\n",
    "\\label{_auto9} \\tag{38}\n",
    "\\end{equation}\n",
    "$$"
   ]
  },
  {
   "cell_type": "markdown",
   "id": "1f12ef9a",
   "metadata": {},
   "source": [
    "## Wrapping up Fourier transforms\n",
    "\n",
    "We can write down the answer for\n",
    "$x_{pn}(t)$, by substituting $f_n/m$ or $g_n/m$ for $F_0/m$. By\n",
    "writing each factor $2n\\pi t/\\tau$ as $n\\omega t$, with $\\omega\\equiv\n",
    "2\\pi/\\tau$,"
   ]
  },
  {
   "cell_type": "markdown",
   "id": "af396fd1",
   "metadata": {},
   "source": [
    "<!-- Equation labels as ordinary links -->\n",
    "<div id=\"eq:fourierdef1\"></div>\n",
    "\n",
    "$$\n",
    "\\begin{equation}\n",
    "\\label{eq:fourierdef1} \\tag{39}\n",
    "F(t)=\\frac{f_0}{2}+\\sum_{n>0}f_n\\cos(n\\omega t)+g_n\\sin(n\\omega t).\n",
    "\\end{equation}\n",
    "$$"
   ]
  },
  {
   "cell_type": "markdown",
   "id": "5d5cb1fc",
   "metadata": {},
   "source": [
    "The solutions for $x(t)$ then come from replacing $\\omega$ with\n",
    "$n\\omega$ for each term in the particular solution,"
   ]
  },
  {
   "cell_type": "markdown",
   "id": "7248ca5b",
   "metadata": {},
   "source": [
    "$$\n",
    "\\begin{eqnarray}\n",
    "x_p(t)&=&\\frac{f_0}{2k}+\\sum_{n>0} \\alpha_n\\cos(n\\omega t-\\delta_n)+\\beta_n\\sin(n\\omega t-\\delta_n),\\\\\n",
    "\\nonumber\n",
    "\\alpha_n&=&\\frac{f_n/m}{\\sqrt{((n\\omega)^2-\\omega_0^2)+4\\beta^2n^2\\omega^2}},\\\\\n",
    "\\nonumber\n",
    "\\beta_n&=&\\frac{g_n/m}{\\sqrt{((n\\omega)^2-\\omega_0^2)+4\\beta^2n^2\\omega^2}},\\\\\n",
    "\\nonumber\n",
    "\\delta_n&=&\\tan^{-1}\\left(\\frac{2\\beta n\\omega}{\\omega_0^2-n^2\\omega^2}\\right).\n",
    "\\end{eqnarray}\n",
    "$$"
   ]
  },
  {
   "cell_type": "markdown",
   "id": "8fcb89aa",
   "metadata": {},
   "source": [
    "## Finding the Coefficients\n",
    "\n",
    "Because the forces have been applied for a long time, any non-zero\n",
    "damping eliminates the homogenous parts of the solution, so one need\n",
    "only consider the particular solution for each $n$.\n",
    "\n",
    "The problem is considered solved if one can find expressions for the\n",
    "coefficients $f_n$ and $g_n$, even though the solutions are expressed\n",
    "as an infinite sum. The coefficients can be extracted from the\n",
    "function $F(t)$ by"
   ]
  },
  {
   "cell_type": "markdown",
   "id": "19579ec2",
   "metadata": {},
   "source": [
    "<!-- Equation labels as ordinary links -->\n",
    "<div id=\"eq:fourierdef2\"></div>\n",
    "\n",
    "$$\n",
    "\\begin{eqnarray}\n",
    "\\label{eq:fourierdef2} \\tag{40}\n",
    "f_n&=&\\frac{2}{\\tau}\\int_{-\\tau/2}^{\\tau/2} dt~F(t)\\cos(2n\\pi t/\\tau),\\\\\n",
    "\\nonumber\n",
    "g_n&=&\\frac{2}{\\tau}\\int_{-\\tau/2}^{\\tau/2} dt~F(t)\\sin(2n\\pi t/\\tau).\n",
    "\\end{eqnarray}\n",
    "$$"
   ]
  },
  {
   "cell_type": "markdown",
   "id": "f305544e",
   "metadata": {},
   "source": [
    "To check the consistency of these expressions and to verify\n",
    "Eq. ([40](#eq:fourierdef2)), one can insert the expansion of $F(t)$ in\n",
    "Eq. ([39](#eq:fourierdef1)) into the expression for the coefficients in\n",
    "Eq. ([40](#eq:fourierdef2)) and see whether"
   ]
  },
  {
   "cell_type": "markdown",
   "id": "cbd1d781",
   "metadata": {},
   "source": [
    "$$\n",
    "\\begin{eqnarray}\n",
    "f_n&=?&\\frac{2}{\\tau}\\int_{-\\tau/2}^{\\tau/2} dt~\\left\\{\n",
    "\\frac{f_0}{2}+\\sum_{m>0}f_m\\cos(m\\omega t)+g_m\\sin(m\\omega t)\n",
    "\\right\\}\\cos(n\\omega t).\n",
    "\\end{eqnarray}\n",
    "$$"
   ]
  },
  {
   "cell_type": "markdown",
   "id": "75086bd3",
   "metadata": {},
   "source": [
    "Immediately, one can throw away all the terms with $g_m$ because they\n",
    "convolute an even and an odd function. The term with $f_0/2$\n",
    "disappears because $\\cos(n\\omega t)$ is equally positive and negative\n",
    "over the interval and will integrate to zero. For all the terms\n",
    "$f_m\\cos(m\\omega t)$ appearing in the sum, one can use angle addition\n",
    "formulas to see that $\\cos(m\\omega t)\\cos(n\\omega\n",
    "t)=(1/2)(\\cos[(m+n)\\omega t]+\\cos[(m-n)\\omega t]$. This will integrate\n",
    "to zero unless $m=n$. In that case the $m=n$ term gives"
   ]
  },
  {
   "cell_type": "markdown",
   "id": "c5c88e0c",
   "metadata": {},
   "source": [
    "<!-- Equation labels as ordinary links -->\n",
    "<div id=\"_auto10\"></div>\n",
    "\n",
    "$$\n",
    "\\begin{equation}\n",
    "\\int_{-\\tau/2}^{\\tau/2}dt~\\cos^2(m\\omega t)=\\frac{\\tau}{2},\n",
    "\\label{_auto10} \\tag{41}\n",
    "\\end{equation}\n",
    "$$"
   ]
  },
  {
   "cell_type": "markdown",
   "id": "4b61b6d7",
   "metadata": {},
   "source": [
    "and"
   ]
  },
  {
   "cell_type": "markdown",
   "id": "eba6e08d",
   "metadata": {},
   "source": [
    "$$\n",
    "\\begin{eqnarray}\n",
    "f_n&=?&\\frac{2}{\\tau}\\int_{-\\tau/2}^{\\tau/2} dt~f_n/2\\\\\n",
    "\\nonumber\n",
    "&=&f_n~\\checkmark.\n",
    "\\end{eqnarray}\n",
    "$$"
   ]
  },
  {
   "cell_type": "markdown",
   "id": "0399d4cb",
   "metadata": {},
   "source": [
    "The same method can be used to check for the consistency of $g_n$."
   ]
  },
  {
   "cell_type": "markdown",
   "id": "660e04cb",
   "metadata": {},
   "source": [
    "## Final words on Fourier Transforms\n",
    "\n",
    "The code here uses the Fourier series applied to a \n",
    "square wave signal. The code here\n",
    "visualizes the various approximations given by Fourier series compared\n",
    "with a square wave with period $T=0.2$ (dimensionless time), width $0.1$ and max value of the force $F=2$. We\n",
    "see that when we increase the number of components in the Fourier\n",
    "series, the Fourier series approximation gets closer and closer to the\n",
    "square wave signal."
   ]
  },
  {
   "cell_type": "code",
   "execution_count": 12,
   "id": "a1a5cbad",
   "metadata": {},
   "outputs": [],
   "source": [
    "import numpy as np\n",
    "import math\n",
    "from scipy import signal\n",
    "import matplotlib.pyplot as plt\n",
    "\n",
    "# number of points                                                                                       \n",
    "n = 500\n",
    "# start and final times                                                                                  \n",
    "t0 = 0.0\n",
    "tn = 1.0\n",
    "# Period                                                                                                 \n",
    "T =0.2\n",
    "# Max value of square signal                                                                             \n",
    "Fmax= 2.0\n",
    "# Width of signal   \n",
    "Width = 0.1\n",
    "t = np.linspace(t0, tn, n, endpoint=False)\n",
    "SqrSignal = np.zeros(n)\n",
    "FourierSeriesSignal = np.zeros(n)\n",
    "SqrSignal = 1.0+signal.square(2*np.pi*5*t+np.pi*Width/T)\n",
    "a0 = Fmax*Width/T\n",
    "FourierSeriesSignal = a0\n",
    "Factor = 2.0*Fmax/np.pi\n",
    "for i in range(1,500):\n",
    "    FourierSeriesSignal += Factor/(i)*np.sin(np.pi*i*Width/T)*np.cos(i*t*2*np.pi/T)\n",
    "plt.plot(t, SqrSignal)\n",
    "plt.plot(t, FourierSeriesSignal)\n",
    "plt.ylim(-0.5, 2.5)\n",
    "plt.show()"
   ]
  },
  {
   "cell_type": "markdown",
   "id": "02246c2f",
   "metadata": {},
   "source": [
    "## Two-dimensional Objects\n",
    "\n",
    "We often use convolutions over more than one dimension at a time. If\n",
    "we have a two-dimensional image $I$ as input, we can have a **filter**\n",
    "defined by a two-dimensional **kernel** $K$. This leads to an output $S$"
   ]
  },
  {
   "cell_type": "markdown",
   "id": "09d99733",
   "metadata": {},
   "source": [
    "$$\n",
    "S_(i,j)=(I * K)(i,j) = \\sum_m\\sum_n I(m,n)K(i-m,j-n).\n",
    "$$"
   ]
  },
  {
   "cell_type": "markdown",
   "id": "c29351bf",
   "metadata": {},
   "source": [
    "Convolution is a commutatitave process, which means we can rewrite this equation as"
   ]
  },
  {
   "cell_type": "markdown",
   "id": "d48b55ab",
   "metadata": {},
   "source": [
    "$$\n",
    "S_(i,j)=(I * K)(i,j) = \\sum_m\\sum_n I(i-m,j-n)K(m,n).\n",
    "$$"
   ]
  },
  {
   "cell_type": "markdown",
   "id": "ff480520",
   "metadata": {},
   "source": [
    "Normally the latter is more straightforward to implement in  a machine elarning library since there is less variation in the range of values of $m$ and $n$."
   ]
  },
  {
   "cell_type": "markdown",
   "id": "76373d79",
   "metadata": {},
   "source": [
    "## Cross-Correlation\n",
    "\n",
    "Many deep learning libraries implement cross-correlation instead of convolution"
   ]
  },
  {
   "cell_type": "markdown",
   "id": "9d112ddd",
   "metadata": {},
   "source": [
    "$$\n",
    "S_(i,j)=(I * K)(i,j) = \\sum_m\\sum_n I(i+m,j-+)K(m,n).\n",
    "$$"
   ]
  },
  {
   "cell_type": "markdown",
   "id": "88c748a7",
   "metadata": {},
   "source": [
    "## More on Dimensionalities\n",
    "\n",
    "In feilds like signal processing (and imaging as well), one designs\n",
    "so-called filters. These filters are defined by the convolutions and\n",
    "are often hand-crafted. One may specify filters for smoothing, edge\n",
    "detection, frequency reshaping, and similar operations. However with\n",
    "neural networks the idea is to automatically learn the filters and use\n",
    "many of them in conjunction with non-linear operations (activation\n",
    "functions).\n",
    "\n",
    "As an example consider a neural network operating on sound sequence\n",
    "data.  Assume that we an input vector $\\boldsymbol{x}$ of length $d=10^6$.  We\n",
    "construct then a neural network with onle hidden layer only with\n",
    "$10^4$ nodes. This means that we will have a weight matrix with\n",
    "$10^4\\times 10^6=10^{10}$ weights to be determined, together with $10^4$ biases.\n",
    "\n",
    "Assume furthermore that we have an output layer which is meant to train whether the sound sequence represents a human voice (true) or something else (false).\n",
    "It means that we have only one output node. But since this output node connects to $10^4$ nodes in the hidden layer, there are in total $10^4$ weights to be determined for the output layer, plus one bias. In total we have"
   ]
  },
  {
   "cell_type": "markdown",
   "id": "27fe1af8",
   "metadata": {},
   "source": [
    "$$\n",
    "\\mathrm{NumberParameters}=10^{10}+10^4+10^4+1 \\approx 10^{10},\n",
    "$$"
   ]
  },
  {
   "cell_type": "markdown",
   "id": "acb4f451",
   "metadata": {},
   "source": [
    "that is ten billion parameters to determine."
   ]
  },
  {
   "cell_type": "markdown",
   "id": "9bc1aedb",
   "metadata": {},
   "source": [
    "## Further Dimensionality Remarks\n",
    "\n",
    "In today’s architecture one can train such neural networks, however\n",
    "this is a huge number of parameters for the task at hand. In general,\n",
    "it is a very wasteful and inefficient use of dense matrices as\n",
    "parameters. Just as importantly, such trained network parameters are\n",
    "very specific for the type of input data on which they were trained\n",
    "and the network is not likely to generalize easily to variations in\n",
    "the input.\n",
    "\n",
    "The main principles that justify convolutions is locality of\n",
    "information and repetion of patterns within the signal. Sound samples\n",
    "of the input in adjacent spots are much more likely to affect each\n",
    "other than those that are very far away. Similarly, sounds are\n",
    "repeated in multiple times in the signal. While slightly simplistic,\n",
    "reasoning about such a sound example demonstrates this. The same\n",
    "principles then apply to images and other similar data."
   ]
  },
  {
   "cell_type": "markdown",
   "id": "796d7ecf",
   "metadata": {},
   "source": [
    "## CNNs in more detail, building convolutional neural networks in Tensorflow and Keras\n",
    "\n",
    "As discussed above, CNNs are neural networks built from the assumption that the inputs\n",
    "to the network are 2D images. This is important because the number of features or pixels in images\n",
    "grows very fast with the image size, and an enormous number of weights and biases are needed in order to build an accurate network.  \n",
    "\n",
    "As before, we still have our input, a hidden layer and an output. What's novel about convolutional networks\n",
    "are the **convolutional** and **pooling** layers stacked in pairs between the input and the hidden layer.\n",
    "In addition, the data is no longer represented as a 2D feature matrix, instead each input is a number of 2D\n",
    "matrices, typically 1 for each color dimension (Red, Green, Blue)."
   ]
  },
  {
   "cell_type": "markdown",
   "id": "b805ddb9",
   "metadata": {},
   "source": [
    "## Setting it up\n",
    "\n",
    "It means that to represent the entire\n",
    "dataset of images, we require a 4D matrix or **tensor**. This tensor has the dimensions:"
   ]
  },
  {
   "cell_type": "markdown",
   "id": "00ce2375",
   "metadata": {},
   "source": [
    "$$\n",
    "(n_{inputs},\\, n_{pixels, width},\\, n_{pixels, height},\\, depth) .\n",
    "$$"
   ]
  },
  {
   "cell_type": "markdown",
   "id": "df183c5a",
   "metadata": {},
   "source": [
    "## The MNIST dataset again\n",
    "\n",
    "The MNIST dataset consists of grayscale images with a pixel size of\n",
    "$28\\times 28$, meaning we require $28 \\times 28 = 724$ weights to each\n",
    "neuron in the first hidden layer.\n",
    "\n",
    "If we were to analyze images of size $128\\times 128$ we would require\n",
    "$128 \\times 128 = 16384$ weights to each neuron. Even worse if we were\n",
    "dealing with color images, as most images are, we have an image matrix\n",
    "of size $128\\times 128$ for each color dimension (Red, Green, Blue),\n",
    "meaning 3 times the number of weights $= 49152$ are required for every\n",
    "single neuron in the first hidden layer."
   ]
  },
  {
   "cell_type": "markdown",
   "id": "dcef380a",
   "metadata": {},
   "source": [
    "## Strong correlations\n",
    "\n",
    "Images typically have strong local correlations, meaning that a small\n",
    "part of the image varies little from its neighboring regions. If for\n",
    "example we have an image of a blue car, we can roughly assume that a\n",
    "small blue part of the image is surrounded by other blue regions.\n",
    "\n",
    "Therefore, instead of connecting every single pixel to a neuron in the\n",
    "first hidden layer, as we have previously done with deep neural\n",
    "networks, we can instead connect each neuron to a small part of the\n",
    "image (in all 3 RGB depth dimensions).  The size of each small area is\n",
    "fixed, and known as a [receptive](https://en.wikipedia.org/wiki/Receptive_field)."
   ]
  },
  {
   "cell_type": "markdown",
   "id": "ddff6ebf",
   "metadata": {},
   "source": [
    "## Layers of a CNN\n",
    "The layers of a convolutional neural network arrange neurons in 3D: width, height and depth.  \n",
    "The input image is typically a square matrix of depth 3. \n",
    "\n",
    "A **convolution** is performed on the image which outputs\n",
    "a 3D volume of neurons. The weights to the input are arranged in a number of 2D matrices, known as **filters**.\n",
    "\n",
    "Each filter slides along the input image, taking the dot product\n",
    "between each small part of the image and the filter, in all depth\n",
    "dimensions. This is then passed through a non-linear function,\n",
    "typically the **Rectified Linear (ReLu)** function, which serves as the\n",
    "activation of the neurons in the first convolutional layer. This is\n",
    "further passed through a **pooling layer**, which reduces the size of the\n",
    "convolutional layer, e.g. by taking the maximum or average across some\n",
    "small regions, and this serves as input to the next convolutional\n",
    "layer."
   ]
  },
  {
   "cell_type": "markdown",
   "id": "8b5c9e86",
   "metadata": {},
   "source": [
    "## Systematic reduction\n",
    "\n",
    "By systematically reducing the size of the input volume, through\n",
    "convolution and pooling, the network should create representations of\n",
    "small parts of the input, and then from them assemble representations\n",
    "of larger areas.  The final pooling layer is flattened to serve as\n",
    "input to a hidden layer, such that each neuron in the final pooling\n",
    "layer is connected to every single neuron in the hidden layer. This\n",
    "then serves as input to the output layer, e.g. a softmax output for\n",
    "classification."
   ]
  },
  {
   "cell_type": "markdown",
   "id": "199c229e",
   "metadata": {},
   "source": [
    "## Prerequisites: Collect and pre-process data"
   ]
  },
  {
   "cell_type": "code",
   "execution_count": 13,
   "id": "e8240a0c",
   "metadata": {},
   "outputs": [],
   "source": [
    "# import necessary packages\n",
    "import numpy as np\n",
    "import matplotlib.pyplot as plt\n",
    "from sklearn import datasets\n",
    "\n",
    "\n",
    "# ensure the same random numbers appear every time\n",
    "np.random.seed(0)\n",
    "\n",
    "# display images in notebook\n",
    "%matplotlib inline\n",
    "plt.rcParams['figure.figsize'] = (12,12)\n",
    "\n",
    "\n",
    "# download MNIST dataset\n",
    "digits = datasets.load_digits()\n",
    "\n",
    "# define inputs and labels\n",
    "inputs = digits.images\n",
    "labels = digits.target\n",
    "\n",
    "# RGB images have a depth of 3\n",
    "# our images are grayscale so they should have a depth of 1\n",
    "inputs = inputs[:,:,:,np.newaxis]\n",
    "\n",
    "print(\"inputs = (n_inputs, pixel_width, pixel_height, depth) = \" + str(inputs.shape))\n",
    "print(\"labels = (n_inputs) = \" + str(labels.shape))\n",
    "\n",
    "\n",
    "# choose some random images to display\n",
    "n_inputs = len(inputs)\n",
    "indices = np.arange(n_inputs)\n",
    "random_indices = np.random.choice(indices, size=5)\n",
    "\n",
    "for i, image in enumerate(digits.images[random_indices]):\n",
    "    plt.subplot(1, 5, i+1)\n",
    "    plt.axis('off')\n",
    "    plt.imshow(image, cmap=plt.cm.gray_r, interpolation='nearest')\n",
    "    plt.title(\"Label: %d\" % digits.target[random_indices[i]])\n",
    "plt.show()"
   ]
  },
  {
   "cell_type": "markdown",
   "id": "f8dc144f",
   "metadata": {},
   "source": [
    "## Importing Keras and Tensorflow"
   ]
  },
  {
   "cell_type": "code",
   "execution_count": 14,
   "id": "0481f1b4",
   "metadata": {},
   "outputs": [],
   "source": [
    "from tensorflow.keras import datasets, layers, models\n",
    "from tensorflow.keras.layers import Input\n",
    "from tensorflow.keras.models import Sequential      #This allows appending layers to existing models\n",
    "from tensorflow.keras.layers import Dense           #This allows defining the characteristics of a particular layer\n",
    "from tensorflow.keras import optimizers             #This allows using whichever optimiser we want (sgd,adam,RMSprop)\n",
    "from tensorflow.keras import regularizers           #This allows using whichever regularizer we want (l1,l2,l1_l2)\n",
    "from tensorflow.keras.utils import to_categorical   #This allows using categorical cross entropy as the cost function\n",
    "#from tensorflow.keras import Conv2D\n",
    "#from tensorflow.keras import MaxPooling2D\n",
    "#from tensorflow.keras import Flatten\n",
    "\n",
    "from sklearn.model_selection import train_test_split\n",
    "\n",
    "# representation of labels\n",
    "labels = to_categorical(labels)\n",
    "\n",
    "# split into train and test data\n",
    "# one-liner from scikit-learn library\n",
    "train_size = 0.8\n",
    "test_size = 1 - train_size\n",
    "X_train, X_test, Y_train, Y_test = train_test_split(inputs, labels, train_size=train_size,\n",
    "                                                    test_size=test_size)"
   ]
  },
  {
   "cell_type": "markdown",
   "id": "fe223f94",
   "metadata": {},
   "source": [
    "## Running with Keras"
   ]
  },
  {
   "cell_type": "code",
   "execution_count": 15,
   "id": "594d6c8f",
   "metadata": {},
   "outputs": [],
   "source": [
    "def create_convolutional_neural_network_keras(input_shape, receptive_field,\n",
    "                                              n_filters, n_neurons_connected, n_categories,\n",
    "                                              eta, lmbd):\n",
    "    model = Sequential()\n",
    "    model.add(layers.Conv2D(n_filters, (receptive_field, receptive_field), input_shape=input_shape, padding='same',\n",
    "              activation='relu', kernel_regularizer=regularizers.l2(lmbd)))\n",
    "    model.add(layers.MaxPooling2D(pool_size=(2, 2)))\n",
    "    model.add(layers.Flatten())\n",
    "    model.add(layers.Dense(n_neurons_connected, activation='relu', kernel_regularizer=regularizers.l2(lmbd)))\n",
    "    model.add(layers.Dense(n_categories, activation='softmax', kernel_regularizer=regularizers.l2(lmbd)))\n",
    "    \n",
    "    sgd = optimizers.SGD(lr=eta)\n",
    "    model.compile(loss='categorical_crossentropy', optimizer=sgd, metrics=['accuracy'])\n",
    "    \n",
    "    return model\n",
    "\n",
    "epochs = 100\n",
    "batch_size = 100\n",
    "input_shape = X_train.shape[1:4]\n",
    "receptive_field = 3\n",
    "n_filters = 10\n",
    "n_neurons_connected = 50\n",
    "n_categories = 10\n",
    "\n",
    "eta_vals = np.logspace(-5, 1, 7)\n",
    "lmbd_vals = np.logspace(-5, 1, 7)"
   ]
  },
  {
   "cell_type": "markdown",
   "id": "d37096e8",
   "metadata": {},
   "source": [
    "## Final part"
   ]
  },
  {
   "cell_type": "code",
   "execution_count": 16,
   "id": "211db68e",
   "metadata": {},
   "outputs": [],
   "source": [
    "CNN_keras = np.zeros((len(eta_vals), len(lmbd_vals)), dtype=object)\n",
    "        \n",
    "for i, eta in enumerate(eta_vals):\n",
    "    for j, lmbd in enumerate(lmbd_vals):\n",
    "        CNN = create_convolutional_neural_network_keras(input_shape, receptive_field,\n",
    "                                              n_filters, n_neurons_connected, n_categories,\n",
    "                                              eta, lmbd)\n",
    "        CNN.fit(X_train, Y_train, epochs=epochs, batch_size=batch_size, verbose=0)\n",
    "        scores = CNN.evaluate(X_test, Y_test)\n",
    "        \n",
    "        CNN_keras[i][j] = CNN\n",
    "        \n",
    "        print(\"Learning rate = \", eta)\n",
    "        print(\"Lambda = \", lmbd)\n",
    "        print(\"Test accuracy: %.3f\" % scores[1])\n",
    "        print()"
   ]
  },
  {
   "cell_type": "markdown",
   "id": "267a93df",
   "metadata": {},
   "source": [
    "## Final visualization"
   ]
  },
  {
   "cell_type": "code",
   "execution_count": 17,
   "id": "a4cd1f13",
   "metadata": {},
   "outputs": [],
   "source": [
    "# visual representation of grid search\n",
    "# uses seaborn heatmap, could probably do this in matplotlib\n",
    "import seaborn as sns\n",
    "\n",
    "sns.set()\n",
    "\n",
    "train_accuracy = np.zeros((len(eta_vals), len(lmbd_vals)))\n",
    "test_accuracy = np.zeros((len(eta_vals), len(lmbd_vals)))\n",
    "\n",
    "for i in range(len(eta_vals)):\n",
    "    for j in range(len(lmbd_vals)):\n",
    "        CNN = CNN_keras[i][j]\n",
    "\n",
    "        train_accuracy[i][j] = CNN.evaluate(X_train, Y_train)[1]\n",
    "        test_accuracy[i][j] = CNN.evaluate(X_test, Y_test)[1]\n",
    "\n",
    "        \n",
    "fig, ax = plt.subplots(figsize = (10, 10))\n",
    "sns.heatmap(train_accuracy, annot=True, ax=ax, cmap=\"viridis\")\n",
    "ax.set_title(\"Training Accuracy\")\n",
    "ax.set_ylabel(\"$\\eta$\")\n",
    "ax.set_xlabel(\"$\\lambda$\")\n",
    "plt.show()\n",
    "\n",
    "fig, ax = plt.subplots(figsize = (10, 10))\n",
    "sns.heatmap(test_accuracy, annot=True, ax=ax, cmap=\"viridis\")\n",
    "ax.set_title(\"Test Accuracy\")\n",
    "ax.set_ylabel(\"$\\eta$\")\n",
    "ax.set_xlabel(\"$\\lambda$\")\n",
    "plt.show()"
   ]
  },
  {
   "cell_type": "markdown",
   "id": "93ea0ee6",
   "metadata": {},
   "source": [
    "## The CIFAR01 data set\n",
    "\n",
    "The CIFAR10 dataset contains 60,000 color images in 10 classes, with\n",
    "6,000 images in each class. The dataset is divided into 50,000\n",
    "training images and 10,000 testing images. The classes are mutually\n",
    "exclusive and there is no overlap between them."
   ]
  },
  {
   "cell_type": "code",
   "execution_count": 18,
   "id": "1a760cfd",
   "metadata": {},
   "outputs": [],
   "source": [
    "import tensorflow as tf\n",
    "\n",
    "from tensorflow.keras import datasets, layers, models\n",
    "import matplotlib.pyplot as plt\n",
    "\n",
    "# We import the data set\n",
    "(train_images, train_labels), (test_images, test_labels) = datasets.cifar10.load_data()\n",
    "\n",
    "# Normalize pixel values to be between 0 and 1 by dividing by 255. \n",
    "train_images, test_images = train_images / 255.0, test_images / 255.0"
   ]
  },
  {
   "cell_type": "markdown",
   "id": "cfae08ab",
   "metadata": {},
   "source": [
    "## Verifying the data set\n",
    "\n",
    "To verify that the dataset looks correct, let's plot the first 25 images from the training set and display the class name below each image."
   ]
  },
  {
   "cell_type": "code",
   "execution_count": 19,
   "id": "0bbe11e6",
   "metadata": {},
   "outputs": [],
   "source": [
    "class_names = ['airplane', 'automobile', 'bird', 'cat', 'deer',\n",
    "               'dog', 'frog', 'horse', 'ship', 'truck']\n",
    "​\n",
    "plt.figure(figsize=(10,10))\n",
    "for i in range(25):\n",
    "    plt.subplot(5,5,i+1)\n",
    "    plt.xticks([])\n",
    "    plt.yticks([])\n",
    "    plt.grid(False)\n",
    "    plt.imshow(train_images[i], cmap=plt.cm.binary)\n",
    "    # The CIFAR labels happen to be arrays, \n",
    "    # which is why you need the extra index\n",
    "    plt.xlabel(class_names[train_labels[i][0]])\n",
    "plt.show()"
   ]
  },
  {
   "cell_type": "markdown",
   "id": "d7f609df",
   "metadata": {},
   "source": [
    "## Set up  the model\n",
    "\n",
    "The 6 lines of code below define the convolutional base using a common pattern: a stack of Conv2D and MaxPooling2D layers.\n",
    "\n",
    "As input, a CNN takes tensors of shape (image_height, image_width, color_channels), ignoring the batch size. If you are new to these dimensions, color_channels refers to (R,G,B). In this example, you will configure our CNN to process inputs of shape (32, 32, 3), which is the format of CIFAR images. You can do this by passing the argument input_shape to our first layer."
   ]
  },
  {
   "cell_type": "code",
   "execution_count": 20,
   "id": "d14e16e6",
   "metadata": {},
   "outputs": [],
   "source": [
    "model = models.Sequential()\n",
    "model.add(layers.Conv2D(32, (3, 3), activation='relu', input_shape=(32, 32, 3)))\n",
    "model.add(layers.MaxPooling2D((2, 2)))\n",
    "model.add(layers.Conv2D(64, (3, 3), activation='relu'))\n",
    "model.add(layers.MaxPooling2D((2, 2)))\n",
    "model.add(layers.Conv2D(64, (3, 3), activation='relu'))\n",
    "\n",
    "# Let's display the architecture of our model so far.\n",
    "\n",
    "model.summary()"
   ]
  },
  {
   "cell_type": "markdown",
   "id": "407e3f2b",
   "metadata": {},
   "source": [
    "You can see that the output of every Conv2D and MaxPooling2D layer is a 3D tensor of shape (height, width, channels). The width and height dimensions tend to shrink as you go deeper in the network. The number of output channels for each Conv2D layer is controlled by the first argument (e.g., 32 or 64). Typically, as the width and height shrink, you can afford (computationally) to add more output channels in each Conv2D layer."
   ]
  },
  {
   "cell_type": "markdown",
   "id": "943b8611",
   "metadata": {},
   "source": [
    "## Add Dense layers on top\n",
    "\n",
    "To complete our model, you will feed the last output tensor from the\n",
    "convolutional base (of shape (4, 4, 64)) into one or more Dense layers\n",
    "to perform classification. Dense layers take vectors as input (which\n",
    "are 1D), while the current output is a 3D tensor. First, you will\n",
    "flatten (or unroll) the 3D output to 1D, then add one or more Dense\n",
    "layers on top. CIFAR has 10 output classes, so you use a final Dense\n",
    "layer with 10 outputs and a softmax activation."
   ]
  },
  {
   "cell_type": "code",
   "execution_count": 21,
   "id": "81e2e249",
   "metadata": {},
   "outputs": [],
   "source": [
    "model.add(layers.Flatten())\n",
    "model.add(layers.Dense(64, activation='relu'))\n",
    "model.add(layers.Dense(10))\n",
    "Here's the complete architecture of our model.\n",
    "\n",
    "model.summary()"
   ]
  },
  {
   "cell_type": "markdown",
   "id": "b775b1d5",
   "metadata": {},
   "source": [
    "As you can see, our (4, 4, 64) outputs were flattened into vectors of shape (1024) before going through two Dense layers."
   ]
  },
  {
   "cell_type": "markdown",
   "id": "ed601905",
   "metadata": {},
   "source": [
    "## Compile and train the model"
   ]
  },
  {
   "cell_type": "code",
   "execution_count": 22,
   "id": "3e0400ad",
   "metadata": {},
   "outputs": [],
   "source": [
    "model.compile(optimizer='adam',\n",
    "              loss=tf.keras.losses.SparseCategoricalCrossentropy(from_logits=True),\n",
    "              metrics=['accuracy'])\n",
    "​\n",
    "history = model.fit(train_images, train_labels, epochs=10, \n",
    "                    validation_data=(test_images, test_labels))"
   ]
  },
  {
   "cell_type": "markdown",
   "id": "14b8757f",
   "metadata": {},
   "source": [
    "## Finally, evaluate the model"
   ]
  },
  {
   "cell_type": "code",
   "execution_count": 23,
   "id": "75188abb",
   "metadata": {},
   "outputs": [],
   "source": [
    "plt.plot(history.history['accuracy'], label='accuracy')\n",
    "plt.plot(history.history['val_accuracy'], label = 'val_accuracy')\n",
    "plt.xlabel('Epoch')\n",
    "plt.ylabel('Accuracy')\n",
    "plt.ylim([0.5, 1])\n",
    "plt.legend(loc='lower right')\n",
    "\n",
    "test_loss, test_acc = model.evaluate(test_images,  test_labels, verbose=2)\n",
    "\n",
    "print(test_acc)"
   ]
  }
 ],
 "metadata": {
  "kernelspec": {
   "display_name": "Python 3 (ipykernel)",
   "language": "python",
   "name": "python3"
  },
  "language_info": {
   "codemirror_mode": {
    "name": "ipython",
    "version": 3
   },
   "file_extension": ".py",
   "mimetype": "text/x-python",
   "name": "python",
   "nbconvert_exporter": "python",
   "pygments_lexer": "ipython3",
   "version": "3.9.10"
  }
 },
 "nbformat": 4,
 "nbformat_minor": 5
}
