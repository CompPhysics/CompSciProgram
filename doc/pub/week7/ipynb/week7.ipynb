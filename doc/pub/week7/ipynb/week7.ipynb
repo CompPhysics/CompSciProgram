{
 "cells": [
  {
   "cell_type": "markdown",
   "id": "2929e66a",
   "metadata": {
    "editable": true
   },
   "source": [
    "<!-- HTML file automatically generated from DocOnce source (https://github.com/doconce/doconce/)\n",
    "doconce format html week7.do.txt --no_mako -->\n",
    "<!-- dom:TITLE: Week 43: Deep Learning: Variational Autoencoders and General Adversial Neural Networks -->"
   ]
  },
  {
   "cell_type": "markdown",
   "id": "28581dc1",
   "metadata": {
    "editable": true
   },
   "source": [
    "# Week 43: Deep Learning: Variational Autoencoders and General Adversial Neural Networks\n",
    "**Morten Hjorth-Jensen**, Department of Physics, University of Oslo and Department of Physics and Astronomy and National Superconducting Cyclotron Laboratory, Michigan State University\n",
    "\n",
    "Date: **Dec 31, 2021**\n",
    "\n",
    "Copyright 1999-2021, Morten Hjorth-Jensen. Released under CC Attribution-NonCommercial 4.0 license"
   ]
  },
  {
   "cell_type": "markdown",
   "id": "4d2d3a9a",
   "metadata": {
    "editable": true
   },
   "source": [
    "## Plans for week 7\n",
    "\n",
    "**Excellent lectures on CNNs and RNNs.**\n",
    "\n",
    "* [Video  on Convolutional Neural Networks from MIT](https://www.youtube.com/watch?v=iaSUYvmCekI&ab_channel=AlexanderAmini)\n",
    "\n",
    "* [Video  on Recurrent Neural Networks from MIT](https://www.youtube.com/watch?v=SEnXr6v2ifU&ab_channel=AlexanderAmini)\n",
    "\n",
    "* [Video on Deep Learning](https://www.youtube.com/playlist?list=PLZHQObOWTQDNU6R1_67000Dx_ZCJB-3pi)\n",
    "\n",
    "**More resources.**\n",
    "\n",
    "* [IN5400 at UiO Lecture](https://www.uio.no/studier/emner/matnat/ifi/IN5400/v20/material/week10/in5400_2020_week10_recurrent_neural_network.pdf)\n",
    "\n",
    "* [CS231 at Stanford Lecture](https://www.youtube.com/watch?v=6niqTuYFZLQ&list=PLzUTmXVwsnXod6WNdg57Yc3zFx_f-RYsq&index=10&ab_channel=StanfordUniversitySchoolofEngineering)"
   ]
  }
 ],
 "metadata": {},
 "nbformat": 4,
 "nbformat_minor": 5
}
